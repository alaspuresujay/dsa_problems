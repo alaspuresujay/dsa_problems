{
 "cells": [
  {
   "cell_type": "code",
   "execution_count": 22,
   "metadata": {},
   "outputs": [
    {
     "name": "stdout",
     "output_type": "stream",
     "text": [
      "2\n",
      "0\n",
      "1\n"
     ]
    },
    {
     "data": {
      "text/plain": [
       "1"
      ]
     },
     "execution_count": 22,
     "metadata": {},
     "output_type": "execute_result"
    }
   ],
   "source": [
    "nums = [-1,1,3,5,9,12]\n",
    "target = 1\n",
    "\n",
    "def binarySearch(nums, target):\n",
    "  low = 0\n",
    "  high = len(nums) - 1\n",
    "\n",
    "  while (low <= high):\n",
    "    mid = (low + high) // 2\n",
    "    if (nums[mid] == target):\n",
    "      return mid\n",
    "    if (nums[mid] < target):\n",
    "      low = mid +1\n",
    "    if (nums[mid] > target):\n",
    "      high = mid-1\n",
    "  return -1\n",
    "binarySearch(nums, target)"
   ]
  },
  {
   "cell_type": "code",
   "execution_count": 23,
   "metadata": {},
   "outputs": [
    {
     "data": {
      "text/plain": [
       "2"
      ]
     },
     "execution_count": 23,
     "metadata": {},
     "output_type": "execute_result"
    }
   ],
   "source": [
    "0+5//2"
   ]
  }
 ],
 "metadata": {
  "interpreter": {
   "hash": "697a1dac4d10d74076c3041dfdabcc21aaef7503f1bfe2a5ee0554a0b2186572"
  },
  "kernelspec": {
   "display_name": "Python 3.8.5 64-bit ('pyall': conda)",
   "name": "python3"
  },
  "language_info": {
   "codemirror_mode": {
    "name": "ipython",
    "version": 3
   },
   "file_extension": ".py",
   "mimetype": "text/x-python",
   "name": "python",
   "nbconvert_exporter": "python",
   "pygments_lexer": "ipython3",
   "version": "3.8.5"
  },
  "orig_nbformat": 4
 },
 "nbformat": 4,
 "nbformat_minor": 2
}
