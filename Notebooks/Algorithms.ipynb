{
 "cells": [
  {
   "cell_type": "code",
   "execution_count": 22,
   "metadata": {},
   "outputs": [
    {
     "name": "stdout",
     "output_type": "stream",
     "text": [
      "2\n",
      "0\n",
      "1\n"
     ]
    },
    {
     "data": {
      "text/plain": [
       "1"
      ]
     },
     "execution_count": 22,
     "metadata": {},
     "output_type": "execute_result"
    }
   ],
   "source": [
    "nums = [-1,1,3,5,9,12]\n",
    "target = 1\n",
    "\n",
    "def binarySearch(nums, target):\n",
    "  low = 0\n",
    "  high = len(nums) - 1\n",
    "\n",
    "  while (low <= high):\n",
    "    mid = (low + high) // 2\n",
    "    if (nums[mid] == target):\n",
    "      return mid\n",
    "    if (nums[mid] < target):\n",
    "      low = mid +1\n",
    "    if (nums[mid] > target):\n",
    "      high = mid-1\n",
    "  return -1\n",
    "binarySearch(nums, target)"
   ]
  },
  {
   "cell_type": "code",
   "execution_count": 23,
   "metadata": {},
   "outputs": [
    {
     "data": {
      "text/plain": [
       "2"
      ]
     },
     "execution_count": 23,
     "metadata": {},
     "output_type": "execute_result"
    }
   ],
   "source": []
  },
  {
   "cell_type": "markdown",
   "metadata": {},
   "source": [
    "# Sorting algorithms"
   ]
  },
  {
   "cell_type": "code",
   "execution_count": 13,
   "metadata": {},
   "outputs": [],
   "source": [
    "# sort by colors\n",
    "A= [2, 0, 0, 1, 0, 0, 2, 2, 1, 1, 0, 0, 1, 0, 2, 1, 1, 0, 1, 0, 1, 2, 2, 2, 0, 0, 1, 0, 2, 1, 1, 2, 1, 2, 2, 1, 0, 2, 2, 1, 1, 1, 0, 1, 0, 1, 0, 2, 1, 2, 0, 2, 0, 1, 1, 0, 2, 2, 1, 2, 0, 2, 1, 1, 1, 2, 0, 1, 0, 2, 2, 1, 0, 0, 1, 0, 1, 0, 0, 0, 1, 2, 1, 1, 0, 2, 1, 2, 0, 0, 0, 2, 2, 2, 2, 0, 0, 0, 1, 1, 0, 2, 1, 2, 2, 2, 1, 2, 2, 0, 1, 0, 1, 2, 1, 1, 0, 1, 2, 0, 1, 0, 2, 2, 1, 2, 1, 0, 2, 2, 1, 1, 0, 2, 1, 2]\n",
    "\n",
    "\n",
    "hashIt={}\n",
    "colors=[0]*3\n",
    "for i in A:\n",
    "  colors[i]+=1\n",
    "\n",
    "\n",
    "for i in range(colors[0]):\n",
    "  A[i]=0\n",
    "  \n",
    "for i in range(colors[1]):\n",
    "  A[i]=1\n",
    "for i in range(colors[2]):\n",
    "  A[i]=2\n",
    "\n",
    "\n",
    "\n",
    "\n",
    "# def sortColors( A):\n",
    "#   for i in range(len(A)):\n",
    "#     for j in range(0, len(A)-i-1):\n",
    "#       if A[j] > A[j+1]:\n",
    "#         A[j], A[j+1] = A[j+1], A[j]\n",
    "\n",
    "#   return A\n",
    "\n",
    "\n",
    "# sortColors(A)"
   ]
  },
  {
   "cell_type": "code",
   "execution_count": null,
   "metadata": {},
   "outputs": [],
   "source": [
    "# form a largest number\n",
    "\n",
    "A = [3, 30, 34, 5, 9]\n",
    "# [9, 5, 34, 3, 30]\n",
    "\n",
    "A = [43, 30, 34, 5, 9]\n",
    "# [9, 5, 43, 34, 30]\n",
    "\n",
    "\n",
    "A=sorted(A)\n"
   ]
  },
  {
   "cell_type": "code",
   "execution_count": 15,
   "metadata": {},
   "outputs": [
    {
     "data": {
      "text/plain": [
       "17"
      ]
     },
     "execution_count": 15,
     "metadata": {},
     "output_type": "execute_result"
    }
   ],
   "source": [
    "# min cost of removal\n",
    "\n",
    "A=[2,1,3,2]\n",
    "\n",
    "\n",
    "\n"
   ]
  },
  {
   "cell_type": "code",
   "execution_count": 21,
   "metadata": {},
   "outputs": [
    {
     "name": "stdout",
     "output_type": "stream",
     "text": [
      "1073741824\n"
     ]
    }
   ],
   "source": [
    "num=2\n",
    "binary = bin(A) \n",
    "reverse = binary[-1:1:-1] \n",
    "reverse = reverse + (32 - len(reverse))*'0'\n",
    "int(reverse,2)"
   ]
  },
  {
   "cell_type": "code",
   "execution_count": 33,
   "metadata": {},
   "outputs": [
    {
     "name": "stdout",
     "output_type": "stream",
     "text": [
      "7 [3, 6, 8, 11, 14, 18, 20, 23, 27, 31]\n"
     ]
    }
   ],
   "source": [
    "# Quick Sort Algorithm\n",
    "# def solve(A):\n",
    "def rearrange(A, s, e):\n",
    "    l = s+1\n",
    "    r = e\n",
    "    # print(A[s:e+1], end=' ')\n",
    "    while(l <= r):\n",
    "        # print(l,r, A[l], A[r], A[s])\n",
    "        if A[l] <= A[s]:\n",
    "            l += 1\n",
    "        elif A[r] > A[s]:\n",
    "            r -= 1\n",
    "        else:\n",
    "            A[l], A[r] = A[r], A[l]\n",
    "            r -= 1\n",
    "            l += 1\n",
    "    # print(A)\n",
    "    A[s], A[l-1]=A[l-1], A[s]\n",
    "    # print(\"l-1\", l-1, A[s:e+1])\n",
    "    return l-1\n",
    "\n",
    "def quickSort(A, s, e):\n",
    "    if s >= e:\n",
    "        return\n",
    "    p = rearrange(A, s, e)\n",
    "    quickSort(A, s, p-1)\n",
    "    quickSort(A, p+1, e)\n",
    "# quickSort(A, 0, len(A)-1)\n",
    "# return A\n",
    "\n",
    "A=[18 ,8 ,6 ,3 ,11 ,14 ,23 ,20 ,31, 27]\n",
    "# A=[10,3,8,15,6,12,2,18,7,15,14]\n",
    "n=len(A)\n",
    "quickSort(A, 0, n-1)\n",
    "# p=rearrange(A, 0, n-1)\n",
    "# print(p,A)\n",
    "# rearrange(A, 0, p-1)\n",
    "# print(p,A)\n",
    "# p=rearrange(A, p+1, n-1)\n",
    "\n",
    "print(p,A)"
   ]
  },
  {
   "cell_type": "code",
   "execution_count": 8,
   "metadata": {},
   "outputs": [
    {
     "ename": "SyntaxError",
     "evalue": "invalid syntax (61010803.py, line 5)",
     "output_type": "error",
     "traceback": [
      "\u001b[0;36m  File \u001b[0;32m\"/var/folders/y1/x4pp7ct53md7dr06z28x83nm0000gp/T/ipykernel_49803/61010803.py\"\u001b[0;36m, line \u001b[0;32m5\u001b[0m\n\u001b[0;31m    m3=(low+high)>>>1\u001b[0m\n\u001b[0m                   ^\u001b[0m\n\u001b[0;31mSyntaxError\u001b[0m\u001b[0;31m:\u001b[0m invalid syntax\n"
     ]
    }
   ],
   "source": [
    "low=762354\n",
    "high=1074263548\n",
    "m1=(low+high)//2\n",
    "m2=low+(high-low)//2\n",
    "m3=(low+high)>>>1\n",
    "\n",
    "print(m1)\n",
    "print(m2)\n",
    "print(m3)"
   ]
  },
  {
   "cell_type": "code",
   "execution_count": 4,
   "metadata": {},
   "outputs": [
    {
     "data": {
      "text/plain": [
       "2"
      ]
     },
     "execution_count": 4,
     "metadata": {},
     "output_type": "execute_result"
    }
   ],
   "source": [
    "\n",
    "A = [3, 9, 12, 16, 20]\n",
    "\n",
    "# find median of array\n",
    "\n",
    "n= len(A)\n",
    "(n-1)//2\n",
    "\n"
   ]
  },
  {
   "cell_type": "code",
   "execution_count": 19,
   "metadata": {},
   "outputs": [
    {
     "name": "stdout",
     "output_type": "stream",
     "text": [
      "128 217 17 17\n",
      "y 1\n",
      "Y 1\n",
      "O 2\n",
      "5 1\n",
      "sqbL0ZETFqRdxVm8GCGfqshvpWzsRvprUcF9vw3VlftqTRzKRzr4zYB2P6C7lg3I7EhGMPukUj8XGGZTXqPqnCqes\n"
     ]
    }
   ],
   "source": [
    "A=\"0mJdGXwLm9AOZ5xA8u92KDYqGJroQ537hoRXjQoUCMOpDYwxoNjexJGWQJAIxSFF3ZbIe27oFxUTJxtv8mORwpuRZn30MDj3kXRW2Ix3lslj7kwmGZPXAKhBW4q5T2BzsqbL0ZETFqRdxVm8GCGfqshvpWzsRvprUcF9vw3VlftqTRzKRzr4zYB2P6C7lg3I7EhGMPukUj8XGGZTXqPqnCqes\"\n",
    "B=\"rsm2ty04PYPEOPYO5\"\n",
    "h=0\n",
    "t=0\n",
    "cnt=0\n",
    "mp={}\n",
    "for i in range(len(B)):\n",
    "  if(B[i] in mp):\n",
    "    mp[B[i]]+=1\n",
    "  else:\n",
    "    mp[B[i]]=1\n",
    "\n",
    "while(t<len(A)):\n",
    "  if(A[t] in mp):\n",
    "    # print(A[t], mp[A[t]])\n",
    "    mp[A[t]]-=1\n",
    "    cnt+=1\n",
    "  t+=1\n",
    "  if(cnt>len(B) and A[h] in mp):\n",
    "    cnt-=1\n",
    "    mp[A[h]]+=1\n",
    "    h+=1\n",
    "  while(h<len(A) and A[h] not in mp):\n",
    "    h+=1\n",
    "\n",
    "print(h, t, cnt, len(B))\n",
    "for(k,v) in mp.items():\n",
    "  if(v>0):\n",
    "    print(k,v)\n",
    "    \n",
    "print(A[h: t])\n",
    "\n",
    "\n"
   ]
  },
  {
   "cell_type": "code",
   "execution_count": 29,
   "metadata": {},
   "outputs": [
    {
     "name": "stdout",
     "output_type": "stream",
     "text": [
      "0b11\n",
      "0b1001\n",
      "0b11011\n",
      "0b1010001\n"
     ]
    }
   ],
   "source": [
    "\n",
    "for i in range(1, 5):\n",
    "  print(bin(3**i))\n"
   ]
  },
  {
   "cell_type": "code",
   "execution_count": 2,
   "metadata": {},
   "outputs": [
    {
     "name": "stdout",
     "output_type": "stream",
     "text": [
      "1 2 0.5\n",
      "1 3 0.3333333333333333\n",
      "1 5 0.2\n",
      "2 3 0.6666666666666666\n",
      "2 5 0.4\n",
      "3 5 0.6\n"
     ]
    }
   ],
   "source": [
    "A = [1, 2, 3, 5]\n",
    "for a in range(len(A)):\n",
    "  for j in range(a+1, len(A)):\n",
    "    print(A[a], A[j], A[a]/A[j])\n"
   ]
  }
 ],
 "metadata": {
  "interpreter": {
   "hash": "aee8b7b246df8f9039afb4144a1f6fd8d2ca17a180786b69acc140d282b71a49"
  },
  "kernelspec": {
   "display_name": "Python 3.9.7 64-bit",
   "language": "python",
   "name": "python3"
  },
  "language_info": {
   "codemirror_mode": {
    "name": "ipython",
    "version": 3
   },
   "file_extension": ".py",
   "mimetype": "text/x-python",
   "name": "python",
   "nbconvert_exporter": "python",
   "pygments_lexer": "ipython3",
   "version": "3.9.7"
  },
  "orig_nbformat": 4
 },
 "nbformat": 4,
 "nbformat_minor": 2
}
