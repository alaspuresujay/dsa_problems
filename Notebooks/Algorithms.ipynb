{
 "cells": [
  {
   "cell_type": "code",
   "execution_count": 22,
   "metadata": {},
   "outputs": [
    {
     "name": "stdout",
     "output_type": "stream",
     "text": [
      "2\n",
      "0\n",
      "1\n"
     ]
    },
    {
     "data": {
      "text/plain": [
       "1"
      ]
     },
     "execution_count": 22,
     "metadata": {},
     "output_type": "execute_result"
    }
   ],
   "source": [
    "nums = [-1,1,3,5,9,12]\n",
    "target = 1\n",
    "\n",
    "def binarySearch(nums, target):\n",
    "  low = 0\n",
    "  high = len(nums) - 1\n",
    "\n",
    "  while (low <= high):\n",
    "    mid = (low + high) // 2\n",
    "    if (nums[mid] == target):\n",
    "      return mid\n",
    "    if (nums[mid] < target):\n",
    "      low = mid +1\n",
    "    if (nums[mid] > target):\n",
    "      high = mid-1\n",
    "  return -1\n",
    "binarySearch(nums, target)"
   ]
  },
  {
   "cell_type": "code",
   "execution_count": 23,
   "metadata": {},
   "outputs": [
    {
     "data": {
      "text/plain": [
       "2"
      ]
     },
     "execution_count": 23,
     "metadata": {},
     "output_type": "execute_result"
    }
   ],
   "source": []
  },
  {
   "cell_type": "markdown",
   "metadata": {},
   "source": [
    "# Sorting algorithms"
   ]
  },
  {
   "cell_type": "code",
   "execution_count": 13,
   "metadata": {},
   "outputs": [],
   "source": [
    "# sort by colors\n",
    "A= [2, 0, 0, 1, 0, 0, 2, 2, 1, 1, 0, 0, 1, 0, 2, 1, 1, 0, 1, 0, 1, 2, 2, 2, 0, 0, 1, 0, 2, 1, 1, 2, 1, 2, 2, 1, 0, 2, 2, 1, 1, 1, 0, 1, 0, 1, 0, 2, 1, 2, 0, 2, 0, 1, 1, 0, 2, 2, 1, 2, 0, 2, 1, 1, 1, 2, 0, 1, 0, 2, 2, 1, 0, 0, 1, 0, 1, 0, 0, 0, 1, 2, 1, 1, 0, 2, 1, 2, 0, 0, 0, 2, 2, 2, 2, 0, 0, 0, 1, 1, 0, 2, 1, 2, 2, 2, 1, 2, 2, 0, 1, 0, 1, 2, 1, 1, 0, 1, 2, 0, 1, 0, 2, 2, 1, 2, 1, 0, 2, 2, 1, 1, 0, 2, 1, 2]\n",
    "\n",
    "\n",
    "hashIt={}\n",
    "colors=[0]*3\n",
    "for i in A:\n",
    "  colors[i]+=1\n",
    "\n",
    "\n",
    "for i in range(colors[0]):\n",
    "  A[i]=0\n",
    "  \n",
    "for i in range(colors[1]):\n",
    "  A[i]=1\n",
    "for i in range(colors[2]):\n",
    "  A[i]=2\n",
    "\n",
    "\n",
    "\n",
    "\n",
    "# def sortColors( A):\n",
    "#   for i in range(len(A)):\n",
    "#     for j in range(0, len(A)-i-1):\n",
    "#       if A[j] > A[j+1]:\n",
    "#         A[j], A[j+1] = A[j+1], A[j]\n",
    "\n",
    "#   return A\n",
    "\n",
    "\n",
    "# sortColors(A)"
   ]
  },
  {
   "cell_type": "code",
   "execution_count": null,
   "metadata": {},
   "outputs": [],
   "source": [
    "# form a largest number\n",
    "\n",
    "A = [3, 30, 34, 5, 9]\n",
    "# [9, 5, 34, 3, 30]\n",
    "\n",
    "A = [43, 30, 34, 5, 9]\n",
    "# [9, 5, 43, 34, 30]\n",
    "\n",
    "\n",
    "A=sorted(A)\n"
   ]
  },
  {
   "cell_type": "code",
   "execution_count": 15,
   "metadata": {},
   "outputs": [
    {
     "data": {
      "text/plain": [
       "17"
      ]
     },
     "execution_count": 15,
     "metadata": {},
     "output_type": "execute_result"
    }
   ],
   "source": [
    "# min cost of removal\n",
    "\n",
    "A=[2,1,3,2]\n",
    "\n",
    "\n",
    "\n"
   ]
  },
  {
   "cell_type": "code",
   "execution_count": 21,
   "metadata": {},
   "outputs": [
    {
     "name": "stdout",
     "output_type": "stream",
     "text": [
      "1073741824\n"
     ]
    }
   ],
   "source": [
    "num=2\n",
    "binary = bin(A) \n",
    "reverse = binary[-1:1:-1] \n",
    "reverse = reverse + (32 - len(reverse))*'0'\n",
    "int(reverse,2)"
   ]
  }
 ],
 "metadata": {
  "interpreter": {
   "hash": "697a1dac4d10d74076c3041dfdabcc21aaef7503f1bfe2a5ee0554a0b2186572"
  },
  "kernelspec": {
   "display_name": "Python 3.8.5 64-bit ('pyall': conda)",
   "name": "python3"
  },
  "language_info": {
   "codemirror_mode": {
    "name": "ipython",
    "version": 3
   },
   "file_extension": ".py",
   "mimetype": "text/x-python",
   "name": "python",
   "nbconvert_exporter": "python",
   "pygments_lexer": "ipython3",
   "version": "3.9.7"
  },
  "orig_nbformat": 4
 },
 "nbformat": 4,
 "nbformat_minor": 2
}
