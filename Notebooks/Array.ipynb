{
 "cells": [
  {
   "cell_type": "markdown",
   "metadata": {},
   "source": [
    "## 1313. Decompress Run-Length Encoded List\n",
    "We are given a list nums of integers representing a list compressed with run-length encoding.\n",
    "\n",
    "Consider each adjacent pair of elements ```[freq, val] = [nums[2*i], nums[2*i+1]] (with i >= 0)```.  For each such pair, there are `freq` elements with value `val` concatenated in a sublist. Concatenate all the sublists from left to right to generate the decompressed list.\n",
    "\n",
    "Return the decompressed list.\n",
    "\n",
    " \n",
    "\n",
    "```\n",
    "Example 1:\n",
    "\n",
    "Input: nums = [1,2,3,4]\n",
    "Output: [2,4,4,4]\n",
    "Explanation: The first pair [1,2] means we have freq = 1 and val = 2 so we generate the array [2].\n",
    "The second pair [3,4] means we have freq = 3 and val = 4 so we generate [4,4,4].\n",
    "At the end the concatenation [2] + [4,4,4] is [2,4,4,4].\n",
    "```"
   ]
  },
  {
   "cell_type": "code",
   "execution_count": 21,
   "metadata": {},
   "outputs": [
    {
     "data": {
      "text/plain": [
       "[[2], [4, 4, 4]]"
      ]
     },
     "execution_count": 21,
     "metadata": {},
     "output_type": "execute_result"
    }
   ],
   "source": [
    "nums = [1, 2, 3, 4]\n",
    "\n",
    "arr = []\n",
    "\n",
    "for i in range(0,len(nums)-1,2):\n",
    "  arr.append([nums[i+1]]*nums[i])\n",
    "x=[]\n",
    "for a in arr:\n",
    "  x += a\n",
    "x"
   ]
  },
  {
   "cell_type": "code",
   "execution_count": 26,
   "metadata": {},
   "outputs": [
    {
     "name": "stdout",
     "output_type": "stream",
     "text": [
      "1 2\n",
      "[2]\n",
      "3 4\n",
      "[4, 4, 4]\n"
     ]
    }
   ],
   "source": [
    "for freq, value in zip(nums[0::2], nums[1::2]):\n",
    "  print(freq, value)\n",
    "  print(freq*[value])"
   ]
  },
  {
   "cell_type": "code",
   "execution_count": 22,
   "metadata": {},
   "outputs": [
    {
     "data": {
      "text/plain": [
       "[2, 4, 4, 4]"
      ]
     },
     "execution_count": 22,
     "metadata": {},
     "output_type": "execute_result"
    }
   ],
   "source": [
    "[list_num for freq, value in zip(nums[0::2], nums[1::2]) for list_num in freq*[value]]"
   ]
  },
  {
   "cell_type": "code",
   "execution_count": 1,
   "metadata": {},
   "outputs": [
    {
     "name": "stdout",
     "output_type": "stream",
     "text": [
      "Pass> 0\n",
      "0 1 (4, 5)\n",
      "0 2 (4, 6)\n",
      "0 3 (4, 7)\n",
      "0 4 (4, 0)\n",
      "[0, 5, 6, 7, 4, 2, 1, 3]\n",
      "0 5 (0, 2)\n",
      "0 6 (0, 1)\n",
      "0 7 (0, 3)\n",
      "Pass> 1\n",
      "1 2 (5, 6)\n",
      "1 3 (5, 7)\n",
      "1 4 (5, 4)\n",
      "[0, 4, 6, 7, 5, 2, 1, 3]\n",
      "1 5 (4, 2)\n",
      "[0, 2, 6, 7, 5, 4, 1, 3]\n",
      "1 6 (2, 1)\n",
      "[0, 1, 6, 7, 5, 4, 2, 3]\n",
      "1 7 (1, 3)\n",
      "Pass> 2\n",
      "2 3 (6, 7)\n",
      "2 4 (6, 5)\n",
      "[0, 1, 5, 7, 6, 4, 2, 3]\n",
      "2 5 (5, 4)\n",
      "[0, 1, 4, 7, 6, 5, 2, 3]\n",
      "2 6 (4, 2)\n",
      "[0, 1, 2, 7, 6, 5, 4, 3]\n",
      "2 7 (2, 3)\n",
      "Pass> 3\n",
      "3 4 (7, 6)\n",
      "[0, 1, 2, 6, 7, 5, 4, 3]\n",
      "3 5 (6, 5)\n",
      "[0, 1, 2, 5, 7, 6, 4, 3]\n",
      "3 6 (5, 4)\n",
      "[0, 1, 2, 4, 7, 6, 5, 3]\n",
      "3 7 (4, 3)\n",
      "[0, 1, 2, 3, 7, 6, 5, 4]\n",
      "Pass> 4\n",
      "4 5 (7, 6)\n",
      "[0, 1, 2, 3, 6, 7, 5, 4]\n",
      "4 6 (6, 5)\n",
      "[0, 1, 2, 3, 5, 7, 6, 4]\n",
      "4 7 (5, 4)\n",
      "[0, 1, 2, 3, 4, 7, 6, 5]\n",
      "Pass> 5\n",
      "5 6 (7, 6)\n",
      "[0, 1, 2, 3, 4, 6, 7, 5]\n",
      "5 7 (6, 5)\n",
      "[0, 1, 2, 3, 4, 5, 7, 6]\n",
      "Pass> 6\n",
      "6 7 (7, 6)\n",
      "[0, 1, 2, 3, 4, 5, 6, 7]\n",
      "Pass> 7\n"
     ]
    },
    {
     "data": {
      "text/plain": [
       "[0, 1, 2, 3, 4, 5, 6, 7]"
      ]
     },
     "execution_count": 1,
     "metadata": {},
     "output_type": "execute_result"
    }
   ],
   "source": [
    "# Sort the array\n",
    "\n",
    "indices = [4, 5, 6, 7, 0, 2, 1, 3]\n",
    "\n",
    "for i in range(len(indices)):\n",
    "    print(\"Pass> \"+str(i))\n",
    "    for j in range(i + 1, len(indices)):\n",
    "        print(i,j,(indices[i] , indices[j]))\n",
    "        if (indices[i] > indices[j]):\n",
    "             indices[i], indices[j]=indices[j],indices[i]\n",
    "             print(indices)\n",
    "\n",
    "indices         "
   ]
  },
  {
   "cell_type": "markdown",
   "metadata": {},
   "source": [
    "Given an integer array nums, find the contiguous subarray (containing at least one number) which has the largest sum and return its sum.\n",
    "\n",
    "A subarray is a contiguous part of an array.\n",
    "\n",
    "### Example 1:\n",
    "\n",
    "```\n",
    "Input: nums = [-2,1,-3,4,-1,2,1,-5,4]\n",
    "Output: 6\n",
    "Explanation: [4,-1,2,1] has the largest sum = 6.\n",
    "```"
   ]
  },
  {
   "cell_type": "code",
   "execution_count": 4,
   "metadata": {},
   "outputs": [
    {
     "name": "stdout",
     "output_type": "stream",
     "text": [
      "[-2, 1, -2, 4, 3, 5, 6, 1, 5]\n"
     ]
    },
    {
     "data": {
      "text/plain": [
       "6"
      ]
     },
     "execution_count": 4,
     "metadata": {},
     "output_type": "execute_result"
    }
   ],
   "source": [
    "nums = [-2,1,-3,4,-1,2,1,-5,4]\n",
    "\n",
    "for i in range(1, len(nums)):\n",
    "  if (nums[i - 1]) > 0:\n",
    "    nums[i]+=nums[i-1]\n",
    "\n",
    "print(nums)   \n",
    "max(nums)"
   ]
  },
  {
   "cell_type": "code",
   "execution_count": 24,
   "metadata": {},
   "outputs": [
    {
     "name": "stdout",
     "output_type": "stream",
     "text": [
      "1 \n",
      "2 4 \n",
      "3 5 7 \n",
      "6 8 \n",
      "9 \n"
     ]
    }
   ],
   "source": [
    "# matrix transpose\n",
    "A=[\n",
    "[1, 2, 3],\n",
    "[4, 5, 6],\n",
    "[7, 8, 9]]\n",
    "n=len(A)\n",
    "m=len(A[0])\n",
    "arr=[]\n",
    "\n",
    "for i in range(0,m):\n",
    "  s=0\n",
    "  c=i\n",
    "  while(s<n and c>=0):\n",
    "    print(A[s][c], end=' ')\n",
    "    s+=1\n",
    "    c-=1\n",
    "  print()\n",
    "for i in range(1,n):\n",
    "  s=i\n",
    "  c=m-1\n",
    "  while(s<n and c>=0):\n",
    "\n",
    "    print(A[s][c], end=' ')\n",
    "    s+=1\n",
    "    c-=1\n",
    "  print()\n",
    "\n",
    "\n",
    "\n"
   ]
  },
  {
   "cell_type": "code",
   "execution_count": 32,
   "metadata": {},
   "outputs": [
    {
     "name": "stdout",
     "output_type": "stream",
     "text": [
      "[1, 0, 0]\n",
      "[2, 4, 0]\n",
      "[3, 5, 7]\n"
     ]
    },
    {
     "data": {
      "text/plain": [
       "[[1, 0, 0], [2, 4, 0], [3, 5, 7], [6, 8, 0], [9, 0, 0]]"
      ]
     },
     "execution_count": 32,
     "metadata": {},
     "output_type": "execute_result"
    }
   ],
   "source": [
    "A=[\n",
    "[1, 2, 3],\n",
    "[4, 5, 6],\n",
    "[7, 8, 9]]\n",
    "n=len(A)\n",
    "m=len(A[0])\n",
    "Farr=[]\n",
    "\n",
    "for i in range(0,m):\n",
    "  s=0\n",
    "  c=i\n",
    "  for j in range(m):\n",
    "    if(s<n and c>=0):\n",
    "      # print(A[s][c], end=' ')\n",
    "      arr.append(A[s][c]) \n",
    "    else:\n",
    "      # print(0, end=' ')\n",
    "      arr.append(0)\n",
    "    s+=1\n",
    "    c-=1\n",
    "  print(arr)\n",
    "  Farr.append(arr)\n",
    "  arr=[]\n",
    "for i in range(1,n):\n",
    "  s=i\n",
    "  c=m-1\n",
    "  for j in range(n):\n",
    "    if(s<n and c>=0):\n",
    "      arr.append(A[s][c])\n",
    "    else:\n",
    "      arr.append(0)\n",
    "\n",
    "    s+=1\n",
    "    c-=1\n",
    "  Farr.append(arr)\n",
    "  arr=[]\n",
    "\n",
    "Farr"
   ]
  },
  {
   "cell_type": "code",
   "execution_count": 34,
   "metadata": {},
   "outputs": [
    {
     "data": {
      "text/plain": [
       "[[21, 23, 9, 15, 7],\n",
       " [1, 3, 27, 2, 31],\n",
       " [29, 17, 10, 4, 24],\n",
       " [12, 13, 20, 16, 17],\n",
       " [1, 14, 5, 7, 8]]"
      ]
     },
     "execution_count": 34,
     "metadata": {},
     "output_type": "execute_result"
    }
   ],
   "source": [
    "# sqr matrix transpose\n",
    "\n",
    "A=[\n",
    "[7, 15, 9,23,21],\n",
    "[31, 2, 27,3,1],\n",
    "[24, 4, 10,17,29],\n",
    "[17,16,20,13,12],\n",
    "[8,7,5,14,1]]\n",
    "n=len(A)\n",
    "for i in range(n):\n",
    "  for j in range(i):\n",
    "    A[i][j],A[j][i]=A[j][i],A[i][j]\n",
    "\n",
    "# rotate matrix by 90\n",
    "\n",
    "for i in range(n):\n",
    "  for j in range(n//2):\n",
    "    A[i][j],A[i][n-j-1]=A[i][n-j-1],A[i][j]\n",
    "\n",
    "A\n"
   ]
  },
  {
   "cell_type": "code",
   "execution_count": 61,
   "metadata": {},
   "outputs": [
    {
     "data": {
      "text/plain": [
       "[[7, 31, 24], [15, 2, 4], [9, 27, 10], [23, 3, 17], [21, 1, 29]]"
      ]
     },
     "execution_count": 61,
     "metadata": {},
     "output_type": "execute_result"
    }
   ],
   "source": [
    "# transpose of rectangle matrix\n",
    "\n",
    "A=[\n",
    "[7, 15, 9,23,21],\n",
    "[31, 2, 27,3,1],\n",
    "[24, 4, 10,17,29]\n",
    "]\n",
    "\n",
    "mat=[[A[j][i] for j in range(len(A))] for i in range(len(A[0]))]\n",
    "\n",
    "mat"
   ]
  },
  {
   "cell_type": "code",
   "execution_count": 65,
   "metadata": {},
   "outputs": [
    {
     "data": {
      "text/plain": [
       "[[55, 65, 49, 5], [57, 68, 72, 12], [90, 107, 111, 21]]"
      ]
     },
     "execution_count": 65,
     "metadata": {},
     "output_type": "execute_result"
    }
   ],
   "source": [
    "# matrix multiplication\n",
    "\n",
    "X = [\n",
    "[1, 7, 3],\n",
    "[3, 5, 6],\n",
    "[6, 8, 9]]\n",
    "\n",
    "Y = [\n",
    "[1, 1, 1, 2],\n",
    "[6, 7, 3, 0],\n",
    "[4, 5, 9, 1]]\n",
    " \n",
    "# Output : [55, 65, 49, 5]\n",
    "#          [57, 68, 72, 12]\n",
    "#          [90, 107, 111, 21]\n",
    "\n",
    "inner=[]\n",
    "outer=[]\n",
    "sum=0\n",
    "m=len(A)\n",
    "n=len(B)\n",
    "p=len(B[0])\n",
    "\n",
    "for i in range(m):\n",
    "  for j in range(p):\n",
    "    for k in range(n):\n",
    "      sum+=A[i][k]*B[k][j]\n",
    "    inner.append(sum)\n",
    "    sum=0\n",
    "  outer.append(inner)\n",
    "  inner=[]\n",
    "\n",
    "outer\n"
   ]
  },
  {
   "cell_type": "code",
   "execution_count": 69,
   "metadata": {},
   "outputs": [
    {
     "data": {
      "text/plain": [
       "[[2, 4, 6], [8, 10, 12], [14, 16, 18]]"
      ]
     },
     "execution_count": 69,
     "metadata": {},
     "output_type": "execute_result"
    }
   ],
   "source": [
    "# Scaler Product\n",
    "A = [[1, 2, 3],[4, 5, 6],[7, 8, 9]]\n",
    "B = 2 \n",
    "\n",
    "# output:[[2, 4, 6], [8, 10, 12], [14, 16, 18]]\n",
    "\n",
    "A=[[A[i][j]*B for j in range(len(A[0]))] for i in range(len(A))]\n",
    "\n",
    "A"
   ]
  },
  {
   "cell_type": "code",
   "execution_count": 70,
   "metadata": {},
   "outputs": [
    {
     "data": {
      "text/plain": [
       "[10, 26, 18]"
      ]
     },
     "execution_count": 70,
     "metadata": {},
     "output_type": "execute_result"
    }
   ],
   "source": [
    "# row sum\n",
    "\n",
    "A=[\n",
    "  [1,2,3,4],\n",
    "[5,6,7,8],\n",
    "[9,2,3,4]\n",
    "]\n",
    "sumArr=[]\n",
    "sum=0\n",
    "for i in range(len(A)):\n",
    "  for j in range(len(A[0])):\n",
    "    sum+=A[i][j]\n",
    "  sumArr.append(sum)\n",
    "  sum=0\n",
    "sumArr\n",
    "\n"
   ]
  },
  {
   "cell_type": "code",
   "execution_count": 20,
   "metadata": {},
   "outputs": [
    {
     "name": "stdout",
     "output_type": "stream",
     "text": [
      "{1: 2, 2: 2}\n"
     ]
    },
    {
     "data": {
      "text/plain": [
       "[2, 1, 2]"
      ]
     },
     "execution_count": 20,
     "metadata": {},
     "output_type": "execute_result"
    }
   ],
   "source": [
    "def common_elements(A, B):\n",
    "    result = []\n",
    "    if len(A)<len(B):\n",
    "      smallList=A\n",
    "      bigList=B\n",
    "    elif len(A)>len(B):\n",
    "      smallList=B\n",
    "      bigList=A\n",
    "    else:\n",
    "      smallList=set(A)\n",
    "      bigList=B\n",
    "    for element in smallList:\n",
    "      print(element)\n",
    "      if element in bigList:\n",
    "        result.append(element)\n",
    "    return result\n",
    "\n",
    "\n",
    "def printIntersection(A, B):\n",
    "    hs = {}\n",
    "    final_arr=[]\n",
    "    n1, n2=len(A), len(B)\n",
    "    if n1<n2:\n",
    "      A, B=B,A\n",
    "      n1,n2=n2,n1\n",
    "    for i in range(0, n1):\n",
    "        if A[i] in hs:\n",
    "          hs[A[i]]+=1\n",
    "        else:\n",
    "          hs[A[i]]=1\n",
    "    for i in range(0, n2):\n",
    "        if B[i] in hs:\n",
    "          if hs[B[i]]>1:\n",
    "            final_arr.append(B[i])\n",
    "            hs[B[i]]-=1\n",
    "          else:\n",
    "            final_arr.append(B[i])\n",
    "            hs.pop(B[i])\n",
    "            \n",
    "    return final_arr\n",
    "\n",
    "\n",
    "# A= [17, 12, 5, 3, 14, 13, 3, 2]\n",
    "# B= [19, 16, 8, 7, 12, 19, 10, 13, 8, 20, 16, 15, 4, 12, 3, 14, 14]\n",
    "A= [1, 2, 2, 1]\n",
    "B= [2, 3, 1, 2]\n",
    "printIntersection(A,B)\n",
    "\n"
   ]
  },
  {
   "cell_type": "code",
   "execution_count": 94,
   "metadata": {},
   "outputs": [
    {
     "name": "stdout",
     "output_type": "stream",
     "text": [
      "{1: 0}\n",
      "{1: 0, 16: 1}\n",
      "{1: 0, 16: 1, 14: 2}\n",
      "{1: 0, 16: 1, 14: 2}\n",
      "{1: 0, 16: 1, 14: 2, 8: 4}\n",
      "{1: 0, 16: 1, 14: 2, 8: 4, 9: 5}\n",
      "{1: 0, 16: 1, 14: 2, 8: 4, 9: 5}\n",
      "{1: 0, 16: 1, 14: 2, 8: 4, 9: 5, 26: 7}\n",
      "{1: 0, 16: 1, 14: 2, 8: 4, 9: 5, 26: 7, 49: 8}\n",
      "Length of the longest 0 sum subarray ==  5\n"
     ]
    }
   ],
   "source": [
    "# A python program to find maximum length subarray\n",
    "# with 0 sum in o(n) time\n",
    "\n",
    "# Returns the maximum length\n",
    "def maxLen(arr):\n",
    "  hash_map = {}\n",
    "\n",
    "  max_len = 0\n",
    "\n",
    "  curr_sum = 0\n",
    "\n",
    "  for i in range(len(arr)):\n",
    "    curr_sum += arr[i]\n",
    "\n",
    "    if arr[i] == 0 and max_len == 0:\n",
    "      max_len = 1\n",
    "\n",
    "    if curr_sum == 0:\n",
    "      max_len = i + 1\n",
    "\n",
    "    if curr_sum in hash_map:\n",
    "      max_len = max(max_len, i - hash_map[curr_sum] )\n",
    "    else:\n",
    "      hash_map[curr_sum] = i\n",
    "    print(hash_map)\n",
    "\n",
    "  return max_len\n",
    "\n",
    "\n",
    "# test array\n",
    "arr = [1,15, -2, 2, -8, 1, 7, 10, 23]\n",
    "\n",
    "print (\"Length of the longest 0 sum subarray == % d\" % maxLen(arr))\n"
   ]
  },
  {
   "cell_type": "code",
   "execution_count": 108,
   "metadata": {},
   "outputs": [
    {
     "name": "stdout",
     "output_type": "stream",
     "text": [
      "(0, 0)\n",
      "(10, 10)\n",
      "1 [0]\n"
     ]
    }
   ],
   "source": [
    "# Python3 program to print all subarrays\n",
    "# in the array which has sum 0\n",
    "\n",
    "# Function to get all subarrays\n",
    "# in the array which has sum 0\n",
    "def findSubArrays(arr, n):\n",
    "  hashMap = {}\n",
    "  out = []\n",
    "  sum1 = 0\n",
    "  maxLen=0\n",
    "  for i in range(n):\n",
    "    sum1 += arr[i]\n",
    "    if sum1 == 0:\n",
    "      out.append((0, i))\n",
    "      \n",
    "    al = []\n",
    "    if sum1 in hashMap:\n",
    "      al = hashMap.get(sum1)\n",
    "      for it in range(len(al)):\n",
    "        out.append((al[it] + 1, i))\n",
    "        maxLen\n",
    "    al.append(i)\n",
    "    hashMap[sum1] = al\n",
    "  maxArr=[]\n",
    "  for i in out:\n",
    "    print(i)\n",
    "    if(i[1]-i[0]>=maxLen):\n",
    "      maxLen = i[1]-i[0]+1\n",
    "      maxArr=arr[i[0]:i[1]+1]\n",
    "  print(maxLen,maxArr )\n",
    "  return out\n",
    "\n",
    "# Utility function to print\n",
    "# all subarrays with sum 0\n",
    "\n",
    "\n",
    "def printOutput(output):\n",
    "\tfor i in output:\n",
    "\t  print(\"Subarray found from Index \" +\n",
    "            str(i[0]) + \" to \" + str(i[1]))\n",
    "\n",
    "\n",
    "arr = [0, -10, 20, 3, 23, 10, -20, 2, 19, -29, 0]\n",
    "\n",
    "n = len(arr)\n",
    "out = findSubArrays(arr, n)\n",
    "\n",
    "\n"
   ]
  },
  {
   "cell_type": "code",
   "execution_count": 113,
   "metadata": {},
   "outputs": [
    {
     "name": "stdout",
     "output_type": "stream",
     "text": [
      "1 2 3 4 5 6 7 8 16 24 32 40 48 56 64 63 62 61 60 59 58 57 49 41 33 25 17 9 \n",
      "10 11 12 13 14 15 23 31 39 47 55 54 53 52 51 50 42 34 26 18 \n",
      "19 20 21 22 30 38 46 45 44 43 35 27 \n",
      "28 29 37 36 \n"
     ]
    }
   ],
   "source": [
    "# spiral printing\n",
    "A = [\n",
    "    [1, 2, 3, 4, 5, 6, 7, 8],\n",
    "    [9,10,11,12,13,14,15,16],\n",
    "    [17,18,19,20,21,22,23,24],\n",
    "    [25,26,27,28,29,30,31,32],\n",
    "    [33,34,35,36,37,38,39,40],\n",
    "    [41,42,43,44,45,46,47,48],\n",
    "    [49,50,51,52,53,54,55,56],\n",
    "    [57,58,59,60,61,62,63,64]\n",
    "]\n",
    "\n",
    "def printSpiral(mat,n,i,j):\n",
    "  for l in range(1,n):     #printing 0th row\n",
    "    print(mat[i][j], end=' ')\n",
    "    j+=1\n",
    "  for l in range(1,n):  #printing last col\n",
    "    print(mat[i][j], end=' ')\n",
    "    i+=1\n",
    "  for l in range(1,n):  # printing last row\n",
    "    print(mat[i][j], end=' ')\n",
    "    j -= 1\n",
    "  for l in range(1,n):  # printing 0th col\n",
    "    print(mat[i][j], end=' ')\n",
    "    i -= 1\n",
    "\n",
    "n=len(A)\n",
    "i=0\n",
    "j=0\n",
    "\n",
    "\n",
    "while(n>0):\n",
    "  printSpiral(A, n, i, j)\n",
    "  print()\n",
    "  n=n-2\n",
    "  i=i+1\n",
    "  j=j+1\n",
    "  \n"
   ]
  },
  {
   "cell_type": "code",
   "execution_count": 167,
   "metadata": {},
   "outputs": [
    {
     "data": {
      "text/plain": [
       "[[1, 2, 3, 4, 5],\n",
       " [16, 17, 18, 19, 6],\n",
       " [15, 24, 25, 20, 7],\n",
       " [14, 23, 22, 21, 8],\n",
       " [13, 12, 11, 10, 9]]"
      ]
     },
     "execution_count": 167,
     "metadata": {},
     "output_type": "execute_result"
    }
   ],
   "source": [
    "# Generate Spiral Matrix \n",
    "\n",
    "\n",
    "def printSpiral(mat, n, i, j,b):\n",
    "  if n==1:\n",
    "    mat[i][j]=b\n",
    "    return (mat,b)\n",
    "\n",
    "  for l in range(1, n):  # printing 0th row\n",
    "    mat[i][j]=b\n",
    "    j += 1\n",
    "    b+=1\n",
    "  for l in range(1, n):  # printing last col\n",
    "    mat[i][j]=b\n",
    "    i += 1\n",
    "    b+=1\n",
    "  for l in range(1, n):  # printing last row\n",
    "    mat[i][j]=b\n",
    "    j -= 1\n",
    "    b+=1\n",
    "  for l in range(1, n):  # printing 0th col\n",
    "    mat[i][j]=b\n",
    "    i -= 1\n",
    "    b+=1\n",
    "  return (mat,b)\n",
    "\n",
    "\n",
    "mat = [[0 for x in range(n)] for y in range(n)]\n",
    "n=5\n",
    "i=0\n",
    "j = 0\n",
    "b=1\n",
    "\n",
    "\n",
    "while(n>0):\n",
    "  mat, b = printSpiral(mat, n, i, j, b)\n",
    "  n-=2\n",
    "  i+=1\n",
    "  j+=1\n",
    "\n",
    "mat\n",
    "\n",
    "\n",
    "# mat,b=printSpiral(mat,n,i,j,b)\n",
    "# print(b)\n",
    "# # b=((n-1)*4)+1\n",
    "# n=n-2\n",
    "# i=i+1\n",
    "# j=j+1\n",
    "# print(b, i, j, n)\n",
    "# mat,b=printSpiral(mat,n,i,j,b)\n",
    "# # b = ((n-1)*4)+1\n",
    "# n = n-2\n",
    "# i = i+1\n",
    "# j = j+1\n",
    "# print(b,i,j,n)\n",
    "\n",
    "# mat,b = printSpiral(mat, n, i, j, b)\n",
    "# mat\n",
    "\n",
    "\n"
   ]
  },
  {
   "cell_type": "code",
   "execution_count": 123,
   "metadata": {},
   "outputs": [
    {
     "data": {
      "text/plain": [
       "[[1, 2], [0, 0]]"
      ]
     },
     "execution_count": 123,
     "metadata": {},
     "output_type": "execute_result"
    }
   ],
   "source": [
    "row=2\n",
    "column=2\n",
    "mat = [[ 0 for x in range(row)] for y in range(column)]\n",
    "b=1\n",
    "i=0\n",
    "for l in range(2):\n",
    "    mat[0][i]=b\n",
    "    b+=1\n",
    "    i+=1\n",
    "mat\n"
   ]
  },
  {
   "cell_type": "code",
   "execution_count": 173,
   "metadata": {},
   "outputs": [
    {
     "data": {
      "text/plain": [
       "[[0, 0, 0, 0, 0, 0, 0, 0, 0, 0],\n",
       " [0, 0, 0, 0, 0, 0, 0, 0, 0, 0],\n",
       " [0, 0, 0, 0, 0, 0, 0, 0, 0, 0],\n",
       " [0, 0, 0, 0, 0, 0, 0, 0, 0, 0],\n",
       " [0, 0, 0, 0, 0, 0, 0, 0, 0, 0],\n",
       " [0, 0, 0, 0, 0, 0, 0, 0, 0, 0],\n",
       " [0, 0, 0, 0, 0, 0, 0, 0, 0, 0],\n",
       " [0, 0, 0, 0, 0, 0, 0, 0, 0, 0],\n",
       " [0, 0, 0, 0, 0, 0, 0, 0, 0, 0],\n",
       " [0, 0, 0, 0, 0, 0, 0, 0, 0, 0]]"
      ]
     },
     "execution_count": 173,
     "metadata": {},
     "output_type": "execute_result"
    }
   ],
   "source": [
    "# You are given a 2D integer matrix A, make all the elements in a row or column zero if the A[i][j] = 0. Specifically, make entire ith row and jth column zero.\n",
    "\n",
    "# Example Input\n",
    "\n",
    "# Input 1:\n",
    "\n",
    "# [1,2,3,4]\n",
    "# [5,6,7,0]\n",
    "# [9,2,0,4]\n",
    "\n",
    "\n",
    "# Example Output\n",
    "\n",
    "# Output 1:\n",
    "\n",
    "# [1,2,0,0]\n",
    "# [0,0,0,0]\n",
    "# [0,0,0,0]\n",
    "\n",
    "def solve(A):\n",
    "  \n",
    "\n",
    "\n",
    "\n",
    "\n",
    "A = [\n",
    "    [97, 18, 55, 1, 50, 17, 16, 0, 22, 14],\n",
    "    [58, 14, 75, 54, 11, 23, 54, 95, 33, 23],\n",
    "    [73, 11, 2, 80, 6, 43, 67, 82, 73, 4],\n",
    "    [61, 22, 23, 68, 23, 73, 85, 91, 25, 7],\n",
    "    [6, 83, 22, 81, 89, 85, 56, 43, 32, 89],\n",
    "    [0, 6, 1, 69, 86, 7, 64, 5, 90, 37],\n",
    "    [10, 3, 11, 33, 71, 86, 6, 56, 78, 31],\n",
    "    [16, 36, 66, 90, 17, 55, 27, 26, 99, 59],\n",
    "    [67, 18, 65, 68, 87, 3, 28, 52, 9, 70],\n",
    "    [41, 19, 73, 5, 52, 96, 91, 10, 52, 21]\n",
    "]\n",
    "solve(A)"
   ]
  },
  {
   "cell_type": "code",
   "execution_count": 176,
   "metadata": {},
   "outputs": [
    {
     "name": "stdout",
     "output_type": "stream",
     "text": [
      "[[0, 0, 0, 0, 0], [0, 1, 0, 1, 1], [0, 0, 0, 0, 0], [0, 1, 0, 1, 1], [0, 0, 0, 0, 0]]\n"
     ]
    }
   ],
   "source": [
    "# Function to change all elements of row `x` and column `y` to -1\n",
    "def changeRowColumn(mat, M, N, x, y):\n",
    "\n",
    "    for j in range(N):\n",
    "        if mat[x][j]:\n",
    "            mat[x][j] = -1\n",
    "\n",
    "    for i in range(M):\n",
    "        if mat[i][y]:\n",
    "            mat[i][y] = -1\n",
    "\n",
    "\n",
    "# Function to convert the matrix\n",
    "def convert(mat):\n",
    "\n",
    "    # base case\n",
    "    if not mat or not len(mat):\n",
    "        return\n",
    "\n",
    "    # `M × N` matrix\n",
    "    (M, N) = (len(mat), len(mat[0]))\n",
    "\n",
    "    # traverse the matrix\n",
    "    for i in range(M):\n",
    "        for j in range(N):\n",
    "            if mat[i][j] == 0:      # cell `(i, j)` has value 0\n",
    "                # change each non-zero element in row `i` and column `j` to -1\n",
    "                changeRowColumn(mat, M, N, i, j)\n",
    "\n",
    "    # traverse the matrix once again and replace cells having\n",
    "    # value -1 with 0\n",
    "    for i in range(M):\n",
    "        for j in range(N):\n",
    "            if mat[i][j] == -1:\n",
    "                mat[i][j] = 0\n",
    "\n",
    "mat = [\n",
    "    [1, 1, 0, 1, 1],\n",
    "    [1, 1, 1, 1, 1],\n",
    "    [1, 1, 0, 1, 1],\n",
    "    [1, 1, 1, 1, 1],\n",
    "    [0, 1, 1, 1, 1]\n",
    "]\n",
    "\n",
    "# convert the matrix\n",
    "convert(mat)\n",
    "\n",
    "print(mat)\n"
   ]
  },
  {
   "cell_type": "code",
   "execution_count": 20,
   "metadata": {},
   "outputs": [
    {
     "name": "stdout",
     "output_type": "stream",
     "text": [
      "1011 0 2\n",
      "1010 0 1\n",
      "1009 0 0\n",
      "1011\n"
     ]
    }
   ],
   "source": [
    "# find element in matrix\n",
    "# row and columns are sorted\n",
    "# A = [\n",
    "#     [-1, 2, 4, 5, 9, 11],\n",
    "#     [1, 4, 7, 8, 10, 14],\n",
    "#     [3, 7, 9, 10, 12, 18],\n",
    "#     [6, 10, 12, 14, 16, 20],\n",
    "#     [9, 13, 16, 19, 22, 24],\n",
    "#     [11, 15, 19, 21, 24, 27],\n",
    "#     [14, 20, 25, 29, 31, 39],\n",
    "#     [18, 24, 29, 32, 34, 42]\n",
    "\n",
    "# ]\n",
    "\n",
    "# k=30\n",
    "\n",
    "A=[\n",
    "    [2, 8, 8, 8],\n",
    "    [2, 8, 8, 8],\n",
    "    [2, 8, 8, 8]\n",
    "]\n",
    "B= 8\n",
    "\n",
    "n=len(A)\n",
    "m=len(A[0])\n",
    "i=0\n",
    "j=m-1\n",
    "val=n*1009+m\n",
    "flag=False\n",
    "while(i<n and j>=0):\n",
    "  if A[i][j]<B:\n",
    "    i+=1\n",
    "  elif A[i][j]>B:\n",
    "    j-=1\n",
    "  elif A[i][j]==B:\n",
    "    flag=True\n",
    "    val = min(val, i+1*1009+j+1)\n",
    "    j-=1\n",
    "    print(i+1*1009+j, i,j)\n",
    "print(val if flag else -1)\n",
    "\n",
    "\n"
   ]
  },
  {
   "cell_type": "code",
   "execution_count": null,
   "metadata": {},
   "outputs": [],
   "source": [
    "# find row with maximum number of ones\n",
    "\n",
    "# A = [\n",
    "#     [0, 0, 1, 1, 1],\n",
    "#     [0, 0, 0, 1, 1],\n",
    "#     [0, 0, 0, 1, 1],\n",
    "#     [0, 0, 0, 0, 1],\n",
    "#     [0, 0, 0, 1, 1]\n",
    "# ]\n",
    "\n",
    "A = [\n",
    "    [0, 0, 0, 1, 1],\n",
    "    [0, 0, 0, 1, 1],\n",
    "    [0, 1, 1, 1, 1],\n",
    "    [0, 0, 0, 0, 1],\n",
    "    [0, 0, 0, 1, 1]\n",
    "]\n",
    "\n",
    "n=len(A)\n",
    "(i,j)=(0,n-1)\n",
    "prev=A[i][j]\n",
    "rowIndex=0\n",
    "while(i<n and j>=0):\n",
    "  if A[i][j]==1:\n",
    "    if prev != A[i][j]:\n",
    "      rowIndex = i\n",
    "      prev = A[i][j]\n",
    "    j-=1\n",
    "  if A[i][j]==0:\n",
    "    if prev!=A[i][j]:\n",
    "      rowIndex=i\n",
    "      prev=A[i][j]\n",
    "    i+=1\n",
    "  \n",
    "rowIndex"
   ]
  },
  {
   "cell_type": "code",
   "execution_count": 45,
   "metadata": {},
   "outputs": [
    {
     "name": "stdout",
     "output_type": "stream",
     "text": [
      "[0, 1] [0, 1] 1\n",
      "1\n"
     ]
    }
   ],
   "source": [
    "# . Length of longest consecutive ones\n",
    "# Given a binary string A. It is allowed to do at most one swap between any 0 and 1. Find and return the length of the longest consecutive 1’s that can be achieved.\n",
    "\n",
    "A = \"1110001101100111\"\n",
    "\n",
    "# Python 3 program to find length of\n",
    "# longest consecutive ones by at most\n",
    "# one swap in a Binary String\n",
    "\n",
    "# Function to calculate the length\n",
    "# of the longest consecutive 1's\n",
    "\n",
    "\n",
    "def maximum_one(s, n):\n",
    "\n",
    "\t# To count all 1's in the string\n",
    "\tcnt_one = 0\n",
    "\n",
    "\tcnt, max_cnt = 0, 0\n",
    "\n",
    "\tfor i in range(n):\n",
    "\t\tif (s[i] == '1'):\n",
    "\t\t\tcnt_one += 1\n",
    "\t\t\tcnt += 1\n",
    "\t\telse:\n",
    "\t\t\tmax_cnt = max(max_cnt, cnt)\n",
    "\t\t\tcnt = 0\n",
    "\n",
    "\tmax_cnt = max(max_cnt, cnt)\n",
    "\n",
    "\t# To store cumulative 1's\n",
    "\tleft = [0] * n\n",
    "\tright = [0] * n\n",
    "\n",
    "\tif (s[0] == '1'):\n",
    "\t\tleft[0] = 1\n",
    "\n",
    "\telse:\n",
    "\t\tleft[0] = 0\n",
    "\n",
    "\tif (s[n - 1] == '1'):\n",
    "\t\tright[n - 1] = 1\n",
    "\n",
    "\telse:\n",
    "\t\tright[n - 1] = 0\n",
    "\n",
    "\t# Counting cumulative 1's from left\n",
    "\tfor i in range(1, n):\n",
    "\t\tif (s[i] == '1'):\n",
    "\t\t\tleft[i] = left[i - 1] + 1\n",
    "\n",
    "\t\t# If 0 then start new cumulative\n",
    "\t\t# one from that i\n",
    "\t\telse:\n",
    "\t\t\tleft[i] = 0\n",
    "\n",
    "\tfor i in range(n - 2, -1, -1):\n",
    "\n",
    "\t\tif (s[i] == '1'):\n",
    "\t\t\tright[i] = right[i + 1] + 1\n",
    "\n",
    "\t\telse:\n",
    "\t\t\tright[i] = 0\n",
    "\tprint(left, right, max_cnt)\n",
    "\tfor i in range(1, n-1):\n",
    "\n",
    "\t\t# perform step 3 of the approach\n",
    "\t\tif (s[i] == '0'):\n",
    "\n",
    "\t\t\t# step 3\n",
    "\t\t\tsum = left[i - 1] + right[i + 1]\n",
    "\n",
    "\t\t\tif (sum < cnt_one):\n",
    "\t\t\t\tmax_cnt = max(max_cnt, sum+1)\n",
    "\n",
    "\t\t\telse:\n",
    "\t\t\t\tmax_cnt = max(max_cnt, sum)\n",
    "\n",
    "\treturn max_cnt\n",
    "\n",
    "\n",
    "s = \"01\"\n",
    "\n",
    "print(maximum_one(s, len(s)))\n",
    "\n"
   ]
  },
  {
   "cell_type": "code",
   "execution_count": 47,
   "metadata": {},
   "outputs": [
    {
     "name": "stdout",
     "output_type": "stream",
     "text": [
      "[0, 1] [0, 1] 1\n",
      "1\n"
     ]
    }
   ],
   "source": [
    "# \n",
    "# count of 1's\n",
    "# cumulative sum of 1 from both side\n",
    "# \n",
    "\n",
    "A = \"01\"\n",
    "\n",
    "cnt_one=0\n",
    "cnt, max_cnt=0,0\n",
    "n=len(A)\n",
    "\n",
    "for i in range(n):\n",
    "  if A[i]=='1':\n",
    "    cnt_one+=1\n",
    "    cnt+=1\n",
    "  else:\n",
    "    max_cnt=max(max_cnt, cnt)\n",
    "    cnt=0\n",
    "max_cnt = max(max_cnt, cnt)\n",
    "left=[0]*n\n",
    "right=[0]*n\n",
    "left[0]=int(A[0])\n",
    "right[n-1]=int(A[n-1])\n",
    "for i in range(1,n):\n",
    "  if A[i]=='1':\n",
    "    left[i]=left[i-1]+1\n",
    "  else:\n",
    "    left[i]=0\n",
    "for i in range(n-2,-1,-1):\n",
    "  if A[i]=='1':\n",
    "    right[i]=right[i+1]+1\n",
    "  else:\n",
    "    right[i]=0\n",
    "print(left, right, max_cnt)\n",
    "for i in range(1, n-1):\n",
    "  if A[i]=='0':\n",
    "    sumOne=left[i-1]+right[i+1]\n",
    "    if sumOne<cnt_one:\n",
    "      max_cnt=max(max_cnt, sumOne+1)\n",
    "    else:\n",
    "      max_cnt=max(max_cnt, sumOne)\n",
    "\n",
    "print(max_cnt)\n",
    "\n",
    "\n",
    "\n"
   ]
  },
  {
   "cell_type": "code",
   "execution_count": 4,
   "metadata": {},
   "outputs": [
    {
     "name": "stdout",
     "output_type": "stream",
     "text": [
      "4\n"
     ]
    }
   ],
   "source": [
    "# majority element\n",
    "# Given an array of size n, find the majority element. The majority element is the element that appears more than floor(n/2) times.\n",
    "\n",
    "# 1. Sort and get mid (TC-nLogn)\n",
    "# A=[2,1,2]\n",
    "\n",
    "# A=sorted(A)\n",
    "# A[len(A)//2]\n",
    "\n",
    "# 2. Moorey's Voting algorithm\n",
    "# \n",
    "A=[6,6,8,4,4,7,4,4,4,4,6]\n",
    "votes=0\n",
    "candidate=-1\n",
    "for i in range(len(A)):\n",
    "  if votes==0:\n",
    "    candidate=A[i]\n",
    "    votes=1\n",
    "  else:\n",
    "    if A[i]==candidate:\n",
    "      votes+=1\n",
    "    else:\n",
    "      votes-=1\n",
    "\n",
    "cnt=0\n",
    "for i in A:\n",
    "  if i==candidate:\n",
    "    cnt+=1\n",
    "\n",
    "if cnt>len(A)//2:\n",
    "  print(candidate)"
   ]
  },
  {
   "cell_type": "code",
   "execution_count": 24,
   "metadata": {},
   "outputs": [
    {
     "name": "stdout",
     "output_type": "stream",
     "text": [
      "1000201 0 1000110 1\n",
      "1000110\n"
     ]
    }
   ],
   "source": [
    "# majority element 2\n",
    "# freq>n/3\n",
    "\n",
    "A = [1000697, 1000110, 1000110, 1000671, 1000941, 1000304, 1000110, 1000742, 1000160, 1000558, 1000110, 1000110, 1000110, 1000650, 1000200, 1000110, 1000133, 1000110, 1000548, 1000002, 1000397, 1000110, 1000533, 1000724, 1000110, 1000882, 1000110, 1000515, 1000110, 1000110, 1000110, 1000181, 1000051, 1000110, 1000110, 1000644, 1000110, 1000301, 1000110, 1000040, 1000424, 1000336, 1000426, 1000244, 1000485, 1000439, 1000554, 1000110, 1000110, 1000497, 1000836, 1000760, 1000110, 1000135, 1000872, 1000110, 1000739, 1000242, 1000790, 1000110, 1000384, 1000110, 1000384, 1000110, 1000713, 1000110, 1000110, 1000048, 1000110, 1000172, 1000727, 1000502, 1000649, 1000830, 1000387, 1000953, 1000110, 1000640, 1000291, 1000612, 1000389, 1000110, 1000698, 1000462, 1000054, 1000110, 1000110, 1000181, 1000221, 1000408, 1000110, 1000905, 1000110, 1000532, 1000939, 1000110, 1000817, 1000388, 1000069, 1000110, 1000163, 1000453, 1000847, 1000908, 1000395, 1000574, 1000127, 1000132, 1000110, 1000110, 1000201, 1000689]\n",
    "\n",
    "maj1=-1\n",
    "fre1=0\n",
    "maj2=-1\n",
    "fre2=0\n",
    "\n",
    "for i in range(len(A)):\n",
    "  if maj1==A[i]:\n",
    "    fre1+=1\n",
    "  elif maj2==A[i]:\n",
    "    fre2+=1\n",
    "  elif fre1==0:\n",
    "    fre1=1\n",
    "    maj1=A[i]\n",
    "  elif fre2==0:\n",
    "    fre2=1\n",
    "    maj2=A[i]\n",
    "  else:\n",
    "    fre1-=1\n",
    "    fre2-=1\n",
    "\n",
    "print(maj1, fre1, maj2, fre2)\n",
    "cnt1=0\n",
    "cnt2=0\n",
    "for i in A:\n",
    "  if fre1>0 and  i ==maj1:\n",
    "    cnt1+=1\n",
    "  if fre2>0 and i==maj2:\n",
    "    cnt2+=1\n",
    "\n",
    "if cnt1>len(A)//3:\n",
    "  print(maj1)\n",
    "if cnt2>len(A)//3:\n",
    "  print(maj2)"
   ]
  },
  {
   "cell_type": "code",
   "execution_count": 22,
   "metadata": {},
   "outputs": [
    {
     "data": {
      "text/plain": [
       "1000110"
      ]
     },
     "execution_count": 22,
     "metadata": {},
     "output_type": "execute_result"
    }
   ],
   "source": [
    "A=sorted(A)\n",
    "A[len(A)//3+1]"
   ]
  },
  {
   "cell_type": "code",
   "execution_count": 29,
   "metadata": {},
   "outputs": [
    {
     "data": {
      "text/plain": [
       "6"
      ]
     },
     "execution_count": 29,
     "metadata": {},
     "output_type": "execute_result"
    }
   ],
   "source": [
    "# leetcode\n",
    "A=[\"alice and bob love leetcode\",\"i think so too\",\"this is great thanks very much\"]\n",
    "# cnt=0\n",
    "# ans=0\n",
    "# for i in A:\n",
    "#   for k in i:\n",
    "#     if k==\" \":\n",
    "#       cnt+=1\n",
    "#   ans=max(cnt+1, ans)\n",
    "#   cnt=0\n",
    "# ans\n",
    "max_cnt=0\n",
    "for i in A:\n",
    "  cnt=i.count(' ')\n",
    "  if cnt+1>max_cnt:\n",
    "    max_cnt=cnt+1\n",
    "\n",
    "max_cnt\n",
    "\n"
   ]
  },
  {
   "cell_type": "code",
   "execution_count": 5,
   "metadata": {},
   "outputs": [
    {
     "data": {
      "text/plain": [
       "[0, 4, 1, 3, 2]"
      ]
     },
     "execution_count": 5,
     "metadata": {},
     "output_type": "execute_result"
    }
   ],
   "source": [
    "# Leetcode\n",
    "# Create Target Array in the Given Order\n",
    "\n",
    "# Given two arrays of integers nums and index. Your task is to create target array under the following rules:\n",
    "# Initially target array is empty.\n",
    "# From left to right read nums[i] and index[i], insert at index index[i] the value nums[i] in target array.\n",
    "# Repeat the previous step until there are no elements to read in nums and index.\n",
    "\n",
    "\n",
    "nums = [0,1,2,3,4]\n",
    "index = [0,1,2,2,1]\n",
    "target=[]\n",
    "for i in range(len(nums)):\n",
    "  target.insert(index[i], nums[i])\n",
    "\n",
    "target\n"
   ]
  },
  {
   "cell_type": "code",
   "execution_count": 7,
   "metadata": {},
   "outputs": [
    {
     "data": {
      "text/plain": [
       "2"
      ]
     },
     "execution_count": 7,
     "metadata": {},
     "output_type": "execute_result"
    }
   ],
   "source": [
    "# Lettcode 1773. Count Items Matching a Rule\n",
    "items = [[\"phone\",\"blue\",\"pixel\"],[\"computer\",\"silver\",\"lenovo\"],[\"phone\",\"gold\",\"iphone\"]] \n",
    "ruleKey = \"type\"\n",
    "ruleValue = \"phone\"\n",
    "\n",
    "ruleIndex=0\n",
    "if ruleKey=='color':\n",
    "  ruleIndex=1\n",
    "elif ruleKey=='name':\n",
    "  ruleIndex=2\n",
    "cnt=0\n",
    "for i in items:\n",
    "  if i[ruleIndex]==ruleValue:\n",
    "    cnt+=1\n",
    "\n",
    "cnt\n"
   ]
  },
  {
   "cell_type": "code",
   "execution_count": 9,
   "metadata": {},
   "outputs": [
    {
     "name": "stdout",
     "output_type": "stream",
     "text": [
      "[[5, 11], [11, 17]]\n"
     ]
    }
   ],
   "source": [
    "# minimum absolute diff\n",
    "def minimumAbsDifference(arr):\n",
    "  arr.sort()\n",
    "  m = float('inf')\n",
    "  out = []\n",
    "  for i in range(1, len(arr)):\n",
    "      prev = arr[i - 1]\n",
    "      curr = abs(prev - arr[i])\n",
    "      if curr < m:\n",
    "          out = [[prev, arr[i]]]\n",
    "          m = curr\n",
    "      elif curr == m:\n",
    "          out.append([prev, arr[i]])\n",
    "  return out\n",
    "\n",
    "array = [5, 17, 100, 11]\n",
    "\n",
    "print(minimumAbsDifference(array))\n",
    "\n",
    "\n"
   ]
  },
  {
   "cell_type": "code",
   "execution_count": 28,
   "metadata": {},
   "outputs": [
    {
     "data": {
      "text/plain": [
       "'95433430'"
      ]
     },
     "execution_count": 28,
     "metadata": {},
     "output_type": "execute_result"
    }
   ],
   "source": [
    "# form a largest number\n",
    "\n",
    "import functools\n",
    "A = [3, 30, 34, 5, 9]\n",
    "# [9, 5, 34, 3, 30]\n",
    "\n",
    "A = [43, 30, 34, 5, 9]\n",
    "# [9, 5, 43, 34, 30]\n",
    "\n",
    "def largest(a,b):\n",
    "  if a+b>b+a:\n",
    "    return -1\n",
    "  elif a+b<b+a:\n",
    "    return 1\n",
    "  else:\n",
    "    return 0\n",
    "\n",
    "A = sorted(map(str, A), key=functools.cmp_to_key(lambda a,b:largest(a,b)))\n",
    "''.join(A)\n",
    "\n",
    "\n",
    "\n"
   ]
  }
 ],
 "metadata": {
  "interpreter": {
   "hash": "697a1dac4d10d74076c3041dfdabcc21aaef7503f1bfe2a5ee0554a0b2186572"
  },
  "kernelspec": {
   "display_name": "Python 3.8.5 64-bit ('pyall': conda)",
   "name": "python3"
  },
  "language_info": {
   "codemirror_mode": {
    "name": "ipython",
    "version": 3
   },
   "file_extension": ".py",
   "mimetype": "text/x-python",
   "name": "python",
   "nbconvert_exporter": "python",
   "pygments_lexer": "ipython3",
   "version": "3.9.7"
  },
  "orig_nbformat": 4
 },
 "nbformat": 4,
 "nbformat_minor": 2
}
