{
 "cells": [
  {
   "cell_type": "markdown",
   "metadata": {},
   "source": [
    "## 1313. Decompress Run-Length Encoded List\n",
    "We are given a list nums of integers representing a list compressed with run-length encoding.\n",
    "\n",
    "Consider each adjacent pair of elements ```[freq, val] = [nums[2*i], nums[2*i+1]] (with i >= 0)```.  For each such pair, there are `freq` elements with value `val` concatenated in a sublist. Concatenate all the sublists from left to right to generate the decompressed list.\n",
    "\n",
    "Return the decompressed list.\n",
    "\n",
    " \n",
    "\n",
    "```\n",
    "Example 1:\n",
    "\n",
    "Input: nums = [1,2,3,4]\n",
    "Output: [2,4,4,4]\n",
    "Explanation: The first pair [1,2] means we have freq = 1 and val = 2 so we generate the array [2].\n",
    "The second pair [3,4] means we have freq = 3 and val = 4 so we generate [4,4,4].\n",
    "At the end the concatenation [2] + [4,4,4] is [2,4,4,4].\n",
    "```"
   ]
  },
  {
   "cell_type": "code",
   "execution_count": 21,
   "metadata": {},
   "outputs": [
    {
     "data": {
      "text/plain": [
       "[[2], [4, 4, 4]]"
      ]
     },
     "execution_count": 21,
     "metadata": {},
     "output_type": "execute_result"
    }
   ],
   "source": [
    "nums = [1, 2, 3, 4]\n",
    "\n",
    "arr = []\n",
    "\n",
    "for i in range(0,len(nums)-1,2):\n",
    "  arr.append([nums[i+1]]*nums[i])\n",
    "x=[]\n",
    "for a in arr:\n",
    "  x += a\n",
    "x"
   ]
  },
  {
   "cell_type": "code",
   "execution_count": 26,
   "metadata": {},
   "outputs": [
    {
     "name": "stdout",
     "output_type": "stream",
     "text": [
      "1 2\n",
      "[2]\n",
      "3 4\n",
      "[4, 4, 4]\n"
     ]
    }
   ],
   "source": [
    "for freq, value in zip(nums[0::2], nums[1::2]):\n",
    "  print(freq, value)\n",
    "  print(freq*[value])"
   ]
  },
  {
   "cell_type": "code",
   "execution_count": 22,
   "metadata": {},
   "outputs": [
    {
     "data": {
      "text/plain": [
       "[2, 4, 4, 4]"
      ]
     },
     "execution_count": 22,
     "metadata": {},
     "output_type": "execute_result"
    }
   ],
   "source": [
    "[list_num for freq, value in zip(nums[0::2], nums[1::2]) for list_num in freq*[value]]"
   ]
  },
  {
   "cell_type": "code",
   "execution_count": 1,
   "metadata": {},
   "outputs": [
    {
     "name": "stdout",
     "output_type": "stream",
     "text": [
      "Pass> 0\n",
      "0 1 (4, 5)\n",
      "0 2 (4, 6)\n",
      "0 3 (4, 7)\n",
      "0 4 (4, 0)\n",
      "[0, 5, 6, 7, 4, 2, 1, 3]\n",
      "0 5 (0, 2)\n",
      "0 6 (0, 1)\n",
      "0 7 (0, 3)\n",
      "Pass> 1\n",
      "1 2 (5, 6)\n",
      "1 3 (5, 7)\n",
      "1 4 (5, 4)\n",
      "[0, 4, 6, 7, 5, 2, 1, 3]\n",
      "1 5 (4, 2)\n",
      "[0, 2, 6, 7, 5, 4, 1, 3]\n",
      "1 6 (2, 1)\n",
      "[0, 1, 6, 7, 5, 4, 2, 3]\n",
      "1 7 (1, 3)\n",
      "Pass> 2\n",
      "2 3 (6, 7)\n",
      "2 4 (6, 5)\n",
      "[0, 1, 5, 7, 6, 4, 2, 3]\n",
      "2 5 (5, 4)\n",
      "[0, 1, 4, 7, 6, 5, 2, 3]\n",
      "2 6 (4, 2)\n",
      "[0, 1, 2, 7, 6, 5, 4, 3]\n",
      "2 7 (2, 3)\n",
      "Pass> 3\n",
      "3 4 (7, 6)\n",
      "[0, 1, 2, 6, 7, 5, 4, 3]\n",
      "3 5 (6, 5)\n",
      "[0, 1, 2, 5, 7, 6, 4, 3]\n",
      "3 6 (5, 4)\n",
      "[0, 1, 2, 4, 7, 6, 5, 3]\n",
      "3 7 (4, 3)\n",
      "[0, 1, 2, 3, 7, 6, 5, 4]\n",
      "Pass> 4\n",
      "4 5 (7, 6)\n",
      "[0, 1, 2, 3, 6, 7, 5, 4]\n",
      "4 6 (6, 5)\n",
      "[0, 1, 2, 3, 5, 7, 6, 4]\n",
      "4 7 (5, 4)\n",
      "[0, 1, 2, 3, 4, 7, 6, 5]\n",
      "Pass> 5\n",
      "5 6 (7, 6)\n",
      "[0, 1, 2, 3, 4, 6, 7, 5]\n",
      "5 7 (6, 5)\n",
      "[0, 1, 2, 3, 4, 5, 7, 6]\n",
      "Pass> 6\n",
      "6 7 (7, 6)\n",
      "[0, 1, 2, 3, 4, 5, 6, 7]\n",
      "Pass> 7\n"
     ]
    },
    {
     "data": {
      "text/plain": [
       "[0, 1, 2, 3, 4, 5, 6, 7]"
      ]
     },
     "execution_count": 1,
     "metadata": {},
     "output_type": "execute_result"
    }
   ],
   "source": [
    "# Sort the array\n",
    "\n",
    "indices = [4, 5, 6, 7, 0, 2, 1, 3]\n",
    "\n",
    "for i in range(len(indices)):\n",
    "    print(\"Pass> \"+str(i))\n",
    "    for j in range(i + 1, len(indices)):\n",
    "        print(i,j,(indices[i] , indices[j]))\n",
    "        if (indices[i] > indices[j]):\n",
    "             indices[i], indices[j]=indices[j],indices[i]\n",
    "             print(indices)\n",
    "\n",
    "indices         "
   ]
  },
  {
   "cell_type": "markdown",
   "metadata": {},
   "source": [
    "Given an integer array nums, find the contiguous subarray (containing at least one number) which has the largest sum and return its sum.\n",
    "\n",
    "A subarray is a contiguous part of an array.\n",
    "\n",
    "### Example 1:\n",
    "\n",
    "```\n",
    "Input: nums = [-2,1,-3,4,-1,2,1,-5,4]\n",
    "Output: 6\n",
    "Explanation: [4,-1,2,1] has the largest sum = 6.\n",
    "```"
   ]
  },
  {
   "cell_type": "code",
   "execution_count": 4,
   "metadata": {},
   "outputs": [
    {
     "name": "stdout",
     "output_type": "stream",
     "text": [
      "[-2, 1, -2, 4, 3, 5, 6, 1, 5]\n"
     ]
    },
    {
     "data": {
      "text/plain": [
       "6"
      ]
     },
     "execution_count": 4,
     "metadata": {},
     "output_type": "execute_result"
    }
   ],
   "source": [
    "nums = [-2,1,-3,4,-1,2,1,-5,4]\n",
    "\n",
    "for i in range(1, len(nums)):\n",
    "  if (nums[i - 1]) > 0:\n",
    "    nums[i]+=nums[i-1]\n",
    "\n",
    "print(nums)   \n",
    "max(nums)"
   ]
  },
  {
   "cell_type": "code",
   "execution_count": 24,
   "metadata": {},
   "outputs": [
    {
     "name": "stdout",
     "output_type": "stream",
     "text": [
      "1 \n",
      "2 4 \n",
      "3 5 7 \n",
      "6 8 \n",
      "9 \n"
     ]
    }
   ],
   "source": [
    "# matrix transpose\n",
    "A=[\n",
    "[1, 2, 3],\n",
    "[4, 5, 6],\n",
    "[7, 8, 9]]\n",
    "n=len(A)\n",
    "m=len(A[0])\n",
    "arr=[]\n",
    "\n",
    "for i in range(0,m):\n",
    "  s=0\n",
    "  c=i\n",
    "  while(s<n and c>=0):\n",
    "    print(A[s][c], end=' ')\n",
    "    s+=1\n",
    "    c-=1\n",
    "  print()\n",
    "for i in range(1,n):\n",
    "  s=i\n",
    "  c=m-1\n",
    "  while(s<n and c>=0):\n",
    "\n",
    "    print(A[s][c], end=' ')\n",
    "    s+=1\n",
    "    c-=1\n",
    "  print()\n",
    "\n",
    "\n",
    "\n"
   ]
  },
  {
   "cell_type": "code",
   "execution_count": 32,
   "metadata": {},
   "outputs": [
    {
     "name": "stdout",
     "output_type": "stream",
     "text": [
      "[1, 0, 0]\n",
      "[2, 4, 0]\n",
      "[3, 5, 7]\n"
     ]
    },
    {
     "data": {
      "text/plain": [
       "[[1, 0, 0], [2, 4, 0], [3, 5, 7], [6, 8, 0], [9, 0, 0]]"
      ]
     },
     "execution_count": 32,
     "metadata": {},
     "output_type": "execute_result"
    }
   ],
   "source": [
    "A=[\n",
    "[1, 2, 3],\n",
    "[4, 5, 6],\n",
    "[7, 8, 9]]\n",
    "n=len(A)\n",
    "m=len(A[0])\n",
    "Farr=[]\n",
    "\n",
    "for i in range(0,m):\n",
    "  s=0\n",
    "  c=i\n",
    "  for j in range(m):\n",
    "    if(s<n and c>=0):\n",
    "      # print(A[s][c], end=' ')\n",
    "      arr.append(A[s][c]) \n",
    "    else:\n",
    "      # print(0, end=' ')\n",
    "      arr.append(0)\n",
    "    s+=1\n",
    "    c-=1\n",
    "  print(arr)\n",
    "  Farr.append(arr)\n",
    "  arr=[]\n",
    "for i in range(1,n):\n",
    "  s=i\n",
    "  c=m-1\n",
    "  for j in range(n):\n",
    "    if(s<n and c>=0):\n",
    "      arr.append(A[s][c])\n",
    "    else:\n",
    "      arr.append(0)\n",
    "\n",
    "    s+=1\n",
    "    c-=1\n",
    "  Farr.append(arr)\n",
    "  arr=[]\n",
    "\n",
    "Farr"
   ]
  },
  {
   "cell_type": "code",
   "execution_count": 34,
   "metadata": {},
   "outputs": [
    {
     "data": {
      "text/plain": [
       "[[21, 23, 9, 15, 7],\n",
       " [1, 3, 27, 2, 31],\n",
       " [29, 17, 10, 4, 24],\n",
       " [12, 13, 20, 16, 17],\n",
       " [1, 14, 5, 7, 8]]"
      ]
     },
     "execution_count": 34,
     "metadata": {},
     "output_type": "execute_result"
    }
   ],
   "source": [
    "# sqr matrix transpose\n",
    "\n",
    "A=[\n",
    "[7, 15, 9,23,21],\n",
    "[31, 2, 27,3,1],\n",
    "[24, 4, 10,17,29],\n",
    "[17,16,20,13,12],\n",
    "[8,7,5,14,1]]\n",
    "n=len(A)\n",
    "for i in range(n):\n",
    "  for j in range(i):\n",
    "    A[i][j],A[j][i]=A[j][i],A[i][j]\n",
    "\n",
    "# rotate matrix by 90\n",
    "\n",
    "for i in range(n):\n",
    "  for j in range(n//2):\n",
    "    A[i][j],A[i][n-j-1]=A[i][n-j-1],A[i][j]\n",
    "\n",
    "A\n"
   ]
  },
  {
   "cell_type": "code",
   "execution_count": 61,
   "metadata": {},
   "outputs": [
    {
     "data": {
      "text/plain": [
       "[[7, 31, 24], [15, 2, 4], [9, 27, 10], [23, 3, 17], [21, 1, 29]]"
      ]
     },
     "execution_count": 61,
     "metadata": {},
     "output_type": "execute_result"
    }
   ],
   "source": [
    "# transpose of rectangle matrix\n",
    "\n",
    "A=[\n",
    "[7, 15, 9,23,21],\n",
    "[31, 2, 27,3,1],\n",
    "[24, 4, 10,17,29]\n",
    "]\n",
    "\n",
    "mat=[[A[j][i] for j in range(len(A))] for i in range(len(A[0]))]\n",
    "\n",
    "mat"
   ]
  },
  {
   "cell_type": "code",
   "execution_count": 65,
   "metadata": {},
   "outputs": [
    {
     "data": {
      "text/plain": [
       "[[55, 65, 49, 5], [57, 68, 72, 12], [90, 107, 111, 21]]"
      ]
     },
     "execution_count": 65,
     "metadata": {},
     "output_type": "execute_result"
    }
   ],
   "source": [
    "# matrix multiplication\n",
    "\n",
    "X = [\n",
    "[1, 7, 3],\n",
    "[3, 5, 6],\n",
    "[6, 8, 9]]\n",
    "\n",
    "Y = [\n",
    "[1, 1, 1, 2],\n",
    "[6, 7, 3, 0],\n",
    "[4, 5, 9, 1]]\n",
    " \n",
    "# Output : [55, 65, 49, 5]\n",
    "#          [57, 68, 72, 12]\n",
    "#          [90, 107, 111, 21]\n",
    "\n",
    "inner=[]\n",
    "outer=[]\n",
    "sum=0\n",
    "m=len(A)\n",
    "n=len(B)\n",
    "p=len(B[0])\n",
    "\n",
    "for i in range(m):\n",
    "  for j in range(p):\n",
    "    for k in range(n):\n",
    "      sum+=A[i][k]*B[k][j]\n",
    "    inner.append(sum)\n",
    "    sum=0\n",
    "  outer.append(inner)\n",
    "  inner=[]\n",
    "\n",
    "outer\n"
   ]
  },
  {
   "cell_type": "code",
   "execution_count": 69,
   "metadata": {},
   "outputs": [
    {
     "data": {
      "text/plain": [
       "[[2, 4, 6], [8, 10, 12], [14, 16, 18]]"
      ]
     },
     "execution_count": 69,
     "metadata": {},
     "output_type": "execute_result"
    }
   ],
   "source": [
    "# Scaler Product\n",
    "A = [[1, 2, 3],[4, 5, 6],[7, 8, 9]]\n",
    "B = 2 \n",
    "\n",
    "# output:[[2, 4, 6], [8, 10, 12], [14, 16, 18]]\n",
    "\n",
    "A=[[A[i][j]*B for j in range(len(A[0]))] for i in range(len(A))]\n",
    "\n",
    "A"
   ]
  },
  {
   "cell_type": "code",
   "execution_count": 70,
   "metadata": {},
   "outputs": [
    {
     "data": {
      "text/plain": [
       "[10, 26, 18]"
      ]
     },
     "execution_count": 70,
     "metadata": {},
     "output_type": "execute_result"
    }
   ],
   "source": [
    "# row sum\n",
    "\n",
    "A=[\n",
    "  [1,2,3,4],\n",
    "[5,6,7,8],\n",
    "[9,2,3,4]\n",
    "]\n",
    "sumArr=[]\n",
    "sum=0\n",
    "for i in range(len(A)):\n",
    "  for j in range(len(A[0])):\n",
    "    sum+=A[i][j]\n",
    "  sumArr.append(sum)\n",
    "  sum=0\n",
    "sumArr\n",
    "\n"
   ]
  },
  {
   "cell_type": "code",
   "execution_count": 20,
   "metadata": {},
   "outputs": [
    {
     "name": "stdout",
     "output_type": "stream",
     "text": [
      "{1: 2, 2: 2}\n"
     ]
    },
    {
     "data": {
      "text/plain": [
       "[2, 1, 2]"
      ]
     },
     "execution_count": 20,
     "metadata": {},
     "output_type": "execute_result"
    }
   ],
   "source": [
    "def common_elements(A, B):\n",
    "    result = []\n",
    "    if len(A)<len(B):\n",
    "      smallList=A\n",
    "      bigList=B\n",
    "    elif len(A)>len(B):\n",
    "      smallList=B\n",
    "      bigList=A\n",
    "    else:\n",
    "      smallList=set(A)\n",
    "      bigList=B\n",
    "    for element in smallList:\n",
    "      print(element)\n",
    "      if element in bigList:\n",
    "        result.append(element)\n",
    "    return result\n",
    "\n",
    "\n",
    "def printIntersection(A, B):\n",
    "    hs = {}\n",
    "    final_arr=[]\n",
    "    n1, n2=len(A), len(B)\n",
    "    if n1<n2:\n",
    "      A, B=B,A\n",
    "      n1,n2=n2,n1\n",
    "    for i in range(0, n1):\n",
    "        if A[i] in hs:\n",
    "          hs[A[i]]+=1\n",
    "        else:\n",
    "          hs[A[i]]=1\n",
    "    for i in range(0, n2):\n",
    "        if B[i] in hs:\n",
    "          if hs[B[i]]>1:\n",
    "            final_arr.append(B[i])\n",
    "            hs[B[i]]-=1\n",
    "          else:\n",
    "            final_arr.append(B[i])\n",
    "            hs.pop(B[i])\n",
    "            \n",
    "    return final_arr\n",
    "\n",
    "\n",
    "# A= [17, 12, 5, 3, 14, 13, 3, 2]\n",
    "# B= [19, 16, 8, 7, 12, 19, 10, 13, 8, 20, 16, 15, 4, 12, 3, 14, 14]\n",
    "A= [1, 2, 2, 1]\n",
    "B= [2, 3, 1, 2]\n",
    "printIntersection(A,B)\n",
    "\n"
   ]
  },
  {
   "cell_type": "code",
   "execution_count": 94,
   "metadata": {},
   "outputs": [
    {
     "name": "stdout",
     "output_type": "stream",
     "text": [
      "{1: 0}\n",
      "{1: 0, 16: 1}\n",
      "{1: 0, 16: 1, 14: 2}\n",
      "{1: 0, 16: 1, 14: 2}\n",
      "{1: 0, 16: 1, 14: 2, 8: 4}\n",
      "{1: 0, 16: 1, 14: 2, 8: 4, 9: 5}\n",
      "{1: 0, 16: 1, 14: 2, 8: 4, 9: 5}\n",
      "{1: 0, 16: 1, 14: 2, 8: 4, 9: 5, 26: 7}\n",
      "{1: 0, 16: 1, 14: 2, 8: 4, 9: 5, 26: 7, 49: 8}\n",
      "Length of the longest 0 sum subarray ==  5\n"
     ]
    }
   ],
   "source": [
    "# A python program to find maximum length subarray\n",
    "# with 0 sum in o(n) time\n",
    "\n",
    "# Returns the maximum length\n",
    "def maxLen(arr):\n",
    "  hash_map = {}\n",
    "\n",
    "  max_len = 0\n",
    "\n",
    "  curr_sum = 0\n",
    "\n",
    "  for i in range(len(arr)):\n",
    "    curr_sum += arr[i]\n",
    "\n",
    "    if arr[i] == 0 and max_len == 0:\n",
    "      max_len = 1\n",
    "\n",
    "    if curr_sum == 0:\n",
    "      max_len = i + 1\n",
    "\n",
    "    if curr_sum in hash_map:\n",
    "      max_len = max(max_len, i - hash_map[curr_sum] )\n",
    "    else:\n",
    "      hash_map[curr_sum] = i\n",
    "    print(hash_map)\n",
    "\n",
    "  return max_len\n",
    "\n",
    "\n",
    "# test array\n",
    "arr = [1,15, -2, 2, -8, 1, 7, 10, 23]\n",
    "\n",
    "print (\"Length of the longest 0 sum subarray == % d\" % maxLen(arr))\n"
   ]
  },
  {
   "cell_type": "code",
   "execution_count": 108,
   "metadata": {},
   "outputs": [
    {
     "name": "stdout",
     "output_type": "stream",
     "text": [
      "(0, 0)\n",
      "(10, 10)\n",
      "1 [0]\n"
     ]
    }
   ],
   "source": [
    "# Python3 program to print all subarrays\n",
    "# in the array which has sum 0\n",
    "\n",
    "# Function to get all subarrays\n",
    "# in the array which has sum 0\n",
    "def findSubArrays(arr, n):\n",
    "  hashMap = {}\n",
    "  out = []\n",
    "  sum1 = 0\n",
    "  maxLen=0\n",
    "  for i in range(n):\n",
    "    sum1 += arr[i]\n",
    "    if sum1 == 0:\n",
    "      out.append((0, i))\n",
    "      \n",
    "    al = []\n",
    "    if sum1 in hashMap:\n",
    "      al = hashMap.get(sum1)\n",
    "      for it in range(len(al)):\n",
    "        out.append((al[it] + 1, i))\n",
    "        maxLen\n",
    "    al.append(i)\n",
    "    hashMap[sum1] = al\n",
    "  maxArr=[]\n",
    "  for i in out:\n",
    "    print(i)\n",
    "    if(i[1]-i[0]>=maxLen):\n",
    "      maxLen = i[1]-i[0]+1\n",
    "      maxArr=arr[i[0]:i[1]+1]\n",
    "  print(maxLen,maxArr )\n",
    "  return out\n",
    "\n",
    "# Utility function to print\n",
    "# all subarrays with sum 0\n",
    "\n",
    "\n",
    "def printOutput(output):\n",
    "\tfor i in output:\n",
    "\t  print(\"Subarray found from Index \" +\n",
    "            str(i[0]) + \" to \" + str(i[1]))\n",
    "\n",
    "\n",
    "arr = [0, -10, 20, 3, 23, 10, -20, 2, 19, -29, 0]\n",
    "\n",
    "n = len(arr)\n",
    "out = findSubArrays(arr, n)\n",
    "\n",
    "\n"
   ]
  },
  {
   "cell_type": "code",
   "execution_count": 113,
   "metadata": {},
   "outputs": [
    {
     "name": "stdout",
     "output_type": "stream",
     "text": [
      "1 2 3 4 5 6 7 8 16 24 32 40 48 56 64 63 62 61 60 59 58 57 49 41 33 25 17 9 \n",
      "10 11 12 13 14 15 23 31 39 47 55 54 53 52 51 50 42 34 26 18 \n",
      "19 20 21 22 30 38 46 45 44 43 35 27 \n",
      "28 29 37 36 \n"
     ]
    }
   ],
   "source": [
    "# spiral printing\n",
    "A = [\n",
    "    [1, 2, 3, 4, 5, 6, 7, 8],\n",
    "    [9,10,11,12,13,14,15,16],\n",
    "    [17,18,19,20,21,22,23,24],\n",
    "    [25,26,27,28,29,30,31,32],\n",
    "    [33,34,35,36,37,38,39,40],\n",
    "    [41,42,43,44,45,46,47,48],\n",
    "    [49,50,51,52,53,54,55,56],\n",
    "    [57,58,59,60,61,62,63,64]\n",
    "]\n",
    "\n",
    "def printSpiral(mat,n,i,j):\n",
    "  for l in range(1,n):     #printing 0th row\n",
    "    print(mat[i][j], end=' ')\n",
    "    j+=1\n",
    "  for l in range(1,n):  #printing last col\n",
    "    print(mat[i][j], end=' ')\n",
    "    i+=1\n",
    "  for l in range(1,n):  # printing last row\n",
    "    print(mat[i][j], end=' ')\n",
    "    j -= 1\n",
    "  for l in range(1,n):  # printing 0th col\n",
    "    print(mat[i][j], end=' ')\n",
    "    i -= 1\n",
    "\n",
    "n=len(A)\n",
    "i=0\n",
    "j=0\n",
    "\n",
    "\n",
    "while(n>0):\n",
    "  printSpiral(A, n, i, j)\n",
    "  print()\n",
    "  n=n-2\n",
    "  i=i+1\n",
    "  j=j+1\n",
    "  \n"
   ]
  },
  {
   "cell_type": "code",
   "execution_count": 167,
   "metadata": {},
   "outputs": [
    {
     "data": {
      "text/plain": [
       "[[1, 2, 3, 4, 5],\n",
       " [16, 17, 18, 19, 6],\n",
       " [15, 24, 25, 20, 7],\n",
       " [14, 23, 22, 21, 8],\n",
       " [13, 12, 11, 10, 9]]"
      ]
     },
     "execution_count": 167,
     "metadata": {},
     "output_type": "execute_result"
    }
   ],
   "source": [
    "# Generate Spiral Matrix \n",
    "\n",
    "\n",
    "def printSpiral(mat, n, i, j,b):\n",
    "  if n==1:\n",
    "    mat[i][j]=b\n",
    "    return (mat,b)\n",
    "\n",
    "  for l in range(1, n):  # printing 0th row\n",
    "    mat[i][j]=b\n",
    "    j += 1\n",
    "    b+=1\n",
    "  for l in range(1, n):  # printing last col\n",
    "    mat[i][j]=b\n",
    "    i += 1\n",
    "    b+=1\n",
    "  for l in range(1, n):  # printing last row\n",
    "    mat[i][j]=b\n",
    "    j -= 1\n",
    "    b+=1\n",
    "  for l in range(1, n):  # printing 0th col\n",
    "    mat[i][j]=b\n",
    "    i -= 1\n",
    "    b+=1\n",
    "  return (mat,b)\n",
    "\n",
    "\n",
    "mat = [[0 for x in range(n)] for y in range(n)]\n",
    "n=5\n",
    "i=0\n",
    "j = 0\n",
    "b=1\n",
    "\n",
    "\n",
    "while(n>0):\n",
    "  mat, b = printSpiral(mat, n, i, j, b)\n",
    "  n-=2\n",
    "  i+=1\n",
    "  j+=1\n",
    "\n",
    "mat\n",
    "\n",
    "\n",
    "# mat,b=printSpiral(mat,n,i,j,b)\n",
    "# print(b)\n",
    "# # b=((n-1)*4)+1\n",
    "# n=n-2\n",
    "# i=i+1\n",
    "# j=j+1\n",
    "# print(b, i, j, n)\n",
    "# mat,b=printSpiral(mat,n,i,j,b)\n",
    "# # b = ((n-1)*4)+1\n",
    "# n = n-2\n",
    "# i = i+1\n",
    "# j = j+1\n",
    "# print(b,i,j,n)\n",
    "\n",
    "# mat,b = printSpiral(mat, n, i, j, b)\n",
    "# mat\n",
    "\n",
    "\n"
   ]
  },
  {
   "cell_type": "code",
   "execution_count": 123,
   "metadata": {},
   "outputs": [
    {
     "data": {
      "text/plain": [
       "[[1, 2], [0, 0]]"
      ]
     },
     "execution_count": 123,
     "metadata": {},
     "output_type": "execute_result"
    }
   ],
   "source": [
    "row=2\n",
    "column=2\n",
    "mat = [[ 0 for x in range(row)] for y in range(column)]\n",
    "b=1\n",
    "i=0\n",
    "for l in range(2):\n",
    "    mat[0][i]=b\n",
    "    b+=1\n",
    "    i+=1\n",
    "mat\n"
   ]
  },
  {
   "cell_type": "code",
   "execution_count": 173,
   "metadata": {},
   "outputs": [
    {
     "data": {
      "text/plain": [
       "[[0, 0, 0, 0, 0, 0, 0, 0, 0, 0],\n",
       " [0, 0, 0, 0, 0, 0, 0, 0, 0, 0],\n",
       " [0, 0, 0, 0, 0, 0, 0, 0, 0, 0],\n",
       " [0, 0, 0, 0, 0, 0, 0, 0, 0, 0],\n",
       " [0, 0, 0, 0, 0, 0, 0, 0, 0, 0],\n",
       " [0, 0, 0, 0, 0, 0, 0, 0, 0, 0],\n",
       " [0, 0, 0, 0, 0, 0, 0, 0, 0, 0],\n",
       " [0, 0, 0, 0, 0, 0, 0, 0, 0, 0],\n",
       " [0, 0, 0, 0, 0, 0, 0, 0, 0, 0],\n",
       " [0, 0, 0, 0, 0, 0, 0, 0, 0, 0]]"
      ]
     },
     "execution_count": 173,
     "metadata": {},
     "output_type": "execute_result"
    }
   ],
   "source": [
    "# You are given a 2D integer matrix A, make all the elements in a row or column zero if the A[i][j] = 0. Specifically, make entire ith row and jth column zero.\n",
    "\n",
    "# Example Input\n",
    "\n",
    "# Input 1:\n",
    "\n",
    "# [1,2,3,4]\n",
    "# [5,6,7,0]\n",
    "# [9,2,0,4]\n",
    "\n",
    "\n",
    "# Example Output\n",
    "\n",
    "# Output 1:\n",
    "\n",
    "# [1,2,0,0]\n",
    "# [0,0,0,0]\n",
    "# [0,0,0,0]\n",
    "\n",
    "def solve(A):\n",
    "  \n",
    "\n",
    "\n",
    "\n",
    "\n",
    "A = [\n",
    "    [97, 18, 55, 1, 50, 17, 16, 0, 22, 14],\n",
    "    [58, 14, 75, 54, 11, 23, 54, 95, 33, 23],\n",
    "    [73, 11, 2, 80, 6, 43, 67, 82, 73, 4],\n",
    "    [61, 22, 23, 68, 23, 73, 85, 91, 25, 7],\n",
    "    [6, 83, 22, 81, 89, 85, 56, 43, 32, 89],\n",
    "    [0, 6, 1, 69, 86, 7, 64, 5, 90, 37],\n",
    "    [10, 3, 11, 33, 71, 86, 6, 56, 78, 31],\n",
    "    [16, 36, 66, 90, 17, 55, 27, 26, 99, 59],\n",
    "    [67, 18, 65, 68, 87, 3, 28, 52, 9, 70],\n",
    "    [41, 19, 73, 5, 52, 96, 91, 10, 52, 21]\n",
    "]\n",
    "solve(A)"
   ]
  },
  {
   "cell_type": "code",
   "execution_count": 176,
   "metadata": {},
   "outputs": [
    {
     "name": "stdout",
     "output_type": "stream",
     "text": [
      "[[0, 0, 0, 0, 0], [0, 1, 0, 1, 1], [0, 0, 0, 0, 0], [0, 1, 0, 1, 1], [0, 0, 0, 0, 0]]\n"
     ]
    }
   ],
   "source": [
    "# Function to change all elements of row `x` and column `y` to -1\n",
    "def changeRowColumn(mat, M, N, x, y):\n",
    "\n",
    "    for j in range(N):\n",
    "        if mat[x][j]:\n",
    "            mat[x][j] = -1\n",
    "\n",
    "    for i in range(M):\n",
    "        if mat[i][y]:\n",
    "            mat[i][y] = -1\n",
    "\n",
    "\n",
    "# Function to convert the matrix\n",
    "def convert(mat):\n",
    "\n",
    "    # base case\n",
    "    if not mat or not len(mat):\n",
    "        return\n",
    "\n",
    "    # `M × N` matrix\n",
    "    (M, N) = (len(mat), len(mat[0]))\n",
    "\n",
    "    # traverse the matrix\n",
    "    for i in range(M):\n",
    "        for j in range(N):\n",
    "            if mat[i][j] == 0:      # cell `(i, j)` has value 0\n",
    "                # change each non-zero element in row `i` and column `j` to -1\n",
    "                changeRowColumn(mat, M, N, i, j)\n",
    "\n",
    "    # traverse the matrix once again and replace cells having\n",
    "    # value -1 with 0\n",
    "    for i in range(M):\n",
    "        for j in range(N):\n",
    "            if mat[i][j] == -1:\n",
    "                mat[i][j] = 0\n",
    "\n",
    "mat = [\n",
    "    [1, 1, 0, 1, 1],\n",
    "    [1, 1, 1, 1, 1],\n",
    "    [1, 1, 0, 1, 1],\n",
    "    [1, 1, 1, 1, 1],\n",
    "    [0, 1, 1, 1, 1]\n",
    "]\n",
    "\n",
    "# convert the matrix\n",
    "convert(mat)\n",
    "\n",
    "print(mat)\n"
   ]
  },
  {
   "cell_type": "code",
   "execution_count": 49,
   "metadata": {},
   "outputs": [
    {
     "name": "stdout",
     "output_type": "stream",
     "text": [
      "6 29 1045\n",
      "8 27 1045\n",
      "11 24 1045\n",
      "14 20 1044\n",
      "22 11 1043\n",
      "23 10 1043\n",
      "34 4 1048\n",
      "1043\n"
     ]
    }
   ],
   "source": [
    "# find element in matrix\n",
    "# row and columns are sorted\n",
    "# A = [\n",
    "#     [-1, 2, 4, 5, 9, 11],\n",
    "#     [1, 4, 7, 8, 10, 14],\n",
    "#     [3, 7, 9, 10, 12, 18],\n",
    "#     [6, 10, 12, 14, 16, 20],\n",
    "#     [9, 13, 16, 19, 22, 24],\n",
    "#     [11, 15, 19, 21, 24, 27],\n",
    "#     [14, 20, 25, 29, 31, 39],\n",
    "#     [18, 24, 29, 32, 34, 42]\n",
    "\n",
    "# ]\n",
    "\n",
    "# k=30\n",
    "\n",
    "A = [\n",
    "    [1, 2, 5, 7, 10, 11, 12, 13, 14, 17, 19, 20, 23, 24, 27, 28, 29,\n",
    "     30, 31, 32, 34, 35, 37, 39, 40, 41, 42, 43, 45, 46, 47, 50, 53],\n",
    "    [4, 6, 8, 10, 11, 13, 15, 18, 20, 21, 24, 25, 27, 30, 33, 36, 37,\n",
    "        40, 41, 42, 43, 44, 45, 48, 51, 54, 55, 56, 59, 62, 63, 65, 66],\n",
    "    [7, 8, 11, 14, 17, 19, 22, 25, 27, 29, 30, 31, 34, 36, 37, 40, 42,\n",
    "        44, 45, 48, 49, 52, 55, 58, 60, 63, 66, 69, 70, 73, 76, 78, 79],\n",
    "    [10, 11, 13, 17, 19, 22, 23, 26, 30, 31, 33, 36, 38, 41, 43, 45, 46,\n",
    "        48, 49, 50, 53, 55, 58, 59, 63, 66, 69, 70, 71, 75, 77, 80, 82],\n",
    "    [13, 16, 17, 20, 22, 23, 26, 27, 31, 32, 36, 39, 41, 44, 47, 50, 52,\n",
    "        55, 58, 61, 63, 66, 68, 71, 72, 75, 77, 78, 80, 81, 82, 84, 85],\n",
    "    [15, 19, 22, 25, 28, 29, 31, 34, 36, 38, 41, 42, 44, 45, 50, 51, 55,\n",
    "        58, 60, 64, 66, 69, 72, 75, 77, 80, 83, 84, 86, 89, 90, 93, 96],\n",
    "    [16, 21, 23, 28, 29, 32, 34, 36, 38, 39, 42, 45, 47, 48, 52, 54, 57,\n",
    "        60, 62, 66, 69, 72, 74, 76, 79, 81, 84, 86, 88, 91, 93, 96, 99],\n",
    "    [19, 22, 25, 31, 33, 36, 38, 39, 41, 43, 44, 48, 50, 52, 54, 55, 58,\n",
    "        62, 64, 67, 71, 75, 76, 77, 81, 83, 86, 87, 90, 93, 95, 97, 100],\n",
    "    [21, 24, 26, 32, 36, 37, 41, 43, 46, 47, 49, 52, 54, 56, 58, 60, 63,\n",
    "        64, 66, 68, 72, 76, 79, 82, 85, 87, 88, 91, 92, 95, 98, 100, 102],\n",
    "    [24, 25, 27, 33, 39, 42, 44, 45, 48, 50, 51, 53, 56, 57, 61, 62, 65,\n",
    "     68, 69, 70, 74, 79, 81, 83, 87, 90, 92, 94, 96, 99, 100, 103, 106],\n",
    "    [25, 28, 31, 35, 40, 43, 46, 49, 50, 52, 55, 56, 58, 60, 63, 65, 68,\n",
    "     71, 74, 76, 79, 81, 82, 85, 89, 92, 93, 96, 99, 100, 103, 104, 107],\n",
    "    [26, 31, 32, 38, 43, 46, 48, 52, 55, 57, 60, 62, 65, 66, 68, 69, 70,\n",
    "     72, 77, 78, 80, 83, 86, 88, 91, 94, 95, 98, 102, 103, 104, 107, 110],\n",
    "    [29, 33, 36, 39, 45, 48, 49, 53, 56, 59, 63, 65, 66, 67, 70, 71, 74,\n",
    "     75, 80, 81, 82, 85, 89, 90, 93, 96, 99, 101, 105, 107, 110, 112, 114],\n",
    "    [30, 34, 39, 40, 48, 51, 52, 56, 58, 61, 64, 68, 71, 73, 76, 79, 81, 84,\n",
    "     86, 87, 90, 93, 94, 96, 99, 101, 103, 104, 108, 109, 112, 113, 115],\n",
    "    [32, 35, 40, 42, 50, 54, 55, 57, 61, 63, 65, 71, 74, 76, 79, 82, 83, 86,\n",
    "        87, 89, 91, 94, 95, 99, 102, 103, 106, 107, 111, 114, 115, 116, 117],\n",
    "    [35, 38, 42, 44, 51, 57, 59, 60, 64, 66, 67, 72, 76, 78, 81, 85, 86, 88,\n",
    "        89, 92, 93, 97, 100, 102, 103, 104, 107, 110, 114, 116, 119, 122, 123],\n",
    "    [36, 39, 43, 47, 53, 58, 61, 63, 66, 69, 71, 73, 77, 80, 82, 87, 88, 89,\n",
    "        90, 94, 95, 98, 101, 103, 104, 105, 109, 113, 117, 120, 121, 125, 127],\n",
    "    [37, 42, 45, 50, 55, 59, 64, 65, 69, 70, 72, 75, 79, 82, 84, 89, 90, 92,\n",
    "        93, 96, 97, 99, 104, 107, 109, 110, 112, 116, 119, 123, 125, 126, 128],\n",
    "    [38, 45, 47, 53, 57, 61, 67, 69, 72, 75, 76, 79, 80, 84, 85, 92, 93, 96,\n",
    "        99, 102, 103, 105, 107, 110, 111, 113, 115, 118, 121, 126, 129, 130, 133],\n",
    "    [39, 47, 49, 56, 60, 64, 68, 70, 74, 77, 80, 83, 85, 87, 89, 94, 96, 98,\n",
    "        102, 105, 108, 110, 113, 114, 117, 119, 121, 123, 124, 129, 130, 131, 135],\n",
    "    [40, 50, 53, 57, 63, 65, 70, 72, 76, 79, 82, 86, 87, 90, 93, 95, 98, 99,\n",
    "        105, 106, 111, 112, 115, 117, 120, 122, 125, 128, 131, 132, 133, 136, 138],\n",
    "    [41, 51, 56, 58, 65, 68, 72, 73, 77, 80, 85, 87, 90, 93, 95, 98, 101, 103,\n",
    "        106, 109, 114, 115, 116, 118, 123, 126, 127, 129, 134, 136, 137, 140, 141],\n",
    "    [44, 53, 59, 62, 67, 69, 75, 76, 79, 81, 88, 91, 92, 95, 96, 99, 104, 106,\n",
    "        109, 110, 116, 118, 120, 123, 126, 127, 129, 132, 135, 139, 140, 141, 143],\n",
    "    [47, 54, 60, 63, 70, 72, 76, 77, 81, 83, 91, 93, 95, 97, 99, 102, 105, 108,\n",
    "        110, 113, 118, 121, 123, 126, 129, 130, 132, 134, 137, 142, 144, 147, 150],\n",
    "    [50, 57, 61, 65, 73, 74, 77, 78, 83, 86, 92, 95, 96, 99, 101, 103, 107, 111,\n",
    "        113, 114, 120, 122, 126, 128, 132, 134, 136, 139, 141, 145, 147, 149, 151],\n",
    "    [52, 58, 62, 67, 76, 77, 79, 81, 86, 88, 94, 96, 98, 102, 104, 105, 109, 112,\n",
    "        116, 118, 123, 126, 128, 130, 133, 136, 138, 141, 142, 146, 148, 152, 153],\n",
    "    [55, 61, 63, 69, 78, 81, 84, 86, 88, 90, 97, 99, 101, 104, 105, 106, 112, 114,\n",
    "        119, 122, 125, 128, 130, 132, 136, 138, 139, 142, 143, 147, 149, 153, 155],\n",
    "    [58, 62, 64, 71, 79, 82, 87, 89, 90, 93, 99, 102, 104, 107, 109, 112, 115, 118,\n",
    "        120, 124, 128, 129, 131, 133, 138, 141, 144, 147, 149, 151, 153, 154, 156],\n",
    "    [60, 65, 68, 72, 80, 84, 88, 92, 94, 96, 101, 104, 105, 109, 112, 114, 117,\n",
    "        119, 123, 126, 130, 131, 132, 135, 140, 144, 147, 148, 152, 154, 156, 159, 162],\n",
    "    [62, 66, 71, 74, 82, 87, 89, 93, 97, 100, 102, 107, 108, 111, 114, 116, 118,\n",
    "        120, 124, 129, 131, 132, 134, 138, 143, 146, 149, 151, 155, 157, 158, 161, 164],\n",
    "    [64, 69, 72, 77, 84, 90, 92, 94, 100, 103, 106, 109, 111, 114, 116, 117, 119,\n",
    "        121, 125, 131, 134, 137, 139, 141, 145, 149, 151, 152, 157, 159, 162, 163, 165],\n",
    "    [65, 70, 75, 80, 85, 93, 95, 98, 101, 105, 108, 112, 115, 116, 117, 120, 121,\n",
    "        124, 126, 132, 137, 140, 141, 144, 147, 152, 153, 156, 159, 161, 163, 164, 168],\n",
    "    [66, 72, 76, 82, 87, 94, 96, 101, 103, 108, 110, 113, 117, 118, 120, 121, 123,\n",
    "        125, 128, 134, 139, 141, 143, 147, 148, 155, 158, 160, 161, 163, 164, 166, 171],\n",
    "    [68, 75, 77, 85, 90, 97, 98, 104, 107, 109, 112, 114, 120, 121, 122, 124, 125,\n",
    "        128, 129, 135, 142, 145, 146, 148, 150, 157, 161, 163, 165, 168, 171, 172, 174],\n",
    "    [71, 77, 79, 86, 91, 99, 101, 107, 108, 112, 113, 116, 122, 125, 127, 130, 132,\n",
    "        134, 135, 138, 144, 147, 149, 151, 153, 158, 162, 164, 167, 170, 174, 177, 178],\n",
    "    [74, 78, 80, 89, 94, 101, 104, 110, 112, 115, 117, 120, 125, 127, 130, 131, 135,\n",
    "        138, 139, 140, 145, 149, 152, 155, 157, 160, 165, 166, 168, 173, 176, 178, 181],\n",
    "    [75, 81, 83, 92, 97, 102, 105, 112, 113, 118, 121, 123, 127, 130, 133, 134, 136,\n",
    "        139, 141, 142, 146, 151, 154, 157, 159, 162, 167, 168, 171, 174, 179, 181, 183]\n",
    "]\n",
    "B = 91\n",
    "\n",
    "n = len(A)\n",
    "m = len(A[0])\n",
    "i = 0\n",
    "j = m-1\n",
    "val = n*1009+m\n",
    "flag = False\n",
    "while(i < n and j >= 0):\n",
    "    if A[i][j] < B:\n",
    "        i += 1\n",
    "    elif A[i][j] > B:\n",
    "        j -= 1\n",
    "    elif A[i][j] == B:\n",
    "        flag = True\n",
    "        print(i, j, i+1*1009+j+1)\n",
    "        val = min(val, i+1*1009+j+1)\n",
    "        j -= 1\n",
    "print(val if flag else -1)\n"
   ]
  },
  {
   "cell_type": "code",
   "execution_count": 51,
   "metadata": {},
   "outputs": [
    {
     "name": "stdout",
     "output_type": "stream",
     "text": [
      "1045\n",
      "1045\n",
      "1045\n",
      "1044\n",
      "1043\n",
      "1043\n",
      "1048\n"
     ]
    }
   ],
   "source": [
    "A=[\n",
    "    [6, 29],\n",
    "    [8, 27],\n",
    "    [11, 24],\n",
    "    [14, 20],\n",
    "    [22, 11],\n",
    "    [23, 10],\n",
    "    [34, 4]\n",
    "]\n",
    "\n",
    "for i in A:\n",
    "  print(i[0]+1*1009+i[1]+1)"
   ]
  },
  {
   "cell_type": "code",
   "execution_count": null,
   "metadata": {},
   "outputs": [],
   "source": [
    "# find row with maximum number of ones\n",
    "\n",
    "# A = [\n",
    "#     [0, 0, 1, 1, 1],\n",
    "#     [0, 0, 0, 1, 1],\n",
    "#     [0, 0, 0, 1, 1],\n",
    "#     [0, 0, 0, 0, 1],\n",
    "#     [0, 0, 0, 1, 1]\n",
    "# ]\n",
    "\n",
    "A = [\n",
    "    [0, 0, 0, 1, 1],\n",
    "    [0, 0, 0, 1, 1],\n",
    "    [0, 1, 1, 1, 1],\n",
    "    [0, 0, 0, 0, 1],\n",
    "    [0, 0, 0, 1, 1]\n",
    "]\n",
    "\n",
    "n=len(A)\n",
    "(i,j)=(0,n-1)\n",
    "prev=A[i][j]\n",
    "rowIndex=0\n",
    "while(i<n and j>=0):\n",
    "  if A[i][j]==1:\n",
    "    if prev != A[i][j]:\n",
    "      rowIndex = i\n",
    "      prev = A[i][j]\n",
    "    j-=1\n",
    "  if A[i][j]==0:\n",
    "    if prev!=A[i][j]:\n",
    "      rowIndex=i\n",
    "      prev=A[i][j]\n",
    "    i+=1\n",
    "  \n",
    "rowIndex"
   ]
  },
  {
   "cell_type": "code",
   "execution_count": 45,
   "metadata": {},
   "outputs": [
    {
     "name": "stdout",
     "output_type": "stream",
     "text": [
      "[0, 1] [0, 1] 1\n",
      "1\n"
     ]
    }
   ],
   "source": [
    "# . Length of longest consecutive ones\n",
    "# Given a binary string A. It is allowed to do at most one swap between any 0 and 1. Find and return the length of the longest consecutive 1’s that can be achieved.\n",
    "\n",
    "A = \"1110001101100111\"\n",
    "\n",
    "# Python 3 program to find length of\n",
    "# longest consecutive ones by at most\n",
    "# one swap in a Binary String\n",
    "\n",
    "# Function to calculate the length\n",
    "# of the longest consecutive 1's\n",
    "\n",
    "\n",
    "def maximum_one(s, n):\n",
    "\n",
    "\t# To count all 1's in the string\n",
    "\tcnt_one = 0\n",
    "\n",
    "\tcnt, max_cnt = 0, 0\n",
    "\n",
    "\tfor i in range(n):\n",
    "\t\tif (s[i] == '1'):\n",
    "\t\t\tcnt_one += 1\n",
    "\t\t\tcnt += 1\n",
    "\t\telse:\n",
    "\t\t\tmax_cnt = max(max_cnt, cnt)\n",
    "\t\t\tcnt = 0\n",
    "\n",
    "\tmax_cnt = max(max_cnt, cnt)\n",
    "\n",
    "\t# To store cumulative 1's\n",
    "\tleft = [0] * n\n",
    "\tright = [0] * n\n",
    "\n",
    "\tif (s[0] == '1'):\n",
    "\t\tleft[0] = 1\n",
    "\n",
    "\telse:\n",
    "\t\tleft[0] = 0\n",
    "\n",
    "\tif (s[n - 1] == '1'):\n",
    "\t\tright[n - 1] = 1\n",
    "\n",
    "\telse:\n",
    "\t\tright[n - 1] = 0\n",
    "\n",
    "\t# Counting cumulative 1's from left\n",
    "\tfor i in range(1, n):\n",
    "\t\tif (s[i] == '1'):\n",
    "\t\t\tleft[i] = left[i - 1] + 1\n",
    "\n",
    "\t\t# If 0 then start new cumulative\n",
    "\t\t# one from that i\n",
    "\t\telse:\n",
    "\t\t\tleft[i] = 0\n",
    "\n",
    "\tfor i in range(n - 2, -1, -1):\n",
    "\n",
    "\t\tif (s[i] == '1'):\n",
    "\t\t\tright[i] = right[i + 1] + 1\n",
    "\n",
    "\t\telse:\n",
    "\t\t\tright[i] = 0\n",
    "\tprint(left, right, max_cnt)\n",
    "\tfor i in range(1, n-1):\n",
    "\n",
    "\t\t# perform step 3 of the approach\n",
    "\t\tif (s[i] == '0'):\n",
    "\n",
    "\t\t\t# step 3\n",
    "\t\t\tsum = left[i - 1] + right[i + 1]\n",
    "\n",
    "\t\t\tif (sum < cnt_one):\n",
    "\t\t\t\tmax_cnt = max(max_cnt, sum+1)\n",
    "\n",
    "\t\t\telse:\n",
    "\t\t\t\tmax_cnt = max(max_cnt, sum)\n",
    "\n",
    "\treturn max_cnt\n",
    "\n",
    "\n",
    "s = \"01\"\n",
    "\n",
    "print(maximum_one(s, len(s)))\n",
    "\n"
   ]
  },
  {
   "cell_type": "code",
   "execution_count": 47,
   "metadata": {},
   "outputs": [
    {
     "name": "stdout",
     "output_type": "stream",
     "text": [
      "[0, 1] [0, 1] 1\n",
      "1\n"
     ]
    }
   ],
   "source": [
    "# \n",
    "# count of 1's\n",
    "# cumulative sum of 1 from both side\n",
    "# \n",
    "\n",
    "A = \"01\"\n",
    "\n",
    "cnt_one=0\n",
    "cnt, max_cnt=0,0\n",
    "n=len(A)\n",
    "\n",
    "for i in range(n):\n",
    "  if A[i]=='1':\n",
    "    cnt_one+=1\n",
    "    cnt+=1\n",
    "  else:\n",
    "    max_cnt=max(max_cnt, cnt)\n",
    "    cnt=0\n",
    "max_cnt = max(max_cnt, cnt)\n",
    "left=[0]*n\n",
    "right=[0]*n\n",
    "left[0]=int(A[0])\n",
    "right[n-1]=int(A[n-1])\n",
    "for i in range(1,n):\n",
    "  if A[i]=='1':\n",
    "    left[i]=left[i-1]+1\n",
    "  else:\n",
    "    left[i]=0\n",
    "for i in range(n-2,-1,-1):\n",
    "  if A[i]=='1':\n",
    "    right[i]=right[i+1]+1\n",
    "  else:\n",
    "    right[i]=0\n",
    "print(left, right, max_cnt)\n",
    "for i in range(1, n-1):\n",
    "  if A[i]=='0':\n",
    "    sumOne=left[i-1]+right[i+1]\n",
    "    if sumOne<cnt_one:\n",
    "      max_cnt=max(max_cnt, sumOne+1)\n",
    "    else:\n",
    "      max_cnt=max(max_cnt, sumOne)\n",
    "\n",
    "print(max_cnt)\n",
    "\n",
    "\n",
    "\n"
   ]
  },
  {
   "cell_type": "code",
   "execution_count": 4,
   "metadata": {},
   "outputs": [
    {
     "name": "stdout",
     "output_type": "stream",
     "text": [
      "4\n"
     ]
    }
   ],
   "source": [
    "# majority element\n",
    "# Given an array of size n, find the majority element. The majority element is the element that appears more than floor(n/2) times.\n",
    "\n",
    "# 1. Sort and get mid (TC-nLogn)\n",
    "# A=[2,1,2]\n",
    "\n",
    "# A=sorted(A)\n",
    "# A[len(A)//2]\n",
    "\n",
    "# 2. Moorey's Voting algorithm\n",
    "# \n",
    "A=[6,6,8,4,4,7,4,4,4,4,6]\n",
    "votes=0\n",
    "candidate=-1\n",
    "for i in range(len(A)):\n",
    "  if votes==0:\n",
    "    candidate=A[i]\n",
    "    votes=1\n",
    "  else:\n",
    "    if A[i]==candidate:\n",
    "      votes+=1\n",
    "    else:\n",
    "      votes-=1\n",
    "\n",
    "cnt=0\n",
    "for i in A:\n",
    "  if i==candidate:\n",
    "    cnt+=1\n",
    "\n",
    "if cnt>len(A)//2:\n",
    "  print(candidate)"
   ]
  },
  {
   "cell_type": "code",
   "execution_count": 24,
   "metadata": {},
   "outputs": [
    {
     "name": "stdout",
     "output_type": "stream",
     "text": [
      "1000201 0 1000110 1\n",
      "1000110\n"
     ]
    }
   ],
   "source": [
    "# majority element 2\n",
    "# freq>n/3\n",
    "\n",
    "A = [1000697, 1000110, 1000110, 1000671, 1000941, 1000304, 1000110, 1000742, 1000160, 1000558, 1000110, 1000110, 1000110, 1000650, 1000200, 1000110, 1000133, 1000110, 1000548, 1000002, 1000397, 1000110, 1000533, 1000724, 1000110, 1000882, 1000110, 1000515, 1000110, 1000110, 1000110, 1000181, 1000051, 1000110, 1000110, 1000644, 1000110, 1000301, 1000110, 1000040, 1000424, 1000336, 1000426, 1000244, 1000485, 1000439, 1000554, 1000110, 1000110, 1000497, 1000836, 1000760, 1000110, 1000135, 1000872, 1000110, 1000739, 1000242, 1000790, 1000110, 1000384, 1000110, 1000384, 1000110, 1000713, 1000110, 1000110, 1000048, 1000110, 1000172, 1000727, 1000502, 1000649, 1000830, 1000387, 1000953, 1000110, 1000640, 1000291, 1000612, 1000389, 1000110, 1000698, 1000462, 1000054, 1000110, 1000110, 1000181, 1000221, 1000408, 1000110, 1000905, 1000110, 1000532, 1000939, 1000110, 1000817, 1000388, 1000069, 1000110, 1000163, 1000453, 1000847, 1000908, 1000395, 1000574, 1000127, 1000132, 1000110, 1000110, 1000201, 1000689]\n",
    "\n",
    "maj1=-1\n",
    "fre1=0\n",
    "maj2=-1\n",
    "fre2=0\n",
    "\n",
    "for i in range(len(A)):\n",
    "  if maj1==A[i]:\n",
    "    fre1+=1\n",
    "  elif maj2==A[i]:\n",
    "    fre2+=1\n",
    "  elif fre1==0:\n",
    "    fre1=1\n",
    "    maj1=A[i]\n",
    "  elif fre2==0:\n",
    "    fre2=1\n",
    "    maj2=A[i]\n",
    "  else:\n",
    "    fre1-=1\n",
    "    fre2-=1\n",
    "\n",
    "print(maj1, fre1, maj2, fre2)\n",
    "cnt1=0\n",
    "cnt2=0\n",
    "for i in A:\n",
    "  if fre1>0 and  i ==maj1:\n",
    "    cnt1+=1\n",
    "  if fre2>0 and i==maj2:\n",
    "    cnt2+=1\n",
    "\n",
    "if cnt1>len(A)//3:\n",
    "  print(maj1)\n",
    "if cnt2>len(A)//3:\n",
    "  print(maj2)"
   ]
  },
  {
   "cell_type": "code",
   "execution_count": 22,
   "metadata": {},
   "outputs": [
    {
     "data": {
      "text/plain": [
       "1000110"
      ]
     },
     "execution_count": 22,
     "metadata": {},
     "output_type": "execute_result"
    }
   ],
   "source": [
    "A=sorted(A)\n",
    "A[len(A)//3+1]"
   ]
  },
  {
   "cell_type": "code",
   "execution_count": 29,
   "metadata": {},
   "outputs": [
    {
     "data": {
      "text/plain": [
       "6"
      ]
     },
     "execution_count": 29,
     "metadata": {},
     "output_type": "execute_result"
    }
   ],
   "source": [
    "# leetcode\n",
    "A=[\"alice and bob love leetcode\",\"i think so too\",\"this is great thanks very much\"]\n",
    "# cnt=0\n",
    "# ans=0\n",
    "# for i in A:\n",
    "#   for k in i:\n",
    "#     if k==\" \":\n",
    "#       cnt+=1\n",
    "#   ans=max(cnt+1, ans)\n",
    "#   cnt=0\n",
    "# ans\n",
    "max_cnt=0\n",
    "for i in A:\n",
    "  cnt=i.count(' ')\n",
    "  if cnt+1>max_cnt:\n",
    "    max_cnt=cnt+1\n",
    "\n",
    "max_cnt\n",
    "\n"
   ]
  },
  {
   "cell_type": "code",
   "execution_count": 5,
   "metadata": {},
   "outputs": [
    {
     "data": {
      "text/plain": [
       "[0, 4, 1, 3, 2]"
      ]
     },
     "execution_count": 5,
     "metadata": {},
     "output_type": "execute_result"
    }
   ],
   "source": [
    "# Leetcode\n",
    "# Create Target Array in the Given Order\n",
    "\n",
    "# Given two arrays of integers nums and index. Your task is to create target array under the following rules:\n",
    "# Initially target array is empty.\n",
    "# From left to right read nums[i] and index[i], insert at index index[i] the value nums[i] in target array.\n",
    "# Repeat the previous step until there are no elements to read in nums and index.\n",
    "\n",
    "\n",
    "nums = [0,1,2,3,4]\n",
    "index = [0,1,2,2,1]\n",
    "target=[]\n",
    "for i in range(len(nums)):\n",
    "  target.insert(index[i], nums[i])\n",
    "\n",
    "target\n"
   ]
  },
  {
   "cell_type": "code",
   "execution_count": 7,
   "metadata": {},
   "outputs": [
    {
     "data": {
      "text/plain": [
       "2"
      ]
     },
     "execution_count": 7,
     "metadata": {},
     "output_type": "execute_result"
    }
   ],
   "source": [
    "# Lettcode 1773. Count Items Matching a Rule\n",
    "items = [[\"phone\",\"blue\",\"pixel\"],[\"computer\",\"silver\",\"lenovo\"],[\"phone\",\"gold\",\"iphone\"]] \n",
    "ruleKey = \"type\"\n",
    "ruleValue = \"phone\"\n",
    "\n",
    "ruleIndex=0\n",
    "if ruleKey=='color':\n",
    "  ruleIndex=1\n",
    "elif ruleKey=='name':\n",
    "  ruleIndex=2\n",
    "cnt=0\n",
    "for i in items:\n",
    "  if i[ruleIndex]==ruleValue:\n",
    "    cnt+=1\n",
    "\n",
    "cnt\n"
   ]
  },
  {
   "cell_type": "code",
   "execution_count": 9,
   "metadata": {},
   "outputs": [
    {
     "name": "stdout",
     "output_type": "stream",
     "text": [
      "[[5, 11], [11, 17]]\n"
     ]
    }
   ],
   "source": [
    "# minimum absolute diff\n",
    "def minimumAbsDifference(arr):\n",
    "  arr.sort()\n",
    "  m = float('inf')\n",
    "  out = []\n",
    "  for i in range(1, len(arr)):\n",
    "      prev = arr[i - 1]\n",
    "      curr = abs(prev - arr[i])\n",
    "      if curr < m:\n",
    "          out = [[prev, arr[i]]]\n",
    "          m = curr\n",
    "      elif curr == m:\n",
    "          out.append([prev, arr[i]])\n",
    "  return out\n",
    "\n",
    "array = [5, 17, 100, 11]\n",
    "\n",
    "print(minimumAbsDifference(array))\n",
    "\n",
    "\n"
   ]
  },
  {
   "cell_type": "code",
   "execution_count": 28,
   "metadata": {},
   "outputs": [
    {
     "data": {
      "text/plain": [
       "'95433430'"
      ]
     },
     "execution_count": 28,
     "metadata": {},
     "output_type": "execute_result"
    }
   ],
   "source": [
    "# form a largest number\n",
    "\n",
    "import functools\n",
    "A = [3, 30, 34, 5, 9]\n",
    "# [9, 5, 34, 3, 30]\n",
    "\n",
    "A = [43, 30, 34, 5, 9]\n",
    "# [9, 5, 43, 34, 30]\n",
    "\n",
    "def largest(a,b):\n",
    "  if a+b>b+a:\n",
    "    return -1\n",
    "  elif a+b<b+a:\n",
    "    return 1\n",
    "  else:\n",
    "    return 0\n",
    "\n",
    "A = sorted(map(str, A), key=functools.cmp_to_key(lambda a,b:largest(a,b)))\n",
    "''.join(A)\n",
    "\n",
    "\n",
    "\n"
   ]
  },
  {
   "cell_type": "code",
   "execution_count": 36,
   "metadata": {},
   "outputs": [
    {
     "data": {
      "text/plain": [
       "[3, 4, 2, 0, 1]"
      ]
     },
     "execution_count": 36,
     "metadata": {},
     "output_type": "execute_result"
    }
   ],
   "source": [
    "arr = [4,0,2,1,3]\n",
    "final=[0]*len(arr)\n",
    "for i in range(len(arr)):\n",
    "  final[i]=arr[arr[i]]\n",
    "\n",
    "final"
   ]
  },
  {
   "cell_type": "markdown",
   "metadata": {},
   "source": [
    "# Subsets and Subsequence \n"
   ]
  },
  {
   "cell_type": "code",
   "execution_count": 65,
   "metadata": {},
   "outputs": [
    {
     "name": "stdout",
     "output_type": "stream",
     "text": [
      "31\n"
     ]
    },
    {
     "data": {
      "text/plain": [
       "[[1],\n",
       " [1, 2],\n",
       " [1, 2, 3],\n",
       " [1, 2, 3, 4],\n",
       " [1, 2, 3, 4, 5],\n",
       " [1, 2, 3, 5],\n",
       " [1, 2, 4],\n",
       " [1, 2, 4, 5],\n",
       " [1, 2, 5],\n",
       " [1, 3],\n",
       " [1, 3, 4],\n",
       " [1, 3, 4, 5],\n",
       " [1, 3, 5],\n",
       " [1, 4],\n",
       " [1, 4, 5],\n",
       " [1, 5],\n",
       " [2],\n",
       " [2, 3],\n",
       " [2, 3, 4],\n",
       " [2, 3, 4, 5],\n",
       " [2, 3, 5],\n",
       " [2, 4],\n",
       " [2, 4, 5],\n",
       " [2, 5],\n",
       " [3],\n",
       " [3, 4],\n",
       " [3, 4, 5],\n",
       " [3, 5],\n",
       " [4],\n",
       " [4, 5],\n",
       " [5]]"
      ]
     },
     "execution_count": 65,
     "metadata": {},
     "output_type": "execute_result"
    }
   ],
   "source": [
    "def printSet(A):\n",
    "  lists = []\n",
    "  n=len(A)\n",
    "  for i in range(1,2**n):\n",
    "    arr=[]\n",
    "    for j in range(n):\n",
    "      if i>>j&1==1:\n",
    "        arr.append(A[j])\n",
    "    lists.append(sorted(arr))\n",
    "  print(len(lists))\n",
    "  return sorted(lists)\n",
    "\n",
    "\n",
    "A = [1, 2, 3,4,5]\n",
    "printSet(A)\n"
   ]
  },
  {
   "cell_type": "code",
   "execution_count": 66,
   "metadata": {},
   "outputs": [
    {
     "data": {
      "text/plain": [
       "3"
      ]
     },
     "execution_count": 66,
     "metadata": {},
     "output_type": "execute_result"
    }
   ],
   "source": [
    "(2**5)-(2**4+2**3+2**2)-1"
   ]
  },
  {
   "cell_type": "code",
   "execution_count": 126,
   "metadata": {},
   "outputs": [
    {
     "name": "stdout",
     "output_type": "stream",
     "text": [
      "11\n"
     ]
    },
    {
     "data": {
      "text/plain": [
       "[[1, 2],\n",
       " [1, 3],\n",
       " [2, 3],\n",
       " [1, 2, 3],\n",
       " [1, 4],\n",
       " [2, 4],\n",
       " [1, 2, 4],\n",
       " [3, 4],\n",
       " [1, 3, 4],\n",
       " [2, 3, 4],\n",
       " [1, 2, 3, 4]]"
      ]
     },
     "execution_count": 126,
     "metadata": {},
     "output_type": "execute_result"
    }
   ],
   "source": [
    "def printSet(A):\n",
    "  lists = []\n",
    "  n = len(A)\n",
    "  for i in range(1, 2**n):\n",
    "    arr = []\n",
    "    if bin(i).count('1') > 1:\n",
    "      for j in range(n):\n",
    "        if i >> j & 1 == 1:\n",
    "          arr.append(A[j])\n",
    "      lists.append(sorted(arr))\n",
    "  print(len(lists))\n",
    "  return lists\n",
    "\n",
    "\n",
    "A = [1, 2, 3,4]\n",
    "printSet(A)\n"
   ]
  },
  {
   "cell_type": "code",
   "execution_count": 125,
   "metadata": {},
   "outputs": [
    {
     "data": {
      "text/plain": [
       "23"
      ]
     },
     "execution_count": 125,
     "metadata": {},
     "output_type": "execute_result"
    }
   ],
   "source": [
    "# sum the diff subsequence\n",
    "def printSet(A):\n",
    "  n = len(A)\n",
    "  diff_sum = 0\n",
    "  for i in range(1, 2**n):\n",
    "    arr = []\n",
    "    for j in range(n):\n",
    "      if i >> j & 1 == 1:\n",
    "        arr.append(A[j])\n",
    "    diff_sum += max(arr)-min(arr)\n",
    "\n",
    "  return diff_sum\n",
    "\n",
    "A = [1, 2,3,4]\n",
    "printSet(A)\n",
    "\n",
    "\n"
   ]
  },
  {
   "cell_type": "code",
   "execution_count": 92,
   "metadata": {},
   "outputs": [
    {
     "name": "stdout",
     "output_type": "stream",
     "text": [
      "5\n"
     ]
    },
    {
     "data": {
      "text/plain": [
       "71"
      ]
     },
     "execution_count": 92,
     "metadata": {},
     "output_type": "execute_result"
    }
   ],
   "source": [
    "# Q2. SUBARRAY OR\n",
    "# Given an array of integers A of size N.\n",
    "# Value of a subarray is defined as BITWISE OR of all elements in it.\n",
    "# Return the sum of Value of all subarrays of A % 109 + 7.\n",
    "\n",
    "\n",
    "def printSet(A):\n",
    "  lists = 0\n",
    "  n = len(A)\n",
    "  for i in range(len(A)):\n",
    "    or_of_set =0 \n",
    "    for j in range(i,n):\n",
    "      or_of_set |= A[j] \n",
    "      lists+=or_of_set\n",
    "      # print(or_of_set, lists)\n",
    "\n",
    "  return lists % 1000000007 \n",
    "\n",
    "\n",
    "# A = [347148, 221001, 394957, 729925, 276769, 40726, 552988, 29952, 184491, 146773, 418965, 307, 219145, 183037, 178111, 81123, 109199, 683929, 422034, 346291, 11434, 7327, 340473, 316152, 364005, 359269, 170935, 105784, 224044, 22563, 48561, 165781, 9329, 357681, 169473, 175031, 605611, 374501, 6607, 329965, 76068, 836137, 103041, 486817, 195549, 107317, 34399, 56907, 37477, 189690, 36796, 376663, 39721, 177563, 174179, 183646, 217729, 408031, 429122, 631665, 282941, 526797, 262186, 306571, 63613, 57501, 70685, 226381, 1338, 9360, 130360, 20300, 400906, 87823, 180349, 108813, 18181, 119185, 1, 102611, 63591, 12889, 311185, 383896, 8701, 76077, 75481, 386017, 153553, 304913, 383455, 105948, 142885, 1, 12610, 137005, 119185, 16948, 66171, 123683]\n",
    "A=[1,2,3,4,5]\n",
    "print(len(A))\n",
    "printSet(A)\n"
   ]
  },
  {
   "cell_type": "code",
   "execution_count": 94,
   "metadata": {},
   "outputs": [
    {
     "name": "stdout",
     "output_type": "stream",
     "text": [
      "5\n"
     ]
    },
    {
     "data": {
      "text/plain": [
       "105"
      ]
     },
     "execution_count": 94,
     "metadata": {},
     "output_type": "execute_result"
    }
   ],
   "source": [
    "\n",
    "def printSet(A):\n",
    "  lists = 0\n",
    "  n = len(A)\n",
    "  for i in range(len(A)):\n",
    "    or_of_set = 0\n",
    "    or_of_set |= A[i]*((n-i)*(i+1))\n",
    "    lists += or_of_set\n",
    "      # print(or_of_set, lists)\n",
    "\n",
    "  return lists % 1000000007\n",
    "\n",
    "\n",
    "A = [1, 2, 3, 4, 5]\n",
    "print(len(A))\n",
    "printSet(A)\n"
   ]
  },
  {
   "cell_type": "code",
   "execution_count": 119,
   "metadata": {},
   "outputs": [
    {
     "data": {
      "text/plain": [
       "117"
      ]
     },
     "execution_count": 119,
     "metadata": {},
     "output_type": "execute_result"
    }
   ],
   "source": [
    "n=2\n",
    "n*(n+1)//2\n",
    "\n",
    "13+(12*2**1)+(12*2**2)+(2*2**3)+(1*2**4)"
   ]
  },
  {
   "cell_type": "code",
   "execution_count": 126,
   "metadata": {},
   "outputs": [
    {
     "name": "stdout",
     "output_type": "stream",
     "text": [
      "maxBit 5 3 15\n",
      "71\n"
     ]
    }
   ],
   "source": [
    "from math import log2\n",
    "\n",
    "\n",
    "def givesum(A, n):\n",
    "\n",
    "    # Find max element of the array\n",
    "    max_element = max(A)\n",
    "\n",
    "    # Find the max bit position set in\n",
    "    # the array\n",
    "    maxBit = int(log2(max_element)) + 1\n",
    "\n",
    "    totalSubarrays = n * (n + 1) // 2\n",
    "    print('maxBit', max_element,maxBit, totalSubarrays)\n",
    "\n",
    "    s = 0\n",
    "\n",
    "    # Traverse from 1st bit to last bit which\n",
    "    # can be set in any element of the array\n",
    "    for i in range(maxBit):\n",
    "        c1 = 0\n",
    "\n",
    "        # List to store indexes of the array\n",
    "        # with i-th bit not set\n",
    "        vec = []\n",
    "\n",
    "        sum = 0\n",
    "\n",
    "        # Traverse the array\n",
    "        for j in range(n):\n",
    "\n",
    "            # Check if ith bit is not set in A[j]\n",
    "            a = A[j] >> i\n",
    "\n",
    "            if (not(a & 1)):\n",
    "                vec.append(j)\n",
    "\n",
    "        # Variable to store count of subarrays\n",
    "        # whose bitwise OR will have i-th bit\n",
    "        # not set\n",
    "        cntSubarrNotSet = 0\n",
    "\n",
    "        cnt = 1\n",
    "\n",
    "        for j in range(1, len(vec)):\n",
    "\n",
    "            if (vec[j] - vec[j - 1] == 1):\n",
    "                cnt += 1\n",
    "\n",
    "            else:\n",
    "\n",
    "                cntSubarrNotSet += cnt * (cnt + 1) // 2\n",
    "\n",
    "                cnt = 1\n",
    "\n",
    "        # For last element of vec\n",
    "        cntSubarrNotSet += cnt * (cnt + 1) // 2\n",
    "\n",
    "        # If vec is empty then cntSubarrNotSet\n",
    "        # should be 0 and not 1\n",
    "        if len(vec) == 0:\n",
    "            cntSubarrNotSet = 0\n",
    "\n",
    "        # Variable to store count of subarrays\n",
    "        # whose bitwise OR will have i-th bit set\n",
    "        cntSubarrIthSet = totalSubarrays - cntSubarrNotSet\n",
    "\n",
    "        s += cntSubarrIthSet * pow(2, i)\n",
    "\n",
    "    return s\n",
    "\n",
    "\n",
    "# Driver code\n",
    "if __name__ == \"__main__\":\n",
    "\n",
    "    A = [1, 2, 3, 4, 5]\n",
    "    n = len(A)\n",
    "\n",
    "    print(givesum(A, n))\n",
    "\n",
    "# This code is contributed by Ryuga\n"
   ]
  },
  {
   "cell_type": "code",
   "execution_count": 140,
   "metadata": {},
   "outputs": [
    {
     "data": {
      "text/plain": [
       "[3, 4, 2, 0, 1]"
      ]
     },
     "execution_count": 140,
     "metadata": {},
     "output_type": "execute_result"
    }
   ],
   "source": [
    "# 0  1   2  3  4\n",
    "# 4  0   2  1  3\n",
    "# 19 20 12  1  8\n",
    "# 3 4 2 0 1\n",
    "# i A[A[i]]\n",
    "# 0 3\n",
    "def solve(arr):\n",
    "  n=len(arr)\n",
    "  for i in range(n):\n",
    "    count = arr[arr[i]] % n\n",
    "    arr[i] += count*n\n",
    "  for i in range(n):\n",
    "      arr[i] =arr[i]//n\n",
    "  return arr\n",
    "\n",
    "\n",
    "A = [4, 0, 2, 1, 3]\n",
    "solve(A)\n"
   ]
  },
  {
   "cell_type": "code",
   "execution_count": 38,
   "metadata": {},
   "outputs": [
    {
     "name": "stdout",
     "output_type": "stream",
     "text": [
      "0\n",
      "4\n"
     ]
    },
    {
     "data": {
      "text/plain": [
       "[4, 4, 6, 0, 9, 6, 5, 2]"
      ]
     },
     "execution_count": 38,
     "metadata": {},
     "output_type": "execute_result"
    }
   ],
   "source": [
    "# Q1. Add One To Number\n",
    "# Given a non-negative number represented as an array of digits, add 1 to the number ( increment the number represented by the digits ).\n",
    "# in-[ 9, 9, 9, 9, 9 ]\n",
    "# out-1 0 0 0 0 0\n",
    "\n",
    "\n",
    "# in - [1, 2, 3]\n",
    "# out-[1, 2, 4]\n",
    "# A=[ 9, 9, 9, 9, 9 ]\n",
    "# A=[1,2,9]\n",
    "A = [0, 0, 4, 4, 6, 0, 9, 6, 5, 1]\n",
    "n=len(A)\n",
    "A[n-1]+=1\n",
    "carry =A[n-1]/10\n",
    "A[n-1]=A[n-1]%10\n",
    "\n",
    "for i in range(n-2,-1,-1):\n",
    "  if carry==1:\n",
    "    A[i]+=1\n",
    "    carry=A[i]/10\n",
    "    A[i]=A[i]%10\n",
    "\n",
    "if carry==1:\n",
    "  A.insert(0,1)\n",
    "i=0\n",
    "while(A[0]==0):\n",
    "  print(A[i])\n",
    "  A.pop(0)\n",
    "  i+=1\n",
    "A\n"
   ]
  },
  {
   "cell_type": "markdown",
   "metadata": {},
   "source": [
    "## Advance batch\n"
   ]
  },
  {
   "cell_type": "code",
   "execution_count": 53,
   "metadata": {},
   "outputs": [
    {
     "name": "stdout",
     "output_type": "stream",
     "text": [
      "[]\n"
     ]
    }
   ],
   "source": [
    "# Q2. Max Non Negative SubArray\n",
    "# Input 1:     A = [1, 2, 5, -7, 2, 3]\n",
    "\n",
    "# Output 1:    [1, 2, 5]\n",
    "\n",
    "# Explanation 1:\n",
    "#     The two sub-arrays are[1, 2, 5][2, 3].\n",
    "#     The answer is [1, 2, 5] as its sum is larger than[2, 3].\n",
    "A = [0, 0, -1, 0]\n",
    "\n",
    "\n",
    "start=0\n",
    "end=0\n",
    "prevS=0\n",
    "prevE=0\n",
    "sumArr=0\n",
    "max_sum=0\n",
    "\n",
    "for i in range(len(A)):\n",
    "  sumArr+=A[i]\n",
    "  if A[i]<0:\n",
    "    if max_sum < sumArr:\n",
    "      prevS=start\n",
    "      prevE=i\n",
    "    sumArr=0\n",
    "print(A[prevS:prevE])\n",
    "\n",
    "\n"
   ]
  },
  {
   "cell_type": "code",
   "execution_count": 55,
   "metadata": {},
   "outputs": [
    {
     "data": {
      "text/plain": [
       "[0, 0]"
      ]
     },
     "execution_count": 55,
     "metadata": {},
     "output_type": "execute_result"
    }
   ],
   "source": [
    "def maxset( A):\n",
    "  indicies = []\n",
    "  rs = 0\n",
    "  rstDic = {}\n",
    "\n",
    "  for i in range(len(A)):\n",
    "      if A[i] >= 0:\n",
    "          rs += A[i]\n",
    "          indicies.append(A[i])\n",
    "      else:\n",
    "          if rs in rstDic:\n",
    "              if len(indicies) > len(rstDic[rs]):\n",
    "                  rstDic[rs] = indicies\n",
    "          else:\n",
    "              rstDic[rs] = indicies\n",
    "              \n",
    "          indicies = []\n",
    "          rs = 0\n",
    "          \n",
    "  if len(rstDic) == 0 and rs > 0:\n",
    "      return indicies\n",
    "  elif len(rstDic) > 0 and max(rstDic) < rs:\n",
    "      return indicies\n",
    "          \n",
    "  return rstDic[max(rstDic)]\n",
    "\n",
    "maxset(A)"
   ]
  },
  {
   "cell_type": "code",
   "execution_count": 65,
   "metadata": {},
   "outputs": [
    {
     "name": "stdout",
     "output_type": "stream",
     "text": [
      "1\n",
      "[0, 0, 1, 1] 4\n",
      "[2, 2, 2, 0] 4\n"
     ]
    }
   ],
   "source": [
    "# Day 32\n",
    "# Rain water Tapped\n",
    "\n",
    "# A=[1,0,2,5,1,0,3,0,0,7]\n",
    "A = [0, 1, 0, 2]\n",
    "n=len(A)\n",
    "\n",
    "Lmax=[0]*n\n",
    "Rmax=[0]*n\n",
    "\n",
    "for i in range(1,n):\n",
    "  Lmax[i]=max(A[i-1],Lmax[i-1])\n",
    "for i in range(n-2,-1,-1):\n",
    "  Rmax[i]=max(A[i+1], Rmax[i+1])\n",
    "\n",
    "sum_arr=0\n",
    "for i in range(n):\n",
    "  val = min(Lmax[i]-A[i], Rmax[i]-A[i])\n",
    "  if val>0:\n",
    "    sum_arr+=min(Lmax[i]-A[i], Rmax[i]-A[i])\n",
    "print(sum_arr)\n",
    "\n",
    "\n",
    "print(Lmax, len(Lmax))\n",
    "print(Rmax, len(Rmax))"
   ]
  },
  {
   "cell_type": "code",
   "execution_count": 71,
   "metadata": {},
   "outputs": [
    {
     "name": "stdout",
     "output_type": "stream",
     "text": [
      "max_element 5\n",
      "max_bit 3 1.584962500721156\n",
      "71\n"
     ]
    }
   ],
   "source": [
    "# Python 3 program to find sum of bitwise OR of all subarrays\n",
    "\n",
    "# from math lib. import log2 function\n",
    "from math import log2\n",
    "\n",
    "# Function to find sum of bitwise OR\n",
    "# of all subarrays\n",
    "\n",
    "\n",
    "def givesum(A, n):\n",
    "\n",
    "  # Find max element of the array\n",
    "  max_element = max(A)\n",
    "  print('max_element', max_element)\n",
    "\n",
    "  # Find the max bit position set in\n",
    "  # the array\n",
    "  maxBit = int(log2(max_element)) + 1\n",
    "  print('max_bit', maxBit)\n",
    "\n",
    "  totalSubarrays = n * (n + 1) // 2\n",
    "\n",
    "  s = 0\n",
    "\n",
    "  # Traverse from 1st bit to last bit which\n",
    "  # can be set in any element of the array\n",
    "  for i in range(maxBit):\n",
    "    c1 = 0\n",
    "\n",
    "    # List to store indexes of the array\n",
    "    # with i-th bit not set\n",
    "    vec = []\n",
    "\n",
    "    sum = 0\n",
    "\n",
    "    # Traverse the array\n",
    "    for j in range(n):\n",
    "\n",
    "      # Check if ith bit is not set in A[j]\n",
    "      a = A[j] >> i\n",
    "\n",
    "      if (not(a & 1)):\n",
    "        vec.append(j)\n",
    "\n",
    "    # Variable to store count of subarrays\n",
    "    # whose bitwise OR will have i-th bit\n",
    "    # not set\n",
    "    cntSubarrNotSet = 0\n",
    "\n",
    "    cnt = 1\n",
    "\n",
    "    for j in range(1, len(vec)):\n",
    "\n",
    "      if (vec[j] - vec[j - 1] == 1):\n",
    "        cnt += 1\n",
    "\n",
    "      else:\n",
    "\n",
    "        cntSubarrNotSet += cnt * (cnt + 1) // 2\n",
    "\n",
    "        cnt = 1\n",
    "\n",
    "    # For last element of vec\n",
    "    cntSubarrNotSet += cnt * (cnt + 1) // 2\n",
    "\n",
    "    # If vec is empty then cntSubarrNotSet\n",
    "    # should be 0 and not 1\n",
    "    if len(vec) == 0:\n",
    "      cntSubarrNotSet = 0\n",
    "\n",
    "    # Variable to store count of subarrays\n",
    "    # whose bitwise OR will have i-th bit set\n",
    "    cntSubarrIthSet = totalSubarrays - cntSubarrNotSet\n",
    "\n",
    "    s += cntSubarrIthSet * pow(2, i)\n",
    "\n",
    "  return s\n",
    "\n",
    "\n",
    "# Driver code\n",
    "if __name__ == \"__main__\":\n",
    "\n",
    "\tA = [1, 2, 3, 4, 5]\n",
    "\tn = len(A)\n",
    "\n",
    "\tprint(givesum(A, n))\n",
    "\n",
    "# This code is contributed by Ryuga\n"
   ]
  },
  {
   "cell_type": "code",
   "execution_count": 78,
   "metadata": {},
   "outputs": [
    {
     "name": "stdout",
     "output_type": "stream",
     "text": [
      "0 0\n",
      "10 1\n",
      "20 4\n",
      "30 9\n",
      "40 16\n",
      "50 25\n",
      "60 36\n",
      "70 49\n",
      "80 64\n",
      "90 81\n"
     ]
    }
   ],
   "source": [
    "\n",
    "n=100\n",
    "\n",
    "for i in range(n):\n",
    "  if i%10==0:\n",
    "    print(i,(i//10)**2)"
   ]
  },
  {
   "cell_type": "code",
   "execution_count": 137,
   "metadata": {},
   "outputs": [
    {
     "name": "stdout",
     "output_type": "stream",
     "text": [
      "[22, 19]\n"
     ]
    }
   ],
   "source": [
    "# Q3. Sub-matrix Sum Queries\n",
    "A=[\n",
    "    [5, 17, 100, 11],\n",
    "    [0, 0, 2, 8]\n",
    "]\n",
    "B= [1, 1]\n",
    "C= [1, 4]\n",
    "D= [2, 2]\n",
    "E= [2, 4]\n",
    "\n",
    "# A = [[1, 2, 3],\n",
    "#      [4, 5, 6],\n",
    "#      [7, 8, 9]]\n",
    "# B = [1, 2]\n",
    "# C = [1, 2]\n",
    "# D = [2, 3]\n",
    "# E = [2, 3]\n",
    "\n",
    "n=len(A)\n",
    "m=len(A[0])\n",
    "prefixMat = [[0 for x in range(m)]\n",
    "             for y in range(n)]\n",
    "for i in range(0,n):\n",
    "  for j in range(0,m):\n",
    "    res=A[i][j]\n",
    "    if j>0:\n",
    "      res+=prefixMat[i][j-1]\n",
    "    prefixMat[i][j]=res\n",
    "for i in range(0,n):\n",
    "  for j in range(0,m):\n",
    "    res=prefixMat[i][j]\n",
    "    if i>0:\n",
    "      res+=prefixMat[i-1][j]\n",
    "    prefixMat[i][j]=res\n",
    "result=[]\n",
    "for i in range(len(B)):\n",
    "  sum_arr=prefixMat[D[i]-1][E[i]-1]\n",
    "  if C[i]>1:\n",
    "    sum_arr-=prefixMat[D[i]-1][C[i]-2]\n",
    "  if B[i]>1:\n",
    "    sum_arr-=prefixMat[B[i]-2][E[i]-1]\n",
    "  if C[i]>1 and B[i]>1:\n",
    "    sum_arr+=prefixMat[B[i]-2][C[i]-2]\n",
    "  result.append(sum_arr % 1000000007)\n",
    "\n",
    "prefixMat\n",
    "print(result)"
   ]
  },
  {
   "cell_type": "code",
   "execution_count": 162,
   "metadata": {},
   "outputs": [
    {
     "name": "stdout",
     "output_type": "stream",
     "text": [
      "unsorted->  [(7, 1), (5, 2), (6, 3), (2, 4), (1, 5), (3, 6)]\n",
      "sortedB-> [(1, 5), (2, 4), (3, 6), (5, 2), (6, 3), (7, 1)]\n",
      "1 0 3 0 3 1 6 1 6 2 6 2 "
     ]
    },
    {
     "data": {
      "text/plain": [
       "2"
      ]
     },
     "execution_count": 162,
     "metadata": {},
     "output_type": "execute_result"
    }
   ],
   "source": [
    "# max distance\n",
    "A=[7,5,6,2,1,3]\n",
    "n=len(A)\n",
    "# max_dis=0\n",
    "# for i in range(n):\n",
    "#   cnt=0\n",
    "#   for j in range(i+1,n):\n",
    "#     print(A[i], A[j])\n",
    "#     if A[i]<A[j]:\n",
    "#       cnt=j\n",
    "#   print(cnt-i)\n",
    "#   max_dis=max(max_dis, cnt-i)\n",
    "\n",
    "# max_dis\n",
    "\n",
    "\n",
    "\n",
    "# optimized\n",
    "# 1. create a new array B with (value ,index)\n",
    "# 2. sort array based on value\n",
    "# 3. traverse the sorted B from right\n",
    "# 4. maxJ=B[n-1][1], ans=0\n",
    "# 5. change the maxJ if B[i][1]>maxJ and ans = maxJ-B[i][1]\n",
    "\n",
    "B = [(v, i+1) for i,v in enumerate(A)]\n",
    "print('unsorted-> ',B)\n",
    "B =  sorted(B, key=lambda x:x[0])\n",
    "print('sortedB->', B)\n",
    "maxJ=B[len(B)-1][1]\n",
    "ans=0\n",
    "for i in range(len(B)-1, -1, -1):\n",
    "  ans=max(ans, maxJ-B[i][1])\n",
    "  maxJ=max(maxJ, B[i][1])\n",
    "  print(maxJ, ans, end=' ')\n",
    "\n",
    "\n",
    "ans\n",
    "\n"
   ]
  },
  {
   "cell_type": "code",
   "execution_count": 165,
   "metadata": {},
   "outputs": [
    {
     "data": {
      "text/plain": [
       "2"
      ]
     },
     "execution_count": 165,
     "metadata": {},
     "output_type": "execute_result"
    }
   ],
   "source": [
    "# Pick from both side\n",
    "\n",
    "A = [1, 2]\n",
    "B = 1\n",
    "n=len(A)\n",
    "maxSum=0\n",
    "sm=0\n",
    "for i in range(B):\n",
    "  sm+=A[i]\n",
    "maxSum=max(maxSum, sm)\n",
    "for i in range(1, B+1):\n",
    "  sm-=A[B-i]\n",
    "  sm+=A[n-i]\n",
    "  maxSum=max(maxSum, sm)\n",
    "\n",
    "maxSum"
   ]
  },
  {
   "cell_type": "code",
   "execution_count": 21,
   "metadata": {},
   "outputs": [
    {
     "data": {
      "text/plain": [
       "5"
      ]
     },
     "execution_count": 21,
     "metadata": {},
     "output_type": "execute_result"
    }
   ],
   "source": [
    "# odd even subsequence\n",
    "\n",
    "A = [36, 41, 55, 35, 52, 36, 34, 92, 13, 32, 42]\n",
    "# A = [1, 2, 2, 5, 6]\n",
    "\n",
    "max_count=0\n",
    "for i in range(len(A)):\n",
    "  cnt=1\n",
    "  for j in range(i+1, len(A)):\n",
    "    if A[j-1]%2==0 and A[j]%2==1:\n",
    "      cnt+=1\n",
    "    if A[j-1]%2== 1 and A[j]%2== 0:\n",
    "      cnt += 1\n",
    "  max_count=max(max_count, cnt)\n",
    "max_count\n",
    "\n",
    "\n",
    "\n",
    "# Approach 2\n",
    "def solve(A):\n",
    "  prev_rem = A[0] % 2\n",
    "  cnt = 1\n",
    "  for i in range(1, len(A)):\n",
    "    curr_rem = A[i] % 2\n",
    "    if abs(prev_rem-curr_rem) == 1:\n",
    "      prev_rem = curr_rem\n",
    "      cnt += 1\n",
    "  return cnt\n",
    "\n",
    "\n",
    "    "
   ]
  },
  {
   "cell_type": "code",
   "execution_count": 29,
   "metadata": {},
   "outputs": [
    {
     "name": "stdout",
     "output_type": "stream",
     "text": [
      "3\n",
      "2\n"
     ]
    },
    {
     "data": {
      "text/plain": [
       "2"
      ]
     },
     "execution_count": 29,
     "metadata": {},
     "output_type": "execute_result"
    }
   ],
   "source": [
    "def gcd(A, B):\n",
    "  for i in range(int(max(A, B)**0.5)+1, 0, -1):\n",
    "    print(i)\n",
    "    if A % i == 0 and B % i == 0:\n",
    "      return i\n",
    "gcd(4,4)"
   ]
  },
  {
   "cell_type": "code",
   "execution_count": 78,
   "metadata": {},
   "outputs": [
    {
     "name": "stdout",
     "output_type": "stream",
     "text": [
      "2\n",
      "[1]\n",
      "l 1\n"
     ]
    }
   ],
   "source": [
    "import math\n",
    "\n",
    "\n",
    "def printDivisors(A, B):\n",
    "    list = []\n",
    "    minNumber= min(A, B)\n",
    "    maxNumber=max(A,B)\n",
    "    for i in range(1, int(minNumber**0.5 + 1)):\n",
    "        if (minNumber % i == 0):\n",
    "          if minNumber/i!=i:\n",
    "            print(int(minNumber/i))\n",
    "            if maxNumber%int(minNumber/i)==0:\n",
    "              print('y', int(minNumber/i))\n",
    "          list.append(i)\n",
    "    print(list)\n",
    "    for i in list[::-1]:\n",
    "        if maxNumber%int(i) == 0:\n",
    "            print('l', int(i))\n",
    "\n",
    "printDivisors(2,3)"
   ]
  },
  {
   "cell_type": "code",
   "execution_count": 132,
   "metadata": {},
   "outputs": [
    {
     "data": {
      "text/plain": [
       "[[7, 8, 9], [7, 8, 9], [7, 8, 9]]"
      ]
     },
     "execution_count": 132,
     "metadata": {},
     "output_type": "execute_result"
    }
   ],
   "source": [
    "mat=[[0]*3]*3\n",
    "cnt=1\n",
    "for i in range(3):\n",
    "  for j in range(3):\n",
    "    mat[i][j]=cnt\n",
    "    cnt+=1\n",
    "mat"
   ]
  },
  {
   "cell_type": "code",
   "execution_count": 131,
   "metadata": {},
   "outputs": [
    {
     "data": {
      "text/plain": [
       "[[1, 2, 3], [4, 5, 6], [7, 8, 9]]"
      ]
     },
     "execution_count": 131,
     "metadata": {},
     "output_type": "execute_result"
    }
   ],
   "source": [
    "mat = [[0 for i in range(3)]for j in range(3)]\n",
    "cnt=1\n",
    "for i in range(3):\n",
    "  for j in range(3):\n",
    "    mat[i][j] = cnt\n",
    "    cnt+=1\n",
    "mat\n"
   ]
  },
  {
   "cell_type": "code",
   "execution_count": 139,
   "metadata": {},
   "outputs": [
    {
     "data": {
      "text/plain": [
       "3"
      ]
     },
     "execution_count": 139,
     "metadata": {},
     "output_type": "execute_result"
    }
   ],
   "source": [
    "# min swap required to bring element X together\n",
    "A=[10,4,8,7,8,3,8,-7,8,8]\n",
    "x=8\n",
    "count_x=0\n",
    "# get the count of X\n",
    "for i in A:\n",
    "  if i==x:\n",
    "    count_x+=1\n",
    "max_count=0\n",
    "window_count=0\n",
    "for i in range(count_x):\n",
    "  if A[i]==x:\n",
    "    window_count+=1\n",
    "for i in range(1, len(A)-count_x):\n",
    "  if A[i-1]==x:\n",
    "    window_count-=1\n",
    "  if A[i+count_x-1]==x:\n",
    "    window_count+=1\n",
    "  max_count=max(max_count, window_count)\n",
    "max_count\n",
    "\n"
   ]
  },
  {
   "cell_type": "code",
   "execution_count": 150,
   "metadata": {},
   "outputs": [
    {
     "name": "stdout",
     "output_type": "stream",
     "text": [
      "3\n",
      "2\n",
      "2 2\n"
     ]
    },
    {
     "data": {
      "text/plain": [
       "1"
      ]
     },
     "execution_count": 150,
     "metadata": {},
     "output_type": "execute_result"
    }
   ],
   "source": [
    "# find and return the minimum number of swaps required to bring all the numbers less than or equal to B together.\n",
    "A = [5, 17, 100, 11]\n",
    "x=20\n",
    "\n",
    "count_x = 0\n",
    "# get the count of X\n",
    "for i in A:\n",
    "  if i <= x:\n",
    "    count_x += 1\n",
    "print(count_x)\n",
    "max_count = 0\n",
    "window_count = 0\n",
    "for i in range(count_x):\n",
    "  if A[i] <= x:\n",
    "    window_count += 1\n",
    "print(window_count)\n",
    "max_count = max(max_count, window_count)\n",
    "for i in range(1, len(A)-count_x):\n",
    "  if A[i-1] <= x:\n",
    "    window_count -= 1\n",
    "  if A[i+count_x-1] <= x:\n",
    "    window_count += 1\n",
    "  print(window_count)\n",
    "  max_count = max(max_count, window_count)\n",
    "print(max_count, window_count)\n",
    "count_x-max_count\n",
    "\n",
    "\n"
   ]
  },
  {
   "cell_type": "code",
   "execution_count": 158,
   "metadata": {},
   "outputs": [
    {
     "data": {
      "text/plain": [
       "[2, 2]"
      ]
     },
     "execution_count": 158,
     "metadata": {},
     "output_type": "execute_result"
    }
   ],
   "source": [
    "# Prime sum\n",
    "\n",
    "def isPrime(n):\n",
    "  if (n == 1):\n",
    "    return False\n",
    "  for i in range(2, int(n ** 0.5)+1):\n",
    "    if (n % i == 0):\n",
    "      return False\n",
    "  return True\n",
    "def primesum(A):\n",
    "  for i in range(A):\n",
    "      other = A-i\n",
    "      # print(i, other)\n",
    "      if isPrime(i) and isPrime(other):\n",
    "        # print(i)\n",
    "        return [i, other]\n",
    "primesum(4)\n",
    "# isPrime(2)"
   ]
  },
  {
   "cell_type": "code",
   "execution_count": 165,
   "metadata": {},
   "outputs": [
    {
     "data": {
      "text/plain": [
       "4"
      ]
     },
     "execution_count": 165,
     "metadata": {},
     "output_type": "execute_result"
    }
   ],
   "source": [
    "# find factors\n",
    "def findFactors(A):\n",
    "  count=0\n",
    "  for i in range(1, int(A**0.5 + 1)):\n",
    "    if (A % i == 0):\n",
    "      if A/i!=i:\n",
    "        count+=2\n",
    "      else:\n",
    "        count+=1\n",
    "  return count\n",
    "findFactors(15)"
   ]
  },
  {
   "cell_type": "code",
   "execution_count": 166,
   "metadata": {},
   "outputs": [
    {
     "data": {
      "text/plain": [
       "[2, 2, 3, 2]"
      ]
     },
     "execution_count": 166,
     "metadata": {},
     "output_type": "execute_result"
    }
   ],
   "source": [
    "A = [2, 3, 4, 5]\n",
    "for i in range(len(A)):\n",
    "  A[i]=findFactors(A[i])\n",
    "A"
   ]
  },
  {
   "cell_type": "code",
   "execution_count": 10,
   "metadata": {},
   "outputs": [
    {
     "name": "stdout",
     "output_type": "stream",
     "text": [
      "[1, 2]\n"
     ]
    }
   ],
   "source": [
    "nums1 = [2,0]\n",
    "m = 1\n",
    "nums2 = [1]\n",
    "n = 1\n",
    "p1=m-1\n",
    "p2=n-1\n",
    "i=m+n-1\n",
    "while p2>=0:\n",
    "  if p1>=0 and nums1[p1]>nums2[p2]:\n",
    "    nums1[i]=nums1[p1]\n",
    "    i-=1\n",
    "    p1-=1\n",
    "  else:\n",
    "    nums1[i]=nums2[p2]\n",
    "    i-=1\n",
    "    p2-=1\n",
    "print(nums1)"
   ]
  },
  {
   "cell_type": "code",
   "execution_count": 12,
   "metadata": {},
   "outputs": [
    {
     "name": "stdout",
     "output_type": "stream",
     "text": [
      "1 0 1 0 "
     ]
    }
   ],
   "source": [
    "# Python 3 Program for the above approach\n",
    "\n",
    "# Function to find the count of integers\n",
    "# such that A[i]%A[j] = 0 or A[j]%A[i] = 0\n",
    "# for each index of the array A[]\n",
    "def countIndex(A, N):\n",
    "\n",
    "\t# Stores the maximum integer in A[]\n",
    "\tMAX = max(A)\n",
    "\n",
    "\t# Stores the frequency of each\n",
    "\t# element in the array A[]\n",
    "\tfreq = [0 for i in range(MAX+1)]\n",
    "\n",
    "\tfor i in range(N):\n",
    "\t\tif A[i] in freq:\n",
    "\t\t\tfreq[A[i]] += 1\n",
    "\t\telse:\n",
    "\t\t\tfreq[A[i]] = 1\n",
    "\n",
    "\t# Stores the valid integers in A[]\n",
    "\t# for all integers from 1 to MAX\n",
    "\tres = [0 for i in range(MAX+1)]\n",
    "\n",
    "\tfor i in range(1, MAX + 1, 1):\n",
    "\t\tfor j in range(i, MAX + 1, i):\n",
    "\n",
    "\t\t\t# Case where P = Q\n",
    "\t\t\tif (i == j):\n",
    "\n",
    "\t\t\t\t# Subtract 1 because P & Q\n",
    "\t\t\t\t# cannot have same index\n",
    "\t\t\t\tres[i] += (freq[j] - 1)\n",
    "\t\t\telse:\n",
    "\t\t\t\t# Case 1\n",
    "\t\t\t\tres[i] += freq[j]\n",
    "\n",
    "\t\t\t\t# Case 2\n",
    "\t\t\t\tres[j] += freq[i]\n",
    "\n",
    "\t# Loop to print answer for\n",
    "\t# each index of array A[]\n",
    "\tfor i in range(N):\n",
    "\t\tprint(res[A[i]], end=\" \")\n",
    "\n",
    "\n",
    "# Driver Code\n",
    "if __name__ == '__main__':\n",
    "\tA = [2, 3, 4, 5]\n",
    "\tN = len(A)\n",
    "\n",
    "\t# Function Call\n",
    "\tcountIndex(A, N)\n"
   ]
  },
  {
   "cell_type": "code",
   "execution_count": 30,
   "metadata": {},
   "outputs": [
    {
     "name": "stdout",
     "output_type": "stream",
     "text": [
      "True 2\n",
      "2 4\n",
      "True 3\n",
      "3 9\n",
      "3 15\n",
      "3 21\n",
      "3 27\n",
      "3 33\n",
      "3 39\n",
      "3 45\n",
      "True 5\n",
      "5 25\n",
      "True 6\n",
      "6 36\n",
      "True 7\n",
      "7 49\n",
      "True 8\n",
      "True 10\n",
      "True 11\n",
      "True 12\n",
      "True 13\n",
      "True 14\n",
      "True 16\n",
      "True 17\n",
      "True 18\n",
      "True 19\n",
      "True 20\n",
      "True 22\n",
      "True 23\n",
      "True 24\n",
      "True 26\n",
      "True 28\n",
      "True 29\n",
      "True 30\n",
      "True 31\n",
      "True 32\n",
      "True 34\n",
      "True 35\n",
      "True 37\n",
      "True 38\n",
      "True 40\n",
      "True 41\n",
      "True 42\n",
      "True 43\n",
      "True 44\n",
      "True 46\n",
      "True 47\n",
      "True 48\n"
     ]
    },
    {
     "data": {
      "text/plain": [
       "38"
      ]
     },
     "execution_count": 30,
     "metadata": {},
     "output_type": "execute_result"
    }
   ],
   "source": [
    "# given a number find all prime from 1 to N\n",
    "\n",
    "N=50\n",
    "p=[True for i in range(N+1)]\n",
    "p[0]=p[1]=False\n",
    "for i in range(2, N):\n",
    "  if p[i]==True:\n",
    "    print(p[i], i)\n",
    "    for j in range(i*i, N, j+i-1):\n",
    "      print(i,j)\n",
    "      p[j]=False\n",
    "cnt=0   \n",
    "for i in p:\n",
    "  if i:\n",
    "    cnt+=1\n",
    "cnt\n",
    "# p"
   ]
  },
  {
   "cell_type": "code",
   "execution_count": 34,
   "metadata": {},
   "outputs": [
    {
     "name": "stdout",
     "output_type": "stream",
     "text": [
      "Maximum sum 3 x 3 matrix is\n",
      "8 6 7 \n",
      "4 4 4 \n",
      "5 5 5 \n",
      "sum 48\n"
     ]
    }
   ],
   "source": [
    "# An efficient C++ program to find maximum sum\n",
    "# sub-square matrix\n",
    "\n",
    "# Size of given matrix\n",
    "N = 5\n",
    "\n",
    "# A O(n^2) function to the maximum sum sub-\n",
    "# squares of size k x k in a given square\n",
    "# matrix of size n x n\n",
    "\n",
    "\n",
    "def printMaxSumSub(mat, k):\n",
    "\n",
    "  # k must be smaller than or equal to n\n",
    "  if (k > N):\n",
    "    return\n",
    "\n",
    "  # 1: PREPROCESSING\n",
    "  # To store sums of all strips of size k x 1\n",
    "  stripSum = [[0 for j in range(N)] for i in range(N)]\n",
    "\n",
    "  # Go column by column\n",
    "  for j in range(N):\n",
    "\n",
    "    # Calculate sum of first k x 1 rectangle\n",
    "    # in this column\n",
    "    sum = 0\n",
    "    for i in range(k):\n",
    "      sum += mat[i][j]\n",
    "    stripSum[0][j] = sum\n",
    "\n",
    "    # Calculate sum of remaining rectangles\n",
    "    for i in range(1, N-k+1):\n",
    "      sum += (mat[i+k-1][j] - mat[i-1][j])\n",
    "      stripSum[i][j] = sum\n",
    "\n",
    "  # max_sum stores maximum sum and its\n",
    "  # position in matrix\n",
    "  max_sum = -1000000000\n",
    "  i_ind = 0\n",
    "  j_ind = 0\n",
    "\n",
    "  # 2: CALCULATE SUM of Sub-Squares using stripSum[][]\n",
    "  for i in range(N-k+1):\n",
    "\n",
    "    # Calculate and print sum of first subsquare\n",
    "    # in this row\n",
    "    sum = 0\n",
    "    for j in range(k):\n",
    "      sum += stripSum[i][j]\n",
    "\n",
    "    # Update max_sum and position of result\n",
    "    if (sum > max_sum):\n",
    "      max_sum = sum\n",
    "      i_ind = i\n",
    "      j_ind = 0\n",
    "\n",
    "    # Calculate sum of remaining squares in\n",
    "    # current row by removing the leftmost\n",
    "    # strip of previous sub-square and adding\n",
    "    # a new strip\n",
    "    for j in range(1, N-k+1):\n",
    "      sum += (stripSum[i][j+k-1] - stripSum[i][j-1])\n",
    "\n",
    "      # Update max_sum and position of result\n",
    "      if (sum > max_sum):\n",
    "        max_sum = sum\n",
    "        i_ind = i\n",
    "        j_ind = j\n",
    "\n",
    "  # Print the result matrix\n",
    "  sum=0\n",
    "  for i in range(k):\n",
    "    for j in range(k):\n",
    "      sum+=mat[i+i_ind][j+j_ind]\n",
    "  return sum\n",
    "\n",
    "\n",
    "# Driver program to test above function\n",
    "mat = [[1, 1, 1, 1, 1],\n",
    "       [2, 2, 2, 2, 2],\n",
    "       [3, 8, 6, 7, 3],\n",
    "       [4, 4, 4, 4, 4],\n",
    "       [5, 5, 5, 5, 5],\n",
    "       ]\n",
    "k = 3\n",
    "print(\"Maximum sum 3 x 3 matrix is\")\n",
    "printMaxSumSub(mat, k)\n",
    "\n",
    "# This code is contributed by rutvik_56.\n"
   ]
  },
  {
   "cell_type": "code",
   "execution_count": 35,
   "metadata": {},
   "outputs": [
    {
     "ename": "SyntaxError",
     "evalue": "invalid syntax (2848685133.py, line 1)",
     "output_type": "error",
     "traceback": [
      "\u001b[0;36m  File \u001b[0;32m\"/var/folders/y1/x4pp7ct53md7dr06z28x83nm0000gp/T/ipykernel_305/2848685133.py\"\u001b[0;36m, line \u001b[0;32m1\u001b[0m\n\u001b[0;31m    Problem Description\u001b[0m\n\u001b[0m            ^\u001b[0m\n\u001b[0;31mSyntaxError\u001b[0m\u001b[0;31m:\u001b[0m invalid syntax\n"
     ]
    }
   ],
   "source": [
    "Problem Description\n",
    "\n",
    "Implement the next permutation, which rearranges numbers into the numerically next greater permutation of numbers for a given array A of size N.\n",
    "\n",
    "If such arrangement is not possible, it must be rearranged as the lowest possible order i.e., sorted in an ascending order.\n",
    "\n",
    "NOTE:\n",
    "\n",
    "The replacement must be in -place, do not allocate extra memory.\n",
    "DO NOT USE LIBRARY FUNCTION FOR NEXT PERMUTATION. Use of Library functions will disqualify your submission retroactively and will give you penalty points.\n",
    "\n",
    "\n",
    "Problem Constraints\n",
    "1 <= N <= 5 * 105\n",
    "\n",
    "1 <= A[i] <= 109\n",
    "\n",
    "\n",
    "Input Format\n",
    "The first and the only argument of input has an array of integers, A.\n",
    "\n",
    "\n",
    "Output Format\n",
    "Return an array of integers, representing the next permutation of the given array.\n",
    "\n",
    "\n",
    "Example Input\n",
    "Input 1:\n",
    "\n",
    " A = [1, 2, 3]\n",
    "Input 2:\n",
    "\n",
    " A = [3, 2, 1]\n",
    "\n",
    "\n",
    "Example Output\n",
    "Output 1:\n",
    "\n",
    " [1, 3, 2]\n",
    "Output 2:\n",
    "\n",
    " [1, 2, 3]\n"
   ]
  },
  {
   "cell_type": "code",
   "execution_count": null,
   "metadata": {},
   "outputs": [],
   "source": [
    "Problem Description\n",
    "\n",
    "Given an array A of N integers, find three integers in A such that the sum is closest to a given number B. Return the sum of those three integers.\n",
    "\n",
    "Assume that there will only be one solution.\n",
    "\n",
    "\n",
    "Problem Constraints\n",
    "-108 <= B <= 108\n",
    "1 <= N <= 104\n",
    "-108 <= A[i] <= 108\n",
    "\n",
    "\n",
    "Input Format\n",
    "First argument is an integer array A of size N.\n",
    "\n",
    "Second argument is an integer B denoting the sum you need to get close to.\n",
    "\n",
    "\n",
    "Output Format\n",
    "Return a single integer denoting the sum of three integers which is closest to B.\n",
    "\n",
    "\n",
    "Example Input\n",
    "Input 1:\n",
    "\n",
    "A = [-1, 2, 1, -4]\n",
    "B = 1\n",
    "Input 2:\n",
    "\n",
    "\n",
    "A = [1, 2, 3]\n",
    "B = 6\n",
    "\n",
    "\n",
    "Example Output\n",
    "Output 1:\n",
    "\n",
    "2\n",
    "Output 2:\n",
    "\n",
    "6\n"
   ]
  },
  {
   "cell_type": "code",
   "execution_count": null,
   "metadata": {},
   "outputs": [],
   "source": [
    "Problem Description\n",
    "\n",
    "Given a string A, find the length of the longest substring without repeating characters.\n",
    "\n",
    "Note: Users are expected to solve in O(N) time complexity.\n",
    "\n",
    "\n",
    "Problem Constraints\n",
    "1 <= size(A) <= 106\n",
    "\n",
    "String consists of lowerCase, upperCase characters and digits are also present in the string A.\n",
    "\n",
    "\n",
    "Input Format\n",
    "Single Argument representing string A.\n",
    "\n",
    "\n",
    "Output Format\n",
    "Return an integer denoting the maximum possible length of substring without repeating characters.\n",
    "\n",
    "\n",
    "Example Input\n",
    "Input 1:\n",
    "\n",
    " A = \"abcabcbb\"\n",
    "Input 2:\n",
    "\n",
    " A = \"AaaA\"\n"
   ]
  },
  {
   "cell_type": "code",
   "execution_count": null,
   "metadata": {},
   "outputs": [],
   "source": [
    "Problem Description\n",
    "\n",
    "Given an array A of N strings, return all groups of strings that are anagrams.\n",
    "\n",
    "Represent a group by a list of integers representing the index(1-based) in the original list. Look at the sample case for clarification.\n",
    "\n",
    "NOTE: Anagram: a word, phrase, or name formed by rearranging the letters of another, such as 'spar', formed from 'rasp'.\n",
    "\n",
    "\n",
    "Problem Constraints\n",
    "1 <= N <= 104\n",
    "\n",
    "1 <= |A[i] | <= 104\n",
    "\n",
    "Each string consists only of lowercase characters.\n",
    "\n",
    "Sum of length of all the strings doesn't exceed 107\n",
    "\n",
    "\n",
    "Input Format\n",
    "Single Argument A which is an array of strings.\n",
    "\n",
    "\n",
    "Output Format\n",
    "Return a two-dimensional array where each row describes a group.\n",
    "\n",
    "Note:\n",
    "\n",
    "Ordering of the result:\n",
    "You should not change the relative ordering of the strings within the group suppose within a group containing A[i] and A[j], A[i] comes before A[j] if i < j.\n",
    "\n",
    "\n",
    "Example Input\n",
    "Input 1:\n",
    "\n",
    " A = [cat, dog, god, tca]\n",
    "Input 2:\n",
    "\n",
    " A = [rat, tar, art]\n",
    "\n",
    "\n",
    "Example Output\n",
    "Output 1:\n",
    "\n",
    " [[1, 4],\n",
    "  [2, 3]]\n",
    "Output 2:\n",
    "\n",
    " [[1, 2, 3]]\n",
    "\n",
    "\n",
    "Example Explanation\n",
    "Explanation 1:\n",
    "\n",
    " \"cat\" and \"tca\" are anagrams which correspond to index 1 and 4 and \"dog\" and \"god\" are another set of anagrams which correspond to index 2 and 3.\n",
    " The indices are 1 based(the first element has index 1 instead of index 0).\n",
    "Explanation 2:\n",
    "\n",
    " All three strings are anagrams.\n"
   ]
  },
  {
   "cell_type": "code",
   "execution_count": 48,
   "metadata": {},
   "outputs": [
    {
     "name": "stdout",
     "output_type": "stream",
     "text": [
      "1\n",
      "2\n",
      "3\n",
      "4\n",
      "5\n",
      "6\n",
      "7\n",
      "8\n"
     ]
    },
    {
     "data": {
      "text/plain": [
       "[[1, 2, 3, 4], [5, 6, 7, 8]]"
      ]
     },
     "execution_count": 48,
     "metadata": {},
     "output_type": "execute_result"
    }
   ],
   "source": [
    "r=2\n",
    "c=4\n",
    "mat = [[1, 2], [3, 4], [5, 6], [7, 8]]\n",
    "m=len(mat)\n",
    "n=len(mat[0])\n",
    "newMat = [[0 for _ in range(c)] for _ in range(r)]\n",
    "row=0\n",
    "col=0\n",
    "for i in range(m):\n",
    "  for j in range(n):\n",
    "    if row<r and col<c:\n",
    "      print(mat[i][j])\n",
    "      newMat[row][col]=mat[i][j]\n",
    "      col+=1\n",
    "    if col==c:\n",
    "      col=0\n",
    "      row+=1\n",
    "newMat"
   ]
  },
  {
   "cell_type": "code",
   "execution_count": 54,
   "metadata": {},
   "outputs": [
    {
     "name": "stdout",
     "output_type": "stream",
     "text": [
      "1\n",
      "2\n",
      "3\n",
      "4\n",
      "5\n",
      "6\n",
      "7\n",
      "8\n"
     ]
    },
    {
     "data": {
      "text/plain": [
       "[[1, 2, 3, 4], [5, 6, 7, 8]]"
      ]
     },
     "execution_count": 54,
     "metadata": {},
     "output_type": "execute_result"
    }
   ],
   "source": [
    "mat = [[1, 2], [3, 4], [5, 6], [7, 8]]\n",
    "m=len(mat)\n",
    "n=len(mat[0])\n",
    "reshape = [[0 for _ in range(c)] for _ in range(r)]\n",
    "\n",
    "for i in range(r*c):\n",
    "  print(mat[int(i/n)][i % n])\n",
    "  reshape[int(i/c)][i % c] = mat[int(i/n)][i % n]\n",
    "\n",
    "reshape"
   ]
  },
  {
   "cell_type": "code",
   "execution_count": 83,
   "metadata": {},
   "outputs": [
    {
     "name": "stdout",
     "output_type": "stream",
     "text": [
      "[12, 3, 3] [3, 3, 18]\n"
     ]
    },
    {
     "data": {
      "text/plain": [
       "6"
      ]
     },
     "execution_count": 83,
     "metadata": {},
     "output_type": "execute_result"
    }
   ],
   "source": [
    "# prefix and suffix GCD\n",
    "A = [12, 15, 18]\n",
    "\n",
    "def gcd(a, b):\n",
    "  if b==0:\n",
    "    return abs(a)\n",
    "  return gcd(b, a%b)\n",
    "\n",
    "prefixArr = []\n",
    "prefixArr.append(A[0])\n",
    "for i in range(1,len(A)):\n",
    "  curr=gcd(prefixArr[i-1], A[i])\n",
    "  prefixArr.append(curr)\n",
    "\n",
    "suffixArr=[0 for _ in range(len(A))]\n",
    "suffixArr[len(A)-1]=A[len(A)-1]\n",
    "for j in range(len(A)-2, -1, -1):\n",
    "  curr = gcd(suffixArr[j+1], A[j])\n",
    "  suffixArr[j]=curr\n",
    "\n",
    "maxGcd=0\n",
    "maxGcd = max(maxGcd, suffixArr[1])\n",
    "maxGcd = max(maxGcd, prefixArr[len(A)-2])\n",
    "# print(prefixArr, suffixArr)\n",
    "for i in range(1,len(A)-1):\n",
    "  compute = gcd(prefixArr[i-1], suffixArr[i+1])\n",
    "  maxGcd=max(maxGcd, compute)\n",
    "\n",
    "maxGcd"
   ]
  },
  {
   "cell_type": "code",
   "execution_count": 93,
   "metadata": {},
   "outputs": [
    {
     "data": {
      "text/plain": [
       "[[1], [2, 4], [3, 6, 9], [4, 8, 12, 16], [5, 10, 15, 20, 25]]"
      ]
     },
     "execution_count": 93,
     "metadata": {},
     "output_type": "execute_result"
    }
   ],
   "source": [
    "# Pattern printing\n",
    "n=5\n",
    "final=[]\n",
    "for i in range(n):\n",
    "  arr=[]\n",
    "  for j in range(1,i+2):\n",
    "    arr.append((i+1)*j)\n",
    "  final.append(arr)\n",
    "\n",
    "final"
   ]
  },
  {
   "cell_type": "code",
   "execution_count": 97,
   "metadata": {},
   "outputs": [
    {
     "name": "stdout",
     "output_type": "stream",
     "text": [
      "6\n",
      "[2, 1, 2, 2, 3, 2]\n"
     ]
    },
    {
     "data": {
      "text/plain": [
       "[]"
      ]
     },
     "execution_count": 97,
     "metadata": {},
     "output_type": "execute_result"
    }
   ],
   "source": [
    "def solve(A):\n",
    "  N = max(A)\n",
    "  # CountOfDivisors=[]\n",
    "  CountOfDivisors = [2 for _ in range(N+1)]\n",
    "  CountOfDivisors[1] = 1\n",
    "  print(len(CountOfDivisors))\n",
    "  for i in range(2, int(N**0.5)+1):\n",
    "    for j in range(i*i, N+1, i):\n",
    "      CountOfDivisors[j] += 2\n",
    "    CountOfDivisors[i*i] -= 1\n",
    "  res = []\n",
    "  print(CountOfDivisors)\n",
    "  # for i in range(1, len(A)):\n",
    "  #   res[i] = CountOfDivisors[A[i]]\n",
    "  return res\n",
    "\n",
    "\n",
    "solve([2, 3, 4, 5])\n"
   ]
  },
  {
   "cell_type": "code",
   "execution_count": 105,
   "metadata": {},
   "outputs": [
    {
     "ename": "KeyboardInterrupt",
     "evalue": "",
     "output_type": "error",
     "traceback": [
      "\u001b[0;31m---------------------------------------------------------------------------\u001b[0m",
      "\u001b[0;31mKeyboardInterrupt\u001b[0m                         Traceback (most recent call last)",
      "\u001b[0;32m/var/folders/y1/x4pp7ct53md7dr06z28x83nm0000gp/T/ipykernel_305/377701012.py\u001b[0m in \u001b[0;36m<module>\u001b[0;34m\u001b[0m\n\u001b[1;32m     18\u001b[0m       \u001b[0mcnt\u001b[0m\u001b[0;34m+=\u001b[0m\u001b[0;36m1\u001b[0m\u001b[0;34m\u001b[0m\u001b[0;34m\u001b[0m\u001b[0m\n\u001b[1;32m     19\u001b[0m       \u001b[0mtemp\u001b[0m\u001b[0;34m=\u001b[0m\u001b[0mtemp\u001b[0m\u001b[0;34m//\u001b[0m\u001b[0md\u001b[0m\u001b[0;34m\u001b[0m\u001b[0;34m\u001b[0m\u001b[0m\n\u001b[0;32m---> 20\u001b[0;31m     \u001b[0mans\u001b[0m\u001b[0;34m*=\u001b[0m\u001b[0mcnt\u001b[0m\u001b[0;34m\u001b[0m\u001b[0;34m\u001b[0m\u001b[0m\n\u001b[0m\u001b[1;32m     21\u001b[0m   \u001b[0msol\u001b[0m\u001b[0;34m.\u001b[0m\u001b[0mappend\u001b[0m\u001b[0;34m(\u001b[0m\u001b[0mans\u001b[0m\u001b[0;34m)\u001b[0m\u001b[0;34m\u001b[0m\u001b[0;34m\u001b[0m\u001b[0m\n\u001b[1;32m     22\u001b[0m \u001b[0;34m\u001b[0m\u001b[0m\n",
      "\u001b[0;31mKeyboardInterrupt\u001b[0m: "
     ]
    }
   ],
   "source": []
  },
  {
   "cell_type": "code",
   "execution_count": 1,
   "metadata": {},
   "outputs": [
    {
     "ename": "KeyboardInterrupt",
     "evalue": "",
     "output_type": "error",
     "traceback": [
      "\u001b[0;31m---------------------------------------------------------------------------\u001b[0m",
      "\u001b[0;31mKeyboardInterrupt\u001b[0m                         Traceback (most recent call last)",
      "\u001b[0;32m/var/folders/y1/x4pp7ct53md7dr06z28x83nm0000gp/T/ipykernel_68041/3712574695.py\u001b[0m in \u001b[0;36m<module>\u001b[0;34m\u001b[0m\n\u001b[1;32m     14\u001b[0m     \u001b[0;32mreturn\u001b[0m \u001b[0;34m(\u001b[0m\u001b[0mA\u001b[0m\u001b[0;34m**\u001b[0m\u001b[0mmath\u001b[0m\u001b[0;34m.\u001b[0m\u001b[0mfactorial\u001b[0m\u001b[0;34m(\u001b[0m\u001b[0mB\u001b[0m\u001b[0;34m)\u001b[0m\u001b[0;34m)\u001b[0m \u001b[0;34m%\u001b[0m\u001b[0;34m(\u001b[0m\u001b[0;36m100000007\u001b[0m\u001b[0;34m)\u001b[0m\u001b[0;34m\u001b[0m\u001b[0;34m\u001b[0m\u001b[0m\n\u001b[1;32m     15\u001b[0m \u001b[0;34m\u001b[0m\u001b[0m\n\u001b[0;32m---> 16\u001b[0;31m \u001b[0msolve\u001b[0m\u001b[0;34m(\u001b[0m\u001b[0;36m2\u001b[0m\u001b[0;34m,\u001b[0m \u001b[0;36m27\u001b[0m\u001b[0;34m)\u001b[0m\u001b[0;34m\u001b[0m\u001b[0;34m\u001b[0m\u001b[0m\n\u001b[0m",
      "\u001b[0;32m/var/folders/y1/x4pp7ct53md7dr06z28x83nm0000gp/T/ipykernel_68041/3712574695.py\u001b[0m in \u001b[0;36msolve\u001b[0;34m(A, B)\u001b[0m\n\u001b[1;32m     12\u001b[0m                 \u001b[0mn\u001b[0m \u001b[0;34m-=\u001b[0m \u001b[0;36m1\u001b[0m\u001b[0;34m\u001b[0m\u001b[0;34m\u001b[0m\u001b[0m\n\u001b[1;32m     13\u001b[0m             \u001b[0;32mreturn\u001b[0m \u001b[0mfact\u001b[0m \u001b[0;34m%\u001b[0m \u001b[0;34m(\u001b[0m\u001b[0;36m100000007\u001b[0m\u001b[0;34m)\u001b[0m\u001b[0;34m\u001b[0m\u001b[0;34m\u001b[0m\u001b[0m\n\u001b[0;32m---> 14\u001b[0;31m     \u001b[0;32mreturn\u001b[0m \u001b[0;34m(\u001b[0m\u001b[0mA\u001b[0m\u001b[0;34m**\u001b[0m\u001b[0mmath\u001b[0m\u001b[0;34m.\u001b[0m\u001b[0mfactorial\u001b[0m\u001b[0;34m(\u001b[0m\u001b[0mB\u001b[0m\u001b[0;34m)\u001b[0m\u001b[0;34m)\u001b[0m \u001b[0;34m%\u001b[0m\u001b[0;34m(\u001b[0m\u001b[0;36m100000007\u001b[0m\u001b[0;34m)\u001b[0m\u001b[0;34m\u001b[0m\u001b[0;34m\u001b[0m\u001b[0m\n\u001b[0m\u001b[1;32m     15\u001b[0m \u001b[0;34m\u001b[0m\u001b[0m\n\u001b[1;32m     16\u001b[0m \u001b[0msolve\u001b[0m\u001b[0;34m(\u001b[0m\u001b[0;36m2\u001b[0m\u001b[0;34m,\u001b[0m \u001b[0;36m27\u001b[0m\u001b[0;34m)\u001b[0m\u001b[0;34m\u001b[0m\u001b[0;34m\u001b[0m\u001b[0m\n",
      "\u001b[0;31mKeyboardInterrupt\u001b[0m: "
     ]
    }
   ],
   "source": [
    "import math\n",
    "def solve( A, B):\n",
    "    def factorial(n):\n",
    "        if n < 0:\n",
    "            return 0\n",
    "        elif n == 0 or n == 1:\n",
    "            return 1\n",
    "        else:\n",
    "            fact = 1\n",
    "            while(n > 1):\n",
    "                fact *= n\n",
    "                n -= 1\n",
    "            return fact % (100000007)\n",
    "    return (A**math.factorial(B)) %(100000007)\n",
    "\n",
    "solve(2, 27)"
   ]
  },
  {
   "cell_type": "code",
   "execution_count": 4,
   "metadata": {},
   "outputs": [
    {
     "name": "stdout",
     "output_type": "stream",
     "text": [
      "dict_items([('a', 3), ('n', 1), ('g', 1), ('r', 1), ('m', 1)]) Counter({'a': 3, 'n': 1, 'g': 1, 'r': 1, 'm': 1})\n"
     ]
    },
    {
     "data": {
      "text/plain": [
       "True"
      ]
     },
     "execution_count": 4,
     "metadata": {},
     "output_type": "execute_result"
    }
   ],
   "source": [
    "from collections import Counter\n",
    "\n",
    "\n",
    "def isAnagram( s: str, t: str) -> bool:\n",
    "\n",
    "    s_count = Counter(s)\n",
    "    t_count = Counter(t)\n",
    "    print(s_count.items(), t_count)\n",
    "\n",
    "    if len(s) != len(t):\n",
    "        return False\n",
    "\n",
    "    for letter, count in s_count.items():\n",
    "        if s_count[letter] != t_count[letter]:\n",
    "            return False\n",
    "\n",
    "    return True\n",
    "\n",
    "\n",
    "s = \"anagram\" \n",
    "t = \"nagaram\"\n",
    "isAnagram(s, t)"
   ]
  },
  {
   "cell_type": "code",
   "execution_count": 7,
   "metadata": {},
   "outputs": [
    {
     "data": {
      "text/plain": [
       "1"
      ]
     },
     "execution_count": 7,
     "metadata": {},
     "output_type": "execute_result"
    }
   ],
   "source": [
    "def singleNumber( A):\n",
    "  res = A[0]\n",
    "  for i in range(1, len(A)):\n",
    "    res = res ^ A[i]\n",
    "  return res\n",
    "\n",
    "\n",
    "A = [0, 0, 0, 1]\n",
    "\n",
    "singleNumber(A)"
   ]
  },
  {
   "cell_type": "code",
   "execution_count": 17,
   "metadata": {},
   "outputs": [
    {
     "data": {
      "text/plain": [
       "[1, 0, 3, 2]"
      ]
     },
     "execution_count": 17,
     "metadata": {},
     "output_type": "execute_result"
    }
   ],
   "source": [
    "def arrange(A):\n",
    "    # First step: Increase all values\n",
    "    # by (arr[arr[i]] % n) * n\n",
    "    n = len(A)\n",
    "    for i in range(0, n):\n",
    "        A[i] += (A[A[i]] % n) * n\n",
    "\n",
    "    # Second Step: Divide all values\n",
    "    # by n\n",
    "    for i in range(0, n):\n",
    "        A[i] = int(A[i] / n)\n",
    "    return A\n",
    "\n",
    "arrange([3,2,0,1])"
   ]
  },
  {
   "cell_type": "code",
   "execution_count": 20,
   "metadata": {},
   "outputs": [
    {
     "name": "stdout",
     "output_type": "stream",
     "text": [
      "1 5\n",
      "8 4\n",
      "8 10\n",
      "12 6\n"
     ]
    }
   ],
   "source": [
    "A=[1,8,4,12,5,10,6]\n",
    "\n",
    "for i in range(len(A)):\n",
    "  for j in range(i+1, len(A)):\n",
    "    aa = (A[i]+A[j]) % 6\n",
    "    if aa==0:\n",
    "      print(A[i], A[j])\n"
   ]
  },
  {
   "cell_type": "code",
   "execution_count": 23,
   "metadata": {},
   "outputs": [
    {
     "data": {
      "text/plain": [
       "4"
      ]
     },
     "execution_count": 23,
     "metadata": {},
     "output_type": "execute_result"
    }
   ],
   "source": [
    "def solve(A, B):\n",
    "  n=len(A)\n",
    "  mod = 1e9+7\n",
    "  cnt=[0 for _ in range(B)]\n",
    "  for i in range(n):\n",
    "    cnt[A[i]%B]+=1\n",
    "  ans = (cnt[0]*(cnt[0]-1))//2\n",
    "  ans%=mod\n",
    "  i=1\n",
    "  j=B-1\n",
    "  while(i<=j):\n",
    "    if i==j:\n",
    "      ans += (cnt[i]*(cnt[j]-1))//2\n",
    "      ans%=mod\n",
    "    else:\n",
    "      ans += (cnt[i]*(cnt[j]))\n",
    "      ans%=mod\n",
    "    i+=1\n",
    "    j-=1\n",
    "  return int(ans%mod)\n",
    "\n",
    "A=[1,8,4,12,5,10,6]\n",
    "B=6\n",
    "solve(A, B)\n"
   ]
  },
  {
   "cell_type": "code",
   "execution_count": 24,
   "metadata": {},
   "outputs": [
    {
     "data": {
      "text/plain": [
       "154291200"
      ]
     },
     "execution_count": 24,
     "metadata": {},
     "output_type": "execute_result"
    }
   ],
   "source": [
    "import math\n",
    "A=[ 96, 98, 5, 41, 80 ]\n",
    "G=1\n",
    "for i in A:\n",
    "  G*=i\n",
    "\n",
    "G"
   ]
  },
  {
   "cell_type": "code",
   "execution_count": 35,
   "metadata": {},
   "outputs": [
    {
     "name": "stdout",
     "output_type": "stream",
     "text": [
      "9223372036854775807\n"
     ]
    },
    {
     "data": {
      "text/plain": [
       "2147483648"
      ]
     },
     "execution_count": 35,
     "metadata": {},
     "output_type": "execute_result"
    }
   ],
   "source": [
    "# Divide integer\n",
    "import sys\n",
    "maxSize = sys.maxsize\n",
    "minSize = -sys.maxsize - 1\n",
    "A= -2147483648\n",
    "B= -1\n",
    "def solve(A, B):\n",
    "  if B == 1:\n",
    "    print('ove')\n",
    "    return A\n",
    "  c = 0\n",
    "  sign = 1\n",
    "  if A < 0:\n",
    "    sign = -sign\n",
    "  if B < 0:\n",
    "    sign = -sign\n",
    "  A = abs(A)\n",
    "  B = abs(B)\n",
    "\n",
    "  for i in range(31, -1, -1):\n",
    "    if (B << i) <= A:\n",
    "      A -= (B << i)\n",
    "      c += (1 << i)\n",
    "  if sign < 0:\n",
    "    c = -c\n",
    "  if c >= maxSize:\n",
    "    print(\"obe\")\n",
    "    return maxSize\n",
    "  else:\n",
    "    return c\n",
    "print(maxSize)\n",
    "\n",
    "solve(A, B)"
   ]
  },
  {
   "cell_type": "code",
   "execution_count": 26,
   "metadata": {},
   "outputs": [
    {
     "name": "stdout",
     "output_type": "stream",
     "text": [
      "2147483648\n",
      "2147483648\n",
      "40\n",
      "-5\n"
     ]
    }
   ],
   "source": [
    "# Python3 implementation to\n",
    "# Divide two integers\n",
    "# without using multiplication,\n",
    "# division and mod operator\n",
    "\n",
    "# Function to divide a by\n",
    "# b and return floor value it\n",
    "def divide(dividend, divisor):\n",
    "\n",
    "\t# Calculate sign of divisor\n",
    "\t# i.e., sign will be negative\n",
    "\t# either one of them is negative\n",
    "\t# only iff otherwise it will be\n",
    "\t# positive\n",
    "\n",
    "\tsign = (-1 if((dividend < 0) ^\n",
    "               (divisor < 0)) else 1)\n",
    "\n",
    "\t# remove sign of operands\n",
    "\tdividend = abs(dividend)\n",
    "\tdivisor = abs(divisor)\n",
    "\n",
    "\t# Initialize\n",
    "\t# the quotient\n",
    "\tquotient = 0\n",
    "\ttemp = 0\n",
    "\n",
    "\t# test down from the highest\n",
    "\t# bit and accumulate the\n",
    "\t# tentative value for valid bit\n",
    "\tfor i in range(31, -1, -1):\n",
    "\t\tif (temp + (divisor << i) <= dividend):\n",
    "\t\t\ttemp += divisor << i\n",
    "\t\t\tquotient |= 1 << i\n",
    "\t#if the sign value computed earlier is -1 then negate the value of quotient\n",
    "\tprint(temp)\n",
    "\tif sign == -1:\n",
    "\t  quotient = -quotient\n",
    "\treturn quotient\n",
    "\n",
    "\n",
    "# Driver code\n",
    "a = 10\n",
    "b = 3\n",
    "print(divide(A, B))\n",
    "\n",
    "a = 43\n",
    "b = -8\n",
    "print(divide(a, b))\n",
    "\n",
    "# This code is contributed by mits\n"
   ]
  },
  {
   "cell_type": "code",
   "execution_count": 23,
   "metadata": {},
   "outputs": [
    {
     "name": "stdout",
     "output_type": "stream",
     "text": [
      "[5, 9, 11, 16, 17, 23, 34, 34, 35, 41, 43, 53, 64, 66, 66, 71, 72, 80, 87, 100, 98, 94, 96]\n"
     ]
    },
    {
     "data": {
      "text/plain": [
       "87"
      ]
     },
     "execution_count": 23,
     "metadata": {},
     "output_type": "execute_result"
    }
   ],
   "source": [
    "A = [94, 87, 100, 11, 23, 98, 17, 35, 43, 66, 34,\n",
    "     53, 72, 80, 5, 34, 64, 71, 9, 16, 41, 66, 96]\n",
    "B= 19\n",
    "\n",
    "\n",
    "def kthsmallest( A, B):\n",
    "  A = list(A)\n",
    "  for i in range(len(A)-1):\n",
    "      index = i\n",
    "      for j in range(i+1, len(A)):\n",
    "        if A[j] < A[index]:\n",
    "          index = j\n",
    "      A[i], A[index] = A[index], A[i]\n",
    "      if i+1==B:\n",
    "        break\n",
    "  print(A)\n",
    "  return A[B-1]\n",
    "\n",
    "kthsmallest(A, B)"
   ]
  },
  {
   "cell_type": "code",
   "execution_count": 26,
   "metadata": {},
   "outputs": [
    {
     "data": {
      "text/plain": [
       "0"
      ]
     },
     "execution_count": 26,
     "metadata": {},
     "output_type": "execute_result"
    }
   ],
   "source": [
    "def solve( A, B):\n",
    "  curr_sum = A[0]\n",
    "  start = 0\n",
    "  cnt=0\n",
    "  i = 1\n",
    "  n = len(A)\n",
    "  while(i <= n):\n",
    "      while curr_sum > B and start < i-1:\n",
    "          curr_sum -= A[start]\n",
    "          start += 1\n",
    "      if curr_sum == B:\n",
    "          cnt+=1\n",
    "      if i < n:\n",
    "          curr_sum = curr_sum + A[i]\n",
    "      i += 1\n",
    "  return cnt\n",
    "\n",
    "solve([-1,-1,1], 0)"
   ]
  },
  {
   "cell_type": "code",
   "execution_count": 5,
   "metadata": {},
   "outputs": [
    {
     "name": "stdout",
     "output_type": "stream",
     "text": [
      "0 0 3 3\n",
      "hey\n",
      "0 1 3 24\n",
      "hey\n",
      "0 2 3 50\n",
      "hey\n",
      "0 3 3 79\n",
      "hey\n",
      "0 4 3 88\n",
      "hey\n",
      "0 5 3 150\n",
      "hey\n",
      "0 6 3 345\n",
      "1 6 24 345\n",
      "2 6 50 345\n",
      "3 6 79 345\n",
      "4 6 88 345\n",
      "5 6 150 345\n"
     ]
    }
   ],
   "source": [
    "\n",
    "numbers=[3, 24, 50, 79, 88, 150, 345]\n",
    "target=200\n",
    "p1 = 0\n",
    "p2 = 0\n",
    "n = len(numbers)\n",
    "while p1 < n-1 and p2 < n:\n",
    "      print(p1, p2, numbers[p1], numbers[p2])\n",
    "      if numbers[p1]+numbers[p2] == target:\n",
    "          print ([p1+1, p2+1])\n",
    "          break\n",
    "      elif numbers[p1]+numbers[p2] < target and p2 != n-1:\n",
    "          print('hey')\n",
    "          p2 += 1\n",
    "      elif numbers[p1]+numbers[p2] > target:\n",
    "          p1 += 1\n",
    "      else:\n",
    "          p1 += 1\n",
    "          # p2+=1\n"
   ]
  },
  {
   "cell_type": "code",
   "execution_count": 12,
   "metadata": {},
   "outputs": [
    {
     "name": "stdout",
     "output_type": "stream",
     "text": [
      "4\n"
     ]
    }
   ],
   "source": [
    "# 122. Best Time to Buy and Sell Stock II\n",
    "prices = [1, 2, 3, 4, 5]\n",
    "profit=0\n",
    "for i in range(0,len(prices)-1):\n",
    "  if prices[i]<prices[i+1]:\n",
    "    profit+=prices[i]<prices[i+1]\n",
    "print(profit)"
   ]
  },
  {
   "cell_type": "code",
   "execution_count": 22,
   "metadata": {},
   "outputs": [
    {
     "data": {
      "text/plain": [
       "[[1, 4], [5, 6]]"
      ]
     },
     "execution_count": 22,
     "metadata": {},
     "output_type": "execute_result"
    }
   ],
   "source": [
    "# merge Intervals\n",
    "# def merge(intervals, newInterval):\n",
    "#   if len(intervals) == 0:\n",
    "#       return [newInterval]\n",
    "#   result = []\n",
    "#   result.append(newInterval)\n",
    "#   for i in range(0,len(intervals)):\n",
    "#       a = result.pop()\n",
    "#       b = intervals[i]\n",
    "#       if a.start > b.end:\n",
    "#           result.append(b)\n",
    "#           result.append(a)\n",
    "#       elif a.end < b.start:\n",
    "#           result.append(a)\n",
    "#           result.append(b)\n",
    "#       else:\n",
    "#           start = min(a.start, b.start)\n",
    "#           end = max(a.end, b.end)\n",
    "#           result.append(Interval(start, end))\n",
    "      \n",
    "#   return result\n",
    "\n",
    "\n",
    "A = [[1, 4], [5, 6]]\n",
    "\n",
    "res=[]\n",
    "i=0\n",
    "while i<len(A):\n",
    "  if A[i][0]<=A[i+1][1]\n",
    "  if A[i][1]>=A[i+1][0]:\n",
    "    res.append([A[i][0], A[i+1][1]])\n",
    "    i+=2\n",
    "  \n",
    "  else:\n",
    "    res.append(A[i])\n",
    "    res.append(A[i+1])\n",
    "    i+=2\n",
    "\n",
    "res"
   ]
  },
  {
   "cell_type": "code",
   "execution_count": 26,
   "metadata": {},
   "outputs": [
    {
     "data": {
      "text/plain": [
       "3"
      ]
     },
     "execution_count": 26,
     "metadata": {},
     "output_type": "execute_result"
    }
   ],
   "source": [
    "# Merge two sorted sublists `A[low … mid]` and `A[mid+1 … high]`\n",
    "def merge(A, aux, low, mid, high):\n",
    "\n",
    "    k = i = low\n",
    "    j = mid + 1\n",
    "    inversionCount = 0\n",
    "\n",
    "    # while there are elements in the left and right runs\n",
    "    while i <= mid and j <= high:\n",
    "        if A[i] <= A[j]:\n",
    "            aux[k] = A[i]\n",
    "            i = i + 1\n",
    "        else:\n",
    "            aux[k] = A[j]\n",
    "            j = j + 1\n",
    "            inversionCount += (mid - i + 1)        # NOTE\n",
    "\n",
    "        k = k + 1\n",
    "\n",
    "    # copy remaining elements\n",
    "    while i <= mid:\n",
    "        aux[k] = A[i]\n",
    "        k = k + 1\n",
    "        i = i + 1\n",
    "\n",
    "    ''' no need to copy the second half (since the remaining items\n",
    "        are already in their correct position in the temporary array) '''\n",
    "\n",
    "    # copy back to the original list to reflect sorted order\n",
    "    for i in range(low, high + 1):\n",
    "        A[i] = aux[i]\n",
    "\n",
    "    return inversionCount\n",
    "\n",
    "\n",
    "# Sort list `A[low…high]` using auxiliary list `aux`\n",
    "def mergesort(A, aux, low, high):\n",
    "\n",
    "    # base case\n",
    "    if high <= low:        # if run size <= 1\n",
    "        return 0\n",
    "\n",
    "    # find midpoint\n",
    "    mid = low + ((high - low) >> 1)\n",
    "    inversionCount = 0\n",
    "\n",
    "    # recursively split runs into two halves until run size <= 1,\n",
    "    # then merges them and return up the call chain\n",
    "\n",
    "    inversionCount += mergesort(A, aux, low, mid)       # split/merge left half\n",
    "    # split/merge right half\n",
    "    inversionCount += mergesort(A, aux, mid + 1, high)\n",
    "    # merge the two half runs\n",
    "    inversionCount += merge(A, aux, low, mid, high)\n",
    "\n",
    "    return inversionCount\n",
    "    \n",
    "\n",
    "A = [45, 10, 15, 25, 50]\n",
    "\n",
    "mergesort(A, A.copy(), 0, len(A)-1)"
   ]
  },
  {
   "cell_type": "code",
   "execution_count": 30,
   "metadata": {},
   "outputs": [
    {
     "name": "stdout",
     "output_type": "stream",
     "text": [
      "[3, 6, 12, 17, 15, 17, 22, 23, 14, 18]\n",
      "[0, 2, 3, -3, 3, -4, 5, 6, 8, 8, 9]\n"
     ]
    }
   ],
   "source": [
    "A = [3, 3, 6, 5, -2, 2, 5, 1, -9, 4]\n",
    "\n",
    "for i in range(1, len(A)):\n",
    "  A[i]+=A[i-1]\n",
    "\n",
    "print(A)\n",
    "A = [0, 2, 1, -6, 6, -7, 9, 1, 2, 0, 1]\n",
    "for i in range(1, len(A)):\n",
    "  A[i]+=A[i-1]\n",
    "\n",
    "print(A)\n"
   ]
  },
  {
   "cell_type": "code",
   "execution_count": 17,
   "metadata": {},
   "outputs": [
    {
     "name": "stdout",
     "output_type": "stream",
     "text": [
      "0 1\n",
      "1 2\n"
     ]
    },
    {
     "data": {
      "text/plain": [
       "[[0]]"
      ]
     },
     "execution_count": 17,
     "metadata": {},
     "output_type": "execute_result"
    }
   ],
   "source": [
    "def solve(mat, r, c):\n",
    "  reshape = [[0 for _ in range(c)] for _ in range(r)]\n",
    "  for i in range(len(mat)):\n",
    "    print(i, mat[i])\n",
    "    # reshape[i//c][i%c]=mat[i]\n",
    "  # for i in range(r*c):\n",
    "  #   print(mat[int(i/n)][i % n])\n",
    "  #   reshape[int(i/c)][i % c] = mat[int(i/n)][i % n]\n",
    "\n",
    "  return reshape\n",
    "\n",
    "\n",
    "# original = [1, 2, 3, 4]\n",
    "# m = 2\n",
    "# n = 2\n",
    "original, m, n = [1, 2], 1, 1\n",
    "solve(original, m,n)\n",
    "\n",
    "#TC- O(n)\n"
   ]
  },
  {
   "cell_type": "code",
   "execution_count": 10,
   "metadata": {},
   "outputs": [
    {
     "name": "stdout",
     "output_type": "stream",
     "text": [
      "889\n"
     ]
    },
    {
     "data": {
      "text/plain": [
       "8890"
      ]
     },
     "execution_count": 10,
     "metadata": {},
     "output_type": "execute_result"
    }
   ],
   "source": [
    "def check(m, C, n, k):\n",
    "  s=0\n",
    "  c=0\n",
    "  for i in range(n):\n",
    "    s+=C[i]\n",
    "    if(s>m):\n",
    "      c+=1\n",
    "      s=C[i]\n",
    "  if s!=0: c+=1\n",
    "  return c<=k\n",
    "\n",
    "def solve(A, B, C):\n",
    "  n=len(C)\n",
    "  low=max(C)\n",
    "  high=sum(C)\n",
    "  ans=high\n",
    "  while(low<=high):\n",
    "    m=(low+high)//2\n",
    "    if(check(m, C, n, A)):\n",
    "      ans=m\n",
    "      high=m-1\n",
    "    else:\n",
    "      low=m+1\n",
    "  print(ans)\n",
    "  return int((ans*B) % 10000003)\n",
    "\n",
    "\n",
    "A = 4\n",
    "B = 10\n",
    "C = [884, 228, 442, 889]\n",
    "\n",
    "solve(A, B, C)\n"
   ]
  },
  {
   "cell_type": "code",
   "execution_count": 7,
   "metadata": {},
   "outputs": [
    {
     "data": {
      "text/plain": [
       "8895"
      ]
     },
     "execution_count": 7,
     "metadata": {},
     "output_type": "execute_result"
    }
   ],
   "source": [
    "# A=4\n",
    "# B=1\n",
    "# C=[3, 5, 1, 7, 8, 2, 5, 3, 10, 1, 4, 7, 5, 4, 6]\n",
    "A= 4\n",
    "B= 10\n",
    "C= [884, 228, 442, 889]\n",
    "\n",
    "solve(A, B, C)"
   ]
  },
  {
   "cell_type": "code",
   "execution_count": 13,
   "metadata": {},
   "outputs": [
    {
     "name": "stdout",
     "output_type": "stream",
     "text": [
      "0.0\n",
      "1.0\n",
      "1.584962500721156\n",
      "2.0\n",
      "2.321928094887362\n",
      "2.584962500721156\n",
      "2.807354922057604\n",
      "3.0\n",
      "3.169925001442312\n"
     ]
    }
   ],
   "source": [
    "import math\n",
    "for i in range(1, 10):\n",
    "  print(math.log2(i))"
   ]
  },
  {
   "cell_type": "code",
   "execution_count": 36,
   "metadata": {},
   "outputs": [
    {
     "name": "stdout",
     "output_type": "stream",
     "text": [
      "95 146 51 2173 2833 1312 1521\n",
      "95 145 51 2173 2826 1312 1514\n",
      "95 144 51 2173 2780 1312 1468\n",
      "95 143 51 2173 2733 1312 1421\n",
      "95 142 51 2173 2733 1312 1421\n",
      "95 141 51 2173 2714 1312 1402\n",
      "95 140 51 2173 2681 1312 1369\n",
      "95 139 51 2173 2642 1312 1330\n",
      "95 138 51 2173 2602 1312 1290\n",
      "95 137 51 2173 2564 1312 1252\n",
      "95 136 51 2173 2524 1312 1212\n",
      "95 135 51 2173 2497 1312 1185\n",
      "95 134 51 2173 2465 1312 1153\n",
      "95 133 51 2173 2450 1312 1138\n",
      "95 132 51 2173 2404 1312 1092\n",
      "95 131 51 2173 2371 1312 1059\n",
      "95 130 51 2173 2328 1312 1016\n",
      "95 129 51 2173 2296 1312 984\n",
      "95 128 51 2173 2282 1312 970\n",
      "95 127 51 2173 2256 1312 944\n",
      "95 126 51 2173 2244 1312 932\n",
      "95 125 51 2173 2199 1312 887\n",
      "95 124 51 2173 2160 1312 861\n",
      "94 124 51 2134 2160 1312 848\n",
      "94 123 51 2134 2115 1312 822\n",
      "93 123 51 2103 2115 1312 803\n",
      "93 122 51 2103 2111 1312 799\n",
      "93 121 51 2103 2068 1312 791\n",
      "92 121 51 2097 2068 1312 785\n",
      "91 121 51 2049 2068 1312 756\n",
      "91 120 51 2049 2046 1312 737\n",
      "90 120 51 2048 2046 1312 736\n",
      "89 120 51 2010 2046 1312 734\n",
      "89 119 51 2010 2005 1312 698\n",
      "88 119 51 2006 2005 1312 694\n",
      "87 119 51 1984 2005 1312 693\n",
      "87 118 51 1984 1974 1312 672\n",
      "86 118 51 1983 1974 1312 671\n",
      "85 118 51 1957 1974 1312 662\n",
      "85 117 51 1957 1947 1312 645\n",
      "84 117 51 1953 1947 1312 641\n",
      "83 117 51 1926 1947 1312 635\n",
      "83 116 51 1926 1939 1312 627\n",
      "83 115 51 1926 1911 1312 614\n",
      "82 115 51 1909 1911 1312 599\n",
      "82 114 51 1909 1869 1312 597\n",
      "81 114 51 1874 1869 1312 562\n",
      "80 114 51 1857 1869 1312 557\n",
      "80 113 51 1857 1856 1312 545\n",
      "79 113 51 1815 1856 1312 544\n",
      "79 112 51 1815 1833 1312 521\n",
      "79 111 51 1815 1807 1312 503\n",
      "78 111 51 1800 1807 1312 495\n",
      "78 110 51 1800 1799 1312 488\n",
      "77 110 51 1754 1799 1312 487\n",
      "77 109 51 1754 1786 1312 474\n",
      "77 108 51 1754 1760 1312 448\n",
      "77 107 51 1754 1713 1312 442\n",
      "76 107 51 1735 1713 1312 423\n",
      "75 107 51 1720 1713 1312 408\n",
      "74 107 51 1701 1713 1312 401\n",
      "74 106 51 1701 1668 1312 389\n",
      "73 106 51 1658 1668 1312 356\n",
      "73 105 51 1658 1635 1312 346\n",
      "72 105 51 1624 1635 1312 323\n",
      "72 104 51 1624 1623 1312 312\n",
      "71 104 51 1617 1623 1312 311\n",
      "71 103 51 1617 1579 1312 305\n",
      "70 103 51 1581 1579 1312 269\n",
      "69 103 51 1537 1579 1312 267\n",
      "69 102 51 1537 1532 1312 225\n",
      "68 102 51 1520 1532 1312 220\n",
      "68 101 51 1520 1528 1312 216\n",
      "68 100 51 1520 1513 1312 208\n",
      "67 100 51 1486 1513 1312 201\n",
      "67 99 51 1486 1483 1312 174\n",
      "66 99 51 1449 1483 1312 171\n",
      "66 98 51 1449 1458 1312 146\n",
      "66 97 51 1449 1457 1312 145\n",
      "66 96 51 1449 1454 1312 142\n",
      "66 95 51 1449 1441 1312 137\n",
      "65 95 51 1400 1441 1312 129\n",
      "65 94 51 1400 1426 1312 114\n",
      "65 93 51 1400 1425 1312 113\n",
      "65 92 51 1400 1424 1312 112\n",
      "65 91 51 1400 1387 1312 88\n",
      "64 91 51 1380 1387 1312 75\n",
      "64 90 51 1380 1350 1312 68\n",
      "63 90 51 1339 1350 1312 38\n",
      "63 89 51 1339 1314 1312 27\n",
      "62 89 51 1331 1314 1312 19\n",
      "61 89 51 1305 1314 1312 9\n",
      "61 88 51 1305 1289 1312 23\n",
      "61 88 50 1305 1289 1277 28\n",
      "60 88 50 1291 1289 1277 14\n",
      "59 88 50 1277 1289 1277 12\n",
      "59 87 50 1277 1265 1277 12\n",
      "59 87 49 1277 1265 1242 35\n",
      "58 87 49 1263 1265 1242 23\n",
      "58 86 49 1263 1242 1242 21\n",
      "57 86 49 1239 1242 1242 3\n",
      "57 86 48 1239 1242 1219 23\n",
      "57 85 48 1239 1233 1219 20\n",
      "56 85 48 1213 1233 1219 20\n",
      "56 84 48 1213 1203 1219 16\n",
      "56 84 47 1213 1203 1180 33\n",
      "55 84 47 1203 1203 1180 23\n",
      "54 84 47 1183 1203 1180 23\n",
      "54 83 47 1183 1165 1180 18\n",
      "53 83 47 1146 1165 1180 34\n",
      "53 83 46 1146 1165 1134 31\n",
      "53 82 46 1146 1136 1134 12\n",
      "52 82 46 1112 1136 1134 24\n",
      "52 81 46 1112 1098 1134 36\n",
      "52 81 45 1112 1098 1123 25\n",
      "52 81 44 1112 1098 1088 24\n",
      "51 81 44 1075 1098 1088 23\n",
      "51 80 44 1075 1094 1088 19\n",
      "51 79 44 1075 1088 1088 13\n",
      "51 79 43 1075 1088 1064 24\n",
      "51 78 43 1075 1080 1064 16\n",
      "51 77 43 1075 1045 1064 30\n",
      "50 77 43 1034 1045 1064 30\n",
      "50 77 42 1034 1045 1050 16\n",
      "50 77 41 1034 1045 1033 12\n",
      "50 76 41 1034 1030 1033 4\n",
      "49 76 41 1009 1030 1033 24\n",
      "49 76 40 1009 1030 1010 21\n",
      "49 75 40 1009 1029 1010 20\n",
      "49 74 40 1009 1014 1010 5\n",
      "49 73 40 1009 974 1010 36\n",
      "49 73 39 1009 974 963 46\n",
      "48 73 39 974 974 963 11\n",
      "47 73 39 955 974 963 19\n",
      "47 72 39 955 951 963 12\n",
      "47 72 38 955 951 953 4\n",
      "46 72 38 955 951 953 4\n",
      "45 72 38 915 951 953 38\n",
      "45 72 37 915 951 935 36\n",
      "45 71 37 915 916 935 20\n",
      "45 71 36 915 916 888 28\n",
      "45 70 36 915 876 888 39\n",
      "44 70 36 883 876 888 12\n",
      "44 70 35 883 876 878 7\n",
      "43 70 35 858 876 878 20\n",
      "43 70 34 858 876 872 18\n",
      "43 69 34 858 868 872 14\n",
      "43 69 33 858 868 863 10\n",
      "43 68 33 858 831 863 32\n",
      "43 68 32 858 831 854 27\n",
      "42 68 32 856 831 854 25\n",
      "41 68 32 841 831 854 23\n",
      "41 68 31 841 831 806 35\n",
      "40 68 31 817 831 806 25\n",
      "40 67 31 817 819 806 13\n",
      "40 66 31 817 806 806 11\n",
      "39 66 31 812 806 806 6\n",
      "38 66 31 806 806 806 0\n",
      "38 66 30 806 806 766 40\n",
      "37 66 30 763 806 766 43\n",
      "37 65 30 763 788 766 25\n",
      "37 64 30 763 775 766 12\n",
      "37 63 30 763 755 766 11\n",
      "37 63 29 763 755 761 8\n",
      "36 63 29 754 755 761 7\n",
      "36 63 28 754 755 754 1\n",
      "36 62 28 754 708 754 46\n",
      "36 62 27 754 708 724 46\n",
      "35 62 27 747 708 724 39\n",
      "34 62 27 734 708 724 26\n",
      "33 62 27 721 708 724 16\n",
      "33 62 26 721 708 710 13\n",
      "32 62 26 689 708 710 21\n",
      "32 62 25 689 708 670 38\n",
      "32 61 25 689 669 670 20\n",
      "31 61 25 643 669 670 27\n",
      "31 61 24 643 669 628 41\n",
      "31 60 24 643 659 628 31\n",
      "31 59 24 643 650 628 22\n",
      "31 58 24 643 615 628 28\n",
      "30 58 24 621 615 628 13\n",
      "30 58 23 621 615 604 17\n",
      "29 58 23 615 615 604 11\n",
      "28 58 23 592 615 604 23\n",
      "28 57 23 592 601 604 12\n",
      "28 57 22 592 601 595 9\n",
      "28 56 22 592 601 595 9\n",
      "28 55 22 592 584 595 11\n",
      "28 55 21 592 584 570 22\n",
      "27 55 21 569 584 570 15\n",
      "27 54 21 569 538 570 32\n",
      "27 54 20 569 538 539 31\n",
      "26 54 20 520 538 539 19\n",
      "26 54 19 520 538 538 18\n",
      "26 54 18 520 538 501 37\n",
      "26 53 18 520 512 501 19\n",
      "25 53 18 495 512 501 17\n",
      "25 52 18 495 509 501 14\n",
      "25 51 18 495 487 501 14\n",
      "25 51 17 495 487 482 13\n",
      "24 51 17 492 487 482 10\n",
      "23 51 17 468 487 482 19\n",
      "23 50 17 468 460 482 22\n",
      "23 50 16 468 460 453 15\n",
      "22 50 16 459 460 453 7\n",
      "22 49 16 459 426 453 33\n",
      "21 49 16 424 426 453 29\n",
      "21 49 15 424 426 433 9\n",
      "21 49 14 424 426 404 22\n",
      "21 48 14 424 415 404 20\n",
      "20 48 14 423 415 404 19\n",
      "19 48 14 377 415 404 38\n",
      "19 47 14 377 384 404 27\n",
      "19 47 13 377 384 382 7\n",
      "19 46 13 377 367 382 15\n",
      "19 46 12 377 367 374 10\n",
      "18 46 12 374 367 374 7\n",
      "18 46 11 374 367 338 36\n",
      "17 46 11 370 367 338 32\n",
      "16 46 11 360 367 338 29\n",
      "16 45 11 360 342 338 22\n",
      "15 45 11 343 342 338 5\n",
      "14 45 11 333 342 338 9\n",
      "14 44 11 333 298 338 40\n",
      "14 44 10 333 298 313 35\n",
      "13 44 10 308 298 313 15\n",
      "13 44 9 308 298 295 13\n",
      "12 44 9 286 298 295 12\n",
      "12 43 9 286 291 295 9\n",
      "12 43 8 286 291 294 8\n",
      "12 43 7 286 291 259 32\n",
      "12 42 7 286 289 259 30\n",
      "12 41 7 286 252 259 34\n",
      "11 41 7 241 252 259 18\n",
      "11 41 6 241 252 238 14\n",
      "11 40 6 241 247 238 9\n",
      "11 39 6 241 199 238 42\n",
      "10 39 6 237 199 238 39\n",
      "10 39 5 237 199 197 40\n",
      "9 39 5 190 199 197 9\n",
      "9 38 5 190 199 197 9\n",
      "9 37 5 190 166 197 31\n",
      "9 37 4 190 166 154 36\n",
      "8 37 4 176 166 154 22\n",
      "7 37 4 161 166 154 12\n",
      "7 36 4 161 158 154 7\n",
      "6 36 4 116 158 154 42\n",
      "6 35 4 116 155 154 39\n",
      "6 34 4 116 115 154 39\n",
      "6 34 3 116 115 153 38\n",
      "6 34 2 116 115 141 26\n",
      "6 34 1 116 115 111 5\n",
      "5 34 1 75 115 111 40\n",
      "5 33 1 75 79 111 36\n",
      "5 33 0 75 79 78 4\n",
      "5 32 0 75 69 78 9\n"
     ]
    },
    {
     "data": {
      "text/plain": [
       "0"
      ]
     },
     "execution_count": 36,
     "metadata": {},
     "output_type": "execute_result"
    }
   ],
   "source": [
    "# Minimize the absolute difference\n",
    "\n",
    "A= [-33, 13, 49, 72, 75, 75, 116, 161, 176, 190, 237, 241, 286, 308, 333, 343, 360, 370, 374, 377, 423, 424, 459, 468, 492, 495, 520, 569, 592, 615, 621, 643, 689, 721, 734, 747, 754, 763, 806, 812, 817, 841, 856, 858, 883, 915, 955, 955, 974, 1009, 1034, 1075,\n",
    "    1112, 1146, 1183, 1203, 1213, 1239, 1263, 1277, 1291, 1305, 1331, 1339, 1380, 1400, 1449, 1486, 1520, 1537, 1581, 1617, 1624, 1658, 1701, 1720, 1735, 1754, 1800, 1815, 1857, 1874, 1909, 1926, 1953, 1957, 1983, 1984, 2006, 2010, 2048, 2049, 2097, 2103, 2134, 2173]\n",
    "B= [-515, -486, -443, -428, -426, -422, -414, -409, -384, -380, -371, -361, -354, -345, -338, -336, -321, -294, -292, -275, -260, -217, -209, -170, -148, -105, -97, -86, -85, -52, -9, 40, 69, 79, 115, 155, 158, 166, 199, 199, 247, 252, 289, 291, 298, 342, 367, 384, 415, 426, 460, 487, 509, 512, 538, 584, 601, 601, 615, 650, 659, 669, 708, 755, 775, 788, 806, 819, 831, 868, 876, 916, 951, 974, 1014, 1029, 1030, 1045,\n",
    "    1080, 1088, 1094, 1098, 1136, 1165, 1203, 1233, 1242, 1265, 1289, 1314, 1350, 1387, 1424, 1425, 1426, 1441, 1454, 1457, 1458, 1483, 1513, 1528, 1532, 1579, 1623, 1635, 1668, 1713, 1760, 1786, 1799, 1807, 1833, 1856, 1869, 1911, 1939, 1947, 1974, 2005, 2046, 2068, 2111, 2115, 2160, 2199, 2244, 2256, 2282, 2296, 2328, 2371, 2404, 2450, 2465, 2497, 2524, 2564, 2602, 2642, 2681, 2714, 2733, 2733, 2780, 2826, 2833]\n",
    "C= [78, 111, 141, 153, 154, 197, 238, 259, 294, 295, 313, 338, 374, 382, 404, 433, 453, 482, 501, 538, 539, 570, 595, 604, 628, 670, 710,\n",
    "    724, 754, 761, 766, 806, 854, 863, 872, 878, 888, 935, 953, 963, 1010, 1033, 1050, 1064, 1088, 1123, 1134, 1180, 1219, 1242, 1277, 1312]\n",
    "\n",
    "\n",
    "\n",
    "\n",
    "# if a < b and a < c:\n",
    "#     print('a small')\n",
    "# elif b < c:\n",
    "#     print('b small')\n",
    "# else:\n",
    "#     print('c small')\n",
    "\n",
    "\n",
    "n=[len(A)-1, len(B)-1, len(C)-1]\n",
    "p1, p2, p3  = n\n",
    "mindiff=1e7\n",
    "while(p1>=0 and p2>=0 and p3>=0):\n",
    "  mindiff = min(mindiff, abs(max(A[p1], B[p2], C[p3])-min(A[p1], B[p2], C[p3])))\n",
    "  print(p1, p2, p3, A[p1], B[p2], C[p3], max(\n",
    "      A[p1], B[p2], C[p3])-min(A[p1], B[p2], C[p3]))\n",
    "  if(A[p1] >= B[p2] and A[p1] > C[p3]):\n",
    "    p1-=1\n",
    "  elif(B[p2] > A[p1] and B[p2] > C[p3]):\n",
    "    p2-=1\n",
    "  else:\n",
    "    p3-=1\n",
    "\n",
    "\n",
    "mindiff"
   ]
  },
  {
   "cell_type": "code",
   "execution_count": 34,
   "metadata": {},
   "outputs": [
    {
     "name": "stdout",
     "output_type": "stream",
     "text": [
      "c big\n"
     ]
    }
   ],
   "source": [
    "a = 1\n",
    "b = 15\n",
    "c = 15\n",
    "\n",
    "if(a >= b and a > c):\n",
    "  print('a big')\n",
    "elif(b > a and b > c):\n",
    "  print('b big')\n",
    "else:\n",
    "  print('c big')\n"
   ]
  },
  {
   "cell_type": "code",
   "execution_count": 59,
   "metadata": {},
   "outputs": [
    {
     "name": "stdout",
     "output_type": "stream",
     "text": [
      "2 0 1 6 2 4 4\n",
      "1 0 1 5 2 4 3\n",
      "0 0 1 3 2 4 2\n",
      "0 0 0 3 2 3 1\n"
     ]
    },
    {
     "data": {
      "text/plain": [
       "1"
      ]
     },
     "execution_count": 59,
     "metadata": {},
     "output_type": "execute_result"
    }
   ],
   "source": [
    "A = [3, 5, 6]\n",
    "B = [2]\n",
    "C = [3, 4]\n",
    "n = [len(A)-1, len(B)-1, len(C)-1]\n",
    "p1, p2, p3 = n\n",
    "mindiff = 1e7\n",
    "while(p1 >= 0 and p2 >= 0 and p3 >= 0):\n",
    "  mindiff = min(mindiff, max(abs(A[p1]-B[p2]), abs(B[p2]-C[p3]), abs(C[p3]-A[p1])))\n",
    "  print(p1, p2, p3, A[p1], B[p2], C[p3], max( A[p1], B[p2], C[p3])-min(A[p1], B[p2], C[p3]))\n",
    "  if(A[p1] >= B[p2] and A[p1] > C[p3]):\n",
    "    p1 -= 1\n",
    "  elif(B[p2] > A[p1] and B[p2] > C[p3]):\n",
    "    p2 -= 1\n",
    "  else:\n",
    "    p3 -= 1\n",
    "\n",
    "\n",
    "mindiff\n"
   ]
  },
  {
   "cell_type": "code",
   "execution_count": 76,
   "metadata": {},
   "outputs": [
    {
     "data": {
      "text/plain": [
       "[1, 8]"
      ]
     },
     "execution_count": 76,
     "metadata": {},
     "output_type": "execute_result"
    }
   ],
   "source": [
    "A = [1, 2, 3, 4, 5]\n",
    "B = [2, 4, 6, 8]\n",
    "C = 9\n",
    "\n",
    "p1=0\n",
    "p2=len(B)-1\n",
    "res =[1e7,1e7]\n",
    "k=A[p1]\n",
    "prev=abs(A[p1]+B[p2]-C)\n",
    "\n",
    "while(p1<len(A) and p2>=0):\n",
    "  l=A[p1]+B[p2]\n",
    "  curr = abs(l-C)\n",
    "  if prev>curr:\n",
    "    prev=curr\n",
    "    k=A[p1]\n",
    "    res[1] = B[p2]\n",
    "  if prev==curr and A[p1]==k:\n",
    "    res[1]=B[p2]\n",
    "  if l<C:\n",
    "    p1+=1\n",
    "  else:\n",
    "    p2-=1\n",
    "  res[0]=k\n",
    "res\n",
    "\n"
   ]
  },
  {
   "cell_type": "code",
   "execution_count": 18,
   "metadata": {},
   "outputs": [
    {
     "data": {
      "text/plain": [
       "[96, 3, 98, 49, 5, 41, 80, 5]"
      ]
     },
     "execution_count": 18,
     "metadata": {},
     "output_type": "execute_result"
    }
   ],
   "source": [
    "import math\n",
    "A = [96, 98, 5, 41, 80]\n",
    "m=[]\n",
    "for i in range(len(A)):\n",
    "  sq=math.sqrt(A[i])\n",
    "  for j in range(2, int(sq)+1):\n",
    "    if A[i]%j==0:\n",
    "      m.append(A[i])\n",
    "      while(A[i]%j==0):\n",
    "        A[i]//=j\n",
    "  if A[i]>2:\n",
    "    m.append(A[i])\n",
    "m"
   ]
  },
  {
   "cell_type": "code",
   "execution_count": 41,
   "metadata": {},
   "outputs": [],
   "source": [
    "def allFactor(n):\n",
    "  i=1\n",
    "  while(i<=int(n**0.5)):\n",
    "    if n%i==0:\n",
    "      if n/i==i:\n",
    "        print(i, end=' ')\n",
    "      else:\n",
    "        print(i, n//i, end=' ')\n",
    "    i+=1"
   ]
  },
  {
   "cell_type": "code",
   "execution_count": 44,
   "metadata": {},
   "outputs": [],
   "source": [
    "def isPrime(n):\n",
    "  if n==1: return False\n",
    "  for i in range(2, int(n**0.5)+1):\n",
    "    if n%i==0:\n",
    "      return False\n",
    "  return True"
   ]
  },
  {
   "cell_type": "code",
   "execution_count": null,
   "metadata": {},
   "outputs": [],
   "source": [
    "import math"
   ]
  },
  {
   "cell_type": "code",
   "execution_count": 47,
   "metadata": {},
   "outputs": [
    {
     "name": "stdout",
     "output_type": "stream",
     "text": [
      "\n",
      "96- \n",
      "98- \n",
      "5- \n",
      "41- \n",
      "80- "
     ]
    },
    {
     "data": {
      "text/plain": [
       "{2, 3, 5.0, 7, 41.0}"
      ]
     },
     "execution_count": 47,
     "metadata": {},
     "output_type": "execute_result"
    }
   ],
   "source": [
    "A = [96, 98, 5, 41, 80]\n",
    "m=set()\n",
    "for i in range(len(A)):\n",
    "  n=A[i]\n",
    "  print()\n",
    "  print(A[i], end='- ')\n",
    "  j = 1\n",
    "  while(j <= int(n**0.5)):\n",
    "    if n % j == 0:\n",
    "      if n/j != j:\n",
    "        if isPrime(n/j):\n",
    "          m.add(n/j)\n",
    "      if isPrime(j):\n",
    "        m.add(j)\n",
    "    j += 1\n",
    "\n",
    "    \n",
    "m"
   ]
  },
  {
   "cell_type": "code",
   "execution_count": null,
   "metadata": {},
   "outputs": [],
   "source": [
    "if(year(prop(\"C_Date\")) < toNumber(year(now())), if(year(prop(\"C_Date\")) == toNumber(year(now())) - 1, \"Last Year\", if(year(prop(\"C_Date\")) < toNumber(year(now())) - 1, \"Before Last Year\", \"?\")), if(year(prop(\"C_Date\")) > toNumber(year(now())), if(year(prop(\"C_Date\")) == toNumber(year(now())) + 1, \"Next Year\", if(year(prop(\"C_Date\")) > toNumber(year(now())) + 1, \"Beyond Next Year\", \"?\")), if(year(prop(\"C_Date\")) == toNumber(year(now())), if(toNumber(formatDate(prop(\"C_Date\"), \"w\")) == toNumber(formatDate(now(), \"w\")), if(toNumber(formatDate(prop(\"C_Date\"), \"D\")) == toNumber(formatDate(now(), \"D\")), \"Today\", if(toNumber(formatDate(prop(\"C_Date\"), \"D\")) == toNumber(formatDate(now(), \"D\")) + 1, \"Tomorrow\", if(toNumber(formatDate(prop(\"C_Date\"), \"D\")) == toNumber(formatDate(now(), \"D\")) - 1, \"Yesterday\", if(toNumber(formatDate(prop(\"C_Date\"), \"D\")) < toNumber(formatDate(now(), \"D\")), \"Earlier This Week\", \"This Week\")))), if(toNumber(formatDate(prop(\"C_Date\"), \"w\")) == toNumber(formatDate(now(), \"w\")) + 1, \"Next Week\", if(toNumber(formatDate(prop(\"C_Date\"), \"w\")) == toNumber(formatDate(now(), \"w\")) - 1, \"Last Week\", if(toNumber(formatDate(prop(\"C_Date\"), \"M\")) == toNumber(formatDate(now(), \"M\")), if(toNumber(formatDate(prop(\"C_Date\"), \"D\")) < toNumber(formatDate(now(), \"D\")), \"Earlier This Month\", \"This Month\"), if(toNumber(formatDate(prop(\"C_Date\"), \"M\")) == toNumber(formatDate(now(), \"M\")) + 1, \"Next Month\", if(toNumber(formatDate(prop(\"C_Date\"), \"M\")) == toNumber(formatDate(now(), \"M\")) - 1, \"Last Month\", if(toNumber(formatDate(prop(\"C_Date\"), \"w\")) < toNumber(formatDate(now(), \"w\")), \"Earlier This Year\", \"This Year\"))))))), \"?\")))"
   ]
  },
  {
   "cell_type": "markdown",
   "metadata": {},
   "source": [
    "\n",
    "\n",
    "<img src=\"https://img.icons8.com/external-tal-revivo-light-tal-revivo/24/000000/external-level-up-your-coding-skills-and-quickly-land-a-job-logo-light-tal-revivo.png\"/>"
   ]
  },
  {
   "cell_type": "code",
   "execution_count": 6,
   "metadata": {},
   "outputs": [
    {
     "data": {
      "text/plain": [
       "6"
      ]
     },
     "execution_count": 6,
     "metadata": {},
     "output_type": "execute_result"
    }
   ],
   "source": [
    "A = [1, 1, 2, 3, 3]\n",
    "B = [1, 2, 1, 2, 1]\n",
    "hsx=dict()\n",
    "hsy=dict()\n",
    "for i, j in zip(A, B):\n",
    "  if i in hsx: hsx[i]+=1\n",
    "  else: hsx[i]=1\n",
    "  if j in hsy: hsy[j]+=1\n",
    "  else: hsy[j]=1\n",
    "ans=0\n",
    "for i in range(len(A)):\n",
    "  ans+=(hsx[A[i]]-1)*(hsy[B[i]]-1)\n",
    "ans"
   ]
  },
  {
   "cell_type": "code",
   "execution_count": 22,
   "metadata": {},
   "outputs": [
    {
     "name": "stdout",
     "output_type": "stream",
     "text": [
      "[[30, 200], [10, 20], [30, 20], [400, 50]]\n",
      "-170 -10 10 350 \n",
      "30 10 - 20 50 \n",
      "110\n"
     ]
    }
   ],
   "source": [
    "B = [[10, 20], [30, 200], [400, 50], [30, 20]]\n",
    "\n",
    "B =  sorted(B, key=lambda x:x[0]-x[1])\n",
    "sum=0\n",
    "\n",
    "for a in range(len(B)//2):\n",
    "  sum+=B[a][0]\n",
    "for a in range((len(B)//2), len(B)):\n",
    "  sum += B[a][1]"
   ]
  },
  {
   "cell_type": "code",
   "execution_count": 23,
   "metadata": {},
   "outputs": [
    {
     "data": {
      "text/plain": [
       "945"
      ]
     },
     "execution_count": 23,
     "metadata": {},
     "output_type": "execute_result"
    }
   ],
   "source": [
    "A=[ 505, 164, 266, 919, 852, 91, 795, 131, 594, 278, 709, 718, 924, 438, 234, 842, 884, 293, 932, 41, 796, 678, 306, 306, 572, 976, 259, 290, 722, 896, 258, 106, 427, 126, 783, 216, 273, 71, 793, 547, 761, 885, 477, 985, 824, 646, 264, 813, 463, 415, 370, 513, 429, 886, 448, 462, 688, 356, 172, 655, 34, 5, 542, 959, 801, 508, 96, 418, 582, 608, 338, 825, 123, 774, 345, 428, 298, 187, 234, 883, 916, 614, 318, 317, 216, 317, 692, 837, 800, 186, 87, 898, 811, 934, 576, 641, 247, 530, 13, 726, 461, 846, 535, 362, 494, 205, 112, 703, 935, 777, 846, 849, 597, 935, 369, 844, 29, 321, 809, 471, 521, 705, 526, 238, 893, 545, 774, 403, 507, 258, 379, 927, 129, 899, 659, 510, 168, 661, 317, 205, 122, 227, 417, 810, 110, 234, 710, 175, 177, 82, 198, 78, 317, 869, 380, 432, 263, 285, 594, 690, 515, 405, 79, 155, 922, 643, 365, 344, 161, 593, 965, 342, 155, 282, 219, 734, 889, 773, 35, 193, 106, 484, 792, 63, 211, 385, 892, 745, 162, 690, 178, 323, 523, 174, 973, 452, 12, 400, 282, 369, 927, 89, 328, 310, 167, 780, 6, 607, 289, 82, 771, 790, 746, 884, 132, 603, 10, 850, 449, 493, 307, 570, 235, 891, 559, 682, 475, 418, 722, 524, 331, 41, 406, 912, 812, 22, 644, 816, 867, 10, 476, 623, 236, 272, 501, 462, 418, 349, 360, 351, 528, 512, 782, 634, 835, 642, 628, 414, 73, 452, 174, 294, 630, 679, 603, 936, 656, 733, 229, 154, 282, 459, 583, 828, 999, 475, 543, 301, 240, 718, 623, 239, 107, 642, 850, 969, 246, 972, 888, 962, 858, 783, 336, 752, 13, 593, 767, 21, 589, 723, 378, 693, 222, 56, 699, 498, 901, 750, 192, 439, 843, 759, 703, 925, 596, 145, 45, 47, 83, 321, 999, 117, 175, 631, 479, 664, 499, 210, 502, 996, 322, 307, 550, 154, 744, 457, 218, 43, 20, 514, 25, 929, 484, 535, 880, 891, 629, 515, 715, 924, 661, 414, 71, 787, 132, 539, 661, 979, 967, 727, 80, 37, 368, 853, 900, 86, 57, 21, 96, 305, 988, 464, 60, 358, 684, 310, 342, 280, 606, 205, 104, 398, 150, 738, 734, 605, 727, 575, 132, 670, 716, 958, 394, 678, 979, 772, 316, 296, 894, 941, 706, 605, 874, 787, 70, 757, 882, 495, 366, 416, 255, 188, 394, 998, 150, 598, 516, 110, 455, 754, 803, 790, 727, 215, 448, 212, 150, 223, 578, 834, 317, 428, 856, 207, 29, 608, 620, 37, 758, 515, 57, 232, 76, 673, 863, 887, 9, 968, 827, 210, 450, 516, 470, 633, 720, 673, 290, 34, 707, 99, 951, 391, 552, 572, 179, 726, 516, 562, 114, 917, 829, 864, 76, 703, 108, 281, 194, 329, 500, 45, 331, 774, 763, 982, 148, 897, 1000, 415, 877, 618, 312, 201, 51, 771, 703, 478, 447, 339, 903, 190, 48, 446, 820, 339, 784, 915, 865, 148, 519, 974, 598, 749, 193, 57, 196, 880, 393, 236, 598, 868, 477, 282, 149, 570, 413, 384, 383, 37, 652, 762, 170, 46, 629, 296, 253, 204, 676, 298, 580, 271, 944, 12, 679, 956, 787, 281, 823, 920, 315, 718, 685, 103, 407, 754, 827, 240, 544, 455, 900, 630, 567, 258, 596, 259, 692, 849, 928, 42, 851, 622, 413, 459, 763, 224, 98, 330, 278, 886, 268, 495, 45, 394, 589, 806, 348, 321, 799, 440, 723, 507, 130, 885, 102, 661, 107, 122, 432, 675, 158, 100, 297, 434, 845, 941, 689, 990, 574, 258, 886, 677, 975, 273, 744, 136, 81, 700, 373, 625, 477, 639, 214, 31, 333, 591, 172, 661, 657, 575, 735, 391, 586, 208, 955, 952, 713, 931, 573, 364, 522, 287, 710, 765, 171, 858, 508, 104, 938, 310, 820, 505, 813, 53, 307, 855, 583, 25, 49, 463, 148, 668, 281, 159, 854, 484, 969, 900, 513, 389, 109, 764, 568, 615, 744, 638, 557, 37, 680, 661, 883, 467, 651, 742, 863, 728, 743, 970, 381, 966, 678, 559, 982, 904, 824, 29, 112, 398, 559, 712, 842, 416, 505, 331, 63, 708, 189, 753, 46, 204, 496, 462, 633, 829, 37, 657, 667, 34, 718, 812, 770, 850, 701, 953, 285, 527, 46, 918, 463, 413, 709, 554, 807, 267, 187, 127, 506, 837, 531, 723, 327, 424, 436, 204, 213, 910, 564, 741, 778, 65, 794, 279, 762, 9, 228, 279, 98, 500, 641, 506, 930, 361, 31, 582, 575, 117, 754, 779, 376, 280, 952, 327, 641, 310, 190, 213, 474, 260, 317, 694, 761, 691, 447, 556, 611, 690, 570, 543, 149, 553, 971, 933, 342, 796, 588, 740, 996, 798, 317, 486, 294, 287, 942, 522, 988, 423, 913, 983, 580, 473, 90, 49, 681, 587, 933, 575, 41, 667, 600, 749, 364, 420, 592, 658, 235, 985, 146, 278, 865, 865, 257, 549, 884, 754, 392, 130, 312, 115, 385, 544, 4, 796, 844, 61, 786, 132, 926, 474, 733, 17, 446, 645, 319, 784, 380, 765, 418, 688, 469, 937, 932, 975, 211, 918, 582, 564, 808, 382, 870, 596, 675, 172, 282, 871, 903, 132, 453, 894, 617, 920, 347, 395, 742, 40, 509, 620, 989, 174, 713, 651, 223, 47, 222, 325, 162, 296, 445, 607, 486, 238, 484, 348, 488, 23, 667, 169, 563, 71, 129, 11, 204, 27, 619, 331, 262, 416, 877, 610, 579, 173, 591, 834, 947, 748, 444, 741, 886, 135, 281, 836, 781, 674, 829, 615, 342, 603, 642, 752, 668, 501, 304, 457, 622, 864, 795, 400, 37 ]\n",
    "\n",
    "len(A)"
   ]
  },
  {
   "cell_type": "code",
   "execution_count": null,
   "metadata": {},
   "outputs": [],
   "source": [
    "def solve(self, A, B):\n",
    "  n = len(A)\n",
    "  total_max = 0\n",
    "  total_min = 0\n",
    "  A = sorted(A)\n",
    "  for i in range(n):\n",
    "      total_max+=(2**i)*A[i]\n",
    "  for i in range(n-1,-1,-1):\n",
    "      total_min+=(2**i)*A[n-i-1]\n",
    "      print(total_min)\n",
    "  return (total_max+total_min)%1000000007\n",
    "\n"
   ]
  },
  {
   "cell_type": "code",
   "execution_count": 21,
   "metadata": {},
   "outputs": [
    {
     "data": {
      "text/plain": [
       "[[0, 0, 0, 0, 0, 1, 0, 0, 0],\n",
       " [0, 0, 0, 0, 0, 0, 0, 0, 0],\n",
       " [0, 0, 0, 0, 0, 0, 0, 0, 0],\n",
       " [0, 0, 0, 0, 0, 0, 0, 0, 0],\n",
       " [0, 0, 0, 0, 0, 0, 0, 0, 0],\n",
       " [0, 0, 0, 0, 0, 0, 0, 0, 0],\n",
       " [0, 0, 0, 0, 0, 0, 0, 0, 0],\n",
       " [0, 0, 0, 0, 0, 0, 0, 0, 0],\n",
       " [0, 0, 0, 0, 0, 0, 0, 0, 0]]"
      ]
     },
     "execution_count": 21,
     "metadata": {},
     "output_type": "execute_result"
    }
   ],
   "source": [
    "n=m=9\n",
    "\n",
    "mat = [[0 for _ in range(n)] for _ in range(m)]\n",
    "\n",
    "\n",
    "mat[0][5]=1\n",
    " \n",
    "mat\n"
   ]
  }
 ],
 "metadata": {
  "interpreter": {
   "hash": "aee8b7b246df8f9039afb4144a1f6fd8d2ca17a180786b69acc140d282b71a49"
  },
  "kernelspec": {
   "display_name": "Python 3.9.7 64-bit",
   "language": "python",
   "name": "python3"
  },
  "language_info": {
   "codemirror_mode": {
    "name": "ipython",
    "version": 3
   },
   "file_extension": ".py",
   "mimetype": "text/x-python",
   "name": "python",
   "nbconvert_exporter": "python",
   "pygments_lexer": "ipython3",
   "version": "3.9.7"
  },
  "orig_nbformat": 4
 },
 "nbformat": 4,
 "nbformat_minor": 2
}
