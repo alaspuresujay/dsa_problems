{
 "cells": [
  {
   "cell_type": "markdown",
   "metadata": {},
   "source": [
    "## 1313. Decompress Run-Length Encoded List\n",
    "We are given a list nums of integers representing a list compressed with run-length encoding.\n",
    "\n",
    "Consider each adjacent pair of elements ```[freq, val] = [nums[2*i], nums[2*i+1]] (with i >= 0)```.  For each such pair, there are `freq` elements with value `val` concatenated in a sublist. Concatenate all the sublists from left to right to generate the decompressed list.\n",
    "\n",
    "Return the decompressed list.\n",
    "\n",
    " \n",
    "\n",
    "```\n",
    "Example 1:\n",
    "\n",
    "Input: nums = [1,2,3,4]\n",
    "Output: [2,4,4,4]\n",
    "Explanation: The first pair [1,2] means we have freq = 1 and val = 2 so we generate the array [2].\n",
    "The second pair [3,4] means we have freq = 3 and val = 4 so we generate [4,4,4].\n",
    "At the end the concatenation [2] + [4,4,4] is [2,4,4,4].\n",
    "```"
   ]
  },
  {
   "cell_type": "code",
   "execution_count": 21,
   "metadata": {},
   "outputs": [
    {
     "data": {
      "text/plain": [
       "[[2], [4, 4, 4]]"
      ]
     },
     "execution_count": 21,
     "metadata": {},
     "output_type": "execute_result"
    }
   ],
   "source": [
    "nums = [1, 2, 3, 4]\n",
    "\n",
    "arr = []\n",
    "\n",
    "for i in range(0,len(nums)-1,2):\n",
    "  arr.append([nums[i+1]]*nums[i])\n",
    "x=[]\n",
    "for a in arr:\n",
    "  x += a\n",
    "x"
   ]
  },
  {
   "cell_type": "code",
   "execution_count": 26,
   "metadata": {},
   "outputs": [
    {
     "name": "stdout",
     "output_type": "stream",
     "text": [
      "1 2\n",
      "[2]\n",
      "3 4\n",
      "[4, 4, 4]\n"
     ]
    }
   ],
   "source": [
    "for freq, value in zip(nums[0::2], nums[1::2]):\n",
    "  print(freq, value)\n",
    "  print(freq*[value])"
   ]
  },
  {
   "cell_type": "markdown",
   "metadata": {},
   "source": []
  },
  {
   "cell_type": "code",
   "execution_count": 22,
   "metadata": {},
   "outputs": [
    {
     "data": {
      "text/plain": [
       "[2, 4, 4, 4]"
      ]
     },
     "execution_count": 22,
     "metadata": {},
     "output_type": "execute_result"
    }
   ],
   "source": [
    "[list_num for freq, value in zip(nums[0::2], nums[1::2]) for list_num in freq*[value]]"
   ]
  },
  {
   "cell_type": "code",
   "execution_count": 1,
   "metadata": {},
   "outputs": [
    {
     "name": "stdout",
     "output_type": "stream",
     "text": [
      "Pass> 0\n",
      "0 1 (4, 5)\n",
      "0 2 (4, 6)\n",
      "0 3 (4, 7)\n",
      "0 4 (4, 0)\n",
      "[0, 5, 6, 7, 4, 2, 1, 3]\n",
      "0 5 (0, 2)\n",
      "0 6 (0, 1)\n",
      "0 7 (0, 3)\n",
      "Pass> 1\n",
      "1 2 (5, 6)\n",
      "1 3 (5, 7)\n",
      "1 4 (5, 4)\n",
      "[0, 4, 6, 7, 5, 2, 1, 3]\n",
      "1 5 (4, 2)\n",
      "[0, 2, 6, 7, 5, 4, 1, 3]\n",
      "1 6 (2, 1)\n",
      "[0, 1, 6, 7, 5, 4, 2, 3]\n",
      "1 7 (1, 3)\n",
      "Pass> 2\n",
      "2 3 (6, 7)\n",
      "2 4 (6, 5)\n",
      "[0, 1, 5, 7, 6, 4, 2, 3]\n",
      "2 5 (5, 4)\n",
      "[0, 1, 4, 7, 6, 5, 2, 3]\n",
      "2 6 (4, 2)\n",
      "[0, 1, 2, 7, 6, 5, 4, 3]\n",
      "2 7 (2, 3)\n",
      "Pass> 3\n",
      "3 4 (7, 6)\n",
      "[0, 1, 2, 6, 7, 5, 4, 3]\n",
      "3 5 (6, 5)\n",
      "[0, 1, 2, 5, 7, 6, 4, 3]\n",
      "3 6 (5, 4)\n",
      "[0, 1, 2, 4, 7, 6, 5, 3]\n",
      "3 7 (4, 3)\n",
      "[0, 1, 2, 3, 7, 6, 5, 4]\n",
      "Pass> 4\n",
      "4 5 (7, 6)\n",
      "[0, 1, 2, 3, 6, 7, 5, 4]\n",
      "4 6 (6, 5)\n",
      "[0, 1, 2, 3, 5, 7, 6, 4]\n",
      "4 7 (5, 4)\n",
      "[0, 1, 2, 3, 4, 7, 6, 5]\n",
      "Pass> 5\n",
      "5 6 (7, 6)\n",
      "[0, 1, 2, 3, 4, 6, 7, 5]\n",
      "5 7 (6, 5)\n",
      "[0, 1, 2, 3, 4, 5, 7, 6]\n",
      "Pass> 6\n",
      "6 7 (7, 6)\n",
      "[0, 1, 2, 3, 4, 5, 6, 7]\n",
      "Pass> 7\n"
     ]
    },
    {
     "data": {
      "text/plain": [
       "[0, 1, 2, 3, 4, 5, 6, 7]"
      ]
     },
     "execution_count": 1,
     "metadata": {},
     "output_type": "execute_result"
    }
   ],
   "source": [
    "# Sort the array\n",
    "\n",
    "indices = [4, 5, 6, 7, 0, 2, 1, 3]\n",
    "\n",
    "for i in range(len(indices)):\n",
    "    print(\"Pass> \"+str(i))\n",
    "    for j in range(i + 1, len(indices)):\n",
    "        print(i,j,(indices[i] , indices[j]))\n",
    "        if (indices[i] > indices[j]):\n",
    "             indices[i], indices[j]=indices[j],indices[i]\n",
    "             print(indices)\n",
    "\n",
    "indices         "
   ]
  },
  {
   "cell_type": "markdown",
   "metadata": {},
   "source": [
    "Given an integer array nums, find the contiguous subarray (containing at least one number) which has the largest sum and return its sum.\n",
    "\n",
    "A subarray is a contiguous part of an array.\n",
    "\n",
    "### Example 1:\n",
    "\n",
    "```\n",
    "Input: nums = [-2,1,-3,4,-1,2,1,-5,4]\n",
    "Output: 6\n",
    "Explanation: [4,-1,2,1] has the largest sum = 6.\n",
    "```"
   ]
  },
  {
   "cell_type": "code",
   "execution_count": 4,
   "metadata": {},
   "outputs": [
    {
     "name": "stdout",
     "output_type": "stream",
     "text": [
      "[-2, 1, -2, 4, 3, 5, 6, 1, 5]\n"
     ]
    },
    {
     "data": {
      "text/plain": [
       "6"
      ]
     },
     "execution_count": 4,
     "metadata": {},
     "output_type": "execute_result"
    }
   ],
   "source": [
    "nums = [-2,1,-3,4,-1,2,1,-5,4]\n",
    "\n",
    "for i in range(1, len(nums)):\n",
    "  if (nums[i - 1]) > 0:\n",
    "    nums[i]+=nums[i-1]\n",
    "\n",
    "print(nums)   \n",
    "max(nums)"
   ]
  },
  {
   "cell_type": "code",
   "execution_count": null,
   "metadata": {},
   "outputs": [],
   "source": []
  }
 ],
 "metadata": {
  "interpreter": {
   "hash": "697a1dac4d10d74076c3041dfdabcc21aaef7503f1bfe2a5ee0554a0b2186572"
  },
  "kernelspec": {
   "display_name": "Python 3.8.5 64-bit ('pyall': conda)",
   "name": "python3"
  },
  "language_info": {
   "codemirror_mode": {
    "name": "ipython",
    "version": 3
   },
   "file_extension": ".py",
   "mimetype": "text/x-python",
   "name": "python",
   "nbconvert_exporter": "python",
   "pygments_lexer": "ipython3",
   "version": "3.8.5"
  },
  "orig_nbformat": 4
 },
 "nbformat": 4,
 "nbformat_minor": 2
}
