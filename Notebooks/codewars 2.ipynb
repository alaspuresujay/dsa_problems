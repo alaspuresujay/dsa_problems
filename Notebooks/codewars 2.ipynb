{
 "cells": [
  {
   "cell_type": "code",
   "execution_count": 2,
   "metadata": {},
   "outputs": [
    {
     "data": {
      "text/plain": [
       "5"
      ]
     },
     "execution_count": 2,
     "metadata": {},
     "output_type": "execute_result"
    }
   ],
   "source": [
    "2+3\n"
   ]
  },
  {
   "cell_type": "code",
   "execution_count": 21,
   "metadata": {},
   "outputs": [
    {
     "name": "stdout",
     "output_type": "stream",
     "text": [
      "False\n",
      "2\n"
     ]
    },
    {
     "data": {
      "text/plain": [
       "4"
      ]
     },
     "execution_count": 21,
     "metadata": {},
     "output_type": "execute_result"
    }
   ],
   "source": [
    "A=[ 1, 1, 1, 5, 5 ]\n",
    "\n",
    "A=sorted(set(A))\n",
    "\n",
    "print(A[len(A)-1]-A[0]==len(A)-1)\n",
    "\n",
    "print(len(A))\n",
    "A[len(A)-1]-A[0]"
   ]
  },
  {
   "cell_type": "code",
   "execution_count": 26,
   "metadata": {},
   "outputs": [
    {
     "name": "stdout",
     "output_type": "stream",
     "text": [
      "[1, 2, 3, 4, 5]\n",
      "1\n"
     ]
    }
   ],
   "source": [
    "A = [3, 2, 1, 4, 5]\n",
    "A=sorted(A)\n",
    "print(A)\n",
    "for i in range(len(A)-2):\n",
    "    if(A[i]+1!=A[i+1]):\n",
    "        print(0)\n",
    "        break\n",
    "print(1)"
   ]
  },
  {
   "cell_type": "code",
   "execution_count": 36,
   "metadata": {},
   "outputs": [
    {
     "data": {
      "text/plain": [
       "'sakjxs'"
      ]
     },
     "execution_count": 36,
     "metadata": {},
     "output_type": "execute_result"
    }
   ],
   "source": [
    "# length=input()\n",
    "\n",
    "# arr=input()\n",
    "\n",
    "string='921 449820857 82503011 979724590 94322801 63498981 444480824 864018676 443594448 248216423 497027955 466185555 99084499 546604141 913447356 319183190 112992271 708909279 636192679 778747191 675382152'\n",
    "\n",
    "ele = string.split(\" \")\n",
    "\n",
    "# for i in ele:\n",
    "    # print(type (int(i)))\n",
    "\n",
    "st =\" sakjxs\"\n",
    "st.strip()\n"
   ]
  },
  {
   "cell_type": "code",
   "execution_count": 38,
   "metadata": {},
   "outputs": [
    {
     "name": "stdout",
     "output_type": "stream",
     "text": [
      "3 9.0\n",
      "[9.5, 9.5, 10.375, 9.0, 10.75, 12.125, 12.75, 12.25, 11.375, 11.75, 11.5, 12.875, 11.375] 3\n",
      "[[4, 3, 17, 3, 8, 8, 14, 19], [3, 17, 3, 8, 8, 14, 19, 4], [17, 3, 8, 8, 14, 19, 4, 10], [3, 8, 8, 14, 19, 4, 10, 6], [8, 8, 14, 19, 4, 10, 6, 17], [8, 14, 19, 4, 10, 6, 17, 19], [14, 19, 4, 10, 6, 17, 19, 13], [19, 4, 10, 6, 17, 19, 13, 10], [4, 10, 6, 17, 19, 13, 10, 12], [10, 6, 17, 19, 13, 10, 12, 7], [6, 17, 19, 13, 10, 12, 7, 8], [17, 19, 13, 10, 12, 7, 8, 17], [19, 13, 10, 12, 7, 8, 17, 5]] 1\n"
     ]
    }
   ],
   "source": [
    "A=[ 4, 3, 17, 3, 8, 8, 14, 19, 4, 10, 6, 17, 19, 13, 10, 12, 7, 8, 17, 5 ]\n",
    "B=8\n",
    "arr= [ sum(A[i:B+i])/B for i in range(len(A)-B+1)]\n",
    "# arr= [ A[i:B+i] for i in range(len(A))]\n",
    "arr1= [ A[i:B+i] for i in range(len(A)-B+1)]\n",
    "print(arr.index( min(arr)), min(arr))\n",
    "print(arr, arr.index(min(arr)))\n",
    "print(arr1, A.index(arr1[arr.index(min(arr))][0]))"
   ]
  },
  {
   "cell_type": "code",
   "execution_count": 32,
   "metadata": {},
   "outputs": [
    {
     "data": {
      "text/plain": [
       "7"
      ]
     },
     "execution_count": 32,
     "metadata": {},
     "output_type": "execute_result"
    }
   ],
   "source": [
    "    def solve(self, A, B):\n",
    "        arr =[sum(A[i:B+i])/B for i in range(len(A)-B+1)]\n",
    "        return arr.index(min(arr)) if len(arr)>0 else 0\n"
   ]
  },
  {
   "cell_type": "code",
   "execution_count": 9,
   "metadata": {},
   "outputs": [
    {
     "name": "stdout",
     "output_type": "stream",
     "text": [
      "[-6, -4, -2, -1, 0]\n",
      "-6 0\n",
      "-4 1\n",
      "-2 2\n",
      "-1 3\n",
      "0 4\n"
     ]
    },
    {
     "data": {
      "text/plain": [
       "1"
      ]
     },
     "execution_count": 9,
     "metadata": {},
     "output_type": "execute_result"
    }
   ],
   "source": [
    "B = [ -4, 7, 5, 3, 5, -4, 2, -1, -9, -8, -3, 0, 9, -7, -4, -10, -4, 2, 6, 1, -2, -3, -1, -8, 0, -8, -7, -3, 5, -1, -8, -8, 8, -1, -3, 3, 6, 1, -8, -1, 3, -9, 9, -6, 7, 8, -6, 5, 0, 3, -4, 1, -10, 6, 3, -8, 0, 6, -9, -5, -5, -6, -3, 6, -5, -4, -1, 3, 7, -6, 5, -8, -5, 4, -3, 4, -6, -7, 0, -3, -2, 6, 8, -2, -6, -7, 1, 4, 9, 2, -10, 6, -2, 9, 2, -4, -4, 4, 9, 5, 0, 4, 8, -3, -9, 7, -8, 7, 2, 2, 6, -9, -10, -4, -9, -5, -1, -6, 9, -10, -1, 1, 7, 7, 1, -9, 5, -1, -3, -3, 6, 7, 3, -4, -5, -4, -7, 9, -6, -2, 1, 2, -1, -7, 9, 0, -2, -2, 5, -10, -1, 6, -7, 8, -5, -4, 1, -9, 5, 9, -2, -6, -2, -9, 0, 3, -10, 4, -6, -6, 4, -3, 6, -7, 1, -3, -5, 9, 6, 2, 1, 7, -2, 5 ]\n",
    "\n",
    "C = [ -4, -2, 0, -1, -6 ]\n",
    "\n",
    "def solve(A):\n",
    "  A= sorted(A)\n",
    "  print(A)\n",
    "  for i in range(len(A)):\n",
    "    print(A[i], i)\n",
    "    if i<len(A)-1 and A[i]==A[i+1] :\n",
    "      continue\n",
    "    if A[i]==len(A)-i-1:\n",
    "      return 1\n",
    "\n",
    "  return -1\n",
    "\n",
    "solve(C)"
   ]
  },
  {
   "cell_type": "code",
   "execution_count": 2,
   "metadata": {},
   "outputs": [
    {
     "name": "stdout",
     "output_type": "stream",
     "text": [
      "13\n"
     ]
    }
   ],
   "source": [
    "C = [ 64, 78, 50, 25, 24, 27, 76, 59, 65, 41, 37, 6, 80, 61, 8, 48, 38, 85, 41, 18, 12, 81, 36, 37, 12, 44, 22, 65, 12, 33, 19, 42, 25, 30, 5, 4, 96, 81, 72, 71, 20, 20, 23, 85, 93, 33, 32, 30, 12, 97, 24, 13, 93, 58, 74, 37, 10, 46, 26, 21, 41, 92, 90, 21, 65, 35, 89, 26, 10, 14, 64, 28, 3, 80, 99, 62, 38, 55, 8, 92, 31, 93, 58, 77, 21, 34, 57, 49, 82, 85, 38, 89, 66, 51, 4, 31, 12, 33, 83, 29 ]\n",
    "b=13\n",
    "cnt=0\n",
    "for i in range(b):\n",
    "  cnt+=1\n",
    "  C.insert(0, C.pop())\n",
    "\n",
    "len(C)\n",
    "print(cnt)"
   ]
  },
  {
   "cell_type": "code",
   "execution_count": 3,
   "metadata": {},
   "outputs": [
    {
     "data": {
      "text/plain": [
       "100"
      ]
     },
     "execution_count": 3,
     "metadata": {},
     "output_type": "execute_result"
    }
   ],
   "source": [
    "len(C)"
   ]
  },
  {
   "cell_type": "code",
   "execution_count": 31,
   "metadata": {},
   "outputs": [
    {
     "data": {
      "text/plain": [
       "[3, 4, 1, 2]"
      ]
     },
     "execution_count": 31,
     "metadata": {},
     "output_type": "execute_result"
    }
   ],
   "source": [
    "A=[1, 2, 3, 4]\n",
    "b=2\n",
    "n=len(A)\n",
    "\n",
    "while(b>len(A)):\n",
    "      b=b-len(A)\n",
    "\n",
    "A[-b:]+A[:-b]\n"
   ]
  },
  {
   "cell_type": "code",
   "execution_count": null,
   "metadata": {},
   "outputs": [],
   "source": [
    "64 78 50 25 24 27 76 59 65 41 37 6 80 61 8 48 38 85 41 18 12 81 36 37 12 44 22 65 12 33 19 42 25 30 5 4 96 81 72 71 20 20 23 85 93 33 32 30 12 97 24 13 93 58 74 37 10 46 26 21 41 92 90 21 65 35 89 26 10 14 64 28 3 80 99 62 38 55 8 92 31 93 58 77 21 34 57 49 82 85 38 89 66 51 4 31 12 33 83 29"
   ]
  },
  {
   "cell_type": "code",
   "execution_count": null,
   "metadata": {},
   "outputs": [],
   "source": [
    "A = [1, 2, 3, 4, -10] \n",
    "n="
   ]
  },
  {
   "cell_type": "code",
   "execution_count": null,
   "metadata": {},
   "outputs": [],
   "source": [
    "A = [1, 2, 3, 4, 5]\n",
    "B = [2, 3]\n",
    "print(len(A))\n",
    "arr=[]\n",
    "for i in B:\n",
    "  D=[]\n",
    "  print(D, i, A)\n",
    "  for j in range(i):\n",
    "    D.append()\n",
    "  print(D)\n",
    "  arr.append(D)\n",
    "\n",
    "# A.insert(4,A.pop(0))\n",
    "arr"
   ]
  },
  {
   "cell_type": "code",
   "execution_count": null,
   "metadata": {},
   "outputs": [],
   "source": [
    "A = [ 4, 74, 35, 16, 100, 77, 50, 51, 31, 29, 67, 12, 43, 31, 83, 2, 85, 85, 39, 27, 64, 86, 5 ]\n",
    "b=[ 73, 70, 47, 19, 46, 25, 46, 4, 33, 33, 6, 31, 23, 19, 44, 53, 69, 30, 69, 89, 59, 25, 38, 82, 26, 8, 36, 3 ]\n",
    "arr=[]\n",
    "for i in b:\n",
    "  if i>len(A):\n",
    "    n=i-len(A)\n",
    "    while(n>len(A)):\n",
    "      n=n-len(A)\n",
    "    arr.append(A[-n+1:]+A[:-n+1])\n",
    "  else:\n",
    "    arr.append(A[i:]+A[:i])\n",
    "\n",
    "arr"
   ]
  },
  {
   "cell_type": "code",
   "execution_count": 13,
   "metadata": {},
   "outputs": [
    {
     "name": "stdout",
     "output_type": "stream",
     "text": [
      "23\n"
     ]
    },
    {
     "data": {
      "text/plain": [
       "4"
      ]
     },
     "execution_count": 13,
     "metadata": {},
     "output_type": "execute_result"
    }
   ],
   "source": [
    "print(len(A))\n",
    "n=n%len(A)\n",
    "n"
   ]
  },
  {
   "cell_type": "code",
   "execution_count": 39,
   "metadata": {},
   "outputs": [
    {
     "data": {
      "text/plain": [
       "[3, 4, 5, 1, 2]"
      ]
     },
     "execution_count": 39,
     "metadata": {},
     "output_type": "execute_result"
    }
   ],
   "source": [
    "A= [1,2,3,4,5]\n",
    "b=3\n",
    "(A[len(A) - b:len(A)] + A[0:len(A) - b])"
   ]
  },
  {
   "cell_type": "code",
   "execution_count": 15,
   "metadata": {},
   "outputs": [
    {
     "data": {
      "text/plain": [
       "0"
      ]
     },
     "execution_count": 15,
     "metadata": {},
     "output_type": "execute_result"
    }
   ],
   "source": [
    "# Least average\n",
    "# https://www.geeksforgeeks.org/find-subarray-least-average/\n",
    "    # @param A : list of integers\n",
    "    # @param B : integer\n",
    "    # @return an integer\n",
    "def solve(A, B):\n",
    "    sum_arr=0\n",
    "    res_index=0\n",
    "    for i in range(B):\n",
    "        sum_arr+=A[i]\n",
    "    min_sum=sum_arr\n",
    "    for i in range(B, len(A)):\n",
    "        sum_arr+=A[i]-A[i-B]\n",
    "        if sum_arr<min_sum:\n",
    "            min_sum=sum_arr\n",
    "            res_index=i-B+1\n",
    "    return res_index\n",
    "        \n",
    "\n",
    "solve([1,2,3,4,5], 2)"
   ]
  },
  {
   "cell_type": "code",
   "execution_count": 20,
   "metadata": {},
   "outputs": [
    {
     "name": "stdout",
     "output_type": "stream",
     "text": [
      "[5, 11, 17, 100]\n"
     ]
    },
    {
     "data": {
      "text/plain": [
       "95"
      ]
     },
     "execution_count": 20,
     "metadata": {},
     "output_type": "execute_result"
    }
   ],
   "source": [
    "A = [5, 17, 100, 11]\n",
    "B = 1\n",
    "A=sorted(A)\n",
    "\n",
    "print(A)\n",
    "A[-B]-A[B-1]"
   ]
  },
  {
   "cell_type": "code",
   "execution_count": 6,
   "metadata": {},
   "outputs": [
    {
     "name": "stdout",
     "output_type": "stream",
     "text": [
      "1 5\n"
     ]
    }
   ],
   "source": [
    "A = [1,2,3,4,5]\n",
    "min_ele=A[0]\n",
    "max_ele=A[0]\n",
    "for i in range(1, len(A)):\n",
    "  if A[i]<min_ele:\n",
    "    min_ele=A[i]\n",
    "  if A[i]>max_ele:\n",
    "    max_ele=A[i]\n",
    "\n",
    "print(min_ele, max_ele)"
   ]
  },
  {
   "cell_type": "code",
   "execution_count": 27,
   "metadata": {},
   "outputs": [
    {
     "data": {
      "text/plain": [
       "0"
      ]
     },
     "execution_count": 27,
     "metadata": {},
     "output_type": "execute_result"
    }
   ],
   "source": [
    "A = [0]\n",
    "def solve(A):\n",
    "  arr = []\n",
    "  if len(A)>1:\n",
    "    for i in range(len(A)):\n",
    "      if i==0:\n",
    "        arr.append(A[i]*A[i+1])\n",
    "      elif i==len(A)-1:\n",
    "        arr.append(A[i]*A[i-1])\n",
    "      else:\n",
    "        arr.append(A[i+1]*A[i-1])\n",
    "    return arr\n",
    "  else:\n",
    "    return A[0]\n",
    "  \n",
    "\n",
    "solve(A)\n"
   ]
  },
  {
   "cell_type": "code",
   "execution_count": 5,
   "metadata": {},
   "outputs": [
    {
     "data": {
      "text/plain": [
       "2"
      ]
     },
     "execution_count": 5,
     "metadata": {},
     "output_type": "execute_result"
    }
   ],
   "source": [
    "# check if n is prime or not\n",
    "A = [-11, 7, 8, 9, 10, 11]\n",
    "def isPrime(n):\n",
    "  if (n == 1):\n",
    "    return False\n",
    "  ch = True\n",
    "  for i in range(2, int(n ** 0.5)+1):\n",
    "    if (n % i == 0):\n",
    "       ch = False\n",
    "       break\n",
    "  return ch\n",
    "cnt=0\n",
    "for i in A:\n",
    "  if i<1:\n",
    "    continue\n",
    "  if isPrime(i):\n",
    "    cnt+=1\n",
    "\n",
    "cnt\n"
   ]
  },
  {
   "cell_type": "markdown",
   "metadata": {},
   "source": [
    "Given an array of integers A and an integer B, find and return the difference of B'th max element and B'th min element of the array A."
   ]
  },
  {
   "cell_type": "code",
   "execution_count": 9,
   "metadata": {},
   "outputs": [
    {
     "name": "stdout",
     "output_type": "stream",
     "text": [
      "5 100\n"
     ]
    }
   ],
   "source": [
    "A = [5, 17, 100, 11]\n",
    "B = 1\n",
    "\n",
    "A=sorted(A)\n",
    "\n",
    "print(A[B-1], A[-B])"
   ]
  },
  {
   "cell_type": "code",
   "execution_count": 17,
   "metadata": {},
   "outputs": [
    {
     "data": {
      "text/plain": [
       "57"
      ]
     },
     "execution_count": 17,
     "metadata": {},
     "output_type": "execute_result"
    }
   ],
   "source": [
    "def getSubArray(s,e, A):\n",
    "  return A[s:e]\n",
    "\n",
    "\n",
    "\n",
    "\n",
    "A=[ 2,9,5]\n",
    "sum_arr=0\n",
    "for i in range(len(A)):\n",
    "  sum_arr+=A[i]*((len(A)-i)*(i+1))\n",
    "\n",
    "sum_arr"
   ]
  },
  {
   "cell_type": "code",
   "execution_count": 23,
   "metadata": {},
   "outputs": [
    {
     "data": {
      "text/plain": [
       "[15, 10, 13, 16]"
      ]
     },
     "execution_count": 23,
     "metadata": {},
     "output_type": "execute_result"
    }
   ],
   "source": [
    "A=[[1,2,3,4],\n",
    "[5,6,7,8],\n",
    "[9,2,3,4]]\n",
    "\n",
    "n=len(A)\n",
    "arr=[0]*len(A[0])\n",
    "\n",
    "for i in range(n):\n",
    "  for j in range(len(A[0])):\n",
    "    arr[j]+=A[i][j]\n",
    "arr"
   ]
  },
  {
   "cell_type": "code",
   "execution_count": 25,
   "metadata": {},
   "outputs": [
    {
     "data": {
      "text/plain": [
       "[[10, 10, 10], [10, 10, 10], [10, 10, 10]]"
      ]
     },
     "execution_count": 25,
     "metadata": {},
     "output_type": "execute_result"
    }
   ],
   "source": [
    "A = [[1, 2, 3],[4, 5, 6],[7, 8, 9]]\n",
    "B = [[9, 8, 7],[6, 5, 4],[3, 2, 1]]\n",
    "n=len(A)\n",
    "m=len(A[0])\n",
    "final_arr=[]\n",
    "for i in range(n):\n",
    "  arr=[]\n",
    "  for j in range(m):\n",
    "    arr.append(A[i][j]+B[i][j])\n",
    "  final_arr.append(arr)\n",
    "final_arr"
   ]
  },
  {
   "cell_type": "markdown",
   "metadata": {},
   "source": [
    "## Day 11 - HW - Q2\n",
    "> Pattern Printing 1"
   ]
  },
  {
   "cell_type": "code",
   "execution_count": 16,
   "metadata": {},
   "outputs": [
    {
     "name": "stdout",
     "output_type": "stream",
     "text": [
      "0 0\n",
      "1 0\n",
      "2 0\n",
      "1 1\n",
      "2 1\n",
      "2 2\n"
     ]
    },
    {
     "data": {
      "text/plain": [
       "[[0, 1, 2], [0, 1, 2], [0, 1, 2]]"
      ]
     },
     "execution_count": 16,
     "metadata": {},
     "output_type": "execute_result"
    }
   ],
   "source": [
    "# Pattern Printing 1\n",
    "A = [[0]*3]*3\n",
    "\n",
    "n = 3\n",
    "for i in range(n):\n",
    "  arr=[0]*n\n",
    "  for j in range(i, n):\n",
    "    print(j, i)\n",
    "    A[i][j]=j\n",
    "A"
   ]
  },
  {
   "cell_type": "code",
   "execution_count": 2,
   "metadata": {},
   "outputs": [
    {
     "data": {
      "text/plain": [
       "[[0, 5, 0, 0, 0],\n",
       " [0, 5, 0, 0, 0],\n",
       " [0, 5, 0, 0, 0],\n",
       " [0, 5, 0, 0, 0],\n",
       " [0, 5, 0, 0, 0]]"
      ]
     },
     "execution_count": 2,
     "metadata": {},
     "output_type": "execute_result"
    }
   ],
   "source": [
    "rows = 5\n",
    "arr=[[0]*rows]*rows\n",
    "A=[]\n",
    "for row in range(1, rows+1):\n",
    "  for column in range(1, row + 1):\n",
    "    arr[1][1]=column\n",
    "arr"
   ]
  },
  {
   "cell_type": "code",
   "execution_count": null,
   "metadata": {},
   "outputs": [],
   "source": [
    "rows=5\n",
    "for i in range(1,rows+1):\n",
    "  for j in range(1, rows+1):\n",
    "    print(i, j)\n",
    "  # print(i)"
   ]
  },
  {
   "cell_type": "code",
   "execution_count": 21,
   "metadata": {},
   "outputs": [
    {
     "data": {
      "text/plain": [
       "[[0, 2, 0], [0, 2, 0], [0, 2, 0]]"
      ]
     },
     "execution_count": 21,
     "metadata": {},
     "output_type": "execute_result"
    }
   ],
   "source": [
    "3-(2+1)\n",
    "A=3\n",
    "arr=[[0]*3]*3\n",
    "arr[0][1]=2\n",
    "# arr[1][2]=A-2\n",
    "# arr[2][2]=A-2\n",
    "# arr[1][1]=A-1\n",
    "# arr[2][1]=A-1\n",
    "# arr[2][0]=A-0\n",
    "\n",
    "arr"
   ]
  },
  {
   "cell_type": "code",
   "execution_count": 2,
   "metadata": {},
   "outputs": [
    {
     "name": "stdout",
     "output_type": "stream",
     "text": [
      "No\n"
     ]
    },
    {
     "data": {
      "text/plain": [
       "-1"
      ]
     },
     "execution_count": 2,
     "metadata": {},
     "output_type": "execute_result"
    }
   ],
   "source": [
    "# Check if array can be rearranged in AP\n",
    "A=[1,2,4]\n",
    "\n",
    "n=A[0]-A[1]\n",
    "\n",
    "for i in range(len(A)-1):\n",
    "  if n!=(A[i]-A[i+1]):\n",
    "    print('No')\n",
    "    break\n",
    "\n",
    "n"
   ]
  },
  {
   "cell_type": "markdown",
   "metadata": {},
   "source": [
    "## Day11- Q1"
   ]
  },
  {
   "cell_type": "code",
   "execution_count": 3,
   "metadata": {},
   "outputs": [
    {
     "data": {
      "text/plain": [
       "[10, 55, 45, 25, 25]"
      ]
     },
     "execution_count": 3,
     "metadata": {},
     "output_type": "execute_result"
    }
   ],
   "source": [
    "# Beggers outside Temple\n",
    "\n",
    "N=5\n",
    "D=[[1, 2,10], [2,3,20], [2,5,25]]\n",
    "\n",
    "A=[0]*N\n",
    "for d in D:\n",
    "  for i in range(d[0]-1,d[1]):\n",
    "    A[i]+=d[2]\n",
    "\n",
    "A"
   ]
  },
  {
   "cell_type": "code",
   "execution_count": 10,
   "metadata": {},
   "outputs": [
    {
     "data": {
      "text/plain": [
       "[10, 55, 45, 25, 25]"
      ]
     },
     "execution_count": 10,
     "metadata": {},
     "output_type": "execute_result"
    }
   ],
   "source": [
    "N=5\n",
    "D=[[1, 2,10], [2,3,20], [2,5,25]]\n",
    "\n",
    "A=[0]*N\n",
    "\n",
    "for d in D:\n",
    "  A[d[0]-1]+=d[2]\n",
    "  if d[1]!=N:\n",
    "    A[d[1]]+=(-d[2])\n",
    "  \n",
    "\n",
    "for i in range(1,N):\n",
    "  A[i]=A[i-1]+A[i]\n",
    "\n",
    "A"
   ]
  },
  {
   "cell_type": "markdown",
   "metadata": {},
   "source": [
    "## Day11 - Q4"
   ]
  },
  {
   "cell_type": "code",
   "execution_count": null,
   "metadata": {},
   "outputs": [],
   "source": [
    "# Subsequence 'AG'\n",
    "\n",
    "A = \"ABCGAG\"\n",
    "cnt=0\n",
    "for i in range(len(A)):\n",
    "  print('i', A[i], i)\n",
    "  if A[i]=='A':\n",
    "    for j in range(i+1, len(A)):\n",
    "      print(A[j])\n",
    "      if A[i]+A[j] =='AG':\n",
    "        cnt+=1\n",
    "        # print(i,j)\n",
    "print(cnt)"
   ]
  },
  {
   "cell_type": "code",
   "execution_count": 6,
   "metadata": {},
   "outputs": [
    {
     "data": {
      "text/plain": [
       "3"
      ]
     },
     "execution_count": 6,
     "metadata": {},
     "output_type": "execute_result"
    }
   ],
   "source": [
    "A = \"ABCGAG\"\n",
    "out=0\n",
    "gCnt=0\n",
    "\n",
    "for i in range(len(A)-1, -1,-1):\n",
    "  if A[i]=='G':\n",
    "    gCnt+=1\n",
    "  if A[i]=='A':\n",
    "    out+=gCnt\n",
    "  \n",
    "out"
   ]
  },
  {
   "cell_type": "markdown",
   "metadata": {},
   "source": [
    "## Day11-Q3"
   ]
  },
  {
   "cell_type": "code",
   "execution_count": 7,
   "metadata": {},
   "outputs": [
    {
     "name": "stdout",
     "output_type": "stream",
     "text": [
      "0 999\n",
      "1\n"
     ]
    },
    {
     "data": {
      "text/plain": [
       "2000"
      ]
     },
     "execution_count": 7,
     "metadata": {},
     "output_type": "execute_result"
    }
   ],
   "source": [
    "# Closest Min Max\n",
    "\n",
    "A=[ 48, 774, 281, 796, 786, 411, 553, 804, 361, 85, 509, 144, 712, 982, 682, 155, 806, 521, 43, 431, 944, 280, 273, 458, 267, 63, 767, 371, 844, 848, 277, 892, 974, 559, 688, 761, 322, 593, 917, 35, 678, 426, 179, 742, 409, 861, 249, 215, 735, 293, 999, 679, 925, 272, 137, 192, 335, 256, 915, 179, 456, 193, 423, 430, 104, 463, 543, 778, 56, 461, 813, 86, 887, 992, 828, 648, 206, 430, 216, 941, 75, 215, 972, 0, 487, 461, 192, 174, 69, 460, 705, 525, 5, 480, 955, 109, 943, 499, 239, 999, 312, 52, 437, 199, 396, 265, 200, 602, 47, 416, 895, 122, 631, 867, 122, 470, 328, 667, 996, 397, 127, 53, 922, 132, 533, 230, 593, 476, 729, 184, 827, 41, 236, 264, 592, 632, 881, 792, 587, 929, 560, 482, 403, 191, 350, 526, 13, 30, 193, 9, 428, 672, 414, 702, 156, 947, 932, 101, 775, 13, 285, 954, 406, 521, 570, 999, 505, 452, 143, 444, 733, 56, 927, 488, 599, 629, 14, 613, 11, 559, 974, 439, 231, 389, 142, 739, 688, 426, 840, 816, 440, 125, 122, 846, 998, 693, 197, 504, 497, 693, 948, 582, 749, 227, 70, 348, 208, 85, 961, 220, 996, 288, 11, 228, 29, 505, 967, 69, 932, 160, 885, 724, 285, 8, 570, 284, 53, 768, 140, 550, 461, 440, 132, 210, 668, 202, 910, 228, 639, 224, 800, 636, 512, 812, 216, 893, 317, 535, 962, 601, 695, 200, 325, 981, 560, 896, 265, 613, 16, 757, 163, 829, 197, 647, 391, 217, 849, 301, 446, 489, 525, 246, 125, 389, 410, 341, 282, 728, 876, 597, 681, 924, 797, 7, 905, 709, 255, 522, 322, 623, 279, 837, 452, 476, 484, 843, 46, 685, 496, 492, 526, 374, 90, 651, 763, 501, 344, 398, 581, 573, 995, 262, 497, 144, 621, 754, 853, 228, 276, 527, 851, 907, 364, 655, 735, 200, 850, 781, 885, 347, 625, 412, 73, 716, 415, 836, 217, 112, 586, 798, 37, 933, 412, 886, 429, 34, 640, 282, 262, 268, 161, 466, 175, 877, 473, 910, 77, 324, 44, 315, 23, 669, 79, 96, 385, 846, 284, 602, 310, 223, 752, 347, 156, 165, 233, 938, 551, 873, 572, 813, 141, 734, 631, 668, 611, 105, 931, 41, 781, 975, 708, 156, 996, 139, 604, 382, 985, 240, 336, 648, 463, 441, 995, 972, 606, 229, 910, 157, 454, 482, 322, 948, 568, 306, 968, 180, 763, 899, 573, 896, 226, 633, 52, 223, 772, 656, 957, 109, 896, 645, 757, 712, 86, 105, 36, 44, 686, 946, 201, 140, 780, 876, 440, 349, 534, 409, 529, 297, 308, 454, 193, 887, 87, 597, 110, 211, 605, 67, 672, 853, 712, 430, 565, 151, 535, 601, 195, 221, 899, 749, 713, 680, 977, 154, 29, 511, 915, 910, 160, 575, 364, 353, 462, 803, 302, 572, 366, 907, 991, 38, 760, 56, 820, 326, 207, 707, 279, 402, 928, 179, 503, 994, 859, 480, 500, 888, 991, 415, 150, 151, 990, 866, 856, 805, 669, 158, 377, 387, 65, 721, 425, 826, 777, 246, 504, 336, 953, 783, 738, 234, 314, 242, 580, 173, 74, 80, 413, 66, 847, 563, 569, 189, 429, 426, 994, 450, 936, 724, 189, 2, 445, 615, 180, 574, 213, 684, 910, 518, 819, 0, 104, 134, 594, 684, 659, 669, 116, 73, 87, 315, 988, 656, 505, 770, 82, 851, 572, 19, 927, 762, 373, 724, 729, 553, 298, 942, 589, 560, 460, 408, 561, 565, 894, 507, 601, 554, 176, 718, 979, 263, 33, 319, 920, 890, 89, 354, 94, 14, 725, 21, 776, 450, 98, 857, 3, 748, 799, 944, 309, 611, 353, 222, 528, 599, 729, 130, 153, 258, 200, 132, 521, 585, 452, 793, 476, 893, 500, 922, 907, 577, 295, 35, 28, 393, 892, 383, 142, 43, 328, 803, 7, 33, 25, 535, 632, 106, 17, 786, 364, 217, 270, 238, 803, 722, 31, 631, 968, 883, 553, 875, 461, 200, 263, 489, 594, 507, 872, 88, 903, 552, 891, 910, 585, 268, 797, 218, 374, 815, 356, 91, 384, 626, 329, 539, 349, 712, 522, 669, 596, 427, 896, 57, 628, 159, 898, 222, 667, 122, 662, 570, 675, 905, 832, 260, 173, 629, 830, 899, 444, 186, 990, 181, 813, 671, 720, 514, 384, 243, 183, 980, 22, 79, 389, 650, 239, 287, 224, 258, 409, 886, 180, 84, 791, 364, 697, 316, 993, 527, 216, 790, 714, 558, 971, 527, 230, 43, 393, 614, 638, 576, 946, 661, 7, 335, 311, 598, 622, 536, 208, 383, 774, 388, 820, 566, 104, 517, 882, 98, 396, 450, 240, 462, 361, 563, 341, 591, 606, 734, 557, 597, 662, 503, 258, 670, 190, 921, 268, 164, 809, 477, 547, 936, 217, 367, 502, 322, 236, 736, 772, 985, 539, 12, 447, 900, 575, 789, 491, 533, 523, 400, 482, 186, 255, 92, 856, 445, 14, 476, 609, 175, 953, 156, 111, 523, 876, 965, 197, 464, 54, 969, 449, 593, 333, 897, 493, 260, 686, 336, 793, 561, 88, 276, 99, 343, 720, 307, 788, 86, 784, 397, 262, 89, 905, 725, 612, 133, 691, 809, 598, 97, 778, 399, 690, 463, 296, 535, 723, 334, 223, 869, 248, 311, 497, 347, 6, 217, 655, 794, 304, 439, 543, 566, 528, 800, 643, 493, 286, 334, 302, 236, 431, 433, 635, 473, 896, 284, 360, 972, 618, 583, 841, 866, 246, 338, 214, 252, 555, 221, 398, 859, 660, 293, 777, 540, 446, 421, 33, 732, 107, 688, 968, 891, 473, 603, 364, 721, 887, 725, 693, 858, 660, 534, 76, 907, 872, 642, 511, 780, 863, 262, 991, 523, 555, 121, 64, 353, 542, 449, 85, 1, 137, 405, 892, 962, 9, 609, 684, 248, 686, 377, 458, 698, 264, 535, 605, 488, 177, 469, 268, 41, 731, 260, 564, 638, 381, 980, 992, 275, 782, 77, 628, 271, 483, 521, 234, 844, 482, 918, 444, 520, 647, 903, 218, 911, 438, 824, 400, 967, 645, 20, 8, 376, 632, 925, 14, 365, 257, 358, 640, 39, 436, 269, 663, 271, 142, 897, 467, 976, 167, 911, 496, 166, 166, 714, 78, 604, 890, 830, 572, 535, 850, 932, 263, 483, 857, 630, 848, 115, 988, 489, 506, 776, 110, 521, 399, 604, 770, 866, 580, 937, 130, 428, 104, 296, 494, 534, 253, 385, 364, 177, 272, 214, 109, 888, 697, 319, 870, 546, 786, 210, 387, 644, 987, 849, 166, 738, 453, 936, 957, 385, 226, 87, 165, 330, 735, 659, 216, 340, 44, 580, 869, 669, 146, 331, 557, 844, 650, 779, 742, 788, 989, 129, 432, 976, 330, 598, 67, 135, 887, 24, 520, 113, 463, 37, 795, 550, 696, 11, 891, 93, 943, 112, 114, 89, 443, 23, 285, 93, 802, 27, 233, 791, 508, 666, 120, 190, 616, 187, 325, 503, 563, 197, 968, 26, 234, 763, 928, 931, 126, 819, 376, 69, 932, 490, 511, 727, 513, 796, 173, 315, 176, 406, 106, 36, 72, 578, 227, 689, 765, 552, 544, 328, 750, 513, 706, 984, 628, 635, 267, 755, 806, 995, 176, 90, 485, 687, 818, 998, 836, 991, 665, 364, 397, 124, 400, 822, 702, 979, 863, 820, 532, 407, 500, 634, 272, 207, 970, 901, 194, 590, 656, 0, 585, 832, 91, 71, 872, 261, 421, 708, 604, 439, 72, 1, 563, 824, 823, 617, 804, 38, 437, 688, 446, 938, 322, 70, 497, 292, 971, 691, 882, 979, 691, 820, 164, 134, 891, 36, 747, 664, 96, 351, 103, 520, 353, 18, 344, 528, 636, 500, 567, 425, 188, 365, 363, 510, 435, 860, 155, 759, 903, 389, 738, 595, 209, 902, 81, 100, 290, 829, 117, 738, 180, 572, 258, 885, 591, 955, 766, 579, 455, 685, 4, 644, 50, 720, 506, 837, 932, 661, 596, 836, 51, 335, 783, 260, 589, 864, 713, 232, 45, 182, 970, 578, 754, 581, 815, 345, 536, 581, 276, 343, 618, 281, 339, 668, 353, 846, 506, 285, 859, 454, 121, 910, 141, 904, 523, 83, 121, 588, 315, 518, 770, 637, 448, 524, 570, 264, 222, 458, 197, 850, 802, 816, 131, 141, 836, 484, 339, 694, 122, 199, 149, 243, 461, 290, 500, 984, 373, 973, 924, 40, 843, 694, 30, 292, 571, 600, 908, 145, 411, 457, 995, 213, 625, 479, 706, 462, 315, 398, 156, 437, 597, 657, 33, 410, 300, 885, 395, 25, 858, 671, 66, 701, 366, 448, 345, 289, 400, 253, 434, 811, 63, 429, 376, 688, 260, 435, 502, 576, 833, 659, 365, 782, 668, 398, 192, 968, 283, 939, 994, 493, 611, 412, 547, 329, 212, 892, 618, 612, 498, 404, 424, 561, 185, 152, 601, 446, 587, 104, 374, 772, 115, 739, 554, 783, 138, 99, 104, 773, 390, 450, 267, 353, 214, 814, 682, 426, 58, 652, 38, 556, 56, 814, 469, 242, 967, 423, 688, 906, 527, 62, 679, 642, 153, 585, 777, 291, 36, 881, 417, 427, 683, 684, 132, 897, 850, 815, 323, 908, 819, 714, 817, 876, 880, 638, 470, 199, 61, 510, 106, 588, 572, 137, 582, 77, 74, 360, 721, 463, 593, 138, 242, 629, 174, 374, 526, 24, 541, 202, 284, 361, 268, 453, 589, 148, 444, 59, 348, 505, 569, 806, 446, 493, 295, 380, 570, 721, 92, 291, 184, 38, 429, 426, 667, 955, 153, 545, 979, 694, 99, 616, 55, 367, 421, 996, 516, 865, 55, 216, 723, 624, 22, 521, 117, 669, 901, 40, 390, 994, 331, 575, 384, 113, 1, 51, 68, 154, 948, 400, 201, 48, 368, 608, 415, 789, 605, 283, 655, 660, 499, 730, 637, 873, 251, 106, 542, 152, 146, 933, 498, 478, 508, 882, 943, 861, 285, 11, 368, 234, 411, 569, 282, 779, 529, 49, 921, 134, 333, 928, 795, 832, 658, 784, 706, 909, 890, 248, 413, 37, 533, 912, 867, 41, 146, 810, 255, 784, 821, 623, 18, 585, 544, 652, 364, 425, 701, 637, 560, 34, 565, 707, 867, 223, 491, 925, 132, 381, 173, 546, 770, 707, 810, 637, 100, 308, 447, 707, 92, 621, 682, 110, 206, 226, 114, 922, 4, 816, 560, 564, 850, 125, 271, 69, 349, 114, 994, 833, 847, 520, 731, 618, 579, 893, 607, 31, 202, 55, 739, 294, 676, 421, 757, 234, 0, 871, 156, 4, 39, 716, 568, 890, 194, 191, 311, 895, 657, 306, 728, 504, 178, 460, 474, 757, 705, 82, 788, 907, 489, 527, 554, 517, 949, 663, 751, 301, 886, 259, 305, 926, 328, 873, 168, 522, 416, 479, 417, 73, 137, 497, 929, 315, 957, 756, 72, 15, 838, 213, 922, 679, 740, 828, 196, 41, 491, 299, 342, 378, 910, 999, 656, 238, 224, 824, 760, 640, 655, 529, 65, 793, 27, 347, 460, 336, 103, 885, 351, 293, 98, 626, 972, 190, 454, 520, 232, 946, 171, 926, 676, 81, 926, 332, 320, 502, 508, 432, 143, 515, 962, 560, 660, 341, 907, 121, 677, 10, 6, 29, 655, 104, 655, 627, 646, 461, 147, 230, 407, 670, 157, 435, 752, 435, 119, 72, 937, 979, 504, 432, 495, 818, 993, 507, 159, 252, 980, 189, 615, 986, 218, 270, 442, 225, 250, 89, 38, 749, 319, 446, 420, 828, 233, 172, 615, 353, 596, 905, 684, 452, 337, 531, 271, 682, 39, 782, 287, 19, 971, 254, 358, 541, 524, 152, 118, 774, 593, 157, 876, 265, 955, 296, 93, 540, 468, 61, 893, 416, 966, 930, 868, 655, 461, 491, 690, 500, 626, 977, 872, 597, 231, 230, 491, 107, 382, 961, 234, 976, 118, 110, 241, 425, 406, 686, 966, 226, 99, 211, 642, 65, 141, 862, 73, 603, 354, 763, 455, 980, 740, 327, 929, 323, 909, 772, 430, 644, 734, 16, 620, 204, 126, 213, 630, 532, 251, 948, 110, 351, 159, 752, 768, 653, 967, 841, 608, 321, 956, 63, 653, 48, 743, 934, 371, 652, 59, 154, 296, 793, 170, 268, 349, 297 ]\n",
    "\n",
    "minIndex=0\n",
    "maxIndex=0\n",
    "\n",
    "minElement=min(A)\n",
    "maxElement=max(A)\n",
    "minDiff=1e8\n",
    "print(minElement, maxElement)\n",
    "for i in range(len(A)):\n",
    "  if A[i]==minElement:\n",
    "    minIndex=i\n",
    "  if A[i]==maxElement:\n",
    "    maxIndex=i\n",
    "  if minDiff>abs(maxIndex-minIndex)+1:\n",
    "    minDiff=abs(maxIndex-minIndex)+1\n",
    "print(minDiff)\n",
    "len(A)\n"
   ]
  },
  {
   "cell_type": "code",
   "execution_count": 3,
   "metadata": {},
   "outputs": [
    {
     "name": "stdout",
     "output_type": "stream",
     "text": [
      "yes\n"
     ]
    }
   ],
   "source": [
    "# Noble Integer\n",
    "A=[ -4, -2, 0, -1, -6 ]\n",
    "\n",
    "A=sorted(A)\n",
    "\n",
    "n=len(A)\n",
    "\n",
    "\n",
    "for i in range(n):\n",
    "  if A[i]<0 or (i!=n-1 and A[i]==A[i+1]):\n",
    "    continue\n",
    "  if A[i]==n-1-i:\n",
    "    print(\"yes\")\n"
   ]
  },
  {
   "cell_type": "markdown",
   "metadata": {},
   "source": [
    "### Color Sort\n",
    "Given an array with n objects colored red, white or blue, sort them so that objects of the same color are adjacent, with the colors in the order red, white and blue.\n",
    "Here, we will use the integers 0, 1, and 2 to represent the color red, white, and blue respectively.\n",
    "\n",
    "Note: Using library sort function is not allowed."
   ]
  },
  {
   "cell_type": "code",
   "execution_count": 7,
   "metadata": {},
   "outputs": [
    {
     "data": {
      "text/plain": [
       "[0, 0, 1, 1, 2, 2]"
      ]
     },
     "execution_count": 7,
     "metadata": {},
     "output_type": "execute_result"
    }
   ],
   "source": [
    "A = [0 ,1 ,2 ,0 ,1 ,2]\n",
    "\n",
    "for i in range(len(A)):\n",
    "  for j in range(i, len(A)):\n",
    "    if A[i]>A[j]:\n",
    "      A[i], A[j]=A[j], A[i]\n",
    "\n",
    "A"
   ]
  },
  {
   "cell_type": "code",
   "execution_count": 16,
   "metadata": {},
   "outputs": [
    {
     "data": {
      "text/plain": [
       "[[0, 0, 0, 0, 1],\n",
       " [0, 0, 0, 2, 1],\n",
       " [0, 0, 3, 2, 1],\n",
       " [0, 4, 3, 2, 1],\n",
       " [5, 4, 3, 2, 1]]"
      ]
     },
     "execution_count": 16,
     "metadata": {},
     "output_type": "execute_result"
    }
   ],
   "source": [
    "# Pattern Printing reverse\n",
    "A=5 \n",
    "arr=[]\n",
    "for i in range(A):\n",
    "  arr2=[]\n",
    "  for j in range(A-1,-1,-1):\n",
    "    if j<=i:\n",
    "      arr2.append(j+1)\n",
    "    else:\n",
    "      arr2.append(0)\n",
    "  arr.append(arr2)\n",
    "arr\n"
   ]
  },
  {
   "cell_type": "code",
   "execution_count": 3,
   "metadata": {},
   "outputs": [
    {
     "data": {
      "text/plain": [
       "[[1, 0, 0, 0, 0],\n",
       " [1, 2, 0, 0, 0],\n",
       " [1, 2, 3, 0, 0],\n",
       " [1, 2, 3, 4, 0],\n",
       " [1, 2, 3, 4, 5]]"
      ]
     },
     "execution_count": 3,
     "metadata": {},
     "output_type": "execute_result"
    }
   ],
   "source": [
    "# Pattern Printing straight\n",
    "A = 5\n",
    "arr = []\n",
    "for i in range(A):\n",
    "  arr2 = []\n",
    "  for j in range(A):\n",
    "    if j <= i:\n",
    "      arr2.append(j+1)\n",
    "    else:\n",
    "      arr2.append(0)\n",
    "  arr.append(arr2)\n",
    "arr\n"
   ]
  },
  {
   "cell_type": "code",
   "execution_count": 21,
   "metadata": {},
   "outputs": [
    {
     "data": {
      "text/plain": [
       "1"
      ]
     },
     "execution_count": 21,
     "metadata": {},
     "output_type": "execute_result"
    }
   ],
   "source": [
    "A=\"143\"\n",
    "\n",
    "int(A)%2"
   ]
  },
  {
   "cell_type": "code",
   "execution_count": null,
   "metadata": {},
   "outputs": [],
   "source": [
    "# Reverser the string by words\n",
    "A = \"the sky is blue\"\n",
    "\n",
    "def swap(str1, s,e):\n",
    "  A= list(str1)\n",
    "  A[s], A[e]=A[e],A[s]\n",
    "  return \"\".join(A)\n",
    "\n",
    "def reverseString(str1, s, e):\n",
    "  str2=str1\n",
    "  while(s<=e):\n",
    "    # print(s, e)\n",
    "    str2=swap(str2, s,e)\n",
    "    # print(str2)\n",
    "    s+=1\n",
    "    e-=1\n",
    "  return str2\n",
    "\n",
    "A = reverseString(A, 0, len(A)-1)\n",
    "\n",
    "print('Full revers->',A)\n",
    "\n",
    "s=0\n",
    "for i ,v in enumerate(A):\n",
    "  if v==' ':\n",
    "    print(s, i-1)\n",
    "    A=reverseString(A, s,i-1)\n",
    "    print(A)\n",
    "    s=i+1\n",
    "\n",
    "A=reverseString(A, s,len(A)-1)\n",
    "print('Single rev->', A)"
   ]
  },
  {
   "cell_type": "code",
   "execution_count": 5,
   "metadata": {},
   "outputs": [
    {
     "name": "stdout",
     "output_type": "stream",
     "text": [
      "0 3\n",
      "['b', 'l', 'u', 'e', ' ', 's', 'i', ' ', 'y', 'k', 's', ' ', 'e', 'h', 't']\n",
      "5 6\n",
      "['b', 'l', 'u', 'e', ' ', 'i', 's', ' ', 'y', 'k', 's', ' ', 'e', 'h', 't']\n",
      "8 10\n",
      "['b', 'l', 'u', 'e', ' ', 'i', 's', ' ', 's', 'k', 'y', ' ', 'e', 'h', 't']\n",
      "blue is sky the\n"
     ]
    }
   ],
   "source": [
    "A = \"the sky is blue\"\n",
    "A=A.strip()\n",
    "A=list(A)\n",
    "\n",
    "def reverseString(str1, s, e):\n",
    "  while(s<=e):\n",
    "    # print(s, e)\n",
    "    str1[s], str1[e]=str1[e],str1[s]\n",
    "    # print(str2)\n",
    "    s+=1\n",
    "    e-=1\n",
    "  return str1\n",
    "\n",
    "\n",
    "A=reverseString(A, 0, len(A)-1)\n",
    "s=0\n",
    "for i ,v in enumerate(A):\n",
    "  if v==' ':\n",
    "    print(s, i-1)\n",
    "    A=reverseString(A, s,i-1)\n",
    "    print(A)\n",
    "    s=i+1\n",
    "\n",
    "A=reverseString(A, s,len(A)-1)\n",
    "\n",
    "print(''.join(A))\n"
   ]
  },
  {
   "cell_type": "code",
   "execution_count": 51,
   "metadata": {},
   "outputs": [
    {
     "data": {
      "text/plain": [
       "['S', 'c', 'A', 'l', 'e', 'r', 'A', 'c', 'a', 'D', 'e', 'm', 'y']"
      ]
     },
     "execution_count": 51,
     "metadata": {},
     "output_type": "execute_result"
    }
   ],
   "source": [
    "# convert char to lowercase\n",
    "\n",
    "\n",
    "A = ['S', 'c', 'A', 'l', 'e', 'r', 'A', 'c', 'a', 'D', 'e', 'm', 'y']\n",
    "\n",
    "\n",
    "# for i in range(len(A)):\n",
    "#   if A[i]>='a' and A[i]<='z':\n",
    "#     A[i]=chr(ord(A[i])^32)\n",
    "\n",
    "\n",
    "# for i in range(len(A)):\n",
    "#   if A[i]>='A' and A[i]<='Z':\n",
    "#     A[i]=chr(ord(A[i])+ord('a')-ord('A'))\n",
    "\n",
    "A"
   ]
  },
  {
   "cell_type": "code",
   "execution_count": 61,
   "metadata": {},
   "outputs": [
    {
     "data": {
      "text/plain": [
       "'bc###bc###'"
      ]
     },
     "execution_count": 61,
     "metadata": {},
     "output_type": "execute_result"
    }
   ],
   "source": [
    "# Q4. String operation\n",
    "# Homework Dec 2 - Day 19\n",
    "A=\"AbcaZeoB\"\n",
    "A=list(A)\n",
    "B=[]\n",
    "for i in range(len(A)):\n",
    "  if not (A[i]>='A' and A[i]<='Z'):\n",
    "    if A[i] in 'aeiou' :\n",
    "      B.append('#')\n",
    "    else:\n",
    "      B.append(A[i])\n",
    "\n",
    "''.join(B+B)"
   ]
  },
  {
   "cell_type": "code",
   "execution_count": 13,
   "metadata": {},
   "outputs": [
    {
     "name": "stdout",
     "output_type": "stream",
     "text": [
      "4 0\n"
     ]
    },
    {
     "data": {
      "text/plain": [
       "'abcd'"
      ]
     },
     "execution_count": 13,
     "metadata": {},
     "output_type": "execute_result"
    }
   ],
   "source": [
    "# Longest Common Prefix\n",
    "\n",
    "A = [ \"abcd\", \"abcd\", \"efgh\" ]\n",
    "\n",
    "smallest= 1e8\n",
    "valu=''\n",
    "for i in range(len(A)):\n",
    "  if len(A[i])<smallest:\n",
    "    smallest=len(A[i])\n",
    "    itsIndex = i\n",
    "    valu=A[i]\n",
    "\n",
    "print(smallest, itsIndex)\n",
    "\n",
    "ele=''\n",
    "for a,b in zip(valu,A[itsIndex+1]):\n",
    "  ele=ele+a\n",
    "\n",
    "ele\n",
    "\n"
   ]
  },
  {
   "cell_type": "code",
   "execution_count": 15,
   "metadata": {},
   "outputs": [
    {
     "data": {
      "text/plain": [
       "1"
      ]
     },
     "execution_count": 15,
     "metadata": {},
     "output_type": "execute_result"
    }
   ],
   "source": [
    "# count 'bob'\n",
    "\n",
    "A=\"aboboc\"\n",
    "cnt=0\n",
    "for i in range(len(A)-2):\n",
    "  if A[i]+A[i+1]+A[i+2]=='bob':\n",
    "    cnt+=1\n",
    "\n",
    "cnt"
   ]
  },
  {
   "cell_type": "code",
   "execution_count": 34,
   "metadata": {},
   "outputs": [
    {
     "name": "stdout",
     "output_type": "stream",
     "text": [
      "0 [19, 4, 4]\n",
      "1 [4, 4, 19]\n",
      "2 [4, 19, 4]\n"
     ]
    },
    {
     "data": {
      "text/plain": [
       "[2, 1, 1]"
      ]
     },
     "execution_count": 34,
     "metadata": {},
     "output_type": "execute_result"
    }
   ],
   "source": [
    "cnt=0\n",
    "newArr=[]\n",
    "A=[19,4,4]\n",
    "B=A\n",
    "for k in range(len(A)):\n",
    "  print(k,A)\n",
    "  for i in range(len(A)-1):\n",
    "    if A[i]>=A[i+1]:\n",
    "        cnt+=1\n",
    "  newArr.append(cnt)\n",
    "  if k==len(A)-1:\n",
    "    continue\n",
    "  else:\n",
    "    A=B[k+1:]+B[:k+1]\n",
    "  cnt=0\n",
    "\n",
    "newArr"
   ]
  },
  {
   "cell_type": "code",
   "execution_count": 63,
   "metadata": {},
   "outputs": [
    {
     "name": "stdout",
     "output_type": "stream",
     "text": [
      "8\n"
     ]
    }
   ],
   "source": [
    "# length of longest Palindrom\n",
    "\n",
    "A='xbdyzzydbdyzydx'\n",
    "\n",
    "def palindromLen(S,i,j):\n",
    "  while(i>=0 and j<len(A) and S[i] ==S[j]):\n",
    "    i-=1\n",
    "    j+=1\n",
    "  i+=1\n",
    "  j-=1\n",
    "  return S[i:j]\n",
    "ans=0\n",
    "for i in range(len(A)):\n",
    "  ans =max(ans, len(palindromLen(A,i,i))+1)\n",
    "  ans = max(ans,len(palindromLen(A,i,i+1))+1)\n",
    "\n",
    "print(ans)\n",
    "\n"
   ]
  },
  {
   "cell_type": "code",
   "execution_count": 65,
   "metadata": {},
   "outputs": [
    {
     "name": "stdout",
     "output_type": "stream",
     "text": [
      "bdyzzydb\n"
     ]
    }
   ],
   "source": [
    "# find the longest palindrom\n",
    "\n",
    "low=0\n",
    "high=0\n",
    "maxLen=1\n",
    "start=0\n",
    "n=len(A)\n",
    "\n",
    "for i in range(1,n):\n",
    "  # for even\n",
    "  low=i-1\n",
    "  high=i\n",
    "  while(low>=0 and high<n and A[low]==A[high]):\n",
    "    low-=1\n",
    "    high+=1\n",
    "  low+=1\n",
    "  high-=1\n",
    "\n",
    "  if A[low]==A[high] and high-low+1>maxLen:\n",
    "    start=low\n",
    "    maxLen=high-low+1\n",
    "  # for odd\n",
    "  low=i\n",
    "  high=i\n",
    "  while(low>=0 and high<n and A[low]==A[high]):\n",
    "    low-=1\n",
    "    high+=1\n",
    "  low+=1\n",
    "  high-=1\n",
    "\n",
    "  if A[low]==A[high] and high-low+1>maxLen:\n",
    "    start=low\n",
    "    maxLen=high-low+1\n",
    "  \n",
    "print(A[start:start+maxLen])\n"
   ]
  },
  {
   "cell_type": "code",
   "execution_count": 57,
   "metadata": {},
   "outputs": [],
   "source": [
    "n=1\n",
    "while(n==3):\n",
    "  print(n)\n",
    "  n+=1"
   ]
  },
  {
   "cell_type": "code",
   "execution_count": 33,
   "metadata": {},
   "outputs": [
    {
     "data": {
      "text/plain": [
       "[19, 4, 4]"
      ]
     },
     "execution_count": 33,
     "metadata": {},
     "output_type": "execute_result"
    }
   ],
   "source": [
    "# Power of the array is the count of indices between 0 and N - 2, where arr[i] >= arr[i+1].\n",
    "\n",
    "# Given an array A of size N, return an array of N integers where the value at K-th index denotes the power of the array after the K-th cyclic shift towards the left.\n",
    "\n",
    "# NOTE: If there is an array, [A[0], A[1], ... A[n-1]], then its k-th cyclic shift towards left will be [A[k], A[k+1], ... A[n-1], A[0], A[1], ... A[k-1]].\n",
    "\n",
    "\n",
    "\n",
    "# # Avaoid rotation"
   ]
  },
  {
   "cell_type": "markdown",
   "metadata": {},
   "source": [
    "Given an array of integers A, arrange them in an alternate fashion such that every non-negative number is followed by negative and vice-versa, starting from a negative number, maintaining the order of appearance. The number of non-negative and negative numbers need not be equal.\n",
    "\n",
    "If there are more non-negative numbers they appear at the end of the array. If there are more negative numbers, they too appear at the end of the array.\n",
    "\n",
    "Note: Try solving with O(1) extra space."
   ]
  },
  {
   "cell_type": "markdown",
   "metadata": {},
   "source": [
    "<!-- Find the contiguous subarray within an array, A of length N which has the largest sum. -->"
   ]
  },
  {
   "cell_type": "code",
   "execution_count": 19,
   "metadata": {},
   "outputs": [
    {
     "name": "stdout",
     "output_type": "stream",
     "text": [
      "{136, 522, 787, 660, 663, 410, 291, 551, 565, 571, 320, 582, 202, 722, 212, 88, 90, 730, 350, 608, 737, 615, 744, 499, 248} [88, 90, 136, 202, 291, 212, 248, 320, 350, 410, 499, 522, 582, 608, 565, 551, 571, 663, 615, 660, 744, 722, 787, 730, 737] 25 25\n"
     ]
    },
    {
     "data": {
      "text/plain": [
       "0"
      ]
     },
     "execution_count": 19,
     "metadata": {},
     "output_type": "execute_result"
    }
   ],
   "source": [
    "# Day20 hashing 1\n",
    "# Q4. Sub-array with 0 sum\n",
    "def solve(A):\n",
    "  \n",
    "  for i in range(1, len(A)):\n",
    "      A[i]=A[i-1]+A[i]\n",
    "  Aset = set(A)\n",
    "  print(Aset, A, len(Aset), len(A))\n",
    "  if len(Aset)!=len(A):\n",
    "      return 1\n",
    "  if A[0]==0:\n",
    "      return 1\n",
    "  for i in A:\n",
    "    if i==0:\n",
    "        return 1\n",
    "  return 0\n",
    "A = [ 88, 2, 46, 66, 89, -79, 36, 72, 30, 60, 89, 23, 60, 26, -43, -14, 20, 92, -48, 45, 84, -22, 65, -57, 7 ]\n",
    "solve(A)"
   ]
  },
  {
   "cell_type": "code",
   "execution_count": 41,
   "metadata": {},
   "outputs": [
    {
     "name": "stdout",
     "output_type": "stream",
     "text": [
      "None\n",
      "{10: 1, 5: 2, 3: 2, 4: 1, 6: 1}\n",
      "yea\n"
     ]
    }
   ],
   "source": [
    "# first repeating element\n",
    "\n",
    "A = [10, 5, 3, 4, 3, 5, 6]\n",
    "\n",
    "thisDic={}\n",
    "print(thisDic.get(1))\n",
    "for i in A:\n",
    "  if not thisDic.get(i):\n",
    "    thisDic[i]=1\n",
    "  else:\n",
    "    thisDic[i]+=1\n",
    "print(thisDic)\n",
    "for i in A:\n",
    "  if thisDic[i]>1:\n",
    "    print('yea')\n",
    "    break"
   ]
  },
  {
   "cell_type": "code",
   "execution_count": 5,
   "metadata": {},
   "outputs": [
    {
     "name": "stdout",
     "output_type": "stream",
     "text": [
      "{0: 2, 1: 1}\n"
     ]
    },
    {
     "data": {
      "text/plain": [
       "0"
      ]
     },
     "execution_count": 5,
     "metadata": {},
     "output_type": "execute_result"
    }
   ],
   "source": [
    "# Day20 hashing 1\n",
    "# k occurance\n",
    "\n",
    "A = 3\n",
    "B = 2\n",
    "C = [ 0, 0, 1 ]\n",
    "\n",
    "thisDic= {}\n",
    "\n",
    "for i in C:\n",
    "  if not thisDic.get(i):\n",
    "    thisDic[i]=1\n",
    "  else:\n",
    "    thisDic[i]+=1\n",
    "print(thisDic)\n",
    "sum=0\n",
    "C=set(C)\n",
    "for i in C:\n",
    "  if thisDic[i]==B:\n",
    "    sum+=i\n",
    "sum\n",
    "\n"
   ]
  },
  {
   "cell_type": "code",
   "execution_count": null,
   "metadata": {},
   "outputs": [],
   "source": [
    "# prefix sum of even and odd\n",
    "\n",
    "A=[3,4,-2,8,6,2,1,3]\n",
    "p_odd=[]\n",
    "p_even=[]\n",
    "p_even.append(A[0])\n",
    "p_odd.append(A[1])\n",
    "\n",
    "for i in range(2,len(A)):\n",
    "  print(i)\n",
    "  if i%2==1:\n",
    "    p_odd.append(A[i]+p_odd[i-1])\n",
    "    p_even.append(p_even[i-1])\n",
    "  else:\n",
    "    p_even.append(A[i]+p_even[i-1])\n",
    "    p_odd.append(p_odd[i-1])\n",
    "  \n",
    "print(p_even)\n",
    "print(p_odd)\n",
    "\n"
   ]
  },
  {
   "cell_type": "code",
   "execution_count": 77,
   "metadata": {},
   "outputs": [],
   "source": [
    "def getPrefix(A,i,j):\n",
    "  if j<0 :\n",
    "    return 0\n",
    "  return A[j]-A[i] if i!=0 else A[j]"
   ]
  },
  {
   "cell_type": "code",
   "execution_count": 86,
   "metadata": {},
   "outputs": [
    {
     "name": "stdout",
     "output_type": "stream",
     "text": [
      "31 cnt 31\n",
      "0\n",
      "0\n"
     ]
    }
   ],
   "source": [
    "# Day 12 Nov 13\n",
    "# Special Integrer\n",
    "# Count ways to make sum of odd and even indexed elements equal by removing an array element\n",
    "A=[ 0, 0, 0, 0, 0, 0, 0, 0, 0, 0, 0, 0, 0, 0, 0, 0, 0, 0, 0, 0, 0, 0, 0, 0, 0, 0, 0, 0, 0, 0, 0 ]\n",
    "class Solution:\n",
    "    # @param A : list of integers\n",
    "    # @return an integer\n",
    "    def solve(self, A):\n",
    "        def getPrefix(A,i,j):\n",
    "            if j<0 :\n",
    "                return 0\n",
    "            return A[j]-A[i-1] if i!=0 else A[j]\n",
    "        p_even=[]\n",
    "        p_odd=[]\n",
    "        p_odd.append(0)\n",
    "        p_even.append(A[0])\n",
    "        for i in range(1,len(A)):\n",
    "            if i&1==1:\n",
    "                p_even.append(p_even[i-1])\n",
    "                p_odd.append(p_odd[i-1]+A[i])\n",
    "            else:\n",
    "                p_even.append(p_even[i-1]+A[i])\n",
    "                p_odd.append(p_odd[i-1])\n",
    "        cnt=0\n",
    "        n=len(A)\n",
    "        for i in range(len(A)):\n",
    "            if getPrefix(p_even, 0,i-1 )+getPrefix(p_odd, i+1,n-1)==getPrefix(p_odd,0,i-1)+getPrefix(p_even, i+1,n-1):\n",
    "                cnt+=1\n",
    "        return cnt\n",
    "\n"
   ]
  },
  {
   "cell_type": "code",
   "execution_count": 88,
   "metadata": {},
   "outputs": [
    {
     "data": {
      "text/plain": [
       "1"
      ]
     },
     "execution_count": 88,
     "metadata": {},
     "output_type": "execute_result"
    }
   ],
   "source": [
    "def solve( A):\n",
    "    minIndex=-1\n",
    "    maxIndex=-1\n",
    "    n=len(A)\n",
    "    ans=n\n",
    "    minEle =min(A)\n",
    "    maxEle = max(A)\n",
    "    if minEle==maxEle:\n",
    "      return 1\n",
    "    for i in range(n-1,-1,-1):\n",
    "        if A[i]==minEle:\n",
    "            minIndex=i\n",
    "            if maxIndex!=-1:\n",
    "                ans=min(ans, maxIndex-minIndex+1)\n",
    "        elif A[i]==maxEle:\n",
    "            maxIndex=i\n",
    "            if minIndex!=-1:\n",
    "                ans=min(ans, minIndex-maxIndex+1)\n",
    "    return ans\n",
    "\n",
    "A = [ 4, 4, 4, 4, 4 ]\n",
    "solve(A)"
   ]
  },
  {
   "cell_type": "code",
   "execution_count": 91,
   "metadata": {},
   "outputs": [
    {
     "data": {
      "text/plain": [
       "0"
      ]
     },
     "execution_count": 91,
     "metadata": {},
     "output_type": "execute_result"
    }
   ],
   "source": [
    "A= [ 37, 19, 71, 72, 5, 4, 74, 2, 30, 33, 85, 1, 7, 14, 98, 27, 51, 7, 24, 88, 86, 81, 77, 64, 13, 3, 63, 75, 29, 50, 90, 3, 22, 94, 40, 72, 75, 26, 32, 64, 62, 59, 19, 16 ]\n",
    "\n",
    "min_sum=1e8\n",
    "for i in range(len(A)):\n",
    "  for j in range(i+1,len(A)):\n",
    "    min_sum=min(min_sum, abs(A[i]-A[j]))\n",
    "\n",
    "min_sum\n",
    "\n",
    "\n"
   ]
  },
  {
   "cell_type": "code",
   "execution_count": 2,
   "metadata": {},
   "outputs": [
    {
     "data": {
      "text/plain": [
       "-1"
      ]
     },
     "execution_count": 2,
     "metadata": {},
     "output_type": "execute_result"
    }
   ],
   "source": [
    "# find subarray with given sum\n",
    "A = [ 5, 10, 20, 100, 105 ]\n",
    "B = 110\n",
    "def solve(A, B):\n",
    "    sumA=A[0]\n",
    "    addI=0\n",
    "    remI=0\n",
    "    for i in range(len(A)):\n",
    "        if sumA<B:\n",
    "            sumA+=A[i]\n",
    "            addI=i\n",
    "        if sumA>B:\n",
    "            sumA-=A[remI]\n",
    "            remI+=1\n",
    "    return A[remI:addI+1] if sumA==B else -1\n",
    "\n",
    "solve(A,B)"
   ]
  },
  {
   "cell_type": "code",
   "execution_count": 4,
   "metadata": {},
   "outputs": [
    {
     "data": {
      "text/plain": [
       "3"
      ]
     },
     "execution_count": 4,
     "metadata": {},
     "output_type": "execute_result"
    }
   ],
   "source": [
    "def sum(N):\n",
    "  if N==1:\n",
    "    return 1\n",
    "  return sum(N-1)+N\n",
    "\n",
    "sum(2)"
   ]
  },
  {
   "cell_type": "code",
   "execution_count": 18,
   "metadata": {},
   "outputs": [
    {
     "name": "stdout",
     "output_type": "stream",
     "text": [
      "43 43\n"
     ]
    },
    {
     "data": {
      "text/plain": [
       "434755"
      ]
     },
     "execution_count": 18,
     "metadata": {},
     "output_type": "execute_result"
    }
   ],
   "source": [
    "# Given three 2-digit integers, A, B and C, find out the minimum number that can be obtained by concatenating them in any order.\n",
    "# Return the minimum result that can be obtained.\n",
    "\n",
    "\n",
    "# A = 74\n",
    "# B = 86\n",
    "# C = 54\n",
    "\n",
    "A = 55\n",
    "B = 43\n",
    "C = 47\n",
    "print(min(A,B,C),min(B,C))\n",
    "\n",
    "if A>B:\n",
    "  A,B=B,A\n",
    "if B>C:\n",
    "  B,C=C,B\n",
    "if A>B:\n",
    "  A,B=B,A\n",
    "\n",
    "\n",
    "int(str(A)+str(B)+str(C))\n",
    "\n"
   ]
  },
  {
   "cell_type": "code",
   "execution_count": 16,
   "metadata": {},
   "outputs": [
    {
     "name": "stdout",
     "output_type": "stream",
     "text": [
      "The L.C.M. is 216\n"
     ]
    }
   ],
   "source": [
    "# Python Program to find the L.C.M. of two input number\n",
    "\n",
    "def compute_lcm(A, B):\n",
    "   if A > B:\n",
    "       greater = A\n",
    "   else:\n",
    "       greater = B\n",
    "\n",
    "   while(True):\n",
    "       if((greater % A == 0) and (greater % B == 0)):\n",
    "           lcm = greater\n",
    "           break\n",
    "       greater += 1\n",
    "\n",
    "   return lcm\n",
    "\n",
    "num1 = 54\n",
    "num2 = 24\n",
    "\n",
    "print(\"The L.C.M. is\", compute_lcm(num1, num2))"
   ]
  },
  {
   "cell_type": "code",
   "execution_count": 5,
   "metadata": {},
   "outputs": [],
   "source": [
    "# Check is rectangles are overlaping\n",
    "# For the first rectangle it's bottom left corner is (A, B) and top right corner is (C, D) and for the second rectangle it's bottom left corner is (E, F) and top right corner is (G, H).\n",
    "\n",
    "A = 3\n",
    "B = 1\n",
    "C = 10\n",
    "D = 5\n",
    "E = 1\n",
    "F = 4\n",
    "G = 9\n",
    "H = 8\n",
    "\n",
    "# A = 0   \n",
    "# B = 0\n",
    "# C = 4   \n",
    "# D = 4\n",
    "# E = 2   \n",
    "# F = 2\n",
    "# G = 6   \n",
    "# H = 6\n",
    "\n",
    "if C<=E:\n",
    "  print(\"N-R\")\n",
    "elif A>=G:\n",
    "  print('N-L')\n",
    "elif D<=F:\n",
    "  print(\"N-T\")\n",
    "elif B>=H:\n",
    "  print(\"N-B\")\n"
   ]
  },
  {
   "cell_type": "code",
   "execution_count": 62,
   "metadata": {},
   "outputs": [
    {
     "name": "stdout",
     "output_type": "stream",
     "text": [
      "0\n",
      "[3, 0, 5, 7, 2, 1, 5, 4, 6] [1, 3, 6, 5, 2, 8, 7]\n",
      "5 12\n"
     ]
    }
   ],
   "source": [
    "# find unique elements\n",
    "A=[3,5,7,1,5,6,2,8]\n",
    "\n",
    "def getBitPos(n):\n",
    "  i=0\n",
    "  while(n > 0):\n",
    "    if n & 1 == 1:\n",
    "      return i\n",
    "    i += 1\n",
    "    n = n >> 1\n",
    "  return 0\n",
    "\n",
    "def checkBit(n,i):\n",
    "  return n>>i&1\n",
    "\n",
    "# XOR of array and n\n",
    "xorArr=A[0]^1\n",
    "for i in range(1,len(A)):\n",
    "  xorArr=xorArr^A[i]^i+1\n",
    "setBitPos = getBitPos(xorArr)\n",
    "print(setBitPos)\n",
    "setBit=[]\n",
    "unsetBit=[]\n",
    "for i in range(len(A)):\n",
    "  if checkBit(A[i],setBitPos)==1:\n",
    "    setBit.append(A[i])\n",
    "  else:\n",
    "    unsetBit.append(A[i])\n",
    "  if checkBit(i+1, setBitPos)==1:\n",
    "    setBit.append(i)\n",
    "  else:\n",
    "    unsetBit.append(i)\n",
    "  \n",
    "\n",
    "\n",
    "print(setBit, unsetBit)\n",
    "setXor=setBit[0]\n",
    "unSetXor=unsetBit[0]\n",
    "for i in range(1,len(setBit)):\n",
    "  setXor^=setBit[i]\n",
    "for i in range(1, len(unsetBit)):\n",
    "  unSetXor ^= unsetBit[i]\n",
    "\n",
    "print(setXor, unSetXor)\n",
    "\n"
   ]
  },
  {
   "cell_type": "code",
   "execution_count": 81,
   "metadata": {},
   "outputs": [
    {
     "name": "stdout",
     "output_type": "stream",
     "text": [
      "3 1\n"
     ]
    }
   ],
   "source": [
    "# all element repeating twice except 2\n",
    "\n",
    "A = [1, 7, 4, 1, 5, 6, 2]\n",
    "# B=[1,2,3,4,5,6,7,8]\n",
    "# A=A+B\n",
    "xorArr=A[0]^1\n",
    "for i in range(1,len(A)):\n",
    "  xorArr=xorArr^A[i]^(i+1)\n",
    "setBitPos =getBitPos(xorArr)\n",
    "xorNum = xorArr& ~(xorArr-1)\n",
    "\n",
    "global x,y\n",
    "x,y=0,0\n",
    "\n",
    "for i in range(len(A)):\n",
    "  if A[i] & xorNum!=0:\n",
    "    x^=A[i]\n",
    "  else:\n",
    "    y^=A[i]\n",
    "  if (i+1) & xorNum != 0:\n",
    "    x^=(i+1)\n",
    "  else:\n",
    "    y^=(i+1)\n",
    "\n",
    "\n",
    "print(x, y)"
   ]
  },
  {
   "cell_type": "code",
   "execution_count": 77,
   "metadata": {},
   "outputs": [
    {
     "name": "stdout",
     "output_type": "stream",
     "text": [
      "The missing element is 5 and the repeating number is 4\n"
     ]
    }
   ],
   "source": [
    "# Python3 program to find the repeating\n",
    "# and missing elements\n",
    "\n",
    "# The output of this function is stored\n",
    "# at x and y\n",
    "def getTwoElements(arr, n):\n",
    "\t\n",
    "\tglobal x, y\n",
    "\tx = 0\n",
    "\ty = 0\n",
    "\t\n",
    "\t# Will hold xor of all elements\n",
    "\t# and numbers from 1 to n\n",
    "\txor1 = arr[0]\n",
    "\t\n",
    "\t# Get the xor of all array elements\n",
    "\tfor i in range(1, n):\n",
    "\t\txor1 = xor1 ^ arr[i]\n",
    "\t\t\n",
    "\t# XOR the previous result with numbers\n",
    "\t# from 1 to n\n",
    "\tfor i in range(1, n + 1):\n",
    "\t\txor1 = xor1 ^ i\n",
    "\t\n",
    "\t# Will have only single set bit of xor1\n",
    "\tset_bit_no = xor1 & ~(xor1 - 1)\n",
    "\t\n",
    "\t# Now divide elements into two\n",
    "\t# sets by comparing a rightmost set\n",
    "\t# bit of xor1 with the bit at the same\n",
    "\t# position in each element. Also,\n",
    "\t# get XORs of two sets. The two\n",
    "\t# XORs are the output elements.\n",
    "\t# The following two for loops\n",
    "\t# serve the purpose\n",
    "\tfor i in range(n):\n",
    "\t\tif (arr[i] & set_bit_no) != 0:\n",
    "\t\t\t\n",
    "\t\t\t# arr[i] belongs to first set\n",
    "\t\t\tx = x ^ arr[i]\n",
    "\t\telse:\n",
    "\t\t\t\n",
    "\t\t\t# arr[i] belongs to second set\n",
    "\t\t\ty = y ^ arr[i]\n",
    "\t\t\t\n",
    "\tfor i in range(1, n + 1):\n",
    "\t\tif (i & set_bit_no) != 0:\n",
    "\t\t\t\n",
    "\t\t\t# i belongs to first set\n",
    "\t\t\tx = x ^ i\n",
    "\t\telse:\n",
    "\t\t\t\n",
    "\t\t\t# i belongs to second set\n",
    "\t\t\ty = y ^ i\n",
    "\t\t\n",
    "\t# x and y hold the desired\n",
    "\t# output elements\n",
    "\t\n",
    "# Driver code\n",
    "# arr = [ 1, 7, 4, 1, 5, 6, 2 ]\n",
    "arr=[3, 5, 7, 1, 5, 6, 2, 8]\n",
    "n = len(arr)\n",
    "\t\n",
    "getTwoElements(arr, n)\n",
    "\n",
    "print(\"The missing element is\", x,\n",
    "\t\"and the repeating number is\", y)\n",
    "\t\n",
    "# This code is contributed by stutipathak31jan\n"
   ]
  },
  {
   "cell_type": "code",
   "execution_count": 87,
   "metadata": {},
   "outputs": [
    {
     "name": "stdout",
     "output_type": "stream",
     "text": [
      "0 2 [3, 5, -7, 1, 5, 6, 2, 8]\n",
      "1 4 [3, 5, -7, 1, -5, 6, 2, 8]\n",
      "2 6 [3, 5, -7, 1, -5, 6, -2, 8]\n",
      "3 0 [-3, 5, -7, 1, -5, 6, -2, 8]\n",
      "The repeating element is 5\n",
      "4 4 [-3, 5, -7, 1, -5, 6, -2, 8]\n",
      "5 5 [-3, 5, -7, 1, -5, -6, -2, 8]\n",
      "6 1 [-3, -5, -7, 1, -5, -6, -2, 8]\n",
      "7 7 [-3, -5, -7, 1, -5, -6, -2, -8]\n",
      "and the missing element is 4\n"
     ]
    }
   ],
   "source": [
    "# Python3 code to Find the repeating\n",
    "# and the missing elements\n",
    "\n",
    "def printTwoElements(arr, size):\n",
    "\tfor i in range(size):\n",
    "\t\tif arr[abs(arr[i])-1] > 0:\n",
    "\t\t\tarr[abs(arr[i])-1] = -arr[abs(arr[i])-1]\n",
    "\t\telse:\n",
    "\t\t\tprint(\"The repeating element is\", abs(arr[i]))\n",
    "\t\tprint(i,abs(arr[i])-1,arr)\n",
    "\t\t\n",
    "\n",
    "\tfor i in range(size):\n",
    "\t\tif arr[i] > 0:\n",
    "\t\t\tprint(\"and the missing element is\", i + 1)\n",
    "\n",
    "\n",
    "# Driver program to test above function */\n",
    "arr = [3, 5, 7, 1, 5, 6, 2, 8]\n",
    "n = len(arr)\n",
    "printTwoElements(arr, n)\n",
    "\n",
    "# This code is contributed by \"Abhishek Sharma 44\"\n"
   ]
  },
  {
   "cell_type": "code",
   "execution_count": 104,
   "metadata": {},
   "outputs": [
    {
     "name": "stdout",
     "output_type": "stream",
     "text": [
      "5\n",
      "25\n",
      "125\n",
      "150\n"
     ]
    }
   ],
   "source": [
    "A=6\n",
    "answer = 0\n",
    "pow=1\n",
    "while (A):\n",
    "    pow = pow*5\n",
    "    print(pow)\n",
    "    if (A & 1):\n",
    "        answer += pow\n",
    "    A >>= 1\n",
    "\n",
    "print(answer)\n"
   ]
  },
  {
   "cell_type": "code",
   "execution_count": 11,
   "metadata": {},
   "outputs": [
    {
     "name": "stdout",
     "output_type": "stream",
     "text": [
      "coun [0, 1, 2, 3, 3]\n",
      "Pxor [1, 1, 1, 1, 0]\n"
     ]
    },
    {
     "data": {
      "text/plain": [
       "[[0, 3], [0, 3], [1, 2]]"
      ]
     },
     "execution_count": 11,
     "metadata": {},
     "output_type": "execute_result"
    }
   ],
   "source": [
    "# xor Queries\n",
    "\n",
    "A=[1,0,0,0,1]\n",
    "B=[ [2,4],\n",
    "    [1,5],\n",
    "    [3,5] ]\n",
    "\n",
    "arr=[A[0]]\n",
    "countArr=[]\n",
    "if A[0]==0:\n",
    "  countArr.append(1)\n",
    "else:\n",
    "  countArr.append(0)\n",
    "for i in range(1,len(A)):\n",
    "  arr.append(arr[i-1]^A[i])\n",
    "  if A[i]==0:\n",
    "    countArr.append(countArr[i-1]+1)\n",
    "  else:\n",
    "    countArr.append(countArr[i-1])\n",
    "\n",
    "final_arr=[]\n",
    "for b in B:\n",
    "  if b[0]==1:\n",
    "    final_arr.append([arr[b[1]-1],countArr[b[1]-1]])\n",
    "  else:\n",
    "    final_arr.append([arr[b[1]-1]^arr[b[0]-2], countArr[b[1]-1]-countArr[b[0]-2]])\n",
    "    \n",
    "  \n",
    "final_arr"
   ]
  },
  {
   "cell_type": "code",
   "execution_count": 20,
   "metadata": {},
   "outputs": [
    {
     "data": {
      "text/plain": [
       "[0, 2, 6, 4, 5, 7, 3, 1]"
      ]
     },
     "execution_count": 20,
     "metadata": {},
     "output_type": "execute_result"
    }
   ],
   "source": [
    "# Gray Code\n",
    "\n",
    "def retGrayCode(A):\n",
    "  if A==1:\n",
    "    return [0,1]\n",
    "  if A==2:\n",
    "    return [0,1,3,2]\n",
    "  prev=retGrayCode(A-1)\n",
    "  rev=prev[::-1]\n",
    "  ans=[]\n",
    "  for i in range(len(prev)):\n",
    "    ans.append(prev[i]<<1)\n",
    "  for i in range(len(rev)):\n",
    "    ans.append((rev[i]<<1)+1)\n",
    "  return ans\n",
    "\n",
    "retGrayCode(3)\n"
   ]
  },
  {
   "cell_type": "code",
   "execution_count": 21,
   "metadata": {},
   "outputs": [
    {
     "name": "stdout",
     "output_type": "stream",
     "text": [
      "4\n"
     ]
    }
   ],
   "source": [
    "\n",
    "# Python3 implementation of the approach\n",
    "\n",
    "# Function to return the value x\n",
    "# such that (x XOR a) is minimum\n",
    "# and the number of set bits in x\n",
    "# is equal to the number\n",
    "# of set bits in b\n",
    "def minVal(a, b):\n",
    "\n",
    "    # Count of set-bits in bit\n",
    "    setBits = bin(b).count('1')\n",
    "    ans = 0\n",
    "\n",
    "    for i in range(30, -1, -1):\n",
    "        mask = (1 << i)\n",
    "        s = (a & mask)\n",
    "\n",
    "        # If i'th bit is set also set the\n",
    "        # same bit in the required number\n",
    "        if (s and setBits > 0):\n",
    "            ans |= (1 << i)\n",
    "\n",
    "            # Decrease the count of setbits\n",
    "            # in b as the count of set bits\n",
    "            # in the required number has to be\n",
    "            # equal to the count of set bits in b\n",
    "            setBits -= 1\n",
    "\n",
    "    return ans\n",
    "\n",
    "\n",
    "# Driver code\n",
    "if __name__ == \"__main__\":\n",
    "\n",
    "    a = 4\n",
    "    b = 6\n",
    "\n",
    "    print(minVal(a, b))\n",
    "\n",
    "# This code is contributed by kanugargng\n"
   ]
  }
 ],
 "metadata": {
  "interpreter": {
   "hash": "aee8b7b246df8f9039afb4144a1f6fd8d2ca17a180786b69acc140d282b71a49"
  },
  "kernelspec": {
   "display_name": "Python 3.9.7 64-bit",
   "name": "python3"
  },
  "language_info": {
   "codemirror_mode": {
    "name": "ipython",
    "version": 3
   },
   "file_extension": ".py",
   "mimetype": "text/x-python",
   "name": "python",
   "nbconvert_exporter": "python",
   "pygments_lexer": "ipython3",
   "version": "3.9.7"
  },
  "orig_nbformat": 4
 },
 "nbformat": 4,
 "nbformat_minor": 2
}
