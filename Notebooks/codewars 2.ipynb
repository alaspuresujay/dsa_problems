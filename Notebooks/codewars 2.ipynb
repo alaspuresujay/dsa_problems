{
 "cells": [
  {
   "cell_type": "code",
   "execution_count": 2,
   "metadata": {},
   "outputs": [
    {
     "data": {
      "text/plain": [
       "5"
      ]
     },
     "execution_count": 2,
     "metadata": {},
     "output_type": "execute_result"
    }
   ],
   "source": [
    "2+3\n"
   ]
  },
  {
   "cell_type": "code",
   "execution_count": 21,
   "metadata": {},
   "outputs": [
    {
     "name": "stdout",
     "output_type": "stream",
     "text": [
      "False\n",
      "2\n"
     ]
    },
    {
     "data": {
      "text/plain": [
       "4"
      ]
     },
     "execution_count": 21,
     "metadata": {},
     "output_type": "execute_result"
    }
   ],
   "source": [
    "A=[ 1, 1, 1, 5, 5 ]\n",
    "\n",
    "A=sorted(set(A))\n",
    "\n",
    "print(A[len(A)-1]-A[0]==len(A)-1)\n",
    "\n",
    "print(len(A))\n",
    "A[len(A)-1]-A[0]"
   ]
  },
  {
   "cell_type": "code",
   "execution_count": 26,
   "metadata": {},
   "outputs": [
    {
     "name": "stdout",
     "output_type": "stream",
     "text": [
      "[1, 2, 3, 4, 5]\n",
      "1\n"
     ]
    }
   ],
   "source": [
    "A = [3, 2, 1, 4, 5]\n",
    "A=sorted(A)\n",
    "print(A)\n",
    "for i in range(len(A)-2):\n",
    "    if(A[i]+1!=A[i+1]):\n",
    "        print(0)\n",
    "        break\n",
    "print(1)"
   ]
  },
  {
   "cell_type": "code",
   "execution_count": 36,
   "metadata": {},
   "outputs": [
    {
     "data": {
      "text/plain": [
       "'sakjxs'"
      ]
     },
     "execution_count": 36,
     "metadata": {},
     "output_type": "execute_result"
    }
   ],
   "source": [
    "# length=input()\n",
    "\n",
    "# arr=input()\n",
    "\n",
    "string='921 449820857 82503011 979724590 94322801 63498981 444480824 864018676 443594448 248216423 497027955 466185555 99084499 546604141 913447356 319183190 112992271 708909279 636192679 778747191 675382152'\n",
    "\n",
    "ele = string.split(\" \")\n",
    "\n",
    "# for i in ele:\n",
    "    # print(type (int(i)))\n",
    "\n",
    "st =\" sakjxs\"\n",
    "st.strip()\n"
   ]
  },
  {
   "cell_type": "code",
   "execution_count": 38,
   "metadata": {},
   "outputs": [
    {
     "name": "stdout",
     "output_type": "stream",
     "text": [
      "3 9.0\n",
      "[9.5, 9.5, 10.375, 9.0, 10.75, 12.125, 12.75, 12.25, 11.375, 11.75, 11.5, 12.875, 11.375] 3\n",
      "[[4, 3, 17, 3, 8, 8, 14, 19], [3, 17, 3, 8, 8, 14, 19, 4], [17, 3, 8, 8, 14, 19, 4, 10], [3, 8, 8, 14, 19, 4, 10, 6], [8, 8, 14, 19, 4, 10, 6, 17], [8, 14, 19, 4, 10, 6, 17, 19], [14, 19, 4, 10, 6, 17, 19, 13], [19, 4, 10, 6, 17, 19, 13, 10], [4, 10, 6, 17, 19, 13, 10, 12], [10, 6, 17, 19, 13, 10, 12, 7], [6, 17, 19, 13, 10, 12, 7, 8], [17, 19, 13, 10, 12, 7, 8, 17], [19, 13, 10, 12, 7, 8, 17, 5]] 1\n"
     ]
    }
   ],
   "source": [
    "A=[ 4, 3, 17, 3, 8, 8, 14, 19, 4, 10, 6, 17, 19, 13, 10, 12, 7, 8, 17, 5 ]\n",
    "B=8\n",
    "arr= [ sum(A[i:B+i])/B for i in range(len(A)-B+1)]\n",
    "# arr= [ A[i:B+i] for i in range(len(A))]\n",
    "arr1= [ A[i:B+i] for i in range(len(A)-B+1)]\n",
    "print(arr.index( min(arr)), min(arr))\n",
    "print(arr, arr.index(min(arr)))\n",
    "print(arr1, A.index(arr1[arr.index(min(arr))][0]))"
   ]
  },
  {
   "cell_type": "code",
   "execution_count": 32,
   "metadata": {},
   "outputs": [
    {
     "data": {
      "text/plain": [
       "7"
      ]
     },
     "execution_count": 32,
     "metadata": {},
     "output_type": "execute_result"
    }
   ],
   "source": [
    "    def solve(self, A, B):\n",
    "        arr =[sum(A[i:B+i])/B for i in range(len(A)-B+1)]\n",
    "        return arr.index(min(arr)) if len(arr)>0 else 0\n"
   ]
  },
  {
   "cell_type": "code",
   "execution_count": 9,
   "metadata": {},
   "outputs": [
    {
     "name": "stdout",
     "output_type": "stream",
     "text": [
      "[-6, -4, -2, -1, 0]\n",
      "-6 0\n",
      "-4 1\n",
      "-2 2\n",
      "-1 3\n",
      "0 4\n"
     ]
    },
    {
     "data": {
      "text/plain": [
       "1"
      ]
     },
     "execution_count": 9,
     "metadata": {},
     "output_type": "execute_result"
    }
   ],
   "source": [
    "B = [ -4, 7, 5, 3, 5, -4, 2, -1, -9, -8, -3, 0, 9, -7, -4, -10, -4, 2, 6, 1, -2, -3, -1, -8, 0, -8, -7, -3, 5, -1, -8, -8, 8, -1, -3, 3, 6, 1, -8, -1, 3, -9, 9, -6, 7, 8, -6, 5, 0, 3, -4, 1, -10, 6, 3, -8, 0, 6, -9, -5, -5, -6, -3, 6, -5, -4, -1, 3, 7, -6, 5, -8, -5, 4, -3, 4, -6, -7, 0, -3, -2, 6, 8, -2, -6, -7, 1, 4, 9, 2, -10, 6, -2, 9, 2, -4, -4, 4, 9, 5, 0, 4, 8, -3, -9, 7, -8, 7, 2, 2, 6, -9, -10, -4, -9, -5, -1, -6, 9, -10, -1, 1, 7, 7, 1, -9, 5, -1, -3, -3, 6, 7, 3, -4, -5, -4, -7, 9, -6, -2, 1, 2, -1, -7, 9, 0, -2, -2, 5, -10, -1, 6, -7, 8, -5, -4, 1, -9, 5, 9, -2, -6, -2, -9, 0, 3, -10, 4, -6, -6, 4, -3, 6, -7, 1, -3, -5, 9, 6, 2, 1, 7, -2, 5 ]\n",
    "\n",
    "C = [ -4, -2, 0, -1, -6 ]\n",
    "\n",
    "def solve(A):\n",
    "  A= sorted(A)\n",
    "  print(A)\n",
    "  for i in range(len(A)):\n",
    "    print(A[i], i)\n",
    "    if i<len(A)-1 and A[i]==A[i+1] :\n",
    "      continue\n",
    "    if A[i]==len(A)-i-1:\n",
    "      return 1\n",
    "\n",
    "  return -1\n",
    "\n",
    "solve(C)"
   ]
  },
  {
   "cell_type": "code",
   "execution_count": 2,
   "metadata": {},
   "outputs": [
    {
     "name": "stdout",
     "output_type": "stream",
     "text": [
      "13\n"
     ]
    }
   ],
   "source": [
    "C = [ 64, 78, 50, 25, 24, 27, 76, 59, 65, 41, 37, 6, 80, 61, 8, 48, 38, 85, 41, 18, 12, 81, 36, 37, 12, 44, 22, 65, 12, 33, 19, 42, 25, 30, 5, 4, 96, 81, 72, 71, 20, 20, 23, 85, 93, 33, 32, 30, 12, 97, 24, 13, 93, 58, 74, 37, 10, 46, 26, 21, 41, 92, 90, 21, 65, 35, 89, 26, 10, 14, 64, 28, 3, 80, 99, 62, 38, 55, 8, 92, 31, 93, 58, 77, 21, 34, 57, 49, 82, 85, 38, 89, 66, 51, 4, 31, 12, 33, 83, 29 ]\n",
    "b=13\n",
    "cnt=0\n",
    "for i in range(b):\n",
    "  cnt+=1\n",
    "  C.insert(0, C.pop())\n",
    "\n",
    "len(C)\n",
    "print(cnt)"
   ]
  },
  {
   "cell_type": "code",
   "execution_count": 3,
   "metadata": {},
   "outputs": [
    {
     "data": {
      "text/plain": [
       "100"
      ]
     },
     "execution_count": 3,
     "metadata": {},
     "output_type": "execute_result"
    }
   ],
   "source": [
    "len(C)"
   ]
  },
  {
   "cell_type": "code",
   "execution_count": 31,
   "metadata": {},
   "outputs": [
    {
     "data": {
      "text/plain": [
       "[3, 4, 1, 2]"
      ]
     },
     "execution_count": 31,
     "metadata": {},
     "output_type": "execute_result"
    }
   ],
   "source": [
    "A=[1, 2, 3, 4]\n",
    "b=2\n",
    "n=len(A)\n",
    "\n",
    "while(b>len(A)):\n",
    "      b=b-len(A)\n",
    "\n",
    "A[-b:]+A[:-b]\n"
   ]
  },
  {
   "cell_type": "code",
   "execution_count": null,
   "metadata": {},
   "outputs": [],
   "source": [
    "64 78 50 25 24 27 76 59 65 41 37 6 80 61 8 48 38 85 41 18 12 81 36 37 12 44 22 65 12 33 19 42 25 30 5 4 96 81 72 71 20 20 23 85 93 33 32 30 12 97 24 13 93 58 74 37 10 46 26 21 41 92 90 21 65 35 89 26 10 14 64 28 3 80 99 62 38 55 8 92 31 93 58 77 21 34 57 49 82 85 38 89 66 51 4 31 12 33 83 29"
   ]
  },
  {
   "cell_type": "code",
   "execution_count": null,
   "metadata": {},
   "outputs": [],
   "source": [
    "A = [1, 2, 3, 4, -10] \n",
    "n="
   ]
  },
  {
   "cell_type": "code",
   "execution_count": null,
   "metadata": {},
   "outputs": [],
   "source": [
    "A = [1, 2, 3, 4, 5]\n",
    "B = [2, 3]\n",
    "print(len(A))\n",
    "arr=[]\n",
    "for i in B:\n",
    "  D=[]\n",
    "  print(D, i, A)\n",
    "  for j in range(i):\n",
    "    D.append()\n",
    "  print(D)\n",
    "  arr.append(D)\n",
    "\n",
    "# A.insert(4,A.pop(0))\n",
    "arr"
   ]
  },
  {
   "cell_type": "code",
   "execution_count": null,
   "metadata": {},
   "outputs": [],
   "source": [
    "A = [ 4, 74, 35, 16, 100, 77, 50, 51, 31, 29, 67, 12, 43, 31, 83, 2, 85, 85, 39, 27, 64, 86, 5 ]\n",
    "b=[ 73, 70, 47, 19, 46, 25, 46, 4, 33, 33, 6, 31, 23, 19, 44, 53, 69, 30, 69, 89, 59, 25, 38, 82, 26, 8, 36, 3 ]\n",
    "arr=[]\n",
    "for i in b:\n",
    "  if i>len(A):\n",
    "    n=i-len(A)\n",
    "    while(n>len(A)):\n",
    "      n=n-len(A)\n",
    "    arr.append(A[-n+1:]+A[:-n+1])\n",
    "  else:\n",
    "    arr.append(A[i:]+A[:i])\n",
    "\n",
    "arr"
   ]
  },
  {
   "cell_type": "code",
   "execution_count": 13,
   "metadata": {},
   "outputs": [
    {
     "name": "stdout",
     "output_type": "stream",
     "text": [
      "23\n"
     ]
    },
    {
     "data": {
      "text/plain": [
       "4"
      ]
     },
     "execution_count": 13,
     "metadata": {},
     "output_type": "execute_result"
    }
   ],
   "source": [
    "print(len(A))\n",
    "n=n%len(A)\n",
    "n"
   ]
  },
  {
   "cell_type": "code",
   "execution_count": 39,
   "metadata": {},
   "outputs": [
    {
     "data": {
      "text/plain": [
       "[3, 4, 5, 1, 2]"
      ]
     },
     "execution_count": 39,
     "metadata": {},
     "output_type": "execute_result"
    }
   ],
   "source": [
    "A= [1,2,3,4,5]\n",
    "b=3\n",
    "(A[len(A) - b:len(A)] + A[0:len(A) - b])"
   ]
  },
  {
   "cell_type": "code",
   "execution_count": 15,
   "metadata": {},
   "outputs": [
    {
     "data": {
      "text/plain": [
       "0"
      ]
     },
     "execution_count": 15,
     "metadata": {},
     "output_type": "execute_result"
    }
   ],
   "source": [
    "# Least average\n",
    "# https://www.geeksforgeeks.org/find-subarray-least-average/\n",
    "    # @param A : list of integers\n",
    "    # @param B : integer\n",
    "    # @return an integer\n",
    "def solve(A, B):\n",
    "    sum_arr=0\n",
    "    res_index=0\n",
    "    for i in range(B):\n",
    "        sum_arr+=A[i]\n",
    "    min_sum=sum_arr\n",
    "    for i in range(B, len(A)):\n",
    "        sum_arr+=A[i]-A[i-B]\n",
    "        if sum_arr<min_sum:\n",
    "            min_sum=sum_arr\n",
    "            res_index=i-B+1\n",
    "    return res_index\n",
    "        \n",
    "\n",
    "solve([1,2,3,4,5], 2)"
   ]
  },
  {
   "cell_type": "code",
   "execution_count": 20,
   "metadata": {},
   "outputs": [
    {
     "name": "stdout",
     "output_type": "stream",
     "text": [
      "[5, 11, 17, 100]\n"
     ]
    },
    {
     "data": {
      "text/plain": [
       "95"
      ]
     },
     "execution_count": 20,
     "metadata": {},
     "output_type": "execute_result"
    }
   ],
   "source": [
    "A = [5, 17, 100, 11]\n",
    "B = 1\n",
    "A=sorted(A)\n",
    "\n",
    "print(A)\n",
    "A[-B]-A[B-1]"
   ]
  },
  {
   "cell_type": "code",
   "execution_count": 22,
   "metadata": {},
   "outputs": [
    {
     "name": "stdout",
     "output_type": "stream",
     "text": [
      "-4 5\n"
     ]
    }
   ],
   "source": [
    "A = [-2, 1, -4, 5, 3]\n",
    "min_ele=A[0]\n",
    "max_ele=A[0]\n",
    "for i in range(1, len(A)):\n",
    "  if A[i]<min_ele:\n",
    "    min_ele=A[i]\n",
    "  if A[i]>max_ele:\n",
    "    max_ele=A[i]\n",
    "\n",
    "print(min_ele, max_ele)"
   ]
  },
  {
   "cell_type": "code",
   "execution_count": 27,
   "metadata": {},
   "outputs": [
    {
     "data": {
      "text/plain": [
       "0"
      ]
     },
     "execution_count": 27,
     "metadata": {},
     "output_type": "execute_result"
    }
   ],
   "source": [
    "A = [0]\n",
    "def solve(A):\n",
    "  arr = []\n",
    "  if len(A)>1:\n",
    "    for i in range(len(A)):\n",
    "      if i==0:\n",
    "        arr.append(A[i]*A[i+1])\n",
    "      elif i==len(A)-1:\n",
    "        arr.append(A[i]*A[i-1])\n",
    "      else:\n",
    "        arr.append(A[i+1]*A[i-1])\n",
    "    return arr\n",
    "  else:\n",
    "    return A[0]\n",
    "  \n",
    "\n",
    "solve(A)\n"
   ]
  },
  {
   "cell_type": "code",
   "execution_count": 30,
   "metadata": {},
   "outputs": [
    {
     "ename": "TypeError",
     "evalue": "'float' object cannot be interpreted as an integer",
     "output_type": "error",
     "traceback": [
      "\u001b[0;31m---------------------------------------------------------------------------\u001b[0m",
      "\u001b[0;31mTypeError\u001b[0m                                 Traceback (most recent call last)",
      "\u001b[0;32m/var/folders/y1/x4pp7ct53md7dr06z28x83nm0000gp/T/ipykernel_64458/4220155968.py\u001b[0m in \u001b[0;36m<module>\u001b[0;34m\u001b[0m\n\u001b[1;32m      9\u001b[0m   \u001b[0;32mreturn\u001b[0m \u001b[0mch\u001b[0m\u001b[0;34m\u001b[0m\u001b[0;34m\u001b[0m\u001b[0m\n\u001b[1;32m     10\u001b[0m \u001b[0;34m\u001b[0m\u001b[0m\n\u001b[0;32m---> 11\u001b[0;31m \u001b[0mcheckPrime\u001b[0m\u001b[0;34m(\u001b[0m\u001b[0;36m5\u001b[0m\u001b[0;34m)\u001b[0m\u001b[0;34m\u001b[0m\u001b[0;34m\u001b[0m\u001b[0m\n\u001b[0m",
      "\u001b[0;32m/var/folders/y1/x4pp7ct53md7dr06z28x83nm0000gp/T/ipykernel_64458/4220155968.py\u001b[0m in \u001b[0;36mcheckPrime\u001b[0;34m(n)\u001b[0m\n\u001b[1;32m      3\u001b[0m \u001b[0;32mdef\u001b[0m \u001b[0mcheckPrime\u001b[0m\u001b[0;34m(\u001b[0m\u001b[0mn\u001b[0m\u001b[0;34m)\u001b[0m\u001b[0;34m:\u001b[0m\u001b[0;34m\u001b[0m\u001b[0;34m\u001b[0m\u001b[0m\n\u001b[1;32m      4\u001b[0m   \u001b[0mch\u001b[0m\u001b[0;34m=\u001b[0m\u001b[0;32mTrue\u001b[0m\u001b[0;34m\u001b[0m\u001b[0;34m\u001b[0m\u001b[0m\n\u001b[0;32m----> 5\u001b[0;31m   \u001b[0;32mfor\u001b[0m \u001b[0mi\u001b[0m \u001b[0;32min\u001b[0m \u001b[0mrange\u001b[0m\u001b[0;34m(\u001b[0m\u001b[0mn\u001b[0m\u001b[0;34m**\u001b[0m\u001b[0;34m(\u001b[0m\u001b[0;36m1\u001b[0m\u001b[0;34m/\u001b[0m\u001b[0;36m2\u001b[0m\u001b[0;34m)\u001b[0m\u001b[0;34m)\u001b[0m\u001b[0;34m:\u001b[0m\u001b[0;34m\u001b[0m\u001b[0;34m\u001b[0m\u001b[0m\n\u001b[0m\u001b[1;32m      6\u001b[0m     \u001b[0;32mif\u001b[0m \u001b[0mn\u001b[0m\u001b[0;34m%\u001b[0m\u001b[0mi\u001b[0m\u001b[0;34m==\u001b[0m\u001b[0;36m0\u001b[0m\u001b[0;34m:\u001b[0m\u001b[0;34m\u001b[0m\u001b[0;34m\u001b[0m\u001b[0m\n\u001b[1;32m      7\u001b[0m       \u001b[0mch\u001b[0m\u001b[0;34m=\u001b[0m\u001b[0;32mFalse\u001b[0m\u001b[0;34m\u001b[0m\u001b[0;34m\u001b[0m\u001b[0m\n",
      "\u001b[0;31mTypeError\u001b[0m: 'float' object cannot be interpreted as an integer"
     ]
    }
   ],
   "source": [
    "# check if n is prime or not\n",
    "\n",
    "def checkPrime(n):\n",
    "  ch=True\n",
    "  for i in range(n**(1/2)):\n",
    "    if n%i==0:\n",
    "      ch=False\n",
    "      break\n",
    "  return ch\n",
    "\n",
    "checkPrime(5)"
   ]
  }
 ],
 "metadata": {
  "interpreter": {
   "hash": "aee8b7b246df8f9039afb4144a1f6fd8d2ca17a180786b69acc140d282b71a49"
  },
  "kernelspec": {
   "display_name": "Python 3.9.7 64-bit",
   "name": "python3"
  },
  "language_info": {
   "codemirror_mode": {
    "name": "ipython",
    "version": 3
   },
   "file_extension": ".py",
   "mimetype": "text/x-python",
   "name": "python",
   "nbconvert_exporter": "python",
   "pygments_lexer": "ipython3",
   "version": "3.9.7"
  },
  "orig_nbformat": 4
 },
 "nbformat": 4,
 "nbformat_minor": 2
}
