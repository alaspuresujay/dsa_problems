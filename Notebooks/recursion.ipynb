{
 "cells": [
  {
   "cell_type": "code",
   "execution_count": 1,
   "metadata": {},
   "outputs": [
    {
     "data": {
      "text/plain": [
       "6"
      ]
     },
     "execution_count": 1,
     "metadata": {},
     "output_type": "execute_result"
    }
   ],
   "source": [
    "# Factorial\n",
    "\n",
    "def facto(N):\n",
    "  if N==0:\n",
    "    return 1\n",
    "  return facto(N-1)*N\n",
    "\n",
    "facto(3)"
   ]
  },
  {
   "cell_type": "code",
   "execution_count": 4,
   "metadata": {},
   "outputs": [
    {
     "data": {
      "text/plain": [
       "5"
      ]
     },
     "execution_count": 4,
     "metadata": {},
     "output_type": "execute_result"
    }
   ],
   "source": [
    "# find fibonacci\n",
    "\n",
    "def fib(N):\n",
    "    if N==0:\n",
    "        return 0\n",
    "    if N==2 or N==1:\n",
    "        return 1\n",
    "    return fib(N-1)+fib(N-2)\n",
    "\n",
    "\n",
    "\n",
    "fib(4)"
   ]
  },
  {
   "cell_type": "code",
   "execution_count": 8,
   "metadata": {},
   "outputs": [
    {
     "data": {
      "text/plain": [
       "False"
      ]
     },
     "execution_count": 8,
     "metadata": {},
     "output_type": "execute_result"
    }
   ],
   "source": [
    "# Check Palindrom\n",
    "# error max recurcsive excedded\n",
    "def isPalindrom(A,s,e):\n",
    "  if s>e:\n",
    "    return True\n",
    "  if A[s]==A[e]:\n",
    "    s+=1\n",
    "    e-=1\n",
    "    return isPalindrom(A, s,e)\n",
    "  return False\n",
    "\n",
    "\n",
    "isPalindrom('madaqm', 0,4)"
   ]
  },
  {
   "cell_type": "code",
   "execution_count": 21,
   "metadata": {},
   "outputs": [
    {
     "name": "stdout",
     "output_type": "stream",
     "text": [
      "ickelohdspnajtudlowhgyhfcntbcxvbppxucfgijbptcmumfpopkfptgiazwrqmfutowpnfoqrkcehdalthzrskjemiqevmeeyigpbiybcvdobwvrevamjchvdofzntzmtdnjnhkjvbysficmjbbyntdmpnrjqshzkrwmbggtecylbwfpospomnzirhhjuxofapngvwcqxqdqxmzhcodlzysshgmzbzfnbhctmkzsuakmwtwrlgdxgnlxqmmaooaelihqconcejkaexwovpesvgzaghuyhfmzdyemdfahbdzndmfmdtktlzmmvszjwaajzbximpwefjocciiofeuegaenkpncshcftvaxfokanraxhxsxczlgctpwfybgsixicsdbayzeqljbwrdamlrizknxtfbsojyuchquughhqffvokncpkibgbgggagbgtzunmnnnmkerrzcccamqttwmfhyytjrxehvgnakelkqqxgpkedttwuoxcpkoyesvproqxzezdixhxvzswsaxxbiffrlqpmwakrgdmhcchgmabgtuvhieowcwcvgzorqwenafdltolyutxkjksvpafwljeplbuidolunefredrfareeauzdwqeqckyaompuitvriamnrztcbhgcgignwuvesrihtxyzudddonxzrjrlyrvdubiwcmaumzdlxweixwvaxjywiaoigvptiezktqugnpzbrdukpeajwtwuvtgivrebfqyetlnkcfedsuzpvierouprujmfiaflqvjrqamclpbztczypeaiqhswchktasvklehpxleyfgciyqxmomexrgeoegbwstkjvhixmssakmxdzqvnfxaaagklsrdbtcruccmggrtigbgcxmwghkmkkxpenfrfsymopkjpqnvskbbyookptxoizpnsjofcknxkkjxqhrncvbjsztuldmtmetrrxwssunuxyxrravwsscxcdqrbkppwxrjvbhc"
     ]
    }
   ],
   "source": [
    "# reverse the string\n",
    "\n",
    "# s=input()\n",
    "def revers(s, i):\n",
    "  if i==0:\n",
    "    print(s[i], end='')\n",
    "    return\n",
    "  print(s[i], end='')\n",
    "  return revers(s, i-1)\n",
    "\n",
    "s='chbvjrxwppkbrqdcxcsswvarrxyxunusswxrrtemtmdlutzsjbvcnrhqxjkkxnkcfojsnpzioxtpkooybbksvnqpjkpomysfrfnepxkkmkhgwmxcgbgitrggmccurctbdrslkgaaaxfnvqzdxmkassmxihvjktswbgeoegrxemomxqyicgfyelxphelkvsatkhcwshqiaepyzctzbplcmaqrjvqlfaifmjurpuoreivpzusdefcknlteyqfbervigtvuwtwjaepkudrbzpnguqtkzeitpvgioaiwyjxavwxiewxldzmuamcwibudvrylrjrzxnoddduzyxthirsevuwngigcghbctzrnmairvtiupmoaykcqeqwdzuaeerafrderfenulodiublpejlwfapvskjkxtuylotldfanewqrozgvcwcwoeihvutgbamghcchmdgrkawmpqlrffibxxaswszvxhxidzezxqorpvseyokpcxouwttdekpgxqqklekangvhexrjtyyhfmwttqmaccczrrekmnnnmnuztgbgagggbgbikpcnkovffqhhguuqhcuyjosbftxnkzirlmadrwbjlqezyabdscixisgbyfwptcglzcxsxhxarnakofxavtfchscnpkneageuefoiiccojfewpmixbzjaawjzsvmmzltktdmfmdnzdbhafdmeydzmfhyuhgazgvsepvowxeakjecnocqhileaooammqxlngxdglrwtwmkauszkmtchbnfzbzmghssyzldochzmxqdqxqcwvgnpafoxujhhriznmopsopfwblycetggbmwrkzhsqjrnpmdtnybbjmcifsybvjkhnjndtmztnzfodvhcjmavervwbodvcbyibpgiyeemveqimejksrzhtladheckrqofnpwotufmqrwzaigtpfkpopfmumctpbjigfcuxppbvxcbtncfhyghwoldutjanpsdholekci'\n",
    "n=len(s)\n",
    "revers(s,n-1)\n",
    "\n"
   ]
  },
  {
   "cell_type": "code",
   "execution_count": 19,
   "metadata": {},
   "outputs": [
    {
     "name": "stdout",
     "output_type": "stream",
     "text": [
      "skeeG rof skeeG"
     ]
    }
   ],
   "source": [
    "def reverse(string):\n",
    "    if len(string) == 0:\n",
    "        return\n",
    "     \n",
    "    temp = string[0]\n",
    "    reverse(string[1:])\n",
    "    print(temp, end='')\n",
    " \n",
    "# Driver program to test above function\n",
    "string = \"Geeks for Geeks\"\n",
    "reverse(string)"
   ]
  },
  {
   "cell_type": "code",
   "execution_count": 23,
   "metadata": {},
   "outputs": [
    {
     "name": "stdout",
     "output_type": "stream",
     "text": [
      "243\n"
     ]
    }
   ],
   "source": [
    "def bar(x,y):\n",
    "  if y==0:\n",
    "    return 0\n",
    "  return x+bar(x,y-1)\n",
    "def foo(x,y):\n",
    "  if y==0:\n",
    "    return 1\n",
    "  return bar(x, foo(x,y-1))\n",
    "\n",
    "print(foo(3,5))"
   ]
  },
  {
   "cell_type": "code",
   "execution_count": 27,
   "metadata": {},
   "outputs": [
    {
     "name": "stdout",
     "output_type": "stream",
     "text": [
      "1024\n"
     ]
    }
   ],
   "source": [
    "def fun(x,n):\n",
    "  if n==0:\n",
    "    return 1\n",
    "  elif n%2==0:\n",
    "    return fun(x*x,n//2)\n",
    "  else:\n",
    "    return x* fun(x*x,(n-1)//2)\n",
    "  \n",
    "print(fun(2, 10))\n"
   ]
  },
  {
   "cell_type": "code",
   "execution_count": 33,
   "metadata": {},
   "outputs": [
    {
     "data": {
      "text/plain": [
       "2"
      ]
     },
     "execution_count": 33,
     "metadata": {},
     "output_type": "execute_result"
    }
   ],
   "source": [
    "s=list(str(11))\n",
    "\n",
    "def sumOfInt(s, i):\n",
    "  if i==0:\n",
    "    return int(s[i])\n",
    "  return sumOfInt(s, i-1)+int(s[i])\n",
    "\n",
    "sumOfInt(s, 1)\n",
    "\n"
   ]
  }
 ],
 "metadata": {
  "interpreter": {
   "hash": "aee8b7b246df8f9039afb4144a1f6fd8d2ca17a180786b69acc140d282b71a49"
  },
  "kernelspec": {
   "display_name": "Python 3.9.7 64-bit",
   "language": "python",
   "name": "python3"
  },
  "language_info": {
   "codemirror_mode": {
    "name": "ipython",
    "version": 3
   },
   "file_extension": ".py",
   "mimetype": "text/x-python",
   "name": "python",
   "nbconvert_exporter": "python",
   "pygments_lexer": "ipython3",
   "version": "3.9.7"
  },
  "orig_nbformat": 4
 },
 "nbformat": 4,
 "nbformat_minor": 2
}
