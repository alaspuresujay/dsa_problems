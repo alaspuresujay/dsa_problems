{
 "cells": [
  {
   "cell_type": "code",
   "execution_count": 25,
   "metadata": {},
   "outputs": [
    {
     "name": "stdout",
     "output_type": "stream",
     "text": [
      "{1: 2, 2: 1}\n",
      "1 0\n",
      "{1: 1, 2: 1, 3: 1}\n",
      "2 1\n",
      "{1: 1, 3: 1, 4: 1}\n",
      "1 2\n",
      "{3: 2, 4: 1}\n"
     ]
    },
    {
     "data": {
      "text/plain": [
       "[2, 3, 3, 2]"
      ]
     },
     "execution_count": 25,
     "metadata": {},
     "output_type": "execute_result"
    }
   ],
   "source": [
    "# Day21 Hashing\n",
    "# Distinct Numbers in Window\n",
    "\n",
    "A = [1, 2, 1, 3, 4, 3]\n",
    "B = 3\n",
    "hashMap={}\n",
    "for i in range(B):\n",
    "  if A[i] in hashMap:\n",
    "    hashMap[A[i]]+=1\n",
    "  else:\n",
    "    hashMap[A[i]]=1\n",
    "\n",
    "n=len(A)\n",
    "finalArr=[]\n",
    "finalArr.append(len(hashMap))\n",
    "for i in range(1,len(A)-B+1):\n",
    "  if hashMap[A[i-1]]==1:\n",
    "    hashMap.pop(A[i-1])\n",
    "  else:\n",
    "    hashMap[A[i-1]]-=1\n",
    "  if A[i+B-1] in hashMap:\n",
    "    hashMap[A[i+B-1]]+=1\n",
    "  else:\n",
    "    hashMap[A[i+B-1]]=1\n",
    "  finalArr.append(len(hashMap))\n",
    "\n",
    "finalArr\n",
    "  \n",
    "\n"
   ]
  },
  {
   "cell_type": "code",
   "execution_count": 3,
   "metadata": {},
   "outputs": [
    {
     "name": "stdout",
     "output_type": "stream",
     "text": [
      "Sum found between indexes\n",
      " 1 and  2\n"
     ]
    },
    {
     "data": {
      "text/plain": [
       "[2, 3]"
      ]
     },
     "execution_count": 3,
     "metadata": {},
     "output_type": "execute_result"
    }
   ],
   "source": [
    "\n",
    "def subArraySum(arr, n, sum_):\n",
    "\t\n",
    "\t# Initialize curr_sum as\n",
    "\t# value of first element\n",
    "\t# and starting point as 0\n",
    "\tcurr_sum = arr[0]\n",
    "\tstart = 0\n",
    "\n",
    "\t# Add elements one by\n",
    "\t# one to curr_sum and\n",
    "\t# if the curr_sum exceeds\n",
    "\t# the sum, then remove\n",
    "\t# starting element\n",
    "\ti = 1\n",
    "\twhile i <= n:\n",
    "\t\t\n",
    "\t\t# If curr_sum exceeds\n",
    "\t\t# the sum, then remove\n",
    "\t\t# the starting elements\n",
    "\t\twhile curr_sum > sum_ and start < i-1:\n",
    "\t\t\tcurr_sum = curr_sum - arr[start]\n",
    "\t\t\tstart += 1\n",
    "\t\t\t\n",
    "\t\t# If curr_sum becomes\n",
    "\t\t# equal to sum, then\n",
    "\t\t# return true\n",
    "\t\tif curr_sum == sum_:\n",
    "\t\t\tprint (\"Sum found between indexes\")\n",
    "\t\t\tprint (\"% d and % d\"%(start, i-1))\n",
    "\t\t\treturn arr[start:i]\n",
    "\n",
    "\t\t# Add this element\n",
    "\t\t# to curr_sum\n",
    "\t\tif i < n:\n",
    "\t\t\tcurr_sum = curr_sum + arr[i]\n",
    "\t\ti += 1\n",
    "\n",
    "\t# If we reach here,\n",
    "\t# then no subarray\n",
    "\tprint (\"No subarray found\")\n",
    "\treturn 0\n",
    "\n",
    "# Driver program\n",
    "arr = [1, 2, 3, 4, 5]\n",
    "n = len(arr)\n",
    "sum_ = 5\n",
    "\n",
    "subArraySum(arr, n, sum_)\n",
    "\n",
    "# This code is Contributed by shreyanshi_arun.\n"
   ]
  },
  {
   "cell_type": "code",
   "execution_count": null,
   "metadata": {},
   "outputs": [],
   "source": [
    "# largest consecutive sequence \n",
    "# Bruet Force\n",
    "A=[400,200,1,3,2,5,4]\n",
    "A=sorted(A)\n",
    "\n",
    "maxCnt=1\n",
    "cnt=1\n",
    "for i in range(len(A)-1):\n",
    "  if A[i]+1==A[i+1]:\n",
    "    cnt+=1\n",
    "  elif A[i]==A[i+1]:\n",
    "    continue\n",
    "  else:\n",
    "    maxCnt=max(cnt, maxCnt)\n",
    "    cnt=1\n",
    "\n",
    "print(maxCnt)\n",
    "\n",
    "# TC-nlogn\n",
    "# solve using On\n"
   ]
  },
  {
   "cell_type": "code",
   "execution_count": 32,
   "metadata": {},
   "outputs": [
    {
     "data": {
      "text/plain": [
       "3"
      ]
     },
     "execution_count": 32,
     "metadata": {},
     "output_type": "execute_result"
    }
   ],
   "source": [
    "# check min diff of same element\n",
    "A = [7, 1, 3, 4, 1, 7]\n",
    "\n",
    "\n",
    "# {\n",
    "# 7:5\n",
    "# 1:3\n",
    "# 3:2\n",
    "# 4:3\n",
    "# }\n",
    "cons = dict()\n",
    "min_cnt=len(A)-1\n",
    "flag=False\n",
    "for i in range(len(A)):\n",
    "  if A[i] in cons:\n",
    "    flag=True\n",
    "    cons[A[i]]=abs(cons[A[i]]-i)\n",
    "    min_cnt=min(min_cnt,cons[A[i]])\n",
    "  else:\n",
    "    cons[A[i]]=i\n",
    "\n",
    "min_cnt if flag else -1\n",
    "\n"
   ]
  },
  {
   "cell_type": "code",
   "execution_count": 19,
   "metadata": {},
   "outputs": [
    {
     "data": {
      "text/plain": [
       "True"
      ]
     },
     "execution_count": 19,
     "metadata": {},
     "output_type": "execute_result"
    }
   ],
   "source": [
    "# ColourFul number\n",
    "\n",
    "# A number can be broken into different contiguous sub-subsequence parts.\n",
    "# Suppose, a number 3245 can be broken into parts like 3 2 4 5 32 24 45 324 245.\n",
    "# And this number is a COLORFUL number, since product of every digit of a contiguous subsequence is different.\n",
    "\n",
    "A = 23\n",
    "def solve(A):\n",
    "  arr=list(map(int, str(A)))\n",
    "  n=len(arr)\n",
    "  mulSet=set()\n",
    "  for i in range(n):\n",
    "    mul=1\n",
    "    for j in range(i,n):\n",
    "      mul*=arr[j]\n",
    "      if mul in mulSet:\n",
    "        return False\n",
    "      else:\n",
    "        mulSet.add(mul)\n",
    "  return True\n",
    "\n",
    "solve(A)"
   ]
  },
  {
   "cell_type": "code",
   "execution_count": 11,
   "metadata": {},
   "outputs": [
    {
     "name": "stdout",
     "output_type": "stream",
     "text": [
      "{'2', '3', '9', '4', '8'}\n",
      "{'48', '89', '34', '23'}\n"
     ]
    },
    {
     "data": {
      "text/plain": [
       "1"
      ]
     },
     "execution_count": 11,
     "metadata": {},
     "output_type": "execute_result"
    }
   ],
   "source": [
    "def colorful( A):\n",
    "    A = str(A)\n",
    "    # print(A)\n",
    "    if A == '0' or A == '1':\n",
    "        return 1\n",
    "    if len(A) > 8:\n",
    "        return 0\n",
    "    digitset = {ch for ch in A}\n",
    "    print(digitset)\n",
    "    if len(digitset) != len(A):\n",
    "        return 0\n",
    "    if ('1' in digitset) or ('0' in digitset):\n",
    "        return 0\n",
    "    if '2' not in digitset:\n",
    "        return 1\n",
    "\n",
    "    bigrams = {A[i:i+2] for i in range(len(A)-1)}\n",
    "    print(bigrams)\n",
    "    if ('23' in bigrams or '32' in bigrams) and '6' in digitset:\n",
    "        return 0\n",
    "    if ('24' in bigrams or '42' in bigrams) and '8' in digitset:\n",
    "        return 0\n",
    "    if ('26' in bigrams or '62' in bigrams) and ('43' in bigrams or '34' in bigrams):\n",
    "        return 0\n",
    "\n",
    "    return 1\n",
    "colorful('23489')\n",
    "\n",
    "# 5,3,4,15,12"
   ]
  },
  {
   "cell_type": "code",
   "execution_count": 15,
   "metadata": {},
   "outputs": [
    {
     "name": "stdout",
     "output_type": "stream",
     "text": [
      "c- 7\n",
      "e\n",
      "{2: 0}\n",
      "c- 2\n",
      "[0, 1]\n"
     ]
    }
   ],
   "source": [
    "# two sum\n",
    "# 1. check B-A[i] is present in hash\n",
    "# 2. if not-> add (A[i],i)\n",
    "A=[2,7,11,15]\n",
    "B=9\n",
    "\n",
    "hashMap={}\n",
    "\n",
    "for i in range(len(A)):\n",
    "  c = B-A[i]\n",
    "  print(\"c-\",c)\n",
    "  if c not in hashMap:\n",
    "    hashMap[A[i]] = i\n",
    "    print('e')\n",
    "  else:\n",
    "    print([hashMap[B-A[i]], i])\n",
    "    break\n",
    "  print(hashMap)\n"
   ]
  },
  {
   "cell_type": "code",
   "execution_count": 50,
   "metadata": {},
   "outputs": [
    {
     "name": "stdout",
     "output_type": "stream",
     "text": [
      "9 52\n",
      "no\n"
     ]
    }
   ],
   "source": [
    "# diff k 2\n",
    "# A=[ 77, 28, 19, 21, 67, 15, 53, 25, 82, 52, 8, 94, 50, 30, 37, 39, 9, 43, 35, 48, 82, 53, 16, 20, 13, 95, 18, 67, 77, 12, 93, 0 ]\n",
    "\n",
    "# B=53\n",
    "\n",
    "# A= [34, 63, 64, 38, 65, 83, 50, 44, 18, 34, 71, 80, 22, 28, 20, 96, 33, 70, 0, 25, 64, 96, 18, 2, 53,\n",
    "#     100, 24, 47, 98, 69, 60, 55, 8, 38, 72, 94, 18, 68, 0, 53, 18, 30, 86, 55, 13, 93, 15, 43, 73, 68, 29]\n",
    "# B= 97\n",
    "\n",
    "A= [95, 97, 52, 51, 98, 41, 88, 12, 61, 32, 78, 9, 51, 39, 28, 28]\n",
    "B= 43\n",
    "hashMap = {}\n",
    "# A= [11, 85, 100, 44, 3, 32, 96, 72, 93, 76, 67, 93, 63, 5, 10, 45, 99, 35, 13]\n",
    "# B= 60\n",
    "\n",
    "# for i in range(len(A)-1,-1,-1):\n",
    "#   c = B+A[i]\n",
    "#   # print(A[i]-B, A[i])\n",
    "\n",
    "#   if c not in hashMap:\n",
    "#     hashMap[A[i]] = i\n",
    "#   else:\n",
    "#     print('Ans',[hashMap[c], i])\n",
    "#     print(A[hashMap[c]], A[i])\n",
    "#     break\n",
    "# print(hashMap)\n",
    "\n",
    "\n",
    "A=sorted(A)\n",
    "n=len(A)\n",
    "i,j=0,1\n",
    "while (i<n and j<n):\n",
    "  if i!=j and A[j]-A[i]==B:\n",
    "    print(A[i], A[j])\n",
    "    break\n",
    "  elif A[j] - A[i] < B:\n",
    "      j += 1\n",
    "  else:\n",
    "      i += 1\n",
    "print('no')\n",
    "    "
   ]
  },
  {
   "cell_type": "code",
   "execution_count": 3,
   "metadata": {},
   "outputs": [
    {
     "data": {
      "text/plain": [
       "2"
      ]
     },
     "execution_count": 3,
     "metadata": {},
     "output_type": "execute_result"
    }
   ],
   "source": [
    "A = [3, 6, 8, 10, 15, 50]\n",
    "B = 5\n",
    "cnt=0\n",
    "hashMap={}\n",
    "for i in range(len(A)):\n",
    "  if A[i]^B not in hashMap:\n",
    "    hashMap[A[i]]=1\n",
    "  else:\n",
    "    cnt+=1\n",
    "\n",
    "cnt"
   ]
  },
  {
   "cell_type": "code",
   "execution_count": 4,
   "metadata": {},
   "outputs": [
    {
     "data": {
      "text/plain": [
       "True"
      ]
     },
     "execution_count": 4,
     "metadata": {},
     "output_type": "execute_result"
    }
   ],
   "source": [
    "def isAlienSorted( words, order) :\n",
    "  dict = {j: i for i, j in enumerate(order)}\n",
    "  for i in range(len(words)-1):\n",
    "      for j in range(len(words[i])):\n",
    "          if j == len(words[i+1]):\n",
    "              return False\n",
    "          if words[i][j] != words[i+1][j]:\n",
    "              if dict[words[i][j]] > dict[words[i+1][j]]:\n",
    "                  return False\n",
    "              else:\n",
    "                  break\n",
    "  return True\n",
    "\n",
    "\n",
    "isAlienSorted([\"hello\", \"scaler\", \"interviewbit\"],\n",
    "              \"adhbcfegskjlponmirqtxwuvzy\")\n"
   ]
  },
  {
   "cell_type": "code",
   "execution_count": 46,
   "metadata": {},
   "outputs": [
    {
     "name": "stdout",
     "output_type": "stream",
     "text": [
      "{'y': 3, 'z': 2, 'f': 2, 'b': 2, 'r': 2, 'u': 2, 'q': 2}\n"
     ]
    }
   ],
   "source": [
    "# Check if characters of the given string can be rearranged to form a palindrome.\n",
    "A = \"yzfbzbyyrurquqf\"\n",
    "\n",
    "hashMap={}\n",
    "isOdd = len(A)%2==1\n",
    "for i in range(len(A)):\n",
    "  if A[i] in hashMap:\n",
    "    hashMap[A[i]]+=1\n",
    "  else:\n",
    "    hashMap[A[i]]=1\n",
    "    singleValue=A[i]\n",
    "hashMap\n",
    "checkodd=True if isOdd else False\n",
    "for i in set(A):\n",
    "  if hashMap[i]%2==1:\n",
    "    if checkodd:\n",
    "      checkodd=False\n",
    "      continue\n",
    "    else:\n",
    "      print('no',i)\n",
    "  else:\n",
    "    continue\n",
    "print(hashMap)"
   ]
  },
  {
   "cell_type": "code",
   "execution_count": 4,
   "metadata": {},
   "outputs": [
    {
     "ename": "TypeError",
     "evalue": "unhashable type: 'list'",
     "output_type": "error",
     "traceback": [
      "\u001b[0;31m---------------------------------------------------------------------------\u001b[0m",
      "\u001b[0;31mTypeError\u001b[0m                                 Traceback (most recent call last)",
      "\u001b[0;32m/var/folders/y1/x4pp7ct53md7dr06z28x83nm0000gp/T/ipykernel_67110/1383000855.py\u001b[0m in \u001b[0;36m<module>\u001b[0;34m\u001b[0m\n\u001b[1;32m      1\u001b[0m \u001b[0mdd\u001b[0m\u001b[0;34m=\u001b[0m\u001b[0mset\u001b[0m\u001b[0;34m(\u001b[0m\u001b[0;34m)\u001b[0m\u001b[0;34m\u001b[0m\u001b[0;34m\u001b[0m\u001b[0m\n\u001b[1;32m      2\u001b[0m \u001b[0;34m\u001b[0m\u001b[0m\n\u001b[0;32m----> 3\u001b[0;31m \u001b[0mdd\u001b[0m\u001b[0;34m.\u001b[0m\u001b[0madd\u001b[0m\u001b[0;34m(\u001b[0m\u001b[0;34m[\u001b[0m\u001b[0;36m1\u001b[0m\u001b[0;34m,\u001b[0m \u001b[0;36m2\u001b[0m\u001b[0;34m]\u001b[0m\u001b[0;34m)\u001b[0m\u001b[0;34m\u001b[0m\u001b[0;34m\u001b[0m\u001b[0m\n\u001b[0m",
      "\u001b[0;31mTypeError\u001b[0m: unhashable type: 'list'"
     ]
    }
   ],
   "source": [
    "dd=set()\n",
    "\n",
    "dd.add([1, 2])"
   ]
  }
 ],
 "metadata": {
  "interpreter": {
   "hash": "aee8b7b246df8f9039afb4144a1f6fd8d2ca17a180786b69acc140d282b71a49"
  },
  "kernelspec": {
   "display_name": "Python 3.9.7 64-bit",
   "language": "python",
   "name": "python3"
  },
  "language_info": {
   "codemirror_mode": {
    "name": "ipython",
    "version": 3
   },
   "file_extension": ".py",
   "mimetype": "text/x-python",
   "name": "python",
   "nbconvert_exporter": "python",
   "pygments_lexer": "ipython3",
   "version": "3.9.7"
  },
  "orig_nbformat": 4
 },
 "nbformat": 4,
 "nbformat_minor": 2
}
