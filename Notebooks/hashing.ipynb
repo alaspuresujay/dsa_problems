{
 "cells": [
  {
   "cell_type": "code",
   "execution_count": null,
   "metadata": {},
   "outputs": [],
   "source": [
    "# Day21 Hashing\n",
    "# Distinct Numbers in Window\n",
    "\n",
    "A = [1, 2, 1, 3, 4, 3]\n",
    "B = 3\n"
   ]
  },
  {
   "cell_type": "code",
   "execution_count": 3,
   "metadata": {},
   "outputs": [
    {
     "name": "stdout",
     "output_type": "stream",
     "text": [
      "Sum found between indexes\n",
      " 1 and  2\n"
     ]
    },
    {
     "data": {
      "text/plain": [
       "[2, 3]"
      ]
     },
     "execution_count": 3,
     "metadata": {},
     "output_type": "execute_result"
    }
   ],
   "source": [
    "\n",
    "def subArraySum(arr, n, sum_):\n",
    "\t\n",
    "\t# Initialize curr_sum as\n",
    "\t# value of first element\n",
    "\t# and starting point as 0\n",
    "\tcurr_sum = arr[0]\n",
    "\tstart = 0\n",
    "\n",
    "\t# Add elements one by\n",
    "\t# one to curr_sum and\n",
    "\t# if the curr_sum exceeds\n",
    "\t# the sum, then remove\n",
    "\t# starting element\n",
    "\ti = 1\n",
    "\twhile i <= n:\n",
    "\t\t\n",
    "\t\t# If curr_sum exceeds\n",
    "\t\t# the sum, then remove\n",
    "\t\t# the starting elements\n",
    "\t\twhile curr_sum > sum_ and start < i-1:\n",
    "\t\t\tcurr_sum = curr_sum - arr[start]\n",
    "\t\t\tstart += 1\n",
    "\t\t\t\n",
    "\t\t# If curr_sum becomes\n",
    "\t\t# equal to sum, then\n",
    "\t\t# return true\n",
    "\t\tif curr_sum == sum_:\n",
    "\t\t\tprint (\"Sum found between indexes\")\n",
    "\t\t\tprint (\"% d and % d\"%(start, i-1))\n",
    "\t\t\treturn arr[start:i]\n",
    "\n",
    "\t\t# Add this element\n",
    "\t\t# to curr_sum\n",
    "\t\tif i < n:\n",
    "\t\t\tcurr_sum = curr_sum + arr[i]\n",
    "\t\ti += 1\n",
    "\n",
    "\t# If we reach here,\n",
    "\t# then no subarray\n",
    "\tprint (\"No subarray found\")\n",
    "\treturn 0\n",
    "\n",
    "# Driver program\n",
    "arr = [1, 2, 3, 4, 5]\n",
    "n = len(arr)\n",
    "sum_ = 5\n",
    "\n",
    "subArraySum(arr, n, sum_)\n",
    "\n",
    "# This code is Contributed by shreyanshi_arun.\n"
   ]
  },
  {
   "cell_type": "code",
   "execution_count": null,
   "metadata": {},
   "outputs": [],
   "source": [
    "# largest consecutive sequence \n",
    "# Bruet Force\n",
    "A=[400,200,1,3,2,5,4]\n",
    "A=sorted(A)\n",
    "\n",
    "maxCnt=1\n",
    "cnt=1\n",
    "for i in range(len(A)-1):\n",
    "  if A[i]+1==A[i+1]:\n",
    "    cnt+=1\n",
    "  elif A[i]==A[i+1]:\n",
    "    continue\n",
    "  else:\n",
    "    maxCnt=max(cnt, maxCnt)\n",
    "    cnt=1\n",
    "\n",
    "print(maxCnt)\n",
    "\n",
    "# TC-nlogn\n",
    "# solve using On\n"
   ]
  },
  {
   "cell_type": "code",
   "execution_count": 32,
   "metadata": {},
   "outputs": [
    {
     "data": {
      "text/plain": [
       "3"
      ]
     },
     "execution_count": 32,
     "metadata": {},
     "output_type": "execute_result"
    }
   ],
   "source": [
    "# check min diff of same element\n",
    "A = [7, 1, 3, 4, 1, 7]\n",
    "\n",
    "\n",
    "# {\n",
    "# 7:5\n",
    "# 1:3\n",
    "# 3:2\n",
    "# 4:3\n",
    "# }\n",
    "cons = dict()\n",
    "min_cnt=len(A)-1\n",
    "flag=False\n",
    "for i in range(len(A)):\n",
    "  if A[i] in cons:\n",
    "    flag=True\n",
    "    cons[A[i]]=abs(cons[A[i]]-i)\n",
    "    min_cnt=min(min_cnt,cons[A[i]])\n",
    "  else:\n",
    "    cons[A[i]]=i\n",
    "\n",
    "min_cnt if flag else -1\n",
    "\n"
   ]
  },
  {
   "cell_type": "code",
   "execution_count": 50,
   "metadata": {},
   "outputs": [
    {
     "data": {
      "text/plain": [
       "[3, 2, 4, 5]"
      ]
     },
     "execution_count": 50,
     "metadata": {},
     "output_type": "execute_result"
    }
   ],
   "source": [
    "# ColourFul number\n",
    "\n",
    "# A number can be broken into different contiguous sub-subsequence parts.\n",
    "# Suppose, a number 3245 can be broken into parts like 3 2 4 5 32 24 45 324 245.\n",
    "# And this number is a COLORFUL number, since product of every digit of a contiguous subsequence is different.\n",
    "\n",
    "A=3245\n",
    "n=A\n",
    "arr=[]\n",
    "while(n>0):\n",
    "  arr.append(n%10)\n",
    "  n=n//10\n",
    "arr[::-1]"
   ]
  },
  {
   "cell_type": "code",
   "execution_count": 62,
   "metadata": {},
   "outputs": [
    {
     "name": "stdout",
     "output_type": "stream",
     "text": [
      "534\n",
      "{'4', '5', '3'}\n"
     ]
    },
    {
     "data": {
      "text/plain": [
       "1"
      ]
     },
     "execution_count": 62,
     "metadata": {},
     "output_type": "execute_result"
    }
   ],
   "source": [
    "def colorful( A):\n",
    "    A = str(A)\n",
    "    print(A)\n",
    "    if A == '0' or A == '1':\n",
    "        return 1\n",
    "    if len(A) > 8:\n",
    "        return 0\n",
    "    digitset = {ch for ch in A}\n",
    "    print(digitset)\n",
    "    if len(digitset) != len(A):\n",
    "        return 0\n",
    "    if ('1' in digitset) or ('0' in digitset):\n",
    "        return 0\n",
    "    if '2' not in digitset:\n",
    "        return 1\n",
    "\n",
    "    bigrams = {A[i:i+2] for i in range(len(A)-1)}\n",
    "    if ('23' in bigrams or '32' in bigrams) and '6' in digitset:\n",
    "        return 0\n",
    "    if ('24' in bigrams or '42' in bigrams) and '8' in digitset:\n",
    "        return 0\n",
    "    if ('26' in bigrams or '62' in bigrams) and ('43' in bigrams or '34' in bigrams):\n",
    "        return 0\n",
    "\n",
    "    return 1\n",
    "colorful()\n",
    "\n",
    "# 5,3,4,15,12"
   ]
  },
  {
   "cell_type": "code",
   "execution_count": 63,
   "metadata": {},
   "outputs": [
    {
     "data": {
      "text/plain": [
       "12"
      ]
     },
     "execution_count": 63,
     "metadata": {},
     "output_type": "execute_result"
    }
   ],
   "source": []
  }
 ],
 "metadata": {
  "interpreter": {
   "hash": "aee8b7b246df8f9039afb4144a1f6fd8d2ca17a180786b69acc140d282b71a49"
  },
  "kernelspec": {
   "display_name": "Python 3.9.7 64-bit",
   "language": "python",
   "name": "python3"
  },
  "language_info": {
   "codemirror_mode": {
    "name": "ipython",
    "version": 3
   },
   "file_extension": ".py",
   "mimetype": "text/x-python",
   "name": "python",
   "nbconvert_exporter": "python",
   "pygments_lexer": "ipython3",
   "version": "3.9.7"
  },
  "orig_nbformat": 4
 },
 "nbformat": 4,
 "nbformat_minor": 2
}
