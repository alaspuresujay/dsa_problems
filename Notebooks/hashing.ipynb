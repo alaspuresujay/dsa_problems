{
 "cells": [
  {
   "cell_type": "code",
   "execution_count": null,
   "metadata": {},
   "outputs": [],
   "source": [
    "# Day21 Hashing\n",
    "# Distinct Numbers in Window\n",
    "\n",
    "A = [1, 2, 1, 3, 4, 3]\n",
    "B = 3\n"
   ]
  },
  {
   "cell_type": "code",
   "execution_count": 3,
   "metadata": {},
   "outputs": [
    {
     "name": "stdout",
     "output_type": "stream",
     "text": [
      "Sum found between indexes\n",
      " 1 and  2\n"
     ]
    },
    {
     "data": {
      "text/plain": [
       "[2, 3]"
      ]
     },
     "execution_count": 3,
     "metadata": {},
     "output_type": "execute_result"
    }
   ],
   "source": [
    "\n",
    "def subArraySum(arr, n, sum_):\n",
    "\t\n",
    "\t# Initialize curr_sum as\n",
    "\t# value of first element\n",
    "\t# and starting point as 0\n",
    "\tcurr_sum = arr[0]\n",
    "\tstart = 0\n",
    "\n",
    "\t# Add elements one by\n",
    "\t# one to curr_sum and\n",
    "\t# if the curr_sum exceeds\n",
    "\t# the sum, then remove\n",
    "\t# starting element\n",
    "\ti = 1\n",
    "\twhile i <= n:\n",
    "\t\t\n",
    "\t\t# If curr_sum exceeds\n",
    "\t\t# the sum, then remove\n",
    "\t\t# the starting elements\n",
    "\t\twhile curr_sum > sum_ and start < i-1:\n",
    "\t\t\tcurr_sum = curr_sum - arr[start]\n",
    "\t\t\tstart += 1\n",
    "\t\t\t\n",
    "\t\t# If curr_sum becomes\n",
    "\t\t# equal to sum, then\n",
    "\t\t# return true\n",
    "\t\tif curr_sum == sum_:\n",
    "\t\t\tprint (\"Sum found between indexes\")\n",
    "\t\t\tprint (\"% d and % d\"%(start, i-1))\n",
    "\t\t\treturn arr[start:i]\n",
    "\n",
    "\t\t# Add this element\n",
    "\t\t# to curr_sum\n",
    "\t\tif i < n:\n",
    "\t\t\tcurr_sum = curr_sum + arr[i]\n",
    "\t\ti += 1\n",
    "\n",
    "\t# If we reach here,\n",
    "\t# then no subarray\n",
    "\tprint (\"No subarray found\")\n",
    "\treturn 0\n",
    "\n",
    "# Driver program\n",
    "arr = [1, 2, 3, 4, 5]\n",
    "n = len(arr)\n",
    "sum_ = 5\n",
    "\n",
    "subArraySum(arr, n, sum_)\n",
    "\n",
    "# This code is Contributed by shreyanshi_arun.\n"
   ]
  },
  {
   "cell_type": "code",
   "execution_count": null,
   "metadata": {},
   "outputs": [],
   "source": [
    "# largest consecutive sequence \n",
    "# Bruet Force\n",
    "A=[400,200,1,3,2,5,4]\n",
    "A=sorted(A)\n",
    "\n",
    "maxCnt=1\n",
    "cnt=1\n",
    "for i in range(len(A)-1):\n",
    "  if A[i]+1==A[i+1]:\n",
    "    cnt+=1\n",
    "  elif A[i]==A[i+1]:\n",
    "    continue\n",
    "  else:\n",
    "    maxCnt=max(cnt, maxCnt)\n",
    "    cnt=1\n",
    "\n",
    "print(maxCnt)\n",
    "\n",
    "# TC-nlogn"
   ]
  },
  {
   "cell_type": "code",
   "execution_count": null,
   "metadata": {},
   "outputs": [],
   "source": []
  }
 ],
 "metadata": {
  "interpreter": {
   "hash": "aee8b7b246df8f9039afb4144a1f6fd8d2ca17a180786b69acc140d282b71a49"
  },
  "kernelspec": {
   "display_name": "Python 3.9.7 64-bit",
   "language": "python",
   "name": "python3"
  },
  "language_info": {
   "codemirror_mode": {
    "name": "ipython",
    "version": 3
   },
   "file_extension": ".py",
   "mimetype": "text/x-python",
   "name": "python",
   "nbconvert_exporter": "python",
   "pygments_lexer": "ipython3",
   "version": "3.9.7"
  },
  "orig_nbformat": 4
 },
 "nbformat": 4,
 "nbformat_minor": 2
}
