{
 "cells": [
  {
   "cell_type": "code",
   "execution_count": 4,
   "metadata": {},
   "outputs": [
    {
     "data": {
      "text/plain": [
       "'abcabbccd'"
      ]
     },
     "execution_count": 4,
     "metadata": {},
     "output_type": "execute_result"
    }
   ],
   "source": [
    "A = \"abcabbccd\"\n",
    "\n",
    "\n",
    "A\n"
   ]
  },
  {
   "cell_type": "code",
   "execution_count": 50,
   "metadata": {},
   "outputs": [
    {
     "name": "stdout",
     "output_type": "stream",
     "text": [
      "\n",
      "\n",
      "\n",
      "\n"
     ]
    }
   ],
   "source": [
    "#  Longest Common Prefix\n",
    "# A = [\"geeksforgeeks\", \"geeks\", \"geek\", \"geezer\"]\n",
    "\n",
    "A = ['dmlrpjyatcoqotxzplqmlptaipczhlikztcofaoaedruyqundkzqatqkkvjrgucineyugnxmsohsgdfmngcpbvamqldyfhgvnfrv', 'oioerglunzjvbzxwblooqnuytrnyijuxtibkoogdppzrqyptjeizrezmvnnfyherqidgyjkoyjfrhwkscsrvytivivbgcfxupab',\n",
    "     'llclwjcdfpvijodijndriexnmwhbyiplvtxrcbwkqtsaixitn', 'lvskkgjujheztaustxtqhklbkvyupnhajbmvhvprfusawmspjlhsvtthouddhlfsmsqwpfpubhuzvmrhaazx', ]\n",
    "\n",
    "lcp = ''\n",
    "# res=A[0]\n",
    "# for i,j in zip(res, A[1]):\n",
    "#   if i==j:\n",
    "#     lcp+=i\n",
    "# print(lcp)\n",
    "# res=lcp\n",
    "# lcp=''\n",
    "# for i, j in zip(res, A[2]):\n",
    "#   if i == j:\n",
    "#     lcp += i\n",
    "# print(lcp)\n",
    "\n",
    "res = A[0]\n",
    "for i in range(1, len(A)):\n",
    "    for i, j in zip(res, A[i]):\n",
    "        if i != j:\n",
    "            break\n",
    "        else:\n",
    "            lcp += i\n",
    "    res = lcp\n",
    "    print(res)\n",
    "    lcp = ''\n",
    "\n",
    "print(res)\n"
   ]
  },
  {
   "cell_type": "code",
   "execution_count": 5,
   "metadata": {},
   "outputs": [
    {
     "data": {
      "text/plain": [
       "102129"
      ]
     },
     "execution_count": 5,
     "metadata": {},
     "output_type": "execute_result"
    }
   ],
   "source": [
    "# Amazing Substring\n",
    "\n",
    "# ABEC\n",
    "# n=4\n",
    "# (4-0)+(4-2)\n",
    "\n",
    "A = 'AzZGBauYuTknYjjWEEbLvqMQwnoSgXKBdHKEVpeoxYNNtBfrxQrPauttMzjKFayKwMeuChjzCocgAHfAmPCatOqarzLuabyTnxoheeocVshfERNssVPfRyPmwvOVGbzNAuvryYNWwIeyZLMlLbkcFFJRHjEIgIwOThRJJFpLbunVrbhAYsMtdsKslLAGElwrZjvZweIytMpPEYVmktQeNleNROcTjrNxXeHvOMMTMfqZHTUjetojHFzZwOekfAILYISANxeJFRNgeZDKoOTddXqxduPIjGXsRSSkgIqKMeSqlQwAKtdrkvHLgmKleNAPEztGMPmZzUuCImLAhzUnXmsVzFvJUTeIKleuRnMPNAPWJYAZLXgzTBPmkXVShbBSlIAJSeFgvRFvcoqfVFgHUefxUxuYFCfUxbxlOslUhYRFXKmMmqDIQhhfXyGqUwGMSYeLLpEsKAhvFUzavDCOUgtmmNMnsvfmCdPWuWIjuUfZCBTrWnaDopbqXcjzSqRMpQWIBNnMcOQZjDkjPkxsuwENYQyjgSHFJrgSLnwbEInBfdeIfBbVuZZbBrblJgKHOmLZACLQkSRxxQJeUMPIQutraxFtrRcSeqAejOTSqaFGglQOoWPkcNOnLIgfclWNtjGQRVMlqCPUnUlOLbHfkzUyNAmTsswWtZjIGUBrLmRmstHgVcRUgWdQTCEPRzjPVTMJRJocYHftwoRzOSyQexjmceRHdqFdgNuGmGTUdXQaNwKmvOUzZPzGCBVcbVLgMoQrESbpVGteVVntOwEWxXsZnSAoIfBSsWVhDFBuDTkcrnsPdmmSHymouxHlcgtjgKUAPznxsIRUjDFsrjadJjEtPaWTVBHpatqYeSgrpWJDOGfgIGQPcTIXVsCVyCfKMpcXWGkvwuRuTmvCbNMLeUkZrEpYZdlKAgFELfwCCbZCYBcXhfUrsIHfdwhYyxHKAMYMERwlyRtxObDoxBhjXmynYkmkYZrkzlCuvrhW'\n",
    "n = len(A)\n",
    "cnt = 0\n",
    "for i in range(len(A)):\n",
    "    if A[i] in 'aeiouAEIOU':\n",
    "        cnt += n-i\n",
    "cnt\n"
   ]
  },
  {
   "cell_type": "code",
   "execution_count": 13,
   "metadata": {},
   "outputs": [
    {
     "data": {
      "text/plain": [
       "'Me Myself and I'"
      ]
     },
     "execution_count": 13,
     "metadata": {},
     "output_type": "execute_result"
    }
   ],
   "source": [
    "\n",
    "s = \"Myself2 Me1 I4 and3\"\n",
    "s = s.split(' ')\n",
    "\n",
    "\n",
    "def number(s):\n",
    "    return int(s[-1])\n",
    "\n",
    "\n",
    "A = sorted(s, key=number)\n",
    "new = [a[:-1] for a in A]\n",
    "' '.join(new)\n"
   ]
  },
  {
   "cell_type": "code",
   "execution_count": 23,
   "metadata": {},
   "outputs": [
    {
     "name": "stdout",
     "output_type": "stream",
     "text": [
      "['1', 'box', 'has', '3', 'blue', '4', 'red', '6', 'green', 'and', '12', 'yellow', 'marbles']\n",
      "-1 1\n",
      "1 3\n",
      "3 4\n",
      "4 6\n",
      "6 12\n"
     ]
    },
    {
     "data": {
      "text/plain": [
       "True"
      ]
     },
     "execution_count": 23,
     "metadata": {},
     "output_type": "execute_result"
    }
   ],
   "source": [
    "# leetcode\n",
    "# 2042. Check if Numbers Are Ascending in a Sentence\n",
    "s = \"1 box has 3 blue 4 red 6 green and 12 yellow marbles\"\n",
    "\n",
    "\n",
    "def checkNumber(s):\n",
    "    s = s.split(' ')\n",
    "    prev = -1\n",
    "    for i in s:\n",
    "        if i.isdigit():\n",
    "            if prev >= int(i):\n",
    "                return False\n",
    "            prev = int(i)\n",
    "    return True\n",
    "\n",
    "\n",
    "checkNumber(s)\n"
   ]
  },
  {
   "cell_type": "code",
   "execution_count": 27,
   "metadata": {},
   "outputs": [
    {
     "data": {
      "text/plain": [
       "True"
      ]
     },
     "execution_count": 27,
     "metadata": {},
     "output_type": "execute_result"
    }
   ],
   "source": [
    "# leetcode\n",
    "# 2124. Check if All A's Appears Before All B's\n",
    "s = \"aaabbb\"\n",
    "\n",
    "\n",
    "def checkAB(s):\n",
    "    currentB = ''\n",
    "    for i in s:\n",
    "        if currentB == 'b' and i == 'a':\n",
    "            return False\n",
    "        currentB = i\n",
    "    return True\n",
    "\n",
    "\n",
    "checkAB(s)\n"
   ]
  },
  {
   "cell_type": "code",
   "execution_count": 48,
   "metadata": {},
   "outputs": [
    {
     "data": {
      "text/plain": [
       "1000000001"
      ]
     },
     "execution_count": 48,
     "metadata": {},
     "output_type": "execute_result"
    }
   ],
   "source": [
    "def solve(A, B):\n",
    "    maxNumber = A[0]\n",
    "    prev = A[0]\n",
    "    for i in range(1, len(A)):\n",
    "        prev += A[i]\n",
    "        if abs(prev) > B:\n",
    "            return 0\n",
    "        maxNumber = max(maxNumber, abs(prev))\n",
    "    return B-maxNumber+1 if A[0] != -1 else B-abs(maxNumber)\n",
    "\n",
    "\n",
    "A = [-1000000, 1000000]\n",
    "B = 1000000000\n",
    "solve(A, B)\n"
   ]
  },
  {
   "cell_type": "code",
   "execution_count": 67,
   "metadata": {},
   "outputs": [
    {
     "name": "stdout",
     "output_type": "stream",
     "text": [
      "1 2\n",
      "[0, 0, 1, 2, 1, 0, 1, 0]\n"
     ]
    }
   ],
   "source": [
    "A = \"(1+(2*3)+((8)/4))+1\"\n",
    "seq = \"()(())()\"\n",
    "cnt = 0\n",
    "maxDepth = 0\n",
    "arr = []\n",
    "for i in seq:\n",
    "    if i == '(':\n",
    "        cnt += 1\n",
    "    else:\n",
    "        cnt -= 1\n",
    "        maxDepth = max(maxDepth, cnt)\n",
    "    if cnt < 1:\n",
    "        cnt = 1\n",
    "    arr.append(cnt-1)\n",
    "\n",
    "\n",
    "print(cnt, maxDepth)\n",
    "print(arr)\n"
   ]
  },
  {
   "cell_type": "markdown",
   "metadata": {},
   "source": [
    "Problem Description\n",
    "\n",
    "Given an array of positive integers A and an integer B, find and return first continuous subarray which adds to B.\n",
    "\n",
    "If the answer does not exist return an array with a single element \"-1\".\n",
    "\n",
    "First sub-array means the sub-array for which starting index in minimum.\n",
    "\n",
    "Problem Constraints\n",
    "1 <= length of the array <= 100000\n",
    "1 <= A[i] <= 109\n",
    "1 <= B <= 109\n",
    "\n",
    "Input Format\n",
    "The first argument given is the integer array A.\n",
    "\n",
    "The second argument given is integer B.\n",
    "\n",
    "Output Format\n",
    "Return the first continuous sub-array which adds to B and if the answer does not exist return an array with a single element \"-1\".\n"
   ]
  },
  {
   "cell_type": "markdown",
   "metadata": {},
   "source": [
    "Problem Description\n",
    "\n",
    "Given an array A, find the next greater element G[i] for every element A[i] in the array. The Next greater Element for an element A[i] is the first greater element on the right side of A[i] in array, A.\n",
    "\n",
    "More formally:\n",
    "\n",
    "G[i] for an element A[i] = an element A[j] such that\n",
    "j is minimum possible AND\n",
    "j > i AND\n",
    "A[j] > A[i]\n",
    "Elements for which no greater element exists, consider the next greater element as -1.\n",
    "\n",
    "Problem Constraints\n",
    "1 <= |A| <= 105\n",
    "\n",
    "1 <= A[i] <= 107\n",
    "\n",
    "Input Format\n",
    "The first and the only argument of input contains the integer array, A.\n",
    "\n",
    "Output Format\n",
    "Return an integer array representing the next greater element for each index in A.\n",
    "\n",
    "Example Input\n",
    "Input 1:\n",
    "\n",
    "A = [4, 5, 2, 10]\n",
    "Input 2:\n",
    "\n",
    "A = [3, 2, 1]\n"
   ]
  },
  {
   "cell_type": "code",
   "execution_count": 30,
   "metadata": {},
   "outputs": [
    {
     "name": "stdout",
     "output_type": "stream",
     "text": [
      "\n",
      ". . . . 5 . . 1 . \n",
      ". 4 . 3 . . . . . \n",
      ". . . . . . 3 . 1 \n",
      "8 . . . . . . 2 . \n",
      ". . 2 . 7 . . . . \n",
      ". 1 5 . . . . . . \n",
      ". . . . . 2 . . . \n",
      ". 2 . 9 . . . . . \n",
      ". . 4 . . . . . . "
     ]
    },
    {
     "data": {
      "text/plain": [
       "0"
      ]
     },
     "execution_count": 30,
     "metadata": {},
     "output_type": "execute_result"
    }
   ],
   "source": [
    "# Valid Sudoku\n",
    "# Determine if a Sudoku is valid, according to: http: // sudoku.com.au/TheRules.aspx\n",
    "# NOTE: Only Check filled cells\n",
    "\n",
    "A = ['....5..1.', '.4.3.....', '......3.1', '8......2.',\n",
    "     '..2.7....', '.15......', '.....2...', '.2.9.....', '..4......']\n",
    "\n",
    "\n",
    "def isValid(A):\n",
    "    mainHash = {}\n",
    "    for idx, i in enumerate(A):\n",
    "        rowHash = {}\n",
    "        # print(len(i))\n",
    "        print()\n",
    "        for j in range(len(i)):\n",
    "            print(i[j], end=' ')\n",
    "            if i[j] in rowHash:\n",
    "                return 0\n",
    "            elif i[j].isdigit() and i[j] not in rowHash:\n",
    "                rowHash[i[j]] = j\n",
    "            elif i[j] == '.':\n",
    "                continue\n",
    "        mainHash[idx] = rowHash\n",
    "    for idx, a in enumerate(A):\n",
    "        for j in range(len(a)):\n",
    "            if str(a[j]) in mainHash[idx+1] and abs(mainHash[idx+1][str(a[j])]-mainHash[idx][str(a[j])]) < 4:\n",
    "                return 0\n",
    "\n",
    "    return 1\n",
    "\n",
    "\n",
    "isValid(A)\n"
   ]
  },
  {
   "cell_type": "code",
   "execution_count": 59,
   "metadata": {},
   "outputs": [
    {
     "data": {
      "text/plain": [
       "True"
      ]
     },
     "execution_count": 59,
     "metadata": {},
     "output_type": "execute_result"
    }
   ],
   "source": [
    "# A = ['....5..1.', '.4.3.....', '.....3..1', '8......2.',\n",
    "#      '..2.7....', '.15......', '.....2...', '.2.9.....', '..4......']\n",
    "\n",
    "A = [\"53..7....\", \"6..195...\", \".98....6.\", \"8...6...3\",\n",
    "     \"4..8.3..1\", \"7...2...6\", \".6....28.\", \"...419..5\", \"....8..79\"]\n",
    "\n",
    "\n",
    "def isRowValid(arr):\n",
    "    for row in A:\n",
    "        rowSet = set()\n",
    "        for i in row:\n",
    "            if i in rowSet:\n",
    "                return False\n",
    "            elif i.isdigit():\n",
    "                rowSet.add(i)\n",
    "            else:\n",
    "                continue\n",
    "    return True\n",
    "\n",
    "\n",
    "def isColValid(arr):\n",
    "    for i in range(9):\n",
    "        colSet = set()\n",
    "        for a in arr:\n",
    "            if a[i] in colSet:\n",
    "                return False\n",
    "            elif a[i].isdigit():\n",
    "                colSet.add(a[i])\n",
    "            else:\n",
    "                continue\n",
    "    return True\n",
    "\n",
    "\n",
    "def isBoxValid(arr, row, col):\n",
    "    boxSet = set()\n",
    "    for i in range(row, row+3):\n",
    "        for j in range(col, col+3):\n",
    "            if arr[i][j] in boxSet:\n",
    "                return False\n",
    "            elif arr[i][j].isdigit():\n",
    "                boxSet.add(arr[i][j])\n",
    "            else:\n",
    "                continue\n",
    "    return True\n",
    "\n",
    "\n",
    "cnt = 0\n",
    "\n",
    "\n",
    "def isValid(A):\n",
    "    if not isRowValid(A):\n",
    "        return False\n",
    "    if not isColValid(A):\n",
    "        return False\n",
    "\n",
    "    for i in range(9):\n",
    "        for j in range(9):\n",
    "            if i % 3 == 0 and j % 3 == 0:\n",
    "                if not isBoxValid(A, i, j):\n",
    "                    return False\n",
    "    return True\n",
    "\n",
    "\n",
    "isValid(A)\n",
    "\n",
    "\n",
    "# print(isRowValid(i))\n",
    "\n",
    "# print(isColValid(A))\n"
   ]
  },
  {
   "cell_type": "code",
   "execution_count": 30,
   "metadata": {},
   "outputs": [
    {
     "name": "stdout",
     "output_type": "stream",
     "text": [
      "5\n",
      "0 a\n",
      "1 p\n",
      "2 p\n",
      "3 l\n",
      "5\n"
     ]
    },
    {
     "data": {
      "text/plain": [
       "'NO'"
      ]
     },
     "execution_count": 30,
     "metadata": {},
     "output_type": "execute_result"
    }
   ],
   "source": [
    "A = \"apple\"\n",
    "B = \"appel\"\n",
    "\n",
    "\n",
    "def solve(A, B):\n",
    "    i = 0\n",
    "    cnt = 1\n",
    "    print(len(A))\n",
    "    for j in range(len(B)):\n",
    "        # print(i, j, A[i], B[j], cnt, A[i] == B[j])\n",
    "        if A[i] == B[j] and i < len(A):\n",
    "            print(i, A[i])\n",
    "            i += 1\n",
    "            cnt += 1\n",
    "            if cnt == len(A)+1:\n",
    "                return 'YES'\n",
    "        else:\n",
    "            continue\n",
    "    print(cnt)\n",
    "    return 'YES' if cnt == len(A)+1 else 'NO'\n",
    "\n",
    "\n",
    "solve(A, B)\n"
   ]
  },
  {
   "cell_type": "code",
   "execution_count": 6,
   "metadata": {},
   "outputs": [
    {
     "name": "stdout",
     "output_type": "stream",
     "text": [
      "{'A': 2, 'C': 2, 'B': 1, 'D': 1, 'E': 1, 'W': 1}\n",
      "AABCCDEW6\n"
     ]
    }
   ],
   "source": [
    "# rearrange the string\n",
    "S = \"ACCBA10D2EW30\"\n",
    "count_digit = 0\n",
    "hastMap = {}\n",
    "for i in S:\n",
    "\n",
    "    if i.isdigit():\n",
    "        count_digit += int(i)\n",
    "    else:\n",
    "        if i in hastMap:\n",
    "            hastMap[i] += 1\n",
    "        else:\n",
    "            hastMap[i] = 1\n",
    "result = ''\n",
    "for i in range(ord('A'), ord(\"Z\")):\n",
    "    if chr(i) in hastMap:\n",
    "        result += chr(i)*hastMap[chr(i)]\n",
    "\n",
    "\n",
    "print(hastMap)\n",
    "print(result+str(count_digit))\n"
   ]
  },
  {
   "cell_type": "code",
   "execution_count": 13,
   "metadata": {},
   "outputs": [
    {
     "name": "stdout",
     "output_type": "stream",
     "text": [
      "0\n",
      "{1, 2, 3}\n",
      "1\n",
      "{1, 2, 3}\n",
      "2\n",
      "{1, 2, 3}\n"
     ]
    },
    {
     "data": {
      "text/plain": [
       "True"
      ]
     },
     "execution_count": 13,
     "metadata": {},
     "output_type": "execute_result"
    }
   ],
   "source": [
    "def valid(A):\n",
    "    n = len(A)\n",
    "    for i in range(n):\n",
    "        print(i)\n",
    "        rowSet = set()\n",
    "        for j in range(n):\n",
    "            if A[i][j] not in rowSet:\n",
    "                rowSet.add(A[i][j])\n",
    "        if len(rowSet) != n:\n",
    "            return False\n",
    "        print(rowSet)\n",
    "        rowSet.clear()\n",
    "    return True\n",
    "\n",
    "\n",
    "A = [[1, 2, 3], [3, 1, 2], [2, 3, 1]]\n",
    "valid(A)\n"
   ]
  },
  {
   "cell_type": "code",
   "execution_count": 3,
   "metadata": {},
   "outputs": [
    {
     "data": {
      "text/plain": [
       "'blue.is.sky.the'"
      ]
     },
     "execution_count": 3,
     "metadata": {},
     "output_type": "execute_result"
    }
   ],
   "source": [
    "# Reverse the string\n",
    "\n",
    "def reverseString(str1, s, e):\n",
    "    while(s <= e):\n",
    "        str1[s], str1[e] = str1[e], str1[s]\n",
    "        s += 1\n",
    "        e -= 1\n",
    "    return str1\n",
    "\n",
    "\n",
    "def reverseWords(A):\n",
    "    A = A.strip()\n",
    "    A = list(A)\n",
    "    A = reverseString(A, 0, len(A)-1)\n",
    "    s = 0\n",
    "    for i, v in enumerate(A):\n",
    "        if v == '.':\n",
    "            A = reverseString(A, s, i-1)\n",
    "            s = i+1\n",
    "    A = reverseString(A, s, len(A)-1)\n",
    "    return ''.join(A)\n",
    "\n",
    "\n",
    "A = \"the.sky.is.blue\"\n",
    "reverseWords(A)\n"
   ]
  },
  {
   "cell_type": "code",
   "execution_count": 87,
   "metadata": {},
   "outputs": [
    {
     "name": "stdout",
     "output_type": "stream",
     "text": [
      "ba ['a', 'a'] False\n",
      "aa\n",
      "[0]\n"
     ]
    }
   ],
   "source": [
    "s = \"baa\"\n",
    "p = \"aa\"\n",
    "\n",
    "ans = []\n",
    "p = sorted(p)\n",
    "newStr = ''\n",
    "for i in range(len(p)):\n",
    "    newStr += s[i]\n",
    "print(newStr, p, sorted(newStr) == p)\n",
    "plen = len(p)\n",
    "if sorted(newStr) == p:\n",
    "    ans.append(0)\n",
    "for j in range(1, len(s)-plen+1):\n",
    "    newStr = newStr[1:]+s[j]\n",
    "    if(sorted(newStr) == p):\n",
    "        ans.append(j-plen+1)\n",
    "        print(newStr)\n",
    "print(ans)\n"
   ]
  },
  {
   "cell_type": "code",
   "execution_count": 108,
   "metadata": {},
   "outputs": [
    {
     "data": {
      "text/plain": [
       "'First i Letter of Each Word'"
      ]
     },
     "execution_count": 108,
     "metadata": {},
     "output_type": "execute_result"
    }
   ],
   "source": [
    "\n",
    "title = \"First i leTTeR of EACH Word\"\n",
    "title = title.split(' ')\n",
    "for i in range(len(title)):\n",
    "    title[i] = list(title[i])\n",
    "for i in range(len(title)):\n",
    "    # print(title[i])\n",
    "    if len(title[i]) <= 2:\n",
    "        for j in range(len(title[i])):\n",
    "            if title[i][j] >= 'A' and title[i][j] <= 'Z':\n",
    "                title[i][j] = chr(ord(title[i][j]) ^ 32)\n",
    "    else:\n",
    "        for j in range(len(title[i])):\n",
    "            # print(title[i][j])\n",
    "            if j == 0 and title[i][j] >= 'a' and title[i][j] <= 'z':\n",
    "                title[i][j] = chr(ord(title[i][j]) ^ 32)\n",
    "            elif j != 0 and title[i][j] >= 'A' and title[i][j] <= 'Z':\n",
    "                title[i][j] = chr(ord(title[i][j]) ^ 32)\n",
    "\n",
    "title = ' '.join([''.join(i) for i in title])\n",
    "title\n"
   ]
  },
  {
   "cell_type": "code",
   "execution_count": 133,
   "metadata": {},
   "outputs": [
    {
     "data": {
      "text/plain": [
       "True"
      ]
     },
     "execution_count": 133,
     "metadata": {},
     "output_type": "execute_result"
    }
   ],
   "source": [
    "word = 'Letcde'\n",
    "\n",
    "\n",
    "def isCap(word):\n",
    "    for i in range(1, len(word)):\n",
    "        if word[1].isupper() != word[i].isupper() or (word[0].islower() and word[i] .isupper()):\n",
    "            return False\n",
    "    return True\n",
    "\n",
    "\n",
    "isCap(word)\n"
   ]
  },
  {
   "cell_type": "code",
   "execution_count": 8,
   "metadata": {},
   "outputs": [
    {
     "name": "stdout",
     "output_type": "stream",
     "text": [
      "4\n",
      "1\n"
     ]
    },
    {
     "data": {
      "text/plain": [
       "[2, 3, 3, 1, 0, 0, 0, 0, 0, 0, 0, 0, 0, 0, 0, 0, 0, 0, 0, 0, 0, 0, 0, 0, 0, 0]"
      ]
     },
     "execution_count": 8,
     "metadata": {},
     "output_type": "execute_result"
    }
   ],
   "source": [
    "# Change Character\n",
    "A = \"abcabbccd\"\n",
    "B = 3\n",
    "\n",
    "\n",
    "charArray = [0 for _ in range(26)]\n",
    "distinct = 0\n",
    "\n",
    "for i in range(len(A)):\n",
    "    charArray[ord(A[i])-ord('a')] += 1\n",
    "    if charArray[ord(A[i])-ord('a')] == 1:\n",
    "        distinct += 1\n",
    "print(distinct)\n",
    "remove = 0\n",
    "while(B > 0):\n",
    "    min = 0\n",
    "    index = 0\n",
    "    for i in range(26):\n",
    "        if charArray[i] > min and min == 0:\n",
    "            min = charArray[i]\n",
    "            index = i\n",
    "        elif min > charArray[i] and charArray[i] != 0:\n",
    "            min = charArray[i]\n",
    "            index = i\n",
    "    charArray[index] == 0\n",
    "    B -= min\n",
    "    if B >= 0:\n",
    "        remove += 1\n",
    "\n",
    "print(distinct-remove)\n",
    "\n",
    "\n",
    "charArray\n"
   ]
  },
  {
   "cell_type": "code",
   "execution_count": 18,
   "metadata": {},
   "outputs": [
    {
     "name": "stdout",
     "output_type": "stream",
     "text": [
      "babad 0 0\n",
      "babad 0 1\n",
      "1 0\n",
      "babad 1 1\n",
      "babad 1 2\n",
      "3 0\n",
      "babad 2 2\n",
      "babad 2 3\n",
      "3 0\n",
      "babad 3 3\n",
      "babad 3 4\n",
      "1 0\n",
      "babad 4 4\n",
      "babad 4 5\n",
      "1 0\n"
     ]
    },
    {
     "data": {
      "text/plain": [
       "'aba'"
      ]
     },
     "execution_count": 18,
     "metadata": {},
     "output_type": "execute_result"
    }
   ],
   "source": [
    "def expand(s, left, right):\n",
    "    print(s, left, right)\n",
    "    while (left >= 0 and right < len(s) and s[left] == s[right]):\n",
    "        right += 1\n",
    "        left -= 1\n",
    "    return right-left-1\n",
    "\n",
    "\n",
    "def longestPalindrome(s):\n",
    "    start = 0\n",
    "    end = 0\n",
    "    for i in range(len(s)):\n",
    "        odd = expand(s, i, i)\n",
    "        even = expand(s, i, i+1)\n",
    "        print(odd, even)\n",
    "\n",
    "        length = max(odd, even)\n",
    "        if length > end-start:\n",
    "            start = i-(length-1)//2\n",
    "            end = i+length//2\n",
    "    return s[start:end+1]\n",
    "\n",
    "\n",
    "longestPalindrome(\"babad\")\n"
   ]
  },
  {
   "cell_type": "code",
   "execution_count": 1,
   "metadata": {},
   "outputs": [
    {
     "ename": "TypeError",
     "evalue": "ord() expected a character, but string of length 3 found",
     "output_type": "error",
     "traceback": [
      "\u001b[0;31m---------------------------------------------------------------------------\u001b[0m",
      "\u001b[0;31mTypeError\u001b[0m                                 Traceback (most recent call last)",
      "\u001b[0;32m/var/folders/y1/x4pp7ct53md7dr06z28x83nm0000gp/T/ipykernel_43255/3515809224.py\u001b[0m in \u001b[0;36m<module>\u001b[0;34m\u001b[0m\n\u001b[1;32m      5\u001b[0m \u001b[0mwordList\u001b[0m \u001b[0;34m=\u001b[0m \u001b[0;34m[\u001b[0m\u001b[0;34m\"hot\"\u001b[0m\u001b[0;34m,\u001b[0m\u001b[0;34m\"dot\"\u001b[0m\u001b[0;34m,\u001b[0m\u001b[0;34m\"dog\"\u001b[0m\u001b[0;34m,\u001b[0m\u001b[0;34m\"lot\"\u001b[0m\u001b[0;34m,\u001b[0m\u001b[0;34m\"log\"\u001b[0m\u001b[0;34m,\u001b[0m\u001b[0;34m\"cog\"\u001b[0m\u001b[0;34m]\u001b[0m\u001b[0;34m\u001b[0m\u001b[0;34m\u001b[0m\u001b[0m\n\u001b[1;32m      6\u001b[0m \u001b[0;34m\u001b[0m\u001b[0m\n\u001b[0;32m----> 7\u001b[0;31m \u001b[0mord\u001b[0m\u001b[0;34m(\u001b[0m\u001b[0mbeginWord\u001b[0m\u001b[0;34m)\u001b[0m\u001b[0;34m\u001b[0m\u001b[0;34m\u001b[0m\u001b[0m\n\u001b[0m",
      "\u001b[0;31mTypeError\u001b[0m: ord() expected a character, but string of length 3 found"
     ]
    }
   ],
   "source": [
    "# 127. Word Ladder\n",
    "# https://leetcode.com/problems/word-ladder/\n",
    "beginWord = \"hit\"\n",
    "endWord = \"cog\"\n",
    "wordList = [\"hot\", \"dot\", \"dog\", \"lot\", \"log\", \"cog\"]\n"
   ]
  },
  {
   "cell_type": "code",
   "execution_count": 1,
   "metadata": {},
   "outputs": [
    {
     "data": {
      "text/plain": [
       "-636"
      ]
     },
     "execution_count": 1,
     "metadata": {},
     "output_type": "execute_result"
    }
   ],
   "source": [
    "\n",
    "rs = 28\n",
    "\n",
    "ans = rs-(26*rs)+ord('A')-1\n",
    "\n",
    "ans\n"
   ]
  },
  {
   "cell_type": "code",
   "execution_count": 10,
   "metadata": {},
   "outputs": [
    {
     "name": "stdout",
     "output_type": "stream",
     "text": [
      "1 0\n",
      "1 1\n",
      "0 0\n",
      "[[1, 0, 0], [0, 1, 0], [1, 1, 1]]\n"
     ]
    }
   ],
   "source": [
    "A = [[1, 1, 0], [1, 0, 1], [0, 0, 0]]\n",
    "n = len(A)\n",
    "for i in range(n):\n",
    "    for j in range(0, n//2):\n",
    "        print(A[i][j], A[i][n-j-1])\n",
    "        A[i][j], A[i][n-j-1] = A[i][n-j-1], A[i][j]\n",
    "for i in range(n):\n",
    "    for j in range(n):\n",
    "        A[i][j] = 1-A[i][j]\n",
    "        # A[j][i] = 1-A[j][i]\n",
    "print(A)\n"
   ]
  },
  {
   "cell_type": "code",
   "execution_count": 14,
   "metadata": {},
   "outputs": [
    {
     "data": {
      "text/plain": [
       "[[1, 0, 0], [0, 1, 0], [1, 1, 1]]"
      ]
     },
     "execution_count": 14,
     "metadata": {},
     "output_type": "execute_result"
    }
   ],
   "source": [
    "A = [[1, 1, 0], [1, 0, 1], [0, 0, 0]]\n",
    "[[1-x for x in x][::-1] for x in A]\n"
   ]
  },
  {
   "cell_type": "code",
   "execution_count": 18,
   "metadata": {},
   "outputs": [
    {
     "name": "stdout",
     "output_type": "stream",
     "text": [
      "8\n"
     ]
    }
   ],
   "source": [
    "mat = [[1, 1, 1, 1],\n",
    "       [1, 1, 1, 1],\n",
    "       [1, 1, 1, 1],\n",
    "       [1, 1, 1, 1]]\n",
    "n=len(mat)\n",
    "ans=0\n",
    "for i in range(n):\n",
    "  if i!=n-i-1:\n",
    "    ans+=mat[i][i]+mat[i][n-1-i]\n",
    "  else:\n",
    "    ans += mat[i][i]\n",
    "\n",
    "print(ans)\n",
    "\n"
   ]
  },
  {
   "cell_type": "code",
   "execution_count": 27,
   "metadata": {},
   "outputs": [
    {
     "name": "stdout",
     "output_type": "stream",
     "text": [
      "3\n",
      "5\n",
      "6\n",
      "7\n",
      "7\n"
     ]
    }
   ],
   "source": [
    "mat = [[4, 3, 2, -1],\n",
    "       [3, 2, 1, -1],\n",
    "       [1, 1, -1, -2],\n",
    "       [1, -1, -2, -3]]\n",
    "m=len(mat)\n",
    "n=len(mat[0])\n",
    "cnt=0\n",
    "p1=m-1\n",
    "p2=0\n",
    "while(p1>=0 and p2<n):\n",
    "  if(mat[p1][p2] >= 0): p2+=1\n",
    "  elif(mat[p1][p2] < 0):\n",
    "    cnt += (n-p2)\n",
    "    print(cnt)\n",
    "    p1-=1\n",
    "  \n",
    "print(cnt)\n"
   ]
  },
  {
   "cell_type": "code",
   "execution_count": 46,
   "metadata": {},
   "outputs": [
    {
     "data": {
      "text/plain": [
       "[2, 0, 3]"
      ]
     },
     "execution_count": 46,
     "metadata": {},
     "output_type": "execute_result"
    }
   ],
   "source": [
    "mat = [[1, 1, 0, 0, 0],\n",
    "       [1, 1, 1, 1, 0],\n",
    "       [1, 0, 0, 0, 0],\n",
    "       [1, 1, 0, 0, 0],\n",
    "       [1, 1, 1, 1, 1]]\n",
    "\n",
    "n = len(mat)\n",
    "m = len(mat[0])\n",
    "res = [[i,0] for i in range(n)]\n",
    "\n",
    "for k,row in enumerate(mat):\n",
    "    # print()\n",
    "    for i in range(m):\n",
    "        if row[i] == 0:\n",
    "            break\n",
    "        # print(row[i], end=' ')\n",
    "        res[k][1] += 1\n",
    "\n",
    "\n",
    "res = sorted(res, key=lambda x:x[1])\n",
    "\n",
    "[x[0] for x in res[:3]]\n"
   ]
  },
  {
   "cell_type": "code",
   "execution_count": 61,
   "metadata": {},
   "outputs": [
    {
     "name": "stdout",
     "output_type": "stream",
     "text": [
      "0 1 0 4 4\n",
      "1 2 4 8 4\n",
      "2 3 8 12 4\n",
      "3 4 12 16 4\n",
      "4 5 16 20 4\n"
     ]
    },
    {
     "data": {
      "text/plain": [
       "5"
      ]
     },
     "execution_count": 61,
     "metadata": {},
     "output_type": "execute_result"
    }
   ],
   "source": [
    "A = [8, 12, 16, 4, 0, 20]\n",
    "B = 4\n",
    "\n",
    "n=len(A)\n",
    "p1=0\n",
    "p2=1\n",
    "cnt=0\n",
    "a1=-1\n",
    "a2=-1\n",
    "A.sort()\n",
    "while(p2<n):\n",
    "  print(p1, p2, A[p1], A[p2], abs(A[p2]-A[p1]))\n",
    "  if(abs(A[p2]-A[p1])==B):\n",
    "    if(a1 != A[p2] and a2 != A[p1]):\n",
    "        cnt+=1\n",
    "        a1 = A[p2]\n",
    "        a2 = A[p1]\n",
    "    \n",
    "    # cnt+=1\n",
    "    p1+=1\n",
    "    p2+=1\n",
    "\n",
    "  elif(abs(A[p2]-A[p1])<B):\n",
    "    p2+=1\n",
    "  else:\n",
    "    p1+=1\n",
    "    if(p1==p2):\n",
    "      p2+=1\n",
    "cnt"
   ]
  },
  {
   "cell_type": "code",
   "execution_count": 79,
   "metadata": {},
   "outputs": [
    {
     "name": "stdout",
     "output_type": "stream",
     "text": [
      "0 2 1 1 2\n"
     ]
    },
    {
     "data": {
      "text/plain": [
       "1"
      ]
     },
     "execution_count": 79,
     "metadata": {},
     "output_type": "execute_result"
    }
   ],
   "source": [
    "A = [1, 1, 1]\n",
    "B = 2\n",
    "n = len(A)\n",
    "p1 = 0\n",
    "p2 = n-1\n",
    "cnt = 0\n",
    "a1 = -1\n",
    "a2 = -1\n",
    "A.sort()\n",
    "while(p1<p2):\n",
    "  curr = A[p2]+A[p1]\n",
    "  if(curr > B):\n",
    "    p2 -= 1\n",
    "  elif(curr<B):\n",
    "    p1 += 1\n",
    "  else:\n",
    "    \n",
    "    \n",
    "cnt\n"
   ]
  },
  {
   "cell_type": "code",
   "execution_count": 99,
   "metadata": {},
   "outputs": [
    {
     "name": "stdout",
     "output_type": "stream",
     "text": [
      "[-1, -1, 0, 1, 2, 4]\n"
     ]
    },
    {
     "data": {
      "text/plain": [
       "[[-1, 0, 1], [-1, -1, 2], [-1, 0, 1]]"
      ]
     },
     "execution_count": 99,
     "metadata": {},
     "output_type": "execute_result"
    }
   ],
   "source": [
    "# Q4. 3 Sum Zero\n",
    "\n",
    "A = [-1, 0, 1, 2, -1, 4]\n",
    "n=len(A)\n",
    "ans=[]\n",
    "print(sorted(A))\n",
    "for i in range(n):\n",
    "  for j in range(i+1, n):\n",
    "    for k in range(j+1, n):\n",
    "      if A[i]+A[j]+A[k]==0:\n",
    "        ans.append(sorted([A[i], A[j], A[k]]))\n",
    "ans"
   ]
  },
  {
   "cell_type": "code",
   "execution_count": 116,
   "metadata": {},
   "outputs": [
    {
     "name": "stdout",
     "output_type": "stream",
     "text": [
      "5 100\n",
      "11 52\n",
      "17 76\n",
      "19 88\n",
      "19 94\n",
      "ans 94 88\n",
      "[5, 9, 11, 16, 17, 23, 34, 34, 35, 41, 43, 53, 64, 66, 66, 71, 72, 80, 87, 94, 96, 98, 100]\n"
     ]
    }
   ],
   "source": [
    "# A= [74, 90, 85, 58, 69, 77, 90, 85, 18, 36]\n",
    "# B=1\n",
    "\n",
    "A= [94, 87, 100, 11, 23, 98, 17, 35, 43, 66, 34,\n",
    "    53, 72, 80, 5, 34, 64, 71, 9, 16, 41, 66, 96]\n",
    "B= 19\n",
    "\n",
    "\n",
    "def getCount(A, k):\n",
    "  cnt=0\n",
    "  for i in A:\n",
    "    if i<k:\n",
    "      cnt+=1\n",
    "  return cnt\n",
    "\n",
    "l=min(A)\n",
    "h=max(A)\n",
    "\n",
    "print(l,h)\n",
    "prev=l\n",
    "ans=l\n",
    "while(l<=h):\n",
    "  m=(l+h)//2\n",
    "  x= getCount(A, m)\n",
    "  if(x<=B):\n",
    "    print(x,m)\n",
    "    prev=ans\n",
    "    ans=m\n",
    "    l=m+1\n",
    "  else:\n",
    "    h=m-1\n",
    "\n",
    "print(\"ans\",ans, prev)\n",
    "print(sorted(A))"
   ]
  },
  {
   "cell_type": "code",
   "execution_count": 130,
   "metadata": {},
   "outputs": [
    {
     "name": "stdout",
     "output_type": "stream",
     "text": [
      "0 4 1 3\n",
      "0 4 1 3\n",
      "1 4 1 3\n"
     ]
    },
    {
     "data": {
      "text/plain": [
       "3"
      ]
     },
     "execution_count": 130,
     "metadata": {},
     "output_type": "execute_result"
    }
   ],
   "source": [
    "A=[1,1,1,2,3]\n",
    "B=4\n",
    "n=len(A)\n",
    "p1=0\n",
    "p2=n-1\n",
    "cnt=0\n",
    "while(p1<p2):\n",
    "  \n",
    "  if(A[p1]+A[p2]==B):\n",
    "    cnt+=1\n",
    "    print(p1,p2,A[p1],A[p2])\n",
    "    while(A[p1]==A[p1+1] and p2!=p1+1):\n",
    "      print(p1, p2, A[p1], A[p2])\n",
    "      cnt+=1\n",
    "      p1+=1\n",
    "    p1+=1\n",
    "    p2-=1\n",
    "  elif(A[p1]+A[p2]>B):\n",
    "    p2-=1\n",
    "  else:\n",
    "    p1+=1\n",
    "\n",
    "cnt\n"
   ]
  },
  {
   "cell_type": "code",
   "execution_count": 142,
   "metadata": {},
   "outputs": [
    {
     "name": "stdout",
     "output_type": "stream",
     "text": [
      "3 3\n"
     ]
    },
    {
     "data": {
      "text/plain": [
       "1"
      ]
     },
     "execution_count": 142,
     "metadata": {},
     "output_type": "execute_result"
    }
   ],
   "source": [
    "version1 = \"1.0.01\"\n",
    "version2 = \"1\"\n",
    "def solve(version1, version2):\n",
    "  v1 = version1.split('.')\n",
    "  v2 = version2.split('.')\n",
    "  n=len(v1)\n",
    "  m=len(v2)\n",
    "  if(n<m):\n",
    "    v1.extend(['0']*(m-n))\n",
    "  elif(m<n):\n",
    "    v2.extend(['0']*(n-m))\n",
    "\n",
    "  print(len(v1), len(v2))\n",
    "  for a, b in zip(v1, v2):\n",
    "    if int(a) < int(b):\n",
    "      return -1\n",
    "    elif int(a) > int(b):\n",
    "      return 1\n",
    "    else:\n",
    "      continue\n",
    "  return 0\n",
    "\n",
    "solve(version1, version2)"
   ]
  },
  {
   "cell_type": "code",
   "execution_count": 141,
   "metadata": {},
   "outputs": [
    {
     "data": {
      "text/plain": [
       "[1, '0', '0']"
      ]
     },
     "execution_count": 141,
     "metadata": {},
     "output_type": "execute_result"
    }
   ],
   "source": [
    "arr=[1]\n",
    "arr.extend(['0']*2)\n",
    "\n",
    "arr"
   ]
  },
  {
   "cell_type": "code",
   "execution_count": 5,
   "metadata": {},
   "outputs": [
    {
     "data": {
      "text/plain": [
       "4"
      ]
     },
     "execution_count": 5,
     "metadata": {},
     "output_type": "execute_result"
    }
   ],
   "source": [
    "cnt=6\n",
    "if cnt%2==0:\n",
    "  mid=cnt//2+1\n",
    "else:\n",
    "  mid=cnt//2\n",
    "mid"
   ]
  },
  {
   "cell_type": "code",
   "execution_count": 8,
   "metadata": {},
   "outputs": [
    {
     "data": {
      "text/plain": [
       "11120"
      ]
     },
     "execution_count": 8,
     "metadata": {},
     "output_type": "execute_result"
    }
   ],
   "source": []
  }
 ],
 "metadata": {
  "interpreter": {
   "hash": "aee8b7b246df8f9039afb4144a1f6fd8d2ca17a180786b69acc140d282b71a49"
  },
  "kernelspec": {
   "display_name": "Python 3.9.7 64-bit",
   "language": "python",
   "name": "python3"
  },
  "language_info": {
   "codemirror_mode": {
    "name": "ipython",
    "version": 3
   },
   "file_extension": ".py",
   "mimetype": "text/x-python",
   "name": "python",
   "nbconvert_exporter": "python",
   "pygments_lexer": "ipython3",
   "version": "3.9.7"
  },
  "orig_nbformat": 4
 },
 "nbformat": 4,
 "nbformat_minor": 2
}
