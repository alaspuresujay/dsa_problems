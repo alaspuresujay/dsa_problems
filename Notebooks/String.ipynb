{
 "cells": [
  {
   "cell_type": "code",
   "execution_count": 4,
   "metadata": {},
   "outputs": [
    {
     "data": {
      "text/plain": [
       "'abcabbccd'"
      ]
     },
     "execution_count": 4,
     "metadata": {},
     "output_type": "execute_result"
    }
   ],
   "source": [
    "A = \"abcabbccd\"\n",
    "\n",
    "\n",
    "A"
   ]
  },
  {
   "cell_type": "code",
   "execution_count": 50,
   "metadata": {},
   "outputs": [
    {
     "name": "stdout",
     "output_type": "stream",
     "text": [
      "\n",
      "\n",
      "\n",
      "\n"
     ]
    }
   ],
   "source": [
    "#  Longest Common Prefix\n",
    "# A = [\"geeksforgeeks\", \"geeks\", \"geek\", \"geezer\"]\n",
    "\n",
    "A = ['dmlrpjyatcoqotxzplqmlptaipczhlikztcofaoaedruyqundkzqatqkkvjrgucineyugnxmsohsgdfmngcpbvamqldyfhgvnfrv', 'oioerglunzjvbzxwblooqnuytrnyijuxtibkoogdppzrqyptjeizrezmvnnfyherqidgyjkoyjfrhwkscsrvytivivbgcfxupab', 'llclwjcdfpvijodijndriexnmwhbyiplvtxrcbwkqtsaixitn', 'lvskkgjujheztaustxtqhklbkvyupnhajbmvhvprfusawmspjlhsvtthouddhlfsmsqwpfpubhuzvmrhaazx',]\n",
    "\n",
    "lcp=''\n",
    "# res=A[0]\n",
    "# for i,j in zip(res, A[1]):\n",
    "#   if i==j:\n",
    "#     lcp+=i\n",
    "# print(lcp)\n",
    "# res=lcp\n",
    "# lcp=''\n",
    "# for i, j in zip(res, A[2]):\n",
    "#   if i == j:\n",
    "#     lcp += i\n",
    "# print(lcp)\n",
    "\n",
    "res=A[0]\n",
    "for i in range(1,len(A)):\n",
    "  for i, j in zip(res, A[i]):\n",
    "    if i != j:\n",
    "      break\n",
    "    else:\n",
    "      lcp += i\n",
    "  res=lcp\n",
    "  print(res)\n",
    "  lcp=''\n",
    "\n",
    "print(res)\n",
    "\n"
   ]
  },
  {
   "cell_type": "code",
   "execution_count": 5,
   "metadata": {},
   "outputs": [
    {
     "data": {
      "text/plain": [
       "102129"
      ]
     },
     "execution_count": 5,
     "metadata": {},
     "output_type": "execute_result"
    }
   ],
   "source": [
    "# Amazing Substring\n",
    "\n",
    "# ABEC\n",
    "# n=4\n",
    "# (4-0)+(4-2)\n",
    "\n",
    "A = 'AzZGBauYuTknYjjWEEbLvqMQwnoSgXKBdHKEVpeoxYNNtBfrxQrPauttMzjKFayKwMeuChjzCocgAHfAmPCatOqarzLuabyTnxoheeocVshfERNssVPfRyPmwvOVGbzNAuvryYNWwIeyZLMlLbkcFFJRHjEIgIwOThRJJFpLbunVrbhAYsMtdsKslLAGElwrZjvZweIytMpPEYVmktQeNleNROcTjrNxXeHvOMMTMfqZHTUjetojHFzZwOekfAILYISANxeJFRNgeZDKoOTddXqxduPIjGXsRSSkgIqKMeSqlQwAKtdrkvHLgmKleNAPEztGMPmZzUuCImLAhzUnXmsVzFvJUTeIKleuRnMPNAPWJYAZLXgzTBPmkXVShbBSlIAJSeFgvRFvcoqfVFgHUefxUxuYFCfUxbxlOslUhYRFXKmMmqDIQhhfXyGqUwGMSYeLLpEsKAhvFUzavDCOUgtmmNMnsvfmCdPWuWIjuUfZCBTrWnaDopbqXcjzSqRMpQWIBNnMcOQZjDkjPkxsuwENYQyjgSHFJrgSLnwbEInBfdeIfBbVuZZbBrblJgKHOmLZACLQkSRxxQJeUMPIQutraxFtrRcSeqAejOTSqaFGglQOoWPkcNOnLIgfclWNtjGQRVMlqCPUnUlOLbHfkzUyNAmTsswWtZjIGUBrLmRmstHgVcRUgWdQTCEPRzjPVTMJRJocYHftwoRzOSyQexjmceRHdqFdgNuGmGTUdXQaNwKmvOUzZPzGCBVcbVLgMoQrESbpVGteVVntOwEWxXsZnSAoIfBSsWVhDFBuDTkcrnsPdmmSHymouxHlcgtjgKUAPznxsIRUjDFsrjadJjEtPaWTVBHpatqYeSgrpWJDOGfgIGQPcTIXVsCVyCfKMpcXWGkvwuRuTmvCbNMLeUkZrEpYZdlKAgFELfwCCbZCYBcXhfUrsIHfdwhYyxHKAMYMERwlyRtxObDoxBhjXmynYkmkYZrkzlCuvrhW'\n",
    "n=len(A)\n",
    "cnt=0\n",
    "for i in range(len(A)):\n",
    "  if A[i] in 'aeiouAEIOU':\n",
    "    cnt+=n-i\n",
    "cnt\n"
   ]
  },
  {
   "cell_type": "code",
   "execution_count": 13,
   "metadata": {},
   "outputs": [
    {
     "data": {
      "text/plain": [
       "'Me Myself and I'"
      ]
     },
     "execution_count": 13,
     "metadata": {},
     "output_type": "execute_result"
    }
   ],
   "source": [
    "\n",
    "s = \"Myself2 Me1 I4 and3\"\n",
    "s= s.split(' ')\n",
    "\n",
    "def number(s):\n",
    "  return int(s[-1])\n",
    "A = sorted(s, key=number)\n",
    "new = [a[:-1] for a in A]\n",
    "' '.join(new)"
   ]
  },
  {
   "cell_type": "code",
   "execution_count": 23,
   "metadata": {},
   "outputs": [
    {
     "name": "stdout",
     "output_type": "stream",
     "text": [
      "['1', 'box', 'has', '3', 'blue', '4', 'red', '6', 'green', 'and', '12', 'yellow', 'marbles']\n",
      "-1 1\n",
      "1 3\n",
      "3 4\n",
      "4 6\n",
      "6 12\n"
     ]
    },
    {
     "data": {
      "text/plain": [
       "True"
      ]
     },
     "execution_count": 23,
     "metadata": {},
     "output_type": "execute_result"
    }
   ],
   "source": [
    "# leetcode\n",
    "# 2042. Check if Numbers Are Ascending in a Sentence\n",
    "s = \"1 box has 3 blue 4 red 6 green and 12 yellow marbles\"\n",
    "def checkNumber(s):\n",
    "  s=s.split(' ')\n",
    "  prev=-1\n",
    "  for i in s:\n",
    "    if i.isdigit():\n",
    "      if prev >= int(i):\n",
    "        return False\n",
    "      prev=int(i)\n",
    "  return True\n",
    "\n",
    "checkNumber(s)\n",
    "\n",
    "\n"
   ]
  },
  {
   "cell_type": "code",
   "execution_count": 27,
   "metadata": {},
   "outputs": [
    {
     "data": {
      "text/plain": [
       "True"
      ]
     },
     "execution_count": 27,
     "metadata": {},
     "output_type": "execute_result"
    }
   ],
   "source": [
    "# leetcode\n",
    "# 2124. Check if All A's Appears Before All B's\n",
    "s = \"aaabbb\"\n",
    "def checkAB(s):\n",
    "  currentB=''\n",
    "  for i in s:\n",
    "    if currentB=='b' and i=='a':\n",
    "      return False\n",
    "    currentB=i\n",
    "  return True\n",
    "\n",
    "checkAB(s)\n"
   ]
  },
  {
   "cell_type": "code",
   "execution_count": 48,
   "metadata": {},
   "outputs": [
    {
     "data": {
      "text/plain": [
       "1000000001"
      ]
     },
     "execution_count": 48,
     "metadata": {},
     "output_type": "execute_result"
    }
   ],
   "source": [
    "def solve( A, B):\n",
    "  maxNumber = A[0]\n",
    "  prev = A[0]\n",
    "  for i in range(1, len(A)):\n",
    "    prev += A[i]\n",
    "    if abs(prev) > B:\n",
    "          return 0\n",
    "    maxNumber = max(maxNumber, abs(prev))\n",
    "  return B-maxNumber+1 if A[0] != -1 else B-abs(maxNumber)\n",
    "\n",
    "\n",
    "A = [-1000000, 1000000]\n",
    "B=1000000000\n",
    "solve(A,B)"
   ]
  },
  {
   "cell_type": "code",
   "execution_count": 67,
   "metadata": {},
   "outputs": [
    {
     "name": "stdout",
     "output_type": "stream",
     "text": [
      "1 2\n",
      "[0, 0, 1, 2, 1, 0, 1, 0]\n"
     ]
    }
   ],
   "source": [
    "A=\"(1+(2*3)+((8)/4))+1\"\n",
    "seq = \"()(())()\"\n",
    "cnt=0\n",
    "maxDepth=0\n",
    "arr=[]\n",
    "for i in seq:\n",
    "  if i=='(':\n",
    "    cnt+=1\n",
    "  else:\n",
    "    cnt-=1\n",
    "    maxDepth=max(maxDepth, cnt)\n",
    "  if cnt<1:\n",
    "    cnt=1\n",
    "  arr.append(cnt-1)\n",
    "  \n",
    "\n",
    "print(cnt,maxDepth)\n",
    "print(arr)"
   ]
  },
  {
   "cell_type": "markdown",
   "metadata": {},
   "source": [
    "Problem Description\n",
    "\n",
    "Given an array of positive integers A and an integer B, find and return first continuous subarray which adds to B.\n",
    "\n",
    "If the answer does not exist return an array with a single element \"-1\".\n",
    "\n",
    "First sub-array means the sub-array for which starting index in minimum.\n",
    "\n",
    "\n",
    "\n",
    "Problem Constraints\n",
    "1 <= length of the array <= 100000\n",
    "1 <= A[i] <= 109\n",
    "1 <= B <= 109\n",
    "\n",
    "\n",
    "\n",
    "Input Format\n",
    "The first argument given is the integer array A.\n",
    "\n",
    "The second argument given is integer B.\n",
    "\n",
    "\n",
    "\n",
    "Output Format\n",
    "Return the first continuous sub-array which adds to B and if the answer does not exist return an array with a single element \"-1\"."
   ]
  },
  {
   "cell_type": "markdown",
   "metadata": {},
   "source": [
    "Problem Description\n",
    "\n",
    "Given an array A, find the next greater element G[i] for every element A[i] in the array. The Next greater Element for an element A[i] is the first greater element on the right side of A[i] in array, A.\n",
    "\n",
    "More formally:\n",
    "\n",
    "G[i] for an element A[i] = an element A[j] such that \n",
    "    j is minimum possible AND \n",
    "    j > i AND\n",
    "    A[j] > A[i]\n",
    "Elements for which no greater element exists, consider the next greater element as -1.\n",
    "\n",
    "\n",
    "\n",
    "Problem Constraints\n",
    "1 <= |A| <= 105\n",
    "\n",
    "1 <= A[i] <= 107\n",
    "\n",
    "\n",
    "\n",
    "Input Format\n",
    "The first and the only argument of input contains the integer array, A.\n",
    "\n",
    "\n",
    "\n",
    "Output Format\n",
    "Return an integer array representing the next greater element for each index in A.\n",
    "\n",
    "\n",
    "\n",
    "Example Input\n",
    "Input 1:\n",
    "\n",
    " A = [4, 5, 2, 10] \n",
    "Input 2:\n",
    "\n",
    " A = [3, 2, 1] "
   ]
  }
 ],
 "metadata": {
  "interpreter": {
   "hash": "aee8b7b246df8f9039afb4144a1f6fd8d2ca17a180786b69acc140d282b71a49"
  },
  "kernelspec": {
   "display_name": "Python 3.9.7 64-bit",
   "language": "python",
   "name": "python3"
  },
  "language_info": {
   "codemirror_mode": {
    "name": "ipython",
    "version": 3
   },
   "file_extension": ".py",
   "mimetype": "text/x-python",
   "name": "python",
   "nbconvert_exporter": "python",
   "pygments_lexer": "ipython3",
   "version": "3.9.7"
  },
  "orig_nbformat": 4
 },
 "nbformat": 4,
 "nbformat_minor": 2
}
