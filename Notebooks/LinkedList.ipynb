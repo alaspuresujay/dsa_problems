{
 "cells": [
  {
   "cell_type": "markdown",
   "metadata": {},
   "source": [
    "## Implimentation of Linked List\n"
   ]
  },
  {
   "cell_type": "code",
   "execution_count": 1,
   "metadata": {},
   "outputs": [],
   "source": [
    "class Node:\n",
    "  def __init__(self, data=None, next=None):\n",
    "    self.data=data\n",
    "    self.next=next\n",
    "\n"
   ]
  },
  {
   "cell_type": "code",
   "execution_count": 39,
   "metadata": {},
   "outputs": [],
   "source": [
    "class LinkedList:\n",
    "  def __init__(self):\n",
    "      self.head = None\n",
    "\n",
    "  def insertAtBegining(self, data):\n",
    "    node=Node(data, self.head)\n",
    "    self.head=node\n",
    "  def insert_at_end(self, data):\n",
    "    if self.head is None:\n",
    "      self.head=Node(data, None)\n",
    "      return\n",
    "    itr=self.head\n",
    "    while itr.next:\n",
    "      itr=itr.next\n",
    "    itr.next=Node(data, None)\n",
    "  def insert_at_index(self, data, index):\n",
    "    if index==0:\n",
    "      node = Node(data, self.head)\n",
    "      self.head = node\n",
    "      return\n",
    "    itr=self.head\n",
    "    cnt=1\n",
    "    while itr:\n",
    "      if cnt==index:\n",
    "        temp=itr\n",
    "        itr.next=Node(data,temp.next)\n",
    "        return\n",
    "      itr=itr.next\n",
    "      cnt+=1\n",
    "  def get_len(self):\n",
    "    cnt=0\n",
    "    itr=self.head\n",
    "    while itr:\n",
    "      cnt+=1\n",
    "      itr=itr.next\n",
    "    return cnt\n",
    "  \n",
    "  def delete_node(self, index):\n",
    "    if index<0 or index>=self.get_len():\n",
    "      print('invalid')\n",
    "      return\n",
    "    if index==0:\n",
    "      self.head=self.head.next\n",
    "      return\n",
    "    \n",
    "    itr=self.head\n",
    "    cnt=0\n",
    "    while itr:\n",
    "      if cnt==index-1:\n",
    "        itr.next=itr.next.next\n",
    "        break\n",
    "      itr=itr.next\n",
    "      cnt+=1\n",
    "\n",
    "\n",
    "\n",
    "  def print(self):\n",
    "    if self.head is None:\n",
    "      print(\"empty\")\n",
    "      return\n",
    "    itr = self.head\n",
    "    llstr=''\n",
    "    while itr:\n",
    "      llstr+=str(itr.data)+' --> '\n",
    "      itr=itr.next\n",
    "    print(llstr)"
   ]
  },
  {
   "cell_type": "code",
   "execution_count": null,
   "metadata": {},
   "outputs": [],
   "source": []
  },
  {
   "cell_type": "code",
   "execution_count": 57,
   "metadata": {},
   "outputs": [],
   "source": [
    "head=None\n",
    "\n",
    "def insert_node(position, value):\n",
    "    global head\n",
    "    # @param position, an integer\n",
    "    # @param value, an integer\n",
    "    if position==1:\n",
    "      node = Node(value, head)\n",
    "      head = node\n",
    "      return\n",
    "    itr=head\n",
    "    cnt=1\n",
    "    while itr:\n",
    "      if cnt==position-1:\n",
    "        temp=itr\n",
    "        itr.next=Node(value,temp.next)\n",
    "        return\n",
    "      itr=itr.next\n",
    "      cnt+=1\n",
    "\n",
    "\n",
    "def delete_node(position):\n",
    "    global head\n",
    "    # @param position, integer\n",
    "    # @return an integer\n",
    "    if position==1:\n",
    "      head=head.next\n",
    "      return\n",
    "    \n",
    "    itr=head\n",
    "    cnt=1\n",
    "    while itr:\n",
    "      if cnt==position-1:\n",
    "        itr.next=itr.next.next\n",
    "        break\n",
    "      itr=itr.next\n",
    "      cnt+=1\n",
    "\n",
    "def print_ll():\n",
    "    global head\n",
    "    # Output each element followed by a space\n",
    "    itr = head\n",
    "    llstr=''\n",
    "    while itr:\n",
    "      llstr+=str(itr.data)+' '\n",
    "      itr=itr.next\n",
    "    print(llstr)"
   ]
  },
  {
   "cell_type": "code",
   "execution_count": 42,
   "metadata": {},
   "outputs": [
    {
     "name": "stdout",
     "output_type": "stream",
     "text": [
      "1 \n"
     ]
    }
   ],
   "source": [
    "insert_node(0,1)\n",
    "print_ll()"
   ]
  },
  {
   "cell_type": "code",
   "execution_count": 40,
   "metadata": {},
   "outputs": [
    {
     "name": "stdout",
     "output_type": "stream",
     "text": [
      "9 --> 89 --> 5 --> 3 --> \n",
      "2 --> 9 --> 89 --> 5 --> 3 --> \n",
      "2 --> 89 --> 5 --> 3 --> \n"
     ]
    }
   ],
   "source": [
    "ll=LinkedList()\n",
    "\n",
    "ll.insertAtBegining(5)\n",
    "ll.insertAtBegining(89)\n",
    "ll.insertAtBegining(9)\n",
    "ll.insert_at_end(3)\n",
    "ll.print()\n",
    "ll.insert_at_index(2,0)\n",
    "ll.print()\n",
    "ll.delete_node(1)\n",
    "\n",
    "ll.print()"
   ]
  },
  {
   "cell_type": "code",
   "execution_count": null,
   "metadata": {},
   "outputs": [],
   "source": []
  }
 ],
 "metadata": {
  "interpreter": {
   "hash": "aee8b7b246df8f9039afb4144a1f6fd8d2ca17a180786b69acc140d282b71a49"
  },
  "kernelspec": {
   "display_name": "Python 3.9.7 64-bit",
   "language": "python",
   "name": "python3"
  },
  "language_info": {
   "codemirror_mode": {
    "name": "ipython",
    "version": 3
   },
   "file_extension": ".py",
   "mimetype": "text/x-python",
   "name": "python",
   "nbconvert_exporter": "python",
   "pygments_lexer": "ipython3",
   "version": "3.9.7"
  },
  "orig_nbformat": 4
 },
 "nbformat": 4,
 "nbformat_minor": 2
}
