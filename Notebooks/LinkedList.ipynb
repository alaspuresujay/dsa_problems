{
 "cells": [
  {
   "cell_type": "markdown",
   "metadata": {},
   "source": [
    "## Implimentation of Linked List\n"
   ]
  },
  {
   "cell_type": "code",
   "execution_count": 1,
   "metadata": {},
   "outputs": [],
   "source": [
    "class Node:\n",
    "  def __init__(self, data=None, next=None):\n",
    "    self.data=data\n",
    "    self.next=next\n",
    "\n"
   ]
  },
  {
   "cell_type": "code",
   "execution_count": 92,
   "metadata": {},
   "outputs": [],
   "source": [
    "class LinkedList:\n",
    "  def __init__(self):\n",
    "      self.head = None\n",
    "\n",
    "  def insertAtBegining(self, data):\n",
    "    node=Node(data, self.head)\n",
    "    self.head=node\n",
    "  def insertAtEnd(self, data):\n",
    "    if self.head is None:\n",
    "      self.head=Node(data, None)\n",
    "      return\n",
    "    itr=self.head\n",
    "    while itr.next:\n",
    "      itr=itr.next\n",
    "    itr.next=Node(data, None)\n",
    "  def insertAtIndex(self, data, index):\n",
    "    if index==0:\n",
    "      node = Node(data, self.head)\n",
    "      self.head = node\n",
    "      return\n",
    "    itr=self.head\n",
    "    cnt=1\n",
    "    while itr:\n",
    "      if cnt==index:\n",
    "        temp=itr\n",
    "        itr.next=Node(data,temp.next)\n",
    "        return\n",
    "      itr=itr.next\n",
    "      cnt+=1\n",
    "  def get_len(self):\n",
    "    cnt=0\n",
    "    itr=self.head\n",
    "    while itr:\n",
    "      cnt+=1\n",
    "      itr=itr.next\n",
    "    return cnt\n",
    "  \n",
    "  def deleteNode(self, index):\n",
    "    if index<0 or index>=self.get_len():\n",
    "      return\n",
    "    if index==0:\n",
    "      self.head=self.head.next\n",
    "      return\n",
    "    \n",
    "    itr=self.head\n",
    "    cnt=0\n",
    "    while itr:\n",
    "      if cnt==index-1:\n",
    "        itr.next=itr.next.next\n",
    "        break\n",
    "      itr=itr.next\n",
    "      cnt+=1\n",
    "\n",
    "\n",
    "\n",
    "  def print(self):\n",
    "    if self.head is None:\n",
    "      print(\"empty\")\n",
    "      return\n",
    "    itr = self.head\n",
    "    llstr=''\n",
    "    while itr:\n",
    "      if itr.next:\n",
    "        llstr+=str(itr.data)+' -> '\n",
    "      else:\n",
    "        llstr += str(itr.data)+''\n",
    "      itr=itr.next\n",
    "    print(llstr)"
   ]
  },
  {
   "cell_type": "code",
   "execution_count": null,
   "metadata": {},
   "outputs": [],
   "source": []
  },
  {
   "cell_type": "code",
   "execution_count": 86,
   "metadata": {},
   "outputs": [],
   "source": [
    "head=None\n",
    "def insert_at_end(data):\n",
    "    global head\n",
    "    if head is None:\n",
    "      head = Node(data, None)\n",
    "      return\n",
    "    itr = head\n",
    "    while itr.next:\n",
    "      itr = itr.next\n",
    "    itr.next = Node(data, None)\n",
    "def insert_node(position, value):\n",
    "    global head\n",
    "    # @param position, an integer\n",
    "    # @param value, an integer\n",
    "    if position==1:\n",
    "      node = Node(value, head)\n",
    "      head = node\n",
    "      return\n",
    "    itr=head\n",
    "    cnt=1\n",
    "    while itr:\n",
    "      if cnt==position-1:\n",
    "        temp=itr\n",
    "        itr.next=Node(value,temp.next)\n",
    "        return\n",
    "      itr=itr.next\n",
    "      cnt+=1\n",
    "\n",
    "\n",
    "def delete_node(position):\n",
    "    global head\n",
    "    # @param position, integer\n",
    "    # @return an integer\n",
    "    if position==1:\n",
    "      head=head.next\n",
    "      return\n",
    "    \n",
    "    itr=head\n",
    "    cnt=1\n",
    "    while itr:\n",
    "      if cnt==position-1:\n",
    "        if itr.next:\n",
    "            itr.next=itr.next.next\n",
    "        else:\n",
    "            itr.next=None\n",
    "        break\n",
    "      itr=itr.next\n",
    "      cnt+=1\n",
    "\n",
    "def print_ll():\n",
    "    global head\n",
    "    # Output each element followed by a space\n",
    "    itr = head\n",
    "    llstr=''\n",
    "    while itr:\n",
    "        if itr.next:\n",
    "            llstr+=str(itr.data)+'->'\n",
    "        else:\n",
    "            llstr+=str(itr.data)+'->NULL'\n",
    "        itr=itr.next\n",
    "    print(llstr)"
   ]
  },
  {
   "cell_type": "code",
   "execution_count": 75,
   "metadata": {},
   "outputs": [
    {
     "name": "stdout",
     "output_type": "stream",
     "text": [
      "1\n"
     ]
    }
   ],
   "source": [
    "insert_node(1,1)\n",
    "print_ll()"
   ]
  },
  {
   "cell_type": "code",
   "execution_count": 84,
   "metadata": {},
   "outputs": [
    {
     "name": "stdout",
     "output_type": "stream",
     "text": [
      "9->89->5->3->NULL\n",
      "2->9->89->5->3->NULL\n",
      "2->89->5->3->NULL\n"
     ]
    }
   ],
   "source": [
    "class Solution:\n",
    "  def solve(self):\n",
    "\n",
    "    ll=LinkedList()\n",
    "\n",
    "    ll.insertAtBegining(5)\n",
    "    ll.insertAtBegining(89)\n",
    "    ll.insertAtBegining(9)\n",
    "    ll.insertAtEnd(3)\n",
    "    ll.print()\n",
    "    ll.insertAtIndex(2,0)\n",
    "    ll.print()\n",
    "    ll.deleteNode(1)\n",
    "\n",
    "    ll.print()\n",
    "\n",
    "a=Solution()\n",
    "a.solve()"
   ]
  },
  {
   "cell_type": "code",
   "execution_count": 93,
   "metadata": {},
   "outputs": [
    {
     "name": "stdout",
     "output_type": "stream",
     "text": [
      "8 -> 18 -> 5 -> 7 -> 5\n"
     ]
    }
   ],
   "source": [
    "# Q2. Design Linked list from given matrix\n",
    "# # Oprations-\n",
    "# 0 x -1: Add a node x at start of the linked list. \n",
    "# 1 x - 1: Append a node  x to the last  of the linked list.\n",
    "# 2 x index: Add a node of value x before the indexth node in the linked list. \n",
    "# 3 index - 1: Delete the indexth node in the linked list, if the index is valid.\n",
    "\n",
    "A = [\n",
    "    [2, 18, 0],\n",
    "    [2, 5, 1],\n",
    "    [2, 8, 0],\n",
    "    [1, 7, -1],\n",
    "    [1, 5, -1]\n",
    "]\n",
    "ll=LinkedList()\n",
    "for a in A:\n",
    "     if a[0]==0:\n",
    "          ll.insertAtBegining(a[1])\n",
    "     elif a[0]==1:\n",
    "          ll.insertAtEnd(a[1])\n",
    "     elif a[0]==2:\n",
    "         ll.insertAtIndex(a[1],a[2] )\n",
    "     elif a[0]==3:\n",
    "          ll.deleteNode(a[1])\n",
    "ll.print()\n",
    "\n",
    "\n",
    "\n"
   ]
  }
 ],
 "metadata": {
  "interpreter": {
   "hash": "aee8b7b246df8f9039afb4144a1f6fd8d2ca17a180786b69acc140d282b71a49"
  },
  "kernelspec": {
   "display_name": "Python 3.9.7 64-bit",
   "language": "python",
   "name": "python3"
  },
  "language_info": {
   "codemirror_mode": {
    "name": "ipython",
    "version": 3
   },
   "file_extension": ".py",
   "mimetype": "text/x-python",
   "name": "python",
   "nbconvert_exporter": "python",
   "pygments_lexer": "ipython3",
   "version": "3.9.7"
  },
  "orig_nbformat": 4
 },
 "nbformat": 4,
 "nbformat_minor": 2
}
