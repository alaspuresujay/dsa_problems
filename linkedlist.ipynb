{
 "cells": [
  {
   "cell_type": "markdown",
   "source": [
    "Like arrays, Linked List is a linear data structure. Unlike arrays, linked list elements are not stored at a contiguous location; the elements are linked using pointers."
   ],
   "metadata": {}
  },
  {
   "cell_type": "code",
   "execution_count": 2,
   "source": [
    "\n",
    "# Node class\n",
    "class Node:\n",
    "  \n",
    "    # Function to initialize the node object\n",
    "    def __init__(self, data):\n",
    "        self.data = data  # Assign data\n",
    "        self.next = None  # Initialize\n",
    "                          # next as null\n"
   ],
   "outputs": [],
   "metadata": {}
  },
  {
   "cell_type": "code",
   "execution_count": 28,
   "source": [
    "  \n",
    "# Linked List class\n",
    "class LinkedList:\n",
    "    # Function to initialize the Linked\n",
    "    # List object\n",
    "    def __init__(self):\n",
    "        self.head = None\n",
    "\n",
    "    def printList(self):\n",
    "      temp = self.head\n",
    "      while (temp):\n",
    "        print(temp.data)\n",
    "        temp = temp.next\n",
    "        \n",
    "    def push_first(self, new_data):\n",
    "      new_node = Node(new_data)\n",
    "      new_node.next = self.head\n",
    "      self.head = new_node;\n",
    "      \n",
    "    def insert_in_between(self, new_data, index):\n",
    "      new_node = Node(new_data)\n",
    "      i = 0\n",
    "      p=self.head\n",
    "      while (i != index - 1):\n",
    "        p = p.next\n",
    "        i += 1\n",
    "      new_node.next=p.next\n",
    "      p.next = new_node\n",
    "        \n",
    "\n",
    "    def insert_at_end(self, data):\n",
    "      pass\n",
    "\n",
    "    def insert_after_node(self, node):\n",
    "      pass\n",
    "\n",
    "\n",
    "      \n",
    "llist = LinkedList()\n",
    "llist.head = Node(1)\n",
    "second = Node(2)\n",
    "third = Node(3)\n",
    "llist.head.next = second\n",
    "second.next=third"
   ],
   "outputs": [],
   "metadata": {}
  },
  {
   "cell_type": "code",
   "execution_count": 18,
   "source": [],
   "outputs": [],
   "metadata": {}
  },
  {
   "cell_type": "code",
   "execution_count": 29,
   "source": [
    "llist.printList()\n",
    "llist.push_first(10)\n",
    "print(\"after\")\n",
    "llist.printList()"
   ],
   "outputs": [
    {
     "output_type": "stream",
     "name": "stdout",
     "text": [
      "1\n",
      "2\n",
      "3\n",
      "after\n",
      "10\n",
      "1\n",
      "2\n",
      "3\n"
     ]
    }
   ],
   "metadata": {}
  },
  {
   "cell_type": "code",
   "execution_count": 31,
   "source": [
    "llist.printList()\n",
    "llist.insert_in_between(20, 3)\n",
    "print(\"after\")\n",
    "llist.printList()"
   ],
   "outputs": [
    {
     "output_type": "stream",
     "name": "stdout",
     "text": [
      "10\n",
      "1\n",
      "2\n",
      "3\n",
      "after\n",
      "10\n",
      "1\n",
      "2\n",
      "3\n"
     ]
    }
   ],
   "metadata": {}
  }
 ],
 "metadata": {
  "orig_nbformat": 4,
  "language_info": {
   "name": "python",
   "version": "3.8.5",
   "mimetype": "text/x-python",
   "codemirror_mode": {
    "name": "ipython",
    "version": 3
   },
   "pygments_lexer": "ipython3",
   "nbconvert_exporter": "python",
   "file_extension": ".py"
  },
  "kernelspec": {
   "name": "python3",
   "display_name": "Python 3.8.5 64-bit ('pyall': conda)"
  },
  "interpreter": {
   "hash": "697a1dac4d10d74076c3041dfdabcc21aaef7503f1bfe2a5ee0554a0b2186572"
  }
 },
 "nbformat": 4,
 "nbformat_minor": 2
}