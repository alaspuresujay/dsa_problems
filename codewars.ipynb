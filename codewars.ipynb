{
 "cells": [
  {
   "cell_type": "code",
   "execution_count": null,
   "metadata": {},
   "outputs": [],
   "source": [
    "def ips_between(start, end):\n",
    "\n",
    "    startArr=start.split(\".\")\n",
    "    endArr = end.split(\".\")\n",
    "    diff0=int(endArr[0])-int(startArr[0])\n",
    "    diff1=int(endArr[1])-int(startArr[1])\n",
    "    diff2=int(endArr[2])-int(startArr[2])\n",
    "    diff3=int(endArr[3])-int(startArr[3])\n",
    "    print(startArr, endArr)\n",
    "\n",
    "    print(diff0, diff1, diff2, diff3)\n",
    "    print(diff0*1024+diff1*512+diff2*256+diff3)\n",
    "    return\n",
    "\n",
    "ips_between(\"124.233.48.213\" , \"126.1.190.158\")"
   ]
  },
  {
   "cell_type": "code",
   "execution_count": null,
   "metadata": {},
   "outputs": [],
   "source": [
    "for i in range(11):\n",
    "  print(2**i)"
   ]
  },
  {
   "cell_type": "code",
   "execution_count": 3,
   "metadata": {},
   "outputs": [
    {
     "data": {
      "text/plain": [
       "[1, 3, 2, 1, 1, 3, 2, 1]"
      ]
     },
     "execution_count": 3,
     "metadata": {},
     "output_type": "execute_result"
    }
   ],
   "source": [
    "nums = [1,3,2,1]\n",
    "\n",
    "\n",
    "ans = nums+nums\n",
    "\n",
    "ans"
   ]
  },
  {
   "cell_type": "code",
   "execution_count": 12,
   "metadata": {},
   "outputs": [
    {
     "data": {
      "text/plain": [
       "[0, 1, 2, 3]"
      ]
     },
     "execution_count": 12,
     "metadata": {},
     "output_type": "execute_result"
    }
   ],
   "source": [
    "nums = [0,1,2,3]\n",
    "\n",
    "ans = [nums[num] for num in nums]\n",
    "ans"
   ]
  },
  {
   "cell_type": "code",
   "execution_count": null,
   "metadata": {},
   "outputs": [],
   "source": [
    "operations = [\"--X\", \"X++\", \"X++\"]\n",
    "x=0\n",
    "for op in operations:\n",
    "  print(op)\n",
    "  if (op in [\"X--\",\"--X\"]):\n",
    "    x = x - 1\n",
    "  if (op in [\"++X\" , \"X++\"]):\n",
    "    x = x + 1\n",
    "    \n",
    "x"
   ]
  },
  {
   "cell_type": "code",
   "execution_count": null,
   "metadata": {},
   "outputs": [],
   "source": [
    "nums = [1, 2, 3, 4]\n",
    "temp = []\n",
    "ans=[]\n",
    "for i in range(len(nums)):\n",
    "  temp.append(nums[i])\n",
    "  ans.append(sum(temp))\n",
    "\n",
    "ans"
   ]
  },
  {
   "cell_type": "code",
   "execution_count": null,
   "metadata": {},
   "outputs": [],
   "source": [
    "nums = [1, 2, 3, 4]\n",
    "res = [nums[0]] + [0] * (len(nums) - 1)\n",
    "for i, num in enumerate(nums[1:]):\n",
    "    res[i + 1] += res[i] + num\n",
    "res\n",
    "\n"
   ]
  },
  {
   "cell_type": "code",
   "execution_count": null,
   "metadata": {},
   "outputs": [],
   "source": [
    "from typing import List\n",
    "\n",
    "class Solution:\n",
    "    def next_permutation(self, numbers: List[int]) -> List[int]:\n",
    "        #your code goes here\n",
    "        found = False\n",
    "        i=len(numbers)-2\n",
    "        print(i)\n",
    "        while i>=0:\n",
    "            if numbers[i]<numbers[i+1]:\n",
    "                found=True\n",
    "                break\n",
    "            i-=1\n",
    "        if not found:\n",
    "            numbers.sort()\n",
    "        else:\n",
    "            m=self.findmaxIndex(i+1, numbers, numbers[i])\n",
    "            print(m)\n",
    "            numbers[i], numbers[m] = numbers[m], numbers[i]\n",
    "            numbers[i+1:]=numbers[i+1:][::-1]\n",
    "        return numbers\n",
    "    def findmaxIndex(self, index, a, curr):\n",
    "        ans=-1\n",
    "        index=0\n",
    "        for i in range(index, len(a)):\n",
    "            if a[i]>curr:\n",
    "                if ans==-1:\n",
    "                    ans=curr\n",
    "                    index=i\n",
    "                else:\n",
    "                    ans = min(ans, a[i])\n",
    "                    index=i\n",
    "        return index\n",
    "            \n"
   ]
  },
  {
   "cell_type": "code",
   "execution_count": 5,
   "metadata": {},
   "outputs": [
    {
     "name": "stdout",
     "output_type": "stream",
     "text": [
      ">> 17\n"
     ]
    }
   ],
   "source": [
    "# Richest Customer\n",
    "\n",
    "accounts = [[2,8,7],[7,1,3],[1,9,5]]\n",
    "\n",
    "sumAcc = [sum(acc) for acc in accounts]\n",
    "\n",
    "max(sumAcc)\n",
    "\n",
    "\n",
    "print(\">>\",max(map(sum, accounts)))"
   ]
  },
  {
   "cell_type": "code",
   "execution_count": 13,
   "metadata": {},
   "outputs": [
    {
     "name": "stdout",
     "output_type": "stream",
     "text": [
      "[1, 4, 2, 3, 3, 2, 4, 1]\n"
     ]
    }
   ],
   "source": [
    "nums = [1, 2, 3, 4, 4, 3, 2, 1]\n",
    "n = 4\n",
    "sortedArr = []\n",
    "num1 = nums[0:n]\n",
    "num2 = nums[n:]\n",
    "for i in range (n):\n",
    "  sortedArr.append(nums[i])\n",
    "  sortedArr.append(nums[i+n])\n",
    "print(sortedArr)\n"
   ]
  },
  {
   "cell_type": "markdown",
   "metadata": {},
   "source": [
    "There are n kids with candies. You are given an integer array candies, where each candies[i] represents the number of candies the ith kid has, and an integer extraCandies, denoting the number of extra candies that you have.\n",
    "\n",
    "Return a boolean array result of length n, where result[i] is true if, after giving the ith kid all the extraCandies, they will have the greatest number of candies among all the kids, or false otherwise.\n",
    "\n",
    "Note that multiple kids can have the greatest number of candies.\n",
    "\n",
    "```\n",
    "Input: candies = [2,3,5,1,3], extraCandies = 3\n",
    "Output: [true,true,true,false,true] \n",
    "Explanation: If you give all extraCandies to:\n",
    "- Kid 1, they will have 2 + 3 = 5 candies, which is the greatest among the kids.\n",
    "- Kid 2, they will have 3 + 3 = 6 candies, which is the greatest among the kids.\n",
    "- Kid 3, they will have 5 + 3 = 8 candies, which is the greatest among the kids.\n",
    "- Kid 4, they will have 1 + 3 = 4 candies, which is not the greatest among the kids.\n",
    "- Kid 5, they will have 3 + 3 = 6 candies, which is the greatest among the kids.\n",
    "```"
   ]
  },
  {
   "cell_type": "code",
   "execution_count": 20,
   "metadata": {},
   "outputs": [
    {
     "name": "stdout",
     "output_type": "stream",
     "text": [
      "[True, True, True, False, True]\n"
     ]
    }
   ],
   "source": [
    "candies = [2, 3, 5, 1, 3]\n",
    "extraCandies = 3\n",
    "\n",
    "maxCandi = max(candies)\n",
    "\n",
    "cd = [True  if can+extraCandies>=max(candies) else False for can in candies]\n",
    "\n",
    "\n",
    "print(cd)"
   ]
  },
  {
   "cell_type": "markdown",
   "metadata": {},
   "source": [
    "Given an array of integers nums, return the number of good pairs.\n",
    "\n",
    "A pair (i, j) is called good if nums[i] == nums[j] and i < j.\n",
    "\n",
    " \n",
    "```\n",
    "Example 1:\n",
    "\n",
    "Input: nums = [1,2,3,1,1,3]\n",
    "Output: 4\n",
    "Explanation: There are 4 good pairs (0,3), (0,4), (3,4), (2,5) 0-indexed.\n",
    "```"
   ]
  },
  {
   "cell_type": "code",
   "execution_count": 32,
   "metadata": {},
   "outputs": [
    {
     "name": "stdout",
     "output_type": "stream",
     "text": [
      "6\n",
      "6\n"
     ]
    }
   ],
   "source": [
    "nums = [1,1,1,1]\n",
    "\n",
    "goodPairs = 0\n",
    "for i in range(len(nums)):\n",
    "  for j in range(len(nums)-1):\n",
    "    if (nums[i] == nums[j+1] and i <= j):\n",
    "      goodPairs += 1\n",
    "      \n",
    "print(goodPairs)\n",
    "\n",
    "\n",
    "x = sum([1 for i in range(len(nums)) for j in range(len(nums) - 1) if (nums[i] == nums[j + 1] and i <= j)])\n",
    "\n",
    "print(x)"
   ]
  },
  {
   "cell_type": "markdown",
   "metadata": {},
   "source": [
    "## Paranthesis matching"
   ]
  },
  {
   "cell_type": "code",
   "execution_count": 30,
   "metadata": {},
   "outputs": [
    {
     "data": {
      "text/plain": [
       "True"
      ]
     },
     "execution_count": 30,
     "metadata": {},
     "output_type": "execute_result"
    }
   ],
   "source": [
    "str = \"(3*5)-(8+1\"\n",
    "def matchPara(str):\n",
    "  x=0 \n",
    "  for a in str:\n",
    "    if a == \"(\": x += 1\n",
    "    if a == \")\": x -= 1\n",
    "  return x==0\n",
    "\n",
    "def match(a, b):\n",
    "  return (a == '(' and b == \")\" or a == \"{\" and b == \"}\" or a == \"[\" and b == \"]\")\n",
    "\n",
    "\n",
    "def multiParaMatching(str):\n",
    "  x = []\n",
    "   \n",
    "  for a in str:\n",
    "    if a in [\"(\", \"{\", \"[\"]:\n",
    "      x.append(a)\n",
    "    if a in [\")\", \"}\", \"]\"]:\n",
    "      b = x.pop()\n",
    "\n",
    "      if (not match(b, a)):\n",
    "        return False\n",
    "  \n",
    "  return len(x)==0\n",
    "# matchPara(str)\n",
    "multiParaMatching(\"[{3*5}-(8+1)]\")"
   ]
  },
  {
   "cell_type": "code",
   "execution_count": 10,
   "metadata": {},
   "outputs": [
    {
     "data": {
      "text/plain": [
       "585"
      ]
     },
     "execution_count": 10,
     "metadata": {},
     "output_type": "execute_result"
    }
   ],
   "source": [
    "\n",
    "arr = [5 + i for i in range(0, 30)]\n",
    "\n",
    "sum(arr)"
   ]
  },
  {
   "cell_type": "code",
   "execution_count": 18,
   "metadata": {},
   "outputs": [
    {
     "data": {
      "text/plain": [
       "['ad', 'ae', 'af', 'bd', 'be', 'bf', 'cd', 'ce', 'cf']"
      ]
     },
     "execution_count": 18,
     "metadata": {},
     "output_type": "execute_result"
    }
   ],
   "source": [
    "def letterCombinations(digits):\n",
    "    dict = {'2':\"abc\", '3':\"def\", '4':\"ghi\", '5':\"jkl\", '6':\"mno\", '7': \"pqrs\", \n",
    "        '8':\"tuv\", '9':\"wxyz\"}\n",
    "    cmb = [''] if digits else []\n",
    "    for d in digits:\n",
    "        cmb = [p + q for p in cmb for q in dict[d]]\n",
    "    return cmb\n",
    "\n",
    "letterCombinations(\"23\")"
   ]
  },
  {
   "cell_type": "code",
   "execution_count": 19,
   "metadata": {},
   "outputs": [],
   "source": [
    "digits=\"23\"\n",
    "dict = {'2':\"abc\", '3':\"def\", '4':\"ghi\", '5':\"jkl\", '6':\"mno\", '7': \"pqrs\", \n",
    "        '8': \"tuv\", '9': \"wxyz\"}\n",
    "cmb = [''] if digits else []\n",
    "for d in digits:\n",
    "  for p in cmb:\n",
    "    for q in dict[d]:\n",
    "      cmb.append(p + q)\n",
    "      \n",
    "cmb\n",
    "  "
   ]
  },
  {
   "cell_type": "code",
   "execution_count": null,
   "metadata": {},
   "outputs": [],
   "source": [
    "def letterCombinations(digits):\n",
    "        \"\"\"\n",
    "        :type digits: str\n",
    "        :rtype: List[str]\n",
    "        \"\"\"\n",
    "        interpret_digit = {\n",
    "            '1': '',\n",
    "            '2': 'abc',\n",
    "            '3': 'def',\n",
    "            '4': 'ghi',\n",
    "            '5': 'jkl',\n",
    "            '6': 'mno',\n",
    "            '7': 'pqrs',\n",
    "            '8': 'tuv',\n",
    "            '9': 'wxyz',\n",
    "            '0': ' '}\n",
    "        all_combinations = [''] if digits else []\n",
    "        for digit in digits:\n",
    "            current_combinations = list()\n",
    "            for letter in interpret_digit[digit]:\n",
    "                for combination in all_combinations:\n",
    "                    current_combinations.append(combination + letter)\n",
    "            all_combinations = current_combinations\n",
    "        return all_combinations\n",
    "\n",
    "\n",
    "letterCombinations(\"23\")"
   ]
  },
  {
   "cell_type": "code",
   "execution_count": 3,
   "metadata": {},
   "outputs": [
    {
     "data": {
      "text/plain": [
       "'1[.]1[.]1[.]1'"
      ]
     },
     "execution_count": 3,
     "metadata": {},
     "output_type": "execute_result"
    }
   ],
   "source": [
    "# A defanged IP address replaces every period \".\" with \"[.]\".\n",
    "address = \"1.1.1.1\"\n",
    "\n",
    "address =address.replace(\".\", \"[.]\")  # Slower\n",
    "\n",
    "\n",
    "address = \"[.]\".join(address.split(\".\"))   # Faster\n",
    "\n",
    "address"
   ]
  },
  {
   "cell_type": "code",
   "execution_count": 6,
   "metadata": {},
   "outputs": [
    {
     "data": {
      "text/plain": [
       "0"
      ]
     },
     "execution_count": 6,
     "metadata": {},
     "output_type": "execute_result"
    }
   ],
   "source": [
    "\n",
    "x=0\n",
    "jewels = \"a\"\n",
    "stones = \"AAbbbb\"\n",
    "for a in jewels:\n",
    "  for b in stones:\n",
    "    if a == b:\n",
    "      x+=1\n",
    "      \n",
    "x"
   ]
  },
  {
   "cell_type": "code",
   "execution_count": 12,
   "metadata": {},
   "outputs": [
    {
     "name": "stdout",
     "output_type": "stream",
     "text": [
      "3\n"
     ]
    }
   ],
   "source": [
    "J = \"aA\"\n",
    "S = \"aAAbbbb\"\n",
    "\n",
    "x = sum([1 for a in J for b in S if a == b])\n",
    "\n",
    "x\n",
    "\n",
    "print(sum(map(J.count, S)))"
   ]
  },
  {
   "cell_type": "code",
   "execution_count": 19,
   "metadata": {},
   "outputs": [
    {
     "data": {
      "text/plain": [
       "'teeleodc'"
      ]
     },
     "execution_count": 19,
     "metadata": {},
     "output_type": "execute_result"
    }
   ],
   "source": [
    "\n",
    "\n",
    "s = \"codeleet\"\n",
    "indices = [4, 5, 6, 7, 0, 2, 1, 3]\n",
    "listS = list(s)\n",
    "\n",
    "for i in range(len(indices)):  \n",
    "    for j in range(i+1, len(indices)):  \n",
    "        if (indices[i] > indices[j]):\n",
    "             indices[i], indices[j]=indices[j],indices[i]\n",
    "            listS[i], listS[j] = listS[j], listS[i]\n",
    "\n",
    "            \n",
    "\"\".join(listS)"
   ]
  },
  {
   "cell_type": "code",
   "execution_count": null,
   "metadata": {},
   "outputs": [],
   "source": [
    "s = \"codeleet\"\n",
    "indices = [4, 5, 6, 7, 0, 2, 1, 3]\n",
    "A = ['']*len(s)\n",
    "print(A)\n",
    "# for i, c in zip(indices, s):\n",
    "#   print(i,c)\n",
    "#   A[i] = c\n",
    "for i, v in enumerate(indices):\n",
    "  print(i,v)\n",
    "  A[v] = s[i]\n",
    "\"\".join(A)"
   ]
  },
  {
   "cell_type": "code",
   "execution_count": 37,
   "metadata": {},
   "outputs": [
    {
     "data": {
      "text/plain": [
       "'Gooooal'"
      ]
     },
     "execution_count": 37,
     "metadata": {},
     "output_type": "execute_result"
    }
   ],
   "source": [
    "command = \"G()()()()(al)\"\n",
    "\n",
    "x = \"o\".join(command.split(\"()\")).replace(\"(\",\"\").replace(\")\",\"\")\n",
    "# x = x.replace(\"(\",\"\").replace(\")\",\"\")\n",
    "x"
   ]
  },
  {
   "cell_type": "markdown",
   "metadata": {},
   "source": [
    "# 1365. How Many Numbers Are Smaller Than the Current Number\n",
    "\n",
    "Given the array nums, for each nums[i] find out how many numbers in the array are smaller than it. That is, for each nums[i] you have to count the number of valid j's such that j != i and nums[j] < nums[i].\n",
    "\n",
    "Return the answer in an array."
   ]
  },
  {
   "cell_type": "code",
   "execution_count": 7,
   "metadata": {},
   "outputs": [
    {
     "data": {
      "text/plain": [
       "[4, 0, 1, 1, 3]"
      ]
     },
     "execution_count": 7,
     "metadata": {},
     "output_type": "execute_result"
    }
   ],
   "source": [
    "nums = [8,1,2,2,3]\n",
    "\n",
    "out=[]\n",
    "for i in range(len(nums)):\n",
    "  val=0\n",
    "  for j in range(0, len(nums)):\n",
    "    if (nums[i] > nums[j]):\n",
    "      val += 1\n",
    "  out.append(val)\n",
    "\n",
    "[sorted(nums).index(x) for x in nums]"
   ]
  },
  {
   "cell_type": "code",
   "execution_count": 15,
   "metadata": {},
   "outputs": [
    {
     "data": {
      "text/plain": [
       "[4, 2, 0, 7, 4]"
      ]
     },
     "execution_count": 15,
     "metadata": {},
     "output_type": "execute_result"
    }
   ],
   "source": [
    "# Since that encoded[i] = arr[i] XOR arr[i+1], then arr[i+1] = encoded[i] XOR arr[i].\n",
    "\n",
    "\n",
    "encoded = [6,2,7,3]\n",
    "first = 4\n",
    "decoded = [first]\n",
    "\n",
    "# decoded.append(first)\n",
    "\n",
    "for i in range(len(encoded)):\n",
    "  decoded.append(encoded[i] ^ decoded[i])\n",
    "  \n",
    "decoded\n"
   ]
  },
  {
   "cell_type": "code",
   "execution_count": 2,
   "metadata": {},
   "outputs": [
    {
     "data": {
      "text/plain": [
       "9900"
      ]
     },
     "execution_count": 2,
     "metadata": {},
     "output_type": "execute_result"
    }
   ],
   "source": [
    "i=0\n",
    "sum =0\n",
    "while (i < 100):\n",
    "  sum = sum + i\n",
    "  sum = i + sum\n",
    "  i += 1\n",
    "  \n",
    "sum\n",
    "  "
   ]
  },
  {
   "cell_type": "code",
   "execution_count": 3,
   "metadata": {},
   "outputs": [
    {
     "name": "stdout",
     "output_type": "stream",
     "text": [
      "0\n",
      "0\n",
      "1\n",
      "1\n",
      "2\n"
     ]
    }
   ],
   "source": [
    "def fun1(n):\n",
    "  if (n == 0 or n == 1 or n == 2):\n",
    "    return 0\n",
    "  if (n == 3):\n",
    "    return 1\n",
    "  else:\n",
    "    return fun1(n - 1) + fun1(n - 2) + fun1(n - 3)\n",
    "    \n",
    "\n",
    "for x in range(1, 6):\n",
    "  print(fun1(x))"
   ]
  },
  {
   "cell_type": "code",
   "execution_count": 4,
   "metadata": {},
   "outputs": [
    {
     "data": {
      "text/plain": [
       "8"
      ]
     },
     "execution_count": 4,
     "metadata": {},
     "output_type": "execute_result"
    }
   ],
   "source": [
    "def fib(n):\n",
    "  if (n <= 1):\n",
    "    return n\n",
    "  else:\n",
    "    return fib(n - 1) + fib(n - 2)\n",
    "    \n",
    "fib(6)\n"
   ]
  },
  {
   "cell_type": "code",
   "execution_count": 5,
   "metadata": {},
   "outputs": [
    {
     "data": {
      "text/plain": [
       "100"
      ]
     },
     "execution_count": 5,
     "metadata": {},
     "output_type": "execute_result"
    }
   ],
   "source": [
    "def fun(a, b):\n",
    "  if (b == 0):\n",
    "    return a\n",
    "  else:\n",
    "    return fun(b, a % b)\n",
    "fun(100,2000)"
   ]
  },
  {
   "cell_type": "code",
   "execution_count": 10,
   "metadata": {},
   "outputs": [
    {
     "data": {
      "text/plain": [
       "'s19c3a1l12e5r18'"
      ]
     },
     "execution_count": 10,
     "metadata": {},
     "output_type": "execute_result"
    }
   ],
   "source": [
    "strng = 'scaler'\n",
    "newStr = ''\n",
    "for s in strng:\n",
    "  newStr+=s+str(ord(s)-96)\n",
    "\n",
    "newStr"
   ]
  },
  {
   "cell_type": "code",
   "execution_count": 94,
   "metadata": {},
   "outputs": [
    {
     "name": "stdout",
     "output_type": "stream",
     "text": [
      "1 2 0 4 0\n",
      "3 2 1 4 0\n",
      "3 1 1 3 0\n",
      "3 2 1 2 0\n",
      "Yes 3\n",
      "1 2 3 4 0\n",
      "Yes 1\n",
      "Yes 2\n"
     ]
    }
   ],
   "source": [
    "\n",
    "\n",
    "A=[1,3,2,1,2]\n",
    "# A=[7,8,4,5,8,7]\n",
    "last = len(A)\n",
    "for i in (range(0, last)):\n",
    "  s=0\n",
    "  for j in reversed(range(i+1, last)):\n",
    "    if (A[i] == A[j]):\n",
    "      s += 1\n",
    "      break\n",
    "    print(A[i],A[j], i, j, s)\n",
    "  if (s == 0):\n",
    "    print(\"Yes\", A[i])\n"
   ]
  },
  {
   "cell_type": "code",
   "execution_count": 54,
   "metadata": {},
   "outputs": [
    {
     "name": "stdout",
     "output_type": "stream",
     "text": [
      "[0, 0, 0]\n",
      "[1, 0, 0, 0, 1]\n",
      "[0, 0, 1]\n"
     ]
    },
    {
     "data": {
      "text/plain": [
       "[[0, 3], [0, 3], [1, 1]]"
      ]
     },
     "execution_count": 54,
     "metadata": {},
     "output_type": "execute_result"
    }
   ],
   "source": [
    "A = [1, 0,0,0, 1]\n",
    "\n",
    "B = [[2, 4], [1, 5], [3, 5]]\n",
    "final = []\n",
    "for b in B:\n",
    "  # temp = [A[i-1] for i in range(b[0], b[1] + 1)]\n",
    "  # print(temp)\n",
    "  # xor=xor^3\n",
    "  xor=A[b[0]]\n",
    "  for i in range(b[0], b[1] + 1):\n",
    "    xor = xor ^ A[i - 1]\n",
    "  final.append([xor, A[b[0]-1:b[1] ].count(xor)])\n",
    "  print(A[b[0]-1:b[1]])\n",
    "\n",
    "final"
   ]
  },
  {
   "cell_type": "code",
   "execution_count": 102,
   "metadata": {},
   "outputs": [
    {
     "name": "stdout",
     "output_type": "stream",
     "text": [
      "[(0, 12), (0, 25), (2, 18), (3, 7), (3, 23), (4, 7), (4, 23), (5, 7), (5, 23), (10, 18), (12, 17), (12, 24), (12, 29), (14, 20), (17, 25), (18, 19), (18, 28), (24, 25), (25, 29)]\n",
      "(0, 12) (0, 25)\n",
      "1\n"
     ]
    }
   ],
   "source": [
    "A = [4, 7, -4, 2, 2, 2, 3, -5, -3, 9, -4, 9, -7, 7, -1, 9, 9, 4, 1, -4, -2, 3, -3, -5, 4, -7, 7, 9, -4, 4, -8]\n",
    "B = -3\n",
    "\n",
    "arr=[]\n",
    "for i in range(len(A) - 1):\n",
    "  for j in range(i + 1, len(A) - 1):\n",
    "    if (A[i] + A[j] == B):\n",
    "      arr.append((i, j))\n",
    "    \n",
    "\n",
    "print(arr)\n",
    "\n",
    "print(min(arr[::2]),min(arr[1::2]))\n",
    "\n",
    "print(arr.count(min(arr[1::2])))"
   ]
  },
  {
   "cell_type": "markdown",
   "metadata": {},
   "source": [
    "## find Prime Number\n",
    "\n",
    "### Optimized Solutions"
   ]
  },
  {
   "cell_type": "code",
   "execution_count": 40,
   "metadata": {},
   "outputs": [
    {
     "name": "stdout",
     "output_type": "stream",
     "text": [
      "-> 2\n",
      "2\n"
     ]
    },
    {
     "data": {
      "text/plain": [
       "True"
      ]
     },
     "execution_count": 40,
     "metadata": {},
     "output_type": "execute_result"
    }
   ],
   "source": [
    "# 2, 3, 5, 7, 11, 13, 17, 19, 23, 29.\n",
    "\n",
    "def isPrime(n):\n",
    "  if (n == 1):\n",
    "    return False\n",
    "  ch = True\n",
    "  for i in range(2, int(n ** 0.5)+1):\n",
    "    if (n % i == 0):\n",
    "       ch = False\n",
    "       break\n",
    "  return ch\n",
    "\n",
    "isPrime(5)"
   ]
  },
  {
   "cell_type": "code",
   "execution_count": 24,
   "metadata": {},
   "outputs": [
    {
     "name": "stdout",
     "output_type": "stream",
     "text": [
      "2\n"
     ]
    },
    {
     "data": {
      "text/plain": [
       "True"
      ]
     },
     "execution_count": 24,
     "metadata": {},
     "output_type": "execute_result"
    }
   ],
   "source": []
  },
  {
   "cell_type": "markdown",
   "metadata": {},
   "source": [
    "You are given an array of integers A of size N.\n",
    "Return the difference between the maximum among all even numbers of A and the minimum among all odd numbers in A.\n",
    "\n",
    "```\n",
    "\n",
    "INPUT-> A = [5, 17, 100, 1]\n",
    "Maximum of all even numbers = 100\n",
    "Minimum of all odd numbers = 1\n",
    "ans = 100 - 1 = 99\n",
    "```"
   ]
  },
  {
   "cell_type": "code",
   "execution_count": 11,
   "metadata": {},
   "outputs": [
    {
     "name": "stdout",
     "output_type": "stream",
     "text": [
      "99\n"
     ]
    }
   ],
   "source": [
    "A = [5, 17, 100, 1]\n",
    "\n",
    "evenLis = []\n",
    "oddList=[]\n",
    "for i in A:\n",
    "  if (i % 2 == 0):\n",
    "    evenLis.append(i)\n",
    "  else:\n",
    "    oddList.append(i)\n",
    "\n",
    "\n",
    "print(max(evenLis)- min(oddList))"
   ]
  },
  {
   "cell_type": "code",
   "execution_count": 38,
   "metadata": {},
   "outputs": [
    {
     "name": "stdout",
     "output_type": "stream",
     "text": [
      "[0, 1, 2, 3]\n"
     ]
    }
   ],
   "source": [
    "N = 3\n",
    "\n",
    "\n",
    "\n",
    "for i in range(1, N + 1):\n",
    "  arr=[n for n in range(i+1)]\n",
    "  print(arr.)"
   ]
  },
  {
   "cell_type": "markdown",
   "metadata": {},
   "source": [
    "## Prob\n",
    " You are given an array of distinct integers A, you have to find and return all elements in array which have at-least two greater elements than themselves.\n",
    "\n",
    "```\n",
    " Input->\n",
    " A = [11, 17, 100, 5]\n",
    " \n",
    " Output-> \n",
    " [11, 5]\n",
    "```"
   ]
  },
  {
   "cell_type": "code",
   "execution_count": 139,
   "metadata": {},
   "outputs": [
    {
     "data": {
      "text/plain": [
       "[5, 11]"
      ]
     },
     "execution_count": 139,
     "metadata": {},
     "output_type": "execute_result"
    }
   ],
   "source": [
    "B = [ 5, 17, 100, 11 ]\n",
    "\n",
    "C=[]\n",
    "# for i in B:\n",
    "#   cnt=0\n",
    "#   for j in B:\n",
    "#     if (i < j):\n",
    "#       cnt += 1\n",
    "#   if cnt >= 2:\n",
    "#     C.append(i)\n",
    "\n",
    "for i in range(len(B)):\n",
    "  cnt = 0\n",
    "  for j in range( len(B)):\n",
    "    if B[i] < B[j]:\n",
    "      cnt += 1\n",
    "  if cnt >= 2:\n",
    "    C.append(B[i])\n",
    "\n",
    "\n",
    "\n",
    "\n",
    "\n",
    "C"
   ]
  },
  {
   "cell_type": "code",
   "execution_count": 151,
   "metadata": {},
   "outputs": [
    {
     "data": {
      "text/plain": [
       "[5, 11]"
      ]
     },
     "execution_count": 151,
     "metadata": {},
     "output_type": "execute_result"
    }
   ],
   "source": [
    "first = second  =-sys.maxsize\n",
    "A = [5, 17, 100, 11]\n",
    "n=len(A)\n",
    "\n",
    "for i in range(0, len(A)):\n",
    "    if (A[i] > first):\n",
    "      \n",
    "        second = first\n",
    "        first = A[i]\n",
    "      \n",
    "    # If A[i] is in between first\n",
    "    # and second then update second\n",
    "    elif (A[i] > second):\n",
    "        second = A[i]\n",
    "C=[]\n",
    "for i in range(0, len(A)):\n",
    "    if (A[i] < second):\n",
    "        C.append(A[i])\n",
    "\n",
    "C"
   ]
  },
  {
   "cell_type": "code",
   "execution_count": 135,
   "metadata": {},
   "outputs": [
    {
     "data": {
      "text/plain": [
       "[1, 2, 3]"
      ]
     },
     "execution_count": 135,
     "metadata": {},
     "output_type": "execute_result"
    }
   ],
   "source": [
    "A = [1, 2, 3, 4, 5]\n",
    "D = sorted(A)\n",
    "C=[]\n",
    "for i in range(len(D)-2):\n",
    "  if D[i] < D[i + 1] and D[i] < D[i + 2]:\n",
    "    C.append(D[i])\n",
    "\n",
    "C "
   ]
  },
  {
   "cell_type": "code",
   "execution_count": 6,
   "metadata": {},
   "outputs": [
    {
     "name": "stdout",
     "output_type": "stream",
     "text": [
      "3\n"
     ]
    }
   ],
   "source": [
    "# This is throwing the time Limit Excided error\n",
    "\n",
    "A = [1, 2, 2, 3, 1]\n",
    "\n",
    "a = set(A)\n",
    "for i in A:\n",
    "  if A.count(i) == 1:\n",
    "    print(i) "
   ]
  },
  {
   "cell_type": "code",
   "execution_count": 70,
   "metadata": {},
   "outputs": [
    {
     "data": {
      "text/plain": [
       "3"
      ]
     },
     "execution_count": 70,
     "metadata": {},
     "output_type": "execute_result"
    }
   ],
   "source": [
    "A = 11\n",
    "binNu= bin(A)[2:]\n",
    "cnt=0\n",
    "for i in binNu:\n",
    "  if i == '1':\n",
    "    cnt += 1\n",
    "    \n",
    "cnt"
   ]
  },
  {
   "cell_type": "code",
   "execution_count": 75,
   "metadata": {},
   "outputs": [
    {
     "ename": "ValueError",
     "evalue": "too many values to unpack (expected 2)",
     "output_type": "error",
     "traceback": [
      "\u001b[0;31m---------------------------------------------------------------------------\u001b[0m",
      "\u001b[0;31mValueError\u001b[0m                                Traceback (most recent call last)",
      "\u001b[0;32m<ipython-input-75-5b7f33892657>\u001b[0m in \u001b[0;36m<module>\u001b[0;34m\u001b[0m\n\u001b[1;32m      6\u001b[0m \u001b[0;34m\u001b[0m\u001b[0m\n\u001b[1;32m      7\u001b[0m \u001b[0;34m\u001b[0m\u001b[0m\n\u001b[0;32m----> 8\u001b[0;31m \u001b[0mfind_uniq\u001b[0m\u001b[0;34m(\u001b[0m\u001b[0;34m[\u001b[0m \u001b[0;36m1\u001b[0m\u001b[0;34m,\u001b[0m \u001b[0;36m1\u001b[0m\u001b[0;34m,\u001b[0m \u001b[0;36m1\u001b[0m\u001b[0;34m,\u001b[0m \u001b[0;36m2\u001b[0m\u001b[0;34m,\u001b[0m \u001b[0;36m1\u001b[0m\u001b[0;34m,\u001b[0m \u001b[0;36m1\u001b[0m\u001b[0;34m,\u001b[0m\u001b[0;36m3\u001b[0m \u001b[0;34m]\u001b[0m\u001b[0;34m)\u001b[0m\u001b[0;34m\u001b[0m\u001b[0;34m\u001b[0m\u001b[0m\n\u001b[0m",
      "\u001b[0;32m<ipython-input-75-5b7f33892657>\u001b[0m in \u001b[0;36mfind_uniq\u001b[0;34m(arr)\u001b[0m\n\u001b[1;32m      1\u001b[0m \u001b[0;32mdef\u001b[0m \u001b[0mfind_uniq\u001b[0m\u001b[0;34m(\u001b[0m\u001b[0marr\u001b[0m\u001b[0;34m)\u001b[0m\u001b[0;34m:\u001b[0m\u001b[0;34m\u001b[0m\u001b[0;34m\u001b[0m\u001b[0m\n\u001b[1;32m      2\u001b[0m \u001b[0;34m\u001b[0m\u001b[0m\n\u001b[0;32m----> 3\u001b[0;31m     \u001b[0ma\u001b[0m\u001b[0;34m,\u001b[0m \u001b[0mb\u001b[0m \u001b[0;34m=\u001b[0m \u001b[0mset\u001b[0m\u001b[0;34m(\u001b[0m\u001b[0marr\u001b[0m\u001b[0;34m)\u001b[0m\u001b[0;34m\u001b[0m\u001b[0;34m\u001b[0m\u001b[0m\n\u001b[0m\u001b[1;32m      4\u001b[0m     \u001b[0mprint\u001b[0m\u001b[0;34m(\u001b[0m\u001b[0ma\u001b[0m\u001b[0;34m,\u001b[0m \u001b[0mb\u001b[0m\u001b[0;34m)\u001b[0m\u001b[0;34m\u001b[0m\u001b[0;34m\u001b[0m\u001b[0m\n\u001b[1;32m      5\u001b[0m     \u001b[0;32mreturn\u001b[0m \u001b[0ma\u001b[0m \u001b[0;32mif\u001b[0m \u001b[0marr\u001b[0m\u001b[0;34m.\u001b[0m\u001b[0mcount\u001b[0m\u001b[0;34m(\u001b[0m\u001b[0ma\u001b[0m\u001b[0;34m)\u001b[0m \u001b[0;34m==\u001b[0m \u001b[0;36m1\u001b[0m \u001b[0;32melse\u001b[0m \u001b[0mb\u001b[0m\u001b[0;34m\u001b[0m\u001b[0;34m\u001b[0m\u001b[0m\n",
      "\u001b[0;31mValueError\u001b[0m: too many values to unpack (expected 2)"
     ]
    }
   ],
   "source": [
    "def find_uniq(arr):\n",
    "\n",
    "    a, b = set(arr)\n",
    "    print(a, b)\n",
    "    return a if arr.count(a) == 1 else b\n",
    "\n",
    "\n",
    "find_uniq([ 1, 1, 1, 2, 1, 1,3 ])"
   ]
  },
  {
   "cell_type": "code",
   "execution_count": 127,
   "metadata": {},
   "outputs": [
    {
     "name": "stdout",
     "output_type": "stream",
     "text": [
      "25\n"
     ]
    },
    {
     "data": {
      "text/plain": [
       "'1001110001111010101001110'"
      ]
     },
     "execution_count": 127,
     "metadata": {},
     "output_type": "execute_result"
    }
   ],
   "source": [
    "a = \"1010110111001101101000\"\n",
    "b= \"1000011011000000111100110\"\n",
    "diff = len(a) - len(b)\n",
    "max_len = max(len(a), len(b))\n",
    "print(max_len)\n",
    "\n",
    "s = c=0\n",
    "d=''\n",
    "if diff > 0:\n",
    "  b = diff * '0' + b\n",
    "if diff < 0:\n",
    "  a = abs(diff) * '0' + a\n",
    "\n",
    "\n",
    "for i in reversed(range(0, max_len)):\n",
    "  s = c+int(a[i]) + int(b[i])\n",
    "  c = s // 2\n",
    "  d=str(s%2)+str(d)\n",
    "  # print(i, a[i], b[i], c, d, s)\n",
    "if c == 1:\n",
    "  d=str(c)+d\n",
    "  \n",
    "print(d)\n"
   ]
  },
  {
   "cell_type": "code",
   "execution_count": 134,
   "metadata": {},
   "outputs": [
    {
     "data": {
      "text/plain": [
       "[[1, 0, 0], [1, 2, 0], [1, 2, 3]]"
      ]
     },
     "execution_count": 134,
     "metadata": {},
     "output_type": "execute_result"
    }
   ],
   "source": [
    "A = 3\n",
    "arr=[]\n",
    "for i in range(A):\n",
    "  arr2=[]\n",
    "  for j in range(A):\n",
    "    if(j<=i):\n",
    "      arr2.append(j + 1)\n",
    "    else:\n",
    "      arr2.append(0)  \n",
    "  arr.append(arr2)\n",
    "    \n",
    "arr"
   ]
  },
  {
   "cell_type": "code",
   "execution_count": null,
   "metadata": {},
   "outputs": [],
   "source": [
    "A = [1, 2, 2, 3, 1]\n",
    "\n",
    "res = A[0]\n",
    "\n",
    "for i in range(1, len(A)):\n",
    "  res = res ^ A[i]\n",
    "  print('res',A[i],res)\n",
    "  \n",
    "res\n"
   ]
  },
  {
   "cell_type": "code",
   "execution_count": 16,
   "metadata": {},
   "outputs": [
    {
     "data": {
      "text/plain": [
       "[880, 1729]"
      ]
     },
     "execution_count": 16,
     "metadata": {},
     "output_type": "execute_result"
    }
   ],
   "source": [
    "A = [ 2308, 1447, 1918, 1391, 2308, 216, 1391, 410, 1021, 537, 1825, 1021, 1729, 669, 216, 1825, 537, 1995, 805, 410, 805, 602, 1918, 1447, 90, 1995, 90, 1540, 1161, 1540, 2160, 1235, 1161, 602, 880, 2160, 1235, 669 ]\n",
    "# A=[ 186, 256, 102, 377, 186, 377 ]\n",
    "\n",
    "# 1. Take XOR for all\n",
    "# 2. check for least set bit\n",
    "# 3. split the list based on set bit \n",
    "# 4. take xor in both list\n",
    "\n",
    "def checkSetBit(N, i):\n",
    "  return N>>i&1==1\n",
    "\n",
    "\n",
    "firstXor = 0\n",
    "setbitPos=0\n",
    "\n",
    "for i in A:\n",
    "  firstXor = firstXor ^ i\n",
    "  \n",
    "for i in range(30):\n",
    "  if (checkSetBit(firstXor, i)):\n",
    "    setbitPos = i\n",
    "    break\n",
    "evenList = []\n",
    "oddList=[]\n",
    "\n",
    "\n",
    "for i in A:\n",
    "  if checkSetBit(i, setbitPos):\n",
    "    oddList.append(i)\n",
    "  else:\n",
    "    evenList.append(i)\n",
    "evenXor = 0\n",
    "oddXor=0\n",
    "\n",
    "for i in evenList:\n",
    "  evenXor = evenXor ^ i\n",
    "  \n",
    "for i in oddList:\n",
    "  oddXor = oddXor ^ i\n",
    "\n",
    "sorted([evenXor, oddXor])"
   ]
  },
  {
   "cell_type": "code",
   "execution_count": 20,
   "metadata": {},
   "outputs": [
    {
     "data": {
      "text/plain": [
       "2"
      ]
     },
     "execution_count": 20,
     "metadata": {},
     "output_type": "execute_result"
    }
   ],
   "source": [
    " A = 3\n",
    " B = 3\n",
    "\n",
    "def getBitCount(N):\n",
    "  i = 0\n",
    "  cnt=0\n",
    "  while (N > 0):\n",
    "    if N&1:\n",
    "      cnt += 1\n",
    "    N=N>>1\n",
    "  return cnt\n",
    "  \n",
    "getBitCount(A)   "
   ]
  },
  {
   "cell_type": "code",
   "execution_count": 28,
   "metadata": {},
   "outputs": [
    {
     "data": {
      "text/plain": [
       "'0b11'"
      ]
     },
     "execution_count": 28,
     "metadata": {},
     "output_type": "execute_result"
    }
   ],
   "source": []
  }
 ],
 "metadata": {
  "interpreter": {
   "hash": "697a1dac4d10d74076c3041dfdabcc21aaef7503f1bfe2a5ee0554a0b2186572"
  },
  "kernelspec": {
   "display_name": "Python 3.8.5 64-bit ('pyall': conda)",
   "name": "python3"
  },
  "language_info": {
   "codemirror_mode": {
    "name": "ipython",
    "version": 3
   },
   "file_extension": ".py",
   "mimetype": "text/x-python",
   "name": "python",
   "nbconvert_exporter": "python",
   "pygments_lexer": "ipython3",
   "version": "3.8.5"
  },
  "orig_nbformat": 4
 },
 "nbformat": 4,
 "nbformat_minor": 2
}
