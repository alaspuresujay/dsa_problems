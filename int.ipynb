{
 "cells": [
  {
   "cell_type": "code",
   "execution_count": 3,
   "source": [
    "arr = [1,3,4,5,2];\n",
    "\n",
    "newArr = []\n",
    "\n",
    "for i in range(len(arr)):  \n",
    "    for j in range(i+1, len(arr)):  \n",
    "        if(arr[i] < arr[j]):  \n",
    "            arr[i], arr[j]=arr[j],arr[i]\n",
    "\n",
    "\n",
    "arr\n",
    "\n"
   ],
   "outputs": [
    {
     "output_type": "execute_result",
     "data": {
      "text/plain": [
       "[1, 2, 3, 4, 5]"
      ]
     },
     "metadata": {},
     "execution_count": 3
    }
   ],
   "metadata": {}
  }
 ],
 "metadata": {
  "orig_nbformat": 4,
  "language_info": {
   "name": "python",
   "version": "3.8.5",
   "mimetype": "text/x-python",
   "codemirror_mode": {
    "name": "ipython",
    "version": 3
   },
   "pygments_lexer": "ipython3",
   "nbconvert_exporter": "python",
   "file_extension": ".py"
  },
  "kernelspec": {
   "name": "python3",
   "display_name": "Python 3.8.5 64-bit ('pyall': conda)"
  },
  "interpreter": {
   "hash": "697a1dac4d10d74076c3041dfdabcc21aaef7503f1bfe2a5ee0554a0b2186572"
  }
 },
 "nbformat": 4,
 "nbformat_minor": 2
}